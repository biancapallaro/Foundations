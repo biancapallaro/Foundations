{
 "cells": [
  {
   "cell_type": "markdown",
   "metadata": {},
   "source": [
    "# Last FM API (Music)\n",
    "\n",
    "Spotify's API is dead to us, so we're using Last.fm's - it's still music, just not as nice of an API.\n",
    "\n",
    "1. Create an account at https://www.last.fm/api/\n",
    "2. Create an \"application\" to get a key: https://www.last.fm/api/account/create\n",
    "    - It isn't a real application, it's just your project\n",
    "    - Name/description doesn't matter, ignore callback key and callback url\n",
    "3. And save the API key that shows up on the next screen\n",
    "\n",
    "You can find documentation at https://www.last.fm/api/\n",
    "\n",
    "The domain for the API is `http://ws.audioscrobbler.com`, so all of your endpoints will be connected to that. To test your API key, check the following URL in your browser: `http://ws.audioscrobbler.com/2.0/?method=artist.search&artist=cher&api_key=XXXXXXXXXXXXXXXXXXXX&format=json` (change the `XXXXXX` to be your API key, of course!).\n",
    "\n",
    "> Last.fm used to be called **AudioScrobbler**, which is why its URLs don't have \"last.fm\" in them.\n",
    "> While we're asking about URLs, notice that the API endpoints have a lot of `?` and `&` in them - these are key/value pairs, kind of like dictionaries, but for URLs instead of Python."
   ]
  },
  {
   "cell_type": "markdown",
   "metadata": {},
   "source": [
    "# FIRST: SETUP"
   ]
  },
  {
   "cell_type": "markdown",
   "metadata": {},
   "source": [
    "## 1) Import the libraries/packages you might need\n",
    "\n",
    "We need a library to read in the data for us! We don't like `urllib2`, so it must be something cooler and better."
   ]
  },
  {
   "cell_type": "code",
   "execution_count": 1,
   "metadata": {},
   "outputs": [],
   "source": [
    "import requests"
   ]
  },
  {
   "cell_type": "markdown",
   "metadata": {},
   "source": [
    "## 2) Save your API key\n",
    "\n",
    "Write your API key here so you don't forget it - it's the \"api key\" one, not the \"shared secret\" one"
   ]
  },
  {
   "cell_type": "markdown",
   "metadata": {},
   "source": [
    "API key\t3863fb9d3a88265c6a107bec525fc91f"
   ]
  },
  {
   "cell_type": "markdown",
   "metadata": {},
   "source": [
    "## 3) The death of an API\n",
    "\n",
    "I used to have some code here that allowed you to display images, but _the images don't work any more._ Let this be an important lesson: when you depend on external services, they can die at any time."
   ]
  },
  {
   "cell_type": "code",
   "execution_count": null,
   "metadata": {},
   "outputs": [],
   "source": []
  },
  {
   "cell_type": "markdown",
   "metadata": {},
   "source": [
    "# NOW: YOUR ASSIGNMENT"
   ]
  },
  {
   "cell_type": "markdown",
   "metadata": {},
   "source": [
    "## 1) Search for and print a list of 50 musicians with `lil` in their name, along with the number of listeners they have\n",
    "\n",
    "There are a lot of musicians with \"Lil\" in their name - it used to be all Lil Wayne and Lil Kim, but we live in a new world now!\n",
    "\n",
    "- *Tip: Remember, the domain for the API is `http://ws.audioscrobbler.com`*\n",
    "- *Tip: Make sure you ask the API for 50 musicians! This involves adding another parameter to the URL - notice they all have a `&` before them. [Read the documentation](http://www.last.fm/api/show/artist.search) to find the parameter's name.* \n",
    "- *Tip: When you are looking at any piece of data - is it a dictionary? Look at the keys! Is it a list? Look at the first element!*\n",
    "- *Tip: LOOK AT THE KEYS. and then the other keys and the other keys and the other keys. It's an ugly series of dictionaries!*"
   ]
  },
  {
   "cell_type": "code",
   "execution_count": 3,
   "metadata": {},
   "outputs": [],
   "source": [
    "url= \"http://ws.audioscrobbler.com/2.0/?method=artist.search&artist=lil&api_key=3863fb9d3a88265c6a107bec525fc91f&limit=50&format=json\"\n",
    "response = requests.get(url, allow_redirects=True)\n",
    "data = response.json()"
   ]
  },
  {
   "cell_type": "code",
   "execution_count": 10,
   "metadata": {},
   "outputs": [
    {
     "name": "stdout",
     "output_type": "stream",
     "text": [
      "The musician is Lil' Wayne and has 3373139 listeneres\n",
      "The musician is LIL UZI VERT and has 538398 listeneres\n",
      "The musician is Lily Allen and has 2298812 listeneres\n",
      "The musician is LIL PEEP and has 407171 listeneres\n",
      "The musician is Lil Baby and has 290706 listeneres\n",
      "The musician is Lil Nas X and has 527488 listeneres\n",
      "The musician is Lil Yachty and has 300729 listeneres\n",
      "The musician is lil skies and has 201224 listeneres\n",
      "The musician is Lil Tecca and has 228821 listeneres\n",
      "The musician is lil Mosey and has 245060 listeneres\n",
      "The musician is Lil B and has 245911 listeneres\n",
      "The musician is LIL PUMP and has 285357 listeneres\n",
      "The musician is Lil Ugly Mane and has 103475 listeneres\n",
      "The musician is Lil Wayne and has 197574 listeneres\n",
      "The musician is lil tjay and has 103051 listeneres\n",
      "The musician is Lil Durk and has 145562 listeneres\n",
      "The musician is Lilly Wood & The Prick and has 431183 listeneres\n",
      "The musician is Lil Dicky and has 278251 listeneres\n",
      "The musician is Lil' Kim and has 506064 listeneres\n",
      "The musician is LIL TRACY and has 67599 listeneres\n",
      "The musician is Lil Xan and has 156954 listeneres\n",
      "The musician is Lil Keed and has 88170 listeneres\n",
      "The musician is Lil Jon and has 627783 listeneres\n",
      "The musician is Lil Jon & The East Side Boyz and has 525899 listeneres\n",
      "The musician is Lil Darkie and has 39834 listeneres\n",
      "The musician is Lila Downs and has 175416 listeneres\n",
      "The musician is Lil Boosie and has 420583 listeneres\n",
      "The musician is Lil' Kleine and has 68802 listeneres\n",
      "The musician is The Tiger Lillies and has 116296 listeneres\n",
      "The musician is Lil Wyte and has 264764 listeneres\n",
      "The musician is Fenne Lily and has 154949 listeneres\n",
      "The musician is Lil' Flip and has 342604 listeneres\n",
      "The musician is Lily James and has 68007 listeneres\n",
      "The musician is Birdman & Lil' Wayne and has 586983 listeneres\n",
      "The musician is Spangle call Lilli line and has 46296 listeneres\n",
      "The musician is LIL BO WEEP and has 41619 listeneres\n",
      "The musician is Lily & Madeleine and has 136706 listeneres\n",
      "The musician is Lil Aaron and has 48680 listeneres\n",
      "The musician is Lilac and has 91961 listeneres\n",
      "The musician is Mashrou' Leila and has 38056 listeneres\n",
      "The musician is The Lillingtons and has 47444 listeneres\n",
      "The musician is Lil Gotit and has 30701 listeneres\n",
      "The musician is Lilys and has 68808 listeneres\n",
      "The musician is Lillasyster and has 54038 listeneres\n",
      "The musician is Lilu and has 36536 listeneres\n",
      "The musician is Lil Loaded and has 27997 listeneres\n",
      "The musician is lil happy lil sad and has 28557 listeneres\n",
      "The musician is Lily Chou-Chou and has 35696 listeneres\n",
      "The musician is Lil Mama and has 171836 listeneres\n",
      "The musician is Lil' Scrappy and has 257525 listeneres\n"
     ]
    }
   ],
   "source": [
    "data.keys()\n",
    "musicians = data['results']['artistmatches']['artist']\n",
    "for musician in musicians:\n",
    "    music = musician['name'] \n",
    "    listeners = musician['listeners']\n",
    "    print(f'The musician is {music} and has {listeners} listeneres')"
   ]
  },
  {
   "cell_type": "code",
   "execution_count": null,
   "metadata": {},
   "outputs": [],
   "source": []
  },
  {
   "cell_type": "code",
   "execution_count": null,
   "metadata": {},
   "outputs": [],
   "source": []
  },
  {
   "cell_type": "markdown",
   "metadata": {},
   "source": [
    "Your results should begin something like this:\n",
    "    \n",
    "```\n",
    "Lil' Wayne has 3086628 listeners\n",
    "Lily Allen has 2074266 listeners\n",
    "Lil B has 194116 listeners\n",
    "Lilly Wood & The Prick has 359886 listeners\n",
    "Lil Ugly Mane has 31955 listeners\n",
    "LIL UZI VERT has 88517 listeners\n",
    "```"
   ]
  },
  {
   "cell_type": "markdown",
   "metadata": {},
   "source": [
    "## 2) How many listeners does your list have in total?\n",
    "\n",
    "The answer should be roughly **15,000,000**. If it's lower, make sure you have 50 artists instead of 30 artists.\n",
    "\n",
    "- *Tip: What's the data type of the `listeners` count? It's going to cause a problem!*\n",
    "- *Tip: If you were crazy you could use sum and a list comprehension. But you really don't have to!*"
   ]
  },
  {
   "cell_type": "code",
   "execution_count": 20,
   "metadata": {},
   "outputs": [
    {
     "name": "stdout",
     "output_type": "stream",
     "text": [
      "15575075\n"
     ]
    }
   ],
   "source": [
    "total = 0\n",
    "for musician in musicians:\n",
    "    listener= musician['listeners']\n",
    "    listener = int(listener)\n",
    "    total= listener + total\n",
    "print(total)"
   ]
  },
  {
   "cell_type": "markdown",
   "metadata": {},
   "source": [
    "## 3) Show each artist's name and the URL to the extra-large image\n",
    "\n",
    "The images don't work any more, but we'll print their URLs out anyway."
   ]
  },
  {
   "cell_type": "markdown",
   "metadata": {},
   "source": [
    "Each artist **has a list of images of different sizes**. We're interested in the second-to-last one, where `size` is `extralarge`. Print their name and use `display_image` to display their extra-large image.\n",
    "\n",
    "- *Tip: The URL should look like this: `https://lastfm-img2.akamaized.net/i/u/300x300/0fc7d7a1812dc79e9925d80382cde594.png`*\n",
    "- *Tip: You can always assume it's the second to the last, or assume it's `extralarge`, or whatever you want to do to find it.*\n",
    "- *Tip: Make sure the URL is correct before you try to display it.*\n",
    "\n",
    "Your output should look something like\n",
    "\n",
    "```\n",
    "Lil' Wayne\n",
    "https://lastfm.freetls.fastly.net/i/u/300x300/2a96cbd8b46e442fc41c2b86b821562f.png\n",
    "---\n",
    "LIL UZI VERT\n",
    "https://lastfm.freetls.fastly.net/i/u/300x300/2a96cbd8b46e442fc41c2b86b821562f.png\n",
    "---\n",
    "Lily Allen\n",
    "https://lastfm.freetls.fastly.net/i/u/300x300/2a96cbd8b46e442fc41c2b86b821562f.png\n",
    "---\n",
    "```\n",
    "\n",
    "(but with more people, obviously)"
   ]
  },
  {
   "cell_type": "code",
   "execution_count": 39,
   "metadata": {},
   "outputs": [
    {
     "name": "stdout",
     "output_type": "stream",
     "text": [
      "Lil' Wayne --- https://lastfm.freetls.fastly.net/i/u/300x300/2a96cbd8b46e442fc41c2b86b821562f.png\n",
      "LIL UZI VERT --- https://lastfm.freetls.fastly.net/i/u/300x300/2a96cbd8b46e442fc41c2b86b821562f.png\n",
      "Lily Allen --- https://lastfm.freetls.fastly.net/i/u/300x300/2a96cbd8b46e442fc41c2b86b821562f.png\n",
      "LIL PEEP --- https://lastfm.freetls.fastly.net/i/u/300x300/2a96cbd8b46e442fc41c2b86b821562f.png\n",
      "Lil Baby --- https://lastfm.freetls.fastly.net/i/u/300x300/2a96cbd8b46e442fc41c2b86b821562f.png\n",
      "Lil Nas X --- https://lastfm.freetls.fastly.net/i/u/300x300/2a96cbd8b46e442fc41c2b86b821562f.png\n",
      "Lil Yachty --- https://lastfm.freetls.fastly.net/i/u/300x300/2a96cbd8b46e442fc41c2b86b821562f.png\n",
      "lil skies --- https://lastfm.freetls.fastly.net/i/u/300x300/2a96cbd8b46e442fc41c2b86b821562f.png\n",
      "Lil Tecca --- https://lastfm.freetls.fastly.net/i/u/300x300/2a96cbd8b46e442fc41c2b86b821562f.png\n",
      "lil Mosey --- https://lastfm.freetls.fastly.net/i/u/300x300/2a96cbd8b46e442fc41c2b86b821562f.png\n",
      "Lil B --- https://lastfm.freetls.fastly.net/i/u/300x300/2a96cbd8b46e442fc41c2b86b821562f.png\n",
      "LIL PUMP --- https://lastfm.freetls.fastly.net/i/u/300x300/2a96cbd8b46e442fc41c2b86b821562f.png\n",
      "Lil Ugly Mane --- https://lastfm.freetls.fastly.net/i/u/300x300/2a96cbd8b46e442fc41c2b86b821562f.png\n",
      "Lil Wayne --- https://lastfm.freetls.fastly.net/i/u/300x300/2a96cbd8b46e442fc41c2b86b821562f.png\n",
      "lil tjay --- https://lastfm.freetls.fastly.net/i/u/300x300/2a96cbd8b46e442fc41c2b86b821562f.png\n",
      "Lil Durk --- https://lastfm.freetls.fastly.net/i/u/300x300/2a96cbd8b46e442fc41c2b86b821562f.png\n",
      "Lilly Wood & The Prick --- https://lastfm.freetls.fastly.net/i/u/300x300/2a96cbd8b46e442fc41c2b86b821562f.png\n",
      "Lil Dicky --- https://lastfm.freetls.fastly.net/i/u/300x300/2a96cbd8b46e442fc41c2b86b821562f.png\n",
      "Lil' Kim --- https://lastfm.freetls.fastly.net/i/u/300x300/2a96cbd8b46e442fc41c2b86b821562f.png\n",
      "LIL TRACY --- https://lastfm.freetls.fastly.net/i/u/300x300/2a96cbd8b46e442fc41c2b86b821562f.png\n",
      "Lil Xan --- https://lastfm.freetls.fastly.net/i/u/300x300/2a96cbd8b46e442fc41c2b86b821562f.png\n",
      "Lil Keed --- https://lastfm.freetls.fastly.net/i/u/300x300/2a96cbd8b46e442fc41c2b86b821562f.png\n",
      "Lil Jon --- https://lastfm.freetls.fastly.net/i/u/300x300/2a96cbd8b46e442fc41c2b86b821562f.png\n",
      "Lil Jon & The East Side Boyz --- https://lastfm.freetls.fastly.net/i/u/300x300/2a96cbd8b46e442fc41c2b86b821562f.png\n",
      "Lil Darkie --- https://lastfm.freetls.fastly.net/i/u/300x300/2a96cbd8b46e442fc41c2b86b821562f.png\n",
      "Lila Downs --- https://lastfm.freetls.fastly.net/i/u/300x300/2a96cbd8b46e442fc41c2b86b821562f.png\n",
      "Lil Boosie --- https://lastfm.freetls.fastly.net/i/u/300x300/2a96cbd8b46e442fc41c2b86b821562f.png\n",
      "Lil' Kleine --- https://lastfm.freetls.fastly.net/i/u/300x300/2a96cbd8b46e442fc41c2b86b821562f.png\n",
      "The Tiger Lillies --- https://lastfm.freetls.fastly.net/i/u/300x300/2a96cbd8b46e442fc41c2b86b821562f.png\n",
      "Lil Wyte --- https://lastfm.freetls.fastly.net/i/u/300x300/2a96cbd8b46e442fc41c2b86b821562f.png\n",
      "Fenne Lily --- https://lastfm.freetls.fastly.net/i/u/300x300/2a96cbd8b46e442fc41c2b86b821562f.png\n",
      "Lil' Flip --- https://lastfm.freetls.fastly.net/i/u/300x300/2a96cbd8b46e442fc41c2b86b821562f.png\n",
      "Lily James --- https://lastfm.freetls.fastly.net/i/u/300x300/2a96cbd8b46e442fc41c2b86b821562f.png\n",
      "Birdman & Lil' Wayne --- https://lastfm.freetls.fastly.net/i/u/300x300/2a96cbd8b46e442fc41c2b86b821562f.png\n",
      "Spangle call Lilli line --- https://lastfm.freetls.fastly.net/i/u/300x300/2a96cbd8b46e442fc41c2b86b821562f.png\n",
      "LIL BO WEEP --- https://lastfm.freetls.fastly.net/i/u/300x300/2a96cbd8b46e442fc41c2b86b821562f.png\n",
      "Lily & Madeleine --- https://lastfm.freetls.fastly.net/i/u/300x300/2a96cbd8b46e442fc41c2b86b821562f.png\n",
      "Lil Aaron --- https://lastfm.freetls.fastly.net/i/u/300x300/2a96cbd8b46e442fc41c2b86b821562f.png\n",
      "Lilac --- https://lastfm.freetls.fastly.net/i/u/300x300/2a96cbd8b46e442fc41c2b86b821562f.png\n",
      "Mashrou' Leila --- https://lastfm.freetls.fastly.net/i/u/300x300/2a96cbd8b46e442fc41c2b86b821562f.png\n",
      "The Lillingtons --- https://lastfm.freetls.fastly.net/i/u/300x300/2a96cbd8b46e442fc41c2b86b821562f.png\n",
      "Lil Gotit --- https://lastfm.freetls.fastly.net/i/u/300x300/2a96cbd8b46e442fc41c2b86b821562f.png\n",
      "Lilys --- https://lastfm.freetls.fastly.net/i/u/300x300/2a96cbd8b46e442fc41c2b86b821562f.png\n",
      "Lillasyster --- https://lastfm.freetls.fastly.net/i/u/300x300/2a96cbd8b46e442fc41c2b86b821562f.png\n",
      "Lilu --- https://lastfm.freetls.fastly.net/i/u/300x300/2a96cbd8b46e442fc41c2b86b821562f.png\n",
      "Lil Loaded --- https://lastfm.freetls.fastly.net/i/u/300x300/2a96cbd8b46e442fc41c2b86b821562f.png\n",
      "lil happy lil sad --- https://lastfm.freetls.fastly.net/i/u/300x300/2a96cbd8b46e442fc41c2b86b821562f.png\n",
      "Lily Chou-Chou --- https://lastfm.freetls.fastly.net/i/u/300x300/2a96cbd8b46e442fc41c2b86b821562f.png\n",
      "Lil Mama --- https://lastfm.freetls.fastly.net/i/u/300x300/2a96cbd8b46e442fc41c2b86b821562f.png\n",
      "Lil' Scrappy --- https://lastfm.freetls.fastly.net/i/u/300x300/2a96cbd8b46e442fc41c2b86b821562f.png\n"
     ]
    }
   ],
   "source": [
    "for musician in musicians:\n",
    "    name = musician['name']\n",
    "    links = musician['image'][3]['#text']\n",
    "    print(f\"{name} --- {links}\")"
   ]
  },
  {
   "cell_type": "markdown",
   "metadata": {},
   "source": [
    "## 4) Find Lil Jon's `mbid` (or anyone else's!).\n",
    "\n",
    "Oftentimes in an API, you can do a few things: you can **search** for items, and you can **see more information** about items. To find more information about the item, you need to use their **unique id**. In this dataset, it's called an `mbid` (MusicBrainz, I think - another company associated with last.fm!).\n",
    "\n",
    "Go through the artists and print their **name and mbid**. Find Lil Jon's `mbid`. I *wanted* Lil Uzi Vert's, but for some reason it isn't there. Then I wanted us to look at Lily Allen's, but I just couldn't bring myself to do that. If you'd rather do someone else, go for it."
   ]
  },
  {
   "cell_type": "code",
   "execution_count": 41,
   "metadata": {},
   "outputs": [
    {
     "name": "stdout",
     "output_type": "stream",
     "text": [
      "The artist Lil' Wayne mbid is \n",
      "The artist LIL UZI VERT mbid is \n",
      "The artist Lily Allen mbid is 6e0c7c0e-cba5-4c2c-a652-38f71ef5785d\n",
      "The artist LIL PEEP mbid is \n",
      "The artist Lil Baby mbid is \n",
      "The artist Lil Nas X mbid is \n",
      "The artist Lil Yachty mbid is \n",
      "The artist lil skies mbid is \n",
      "The artist Lil Tecca mbid is \n",
      "The artist lil Mosey mbid is \n",
      "The artist Lil B mbid is 1550f952-c91b-40d7-9b4d-d26a259ee932\n",
      "The artist LIL PUMP mbid is \n",
      "The artist Lil Ugly Mane mbid is 5f1adfe1-4d07-4141-b181-79e5d379d539\n",
      "The artist Lil Wayne mbid is ac9a487a-d9d2-4f27-bb23-0f4686488345\n",
      "The artist lil tjay mbid is \n",
      "The artist Lil Durk mbid is c9cd225b-4883-428e-82c2-73e0b6282fb6\n",
      "The artist Lilly Wood & The Prick mbid is 1b72331b-3a97-4981-a81c-eeee9c275d28\n",
      "The artist Lil Dicky mbid is 3268f062-6e76-480a-a384-e1dd2a276afb\n",
      "The artist Lil' Kim mbid is bc1b5c95-e6d6-46b5-957a-5e8908b02c1e\n",
      "The artist LIL TRACY mbid is \n",
      "The artist Lil Xan mbid is \n",
      "The artist Lil Keed mbid is \n",
      "The artist Lil Jon mbid is a95384b1-6aec-468c-ae0d-8c6daf87c4c2\n",
      "The artist Lil Jon & The East Side Boyz mbid is 243c6f61-d83b-4459-bebd-5899df0da111\n",
      "The artist Lil Darkie mbid is \n",
      "The artist Lila Downs mbid is ad29ae1c-2eda-4071-9dc8-31910e7e546c\n",
      "The artist Lil Boosie mbid is 8ba17cf6-bec2-4ae4-9820-b1cda47adc08\n",
      "The artist Lil' Kleine mbid is \n",
      "The artist The Tiger Lillies mbid is 3ad4f6ec-253f-4050-8849-ca26266edfb8\n",
      "The artist Lil Wyte mbid is 9b5ce0c1-1bc0-4ea2-a8d3-f5ee7af9eda8\n",
      "The artist Fenne Lily mbid is \n",
      "The artist Lil' Flip mbid is 981d39fc-bd00-4cc6-ac67-6410f8b89098\n",
      "The artist Lily James mbid is \n",
      "The artist Birdman & Lil' Wayne mbid is \n",
      "The artist Spangle call Lilli line mbid is bc21df5c-3d79-479b-b638-8ddb5ecea403\n",
      "The artist LIL BO WEEP mbid is \n",
      "The artist Lily & Madeleine mbid is b89f4c50-72f5-48ce-b08c-a643b191b24f\n",
      "The artist Lil Aaron mbid is \n",
      "The artist Lilac mbid is 1967c6ce-95a4-48f0-8ac7-abe637524aee\n",
      "The artist Mashrou' Leila mbid is a31becdf-7b33-4409-9eb1-3f74bd72997c\n",
      "The artist The Lillingtons mbid is 9803d120-716d-45ba-9eb7-9a120813f908\n",
      "The artist Lil Gotit mbid is \n",
      "The artist Lilys mbid is 50ad1cde-1536-4268-a55f-e47a7b8280ab\n",
      "The artist Lillasyster mbid is 9acaf734-b380-4c48-954c-a2cf1d7990a9\n",
      "The artist Lilu mbid is d4d5ae85-700c-4a55-8a39-7f923da07ef2\n",
      "The artist Lil Loaded mbid is \n",
      "The artist lil happy lil sad mbid is \n",
      "The artist Lily Chou-Chou mbid is 5652bb3e-f225-49de-9637-5aa1539b4a7c\n",
      "The artist Lil Mama mbid is 194e87c9-b3fe-4fbd-82a7-8c54b4dd4c76\n",
      "The artist Lil' Scrappy mbid is 77fafce8-a32f-4d42-bdce-266bbf913cee\n"
     ]
    }
   ],
   "source": [
    "for musician in musicians:\n",
    "    name = musician['name']\n",
    "    mbid = musician['mbid']\n",
    "    print(f\"The artist {name} mbid is {mbid}\")"
   ]
  },
  {
   "cell_type": "markdown",
   "metadata": {
    "collapsed": true
   },
   "source": [
    "## 5) Find the artist's name and bio using their `mbid`.\n",
    "\n",
    "It can either be Lil Jon or whoever you selected above.\n",
    "\n",
    "If you look at the [last.fm documentation](http://www.last.fm/api/show/artist.getInfo), you can see how to use the artist's `mbid` to find more information about them. Print **every tag associated with your artist**.\n",
    "\n",
    "- *Tip: It's a new request to the API*\n",
    "- *Tip: Use the `mbid`, and make sure you delete the `&name=Cher` from the sample endpoint*\n",
    "- *Tip: If you use `print` for the bio it looks a little nicer than it would otherwise*"
   ]
  },
  {
   "cell_type": "code",
   "execution_count": 42,
   "metadata": {},
   "outputs": [],
   "source": [
    "url2= \"http://ws.audioscrobbler.com//2.0/?method=artist.getinfo&mbid=6e0c7c0e-cba5-4c2c-a652-38f71ef5785d&api_key=3863fb9d3a88265c6a107bec525fc91f&format=json\"\n",
    "response = requests.get(url2, allow_redirects=True)\n",
    "data = response.json()"
   ]
  },
  {
   "cell_type": "code",
   "execution_count": 48,
   "metadata": {},
   "outputs": [
    {
     "name": "stdout",
     "output_type": "stream",
     "text": [
      "Lily Allen: \n",
      "Lily Rose Beatrice Allen (born 2 May 1985), known professionally as Lily Allen, is an English singer/songwriter, hailing from London, United Kingdom. She is the daughter of Keith Allen and film producer Alison Owen. Allen left school when she was 15 and concentrated on improving her performing and compositional skills. She started her musical career in 2002 by signing to London Records. In 2005, she made some of her recordings public on Myspace and the publicity resulted in airplay on BBC Radio 1 and a contract with Regal Recordings. <a href=\"https://www.last.fm/music/Lily+Allen\">Read more on Last.fm</a>\n"
     ]
    }
   ],
   "source": [
    "lily_name = data['artist']['name']\n",
    "bio = data['artist']['bio']['summary']\n",
    "print(f'{lily_name}: {bio}')"
   ]
  },
  {
   "cell_type": "code",
   "execution_count": null,
   "metadata": {},
   "outputs": [],
   "source": []
  },
  {
   "cell_type": "code",
   "execution_count": null,
   "metadata": {},
   "outputs": [],
   "source": []
  },
  {
   "cell_type": "markdown",
   "metadata": {
    "collapsed": true
   },
   "source": [
    "## 6) Print every tag of that artist"
   ]
  },
  {
   "cell_type": "code",
   "execution_count": 49,
   "metadata": {},
   "outputs": [
    {
     "name": "stdout",
     "output_type": "stream",
     "text": [
      "pop\n",
      "female vocalists\n",
      "british\n",
      "britpop\n",
      "singer-songwriter\n"
     ]
    }
   ],
   "source": [
    "tags= data['artist']['tags']['tag']\n",
    "for tag in tags:\n",
    "    print(tag['name'])"
   ]
  },
  {
   "cell_type": "markdown",
   "metadata": {},
   "source": [
    "# GETTING A LITTLE CRAZY\n",
    "\n",
    "So you know your original list of musicians? I want to get tag data for ALL OF THEM. How are we going to do that?\n",
    "\n",
    "## 7) Find the mbids (again)\n",
    "\n",
    "If we have a musician with an mbid of `AAA-AAA-AAA`, we get their info from a url like `http://ws.audioscrobbler.com/blahblah/?api_key=12345&mbid=AAA-AAA-AAA`.\n",
    "\n",
    "|artist|url|\n",
    "|---|---|\n",
    "|`AAA-AAA-AAA`|`http://ws.audioscrobbler.com/blahblah/?api_key=12345&mbid=AAA-AAA-AAA`|\n",
    "|`BBB-BBB-BBB`|`http://ws.audioscrobbler.com/blahblah/?api_key=12345&mbid=BBB-BBB-BBB`|\n",
    "|`CCC-CCC-CCC`|`http://ws.audioscrobbler.com/blahblah/?api_key=12345&mbid=CCC-CCC-CCC`|\n",
    "\n",
    "I guess we should start trying to get a list of all of the mbids.\n",
    "\n",
    "**Loop through your artists, and print out the `mbid` for each artist**\n",
    "\n",
    "- *Tip: You probably need to request your artist search result data again, because you probably saved over `data` with your other API request. Maybe call it `artist_data` this time?*\n",
    "- *Tip: If the artist does NOT have an `mbid`, don't print it.*"
   ]
  },
  {
   "cell_type": "code",
   "execution_count": 10,
   "metadata": {},
   "outputs": [],
   "source": [
    "url= \"http://ws.audioscrobbler.com/2.0/?method=artist.search&artist=lil&api_key=90a91775a7d201e230fa5e21b75e6508&limit=50&format=json\"\n",
    "response = requests.get(url, allow_redirects=True)\n",
    "data = response.json()"
   ]
  },
  {
   "cell_type": "code",
   "execution_count": 51,
   "metadata": {},
   "outputs": [
    {
     "name": "stdout",
     "output_type": "stream",
     "text": [
      "6e0c7c0e-cba5-4c2c-a652-38f71ef5785d\n",
      "1550f952-c91b-40d7-9b4d-d26a259ee932\n",
      "5f1adfe1-4d07-4141-b181-79e5d379d539\n",
      "ac9a487a-d9d2-4f27-bb23-0f4686488345\n",
      "c9cd225b-4883-428e-82c2-73e0b6282fb6\n",
      "1b72331b-3a97-4981-a81c-eeee9c275d28\n",
      "3268f062-6e76-480a-a384-e1dd2a276afb\n",
      "bc1b5c95-e6d6-46b5-957a-5e8908b02c1e\n",
      "a95384b1-6aec-468c-ae0d-8c6daf87c4c2\n",
      "243c6f61-d83b-4459-bebd-5899df0da111\n",
      "ad29ae1c-2eda-4071-9dc8-31910e7e546c\n",
      "8ba17cf6-bec2-4ae4-9820-b1cda47adc08\n",
      "3ad4f6ec-253f-4050-8849-ca26266edfb8\n",
      "9b5ce0c1-1bc0-4ea2-a8d3-f5ee7af9eda8\n",
      "981d39fc-bd00-4cc6-ac67-6410f8b89098\n",
      "bc21df5c-3d79-479b-b638-8ddb5ecea403\n",
      "b89f4c50-72f5-48ce-b08c-a643b191b24f\n",
      "1967c6ce-95a4-48f0-8ac7-abe637524aee\n",
      "a31becdf-7b33-4409-9eb1-3f74bd72997c\n",
      "9803d120-716d-45ba-9eb7-9a120813f908\n",
      "50ad1cde-1536-4268-a55f-e47a7b8280ab\n",
      "9acaf734-b380-4c48-954c-a2cf1d7990a9\n",
      "d4d5ae85-700c-4a55-8a39-7f923da07ef2\n",
      "5652bb3e-f225-49de-9637-5aa1539b4a7c\n",
      "194e87c9-b3fe-4fbd-82a7-8c54b4dd4c76\n",
      "77fafce8-a32f-4d42-bdce-266bbf913cee\n"
     ]
    }
   ],
   "source": [
    "for musician in musicians:\n",
    "    mbid = musician['mbid']\n",
    "    if len(mbid) != 0:\n",
    "        print(mbid)"
   ]
  },
  {
   "cell_type": "markdown",
   "metadata": {},
   "source": [
    "Your results should look something like\n",
    "\n",
    "```\n",
    "6e0c7c0e-cba5-4c2c-a652-38f71ef5785d\n",
    "1550f952-c91b-40d7-9b4d-d26a259ee932\n",
    "1b72331b-3a97-4981-a81c-eeee9c275d28\n",
    "5f1adfe1-4d07-4141-b181-79e5d379d539\n",
    "a95384b1-6aec-468c-ae0d-8c6daf87c4c2\n",
    "bc1b5c95-e6d6-46b5-957a-5e8908b02c1e\n",
    "243c6f61-d83b-4459-bebd-5899df0da111\n",
    "```"
   ]
  },
  {
   "cell_type": "markdown",
   "metadata": {},
   "source": [
    "## 8) Saving those mbids\n",
    "\n",
    "For those `mbid` values, instead of printing them out, save them to a new list of just mbid values. Call this list `mbids`.\n",
    "\n",
    "- *Tip: Use `.append` to add a single element onto a list*"
   ]
  },
  {
   "cell_type": "code",
   "execution_count": 52,
   "metadata": {},
   "outputs": [
    {
     "name": "stdout",
     "output_type": "stream",
     "text": [
      "['6e0c7c0e-cba5-4c2c-a652-38f71ef5785d', '1550f952-c91b-40d7-9b4d-d26a259ee932', '5f1adfe1-4d07-4141-b181-79e5d379d539', 'ac9a487a-d9d2-4f27-bb23-0f4686488345', 'c9cd225b-4883-428e-82c2-73e0b6282fb6', '1b72331b-3a97-4981-a81c-eeee9c275d28', '3268f062-6e76-480a-a384-e1dd2a276afb', 'bc1b5c95-e6d6-46b5-957a-5e8908b02c1e', 'a95384b1-6aec-468c-ae0d-8c6daf87c4c2', '243c6f61-d83b-4459-bebd-5899df0da111', 'ad29ae1c-2eda-4071-9dc8-31910e7e546c', '8ba17cf6-bec2-4ae4-9820-b1cda47adc08', '3ad4f6ec-253f-4050-8849-ca26266edfb8', '9b5ce0c1-1bc0-4ea2-a8d3-f5ee7af9eda8', '981d39fc-bd00-4cc6-ac67-6410f8b89098', 'bc21df5c-3d79-479b-b638-8ddb5ecea403', 'b89f4c50-72f5-48ce-b08c-a643b191b24f', '1967c6ce-95a4-48f0-8ac7-abe637524aee', 'a31becdf-7b33-4409-9eb1-3f74bd72997c', '9803d120-716d-45ba-9eb7-9a120813f908', '50ad1cde-1536-4268-a55f-e47a7b8280ab', '9acaf734-b380-4c48-954c-a2cf1d7990a9', 'd4d5ae85-700c-4a55-8a39-7f923da07ef2', '5652bb3e-f225-49de-9637-5aa1539b4a7c', '194e87c9-b3fe-4fbd-82a7-8c54b4dd4c76', '77fafce8-a32f-4d42-bdce-266bbf913cee']\n"
     ]
    }
   ],
   "source": [
    "mbids =[]\n",
    "for musician in musicians:\n",
    "    mbid = musician['mbid']\n",
    "    if len(mbid) != 0:\n",
    "        mbids.append(mbid)\n",
    "print(mbids)\n",
    "        "
   ]
  },
  {
   "cell_type": "markdown",
   "metadata": {},
   "source": [
    "Your results should look something like\n",
    "\n",
    "```['6e0c7c0e-cba5-4c2c-a652-38f71ef5785d',\n",
    " '1550f952-c91b-40d7-9b4d-d26a259ee932',\n",
    " '1b72331b-3a97-4981-a81c-eeee9c275d28',\n",
    " '5f1adfe1-4d07-4141-b181-79e5d379d539',\n",
    " 'a95384b1-6aec-468c-ae0d-8c6daf87c4c2',\n",
    " 'bc1b5c95-e6d6-46b5-957a-5e8908b02c1e',\n",
    " '243c6f61-d83b-4459-bebd-5899df0da111',\n",
    " '8ba17cf6-bec2-4ae4-9820-b1cda47adc08',\n",
    " 'ad29ae1c-2eda-4071-9dc8-31910e7e546c',\n",
    " '3268f062-6e76-480a-a384-e1dd2a276afb',\n",
    " '3ad4f6ec-253f-4050-8849-ca26266edfb8',\n",
    " '9b5ce0c1-1bc0-4ea2-a8d3-f5ee7af9eda8',\n",
    " '981d39fc-bd00-4cc6-ac67-6410f8b89098',\n",
    " 'b89f4c50-72f5-48ce-b08c-a643b191b24f',\n",
    " 'bc21df5c-3d79-479b-b638-8ddb5ecea403',\n",
    " 'c9cd225b-4883-428e-82c2-73e0b6282fb6',\n",
    " '9acaf734-b380-4c48-954c-a2cf1d7990a9',\n",
    " 'd4d5ae85-700c-4a55-8a39-7f923da07ef2',\n",
    " '77fafce8-a32f-4d42-bdce-266bbf913cee',\n",
    " '50ad1cde-1536-4268-a55f-e47a7b8280ab',\n",
    " '9803d120-716d-45ba-9eb7-9a120813f908',\n",
    " 'b27560ea-2783-4a91-be45-9e8711917562',\n",
    " '194e87c9-b3fe-4fbd-82a7-8c54b4dd4c76',\n",
    " 'fd90af91-ed07-4e85-8816-26c954fe5286',\n",
    " '5652bb3e-f225-49de-9637-5aa1539b4a7c']```"
   ]
  },
  {
   "cell_type": "markdown",
   "metadata": {},
   "source": [
    "## 9) Printing our API urls\n",
    "\n",
    "To get tag data for each artist, you need to use those `mbid` values to access their artist page on the API. Loop through the mbids, displying the URL you'll need to access.\n",
    "\n",
    "- *Tip: You don't want to use a comma when printing, because commas add spaces into your text and URLs can't have that*\n",
    "- *Tip: Make sure your URL has `artist.getinfo` in it - if not, you're using the wrong endpoint.*"
   ]
  },
  {
   "cell_type": "code",
   "execution_count": 54,
   "metadata": {},
   "outputs": [
    {
     "name": "stdout",
     "output_type": "stream",
     "text": [
      "http://ws.audioscrobbler.com/2.0/?method=artist.getinfo&api_key=90a91775a7d201e230fa5e21b75e6508&format=json&mbid=6e0c7c0e-cba5-4c2c-a652-38f71ef5785d\n",
      "http://ws.audioscrobbler.com/2.0/?method=artist.getinfo&api_key=90a91775a7d201e230fa5e21b75e6508&format=json&mbid=1550f952-c91b-40d7-9b4d-d26a259ee932\n",
      "http://ws.audioscrobbler.com/2.0/?method=artist.getinfo&api_key=90a91775a7d201e230fa5e21b75e6508&format=json&mbid=5f1adfe1-4d07-4141-b181-79e5d379d539\n",
      "http://ws.audioscrobbler.com/2.0/?method=artist.getinfo&api_key=90a91775a7d201e230fa5e21b75e6508&format=json&mbid=ac9a487a-d9d2-4f27-bb23-0f4686488345\n",
      "http://ws.audioscrobbler.com/2.0/?method=artist.getinfo&api_key=90a91775a7d201e230fa5e21b75e6508&format=json&mbid=c9cd225b-4883-428e-82c2-73e0b6282fb6\n",
      "http://ws.audioscrobbler.com/2.0/?method=artist.getinfo&api_key=90a91775a7d201e230fa5e21b75e6508&format=json&mbid=1b72331b-3a97-4981-a81c-eeee9c275d28\n",
      "http://ws.audioscrobbler.com/2.0/?method=artist.getinfo&api_key=90a91775a7d201e230fa5e21b75e6508&format=json&mbid=3268f062-6e76-480a-a384-e1dd2a276afb\n",
      "http://ws.audioscrobbler.com/2.0/?method=artist.getinfo&api_key=90a91775a7d201e230fa5e21b75e6508&format=json&mbid=bc1b5c95-e6d6-46b5-957a-5e8908b02c1e\n",
      "http://ws.audioscrobbler.com/2.0/?method=artist.getinfo&api_key=90a91775a7d201e230fa5e21b75e6508&format=json&mbid=a95384b1-6aec-468c-ae0d-8c6daf87c4c2\n",
      "http://ws.audioscrobbler.com/2.0/?method=artist.getinfo&api_key=90a91775a7d201e230fa5e21b75e6508&format=json&mbid=243c6f61-d83b-4459-bebd-5899df0da111\n",
      "http://ws.audioscrobbler.com/2.0/?method=artist.getinfo&api_key=90a91775a7d201e230fa5e21b75e6508&format=json&mbid=ad29ae1c-2eda-4071-9dc8-31910e7e546c\n",
      "http://ws.audioscrobbler.com/2.0/?method=artist.getinfo&api_key=90a91775a7d201e230fa5e21b75e6508&format=json&mbid=8ba17cf6-bec2-4ae4-9820-b1cda47adc08\n",
      "http://ws.audioscrobbler.com/2.0/?method=artist.getinfo&api_key=90a91775a7d201e230fa5e21b75e6508&format=json&mbid=3ad4f6ec-253f-4050-8849-ca26266edfb8\n",
      "http://ws.audioscrobbler.com/2.0/?method=artist.getinfo&api_key=90a91775a7d201e230fa5e21b75e6508&format=json&mbid=9b5ce0c1-1bc0-4ea2-a8d3-f5ee7af9eda8\n",
      "http://ws.audioscrobbler.com/2.0/?method=artist.getinfo&api_key=90a91775a7d201e230fa5e21b75e6508&format=json&mbid=981d39fc-bd00-4cc6-ac67-6410f8b89098\n",
      "http://ws.audioscrobbler.com/2.0/?method=artist.getinfo&api_key=90a91775a7d201e230fa5e21b75e6508&format=json&mbid=bc21df5c-3d79-479b-b638-8ddb5ecea403\n",
      "http://ws.audioscrobbler.com/2.0/?method=artist.getinfo&api_key=90a91775a7d201e230fa5e21b75e6508&format=json&mbid=b89f4c50-72f5-48ce-b08c-a643b191b24f\n",
      "http://ws.audioscrobbler.com/2.0/?method=artist.getinfo&api_key=90a91775a7d201e230fa5e21b75e6508&format=json&mbid=1967c6ce-95a4-48f0-8ac7-abe637524aee\n",
      "http://ws.audioscrobbler.com/2.0/?method=artist.getinfo&api_key=90a91775a7d201e230fa5e21b75e6508&format=json&mbid=a31becdf-7b33-4409-9eb1-3f74bd72997c\n",
      "http://ws.audioscrobbler.com/2.0/?method=artist.getinfo&api_key=90a91775a7d201e230fa5e21b75e6508&format=json&mbid=9803d120-716d-45ba-9eb7-9a120813f908\n",
      "http://ws.audioscrobbler.com/2.0/?method=artist.getinfo&api_key=90a91775a7d201e230fa5e21b75e6508&format=json&mbid=50ad1cde-1536-4268-a55f-e47a7b8280ab\n",
      "http://ws.audioscrobbler.com/2.0/?method=artist.getinfo&api_key=90a91775a7d201e230fa5e21b75e6508&format=json&mbid=9acaf734-b380-4c48-954c-a2cf1d7990a9\n",
      "http://ws.audioscrobbler.com/2.0/?method=artist.getinfo&api_key=90a91775a7d201e230fa5e21b75e6508&format=json&mbid=d4d5ae85-700c-4a55-8a39-7f923da07ef2\n",
      "http://ws.audioscrobbler.com/2.0/?method=artist.getinfo&api_key=90a91775a7d201e230fa5e21b75e6508&format=json&mbid=5652bb3e-f225-49de-9637-5aa1539b4a7c\n",
      "http://ws.audioscrobbler.com/2.0/?method=artist.getinfo&api_key=90a91775a7d201e230fa5e21b75e6508&format=json&mbid=194e87c9-b3fe-4fbd-82a7-8c54b4dd4c76\n",
      "http://ws.audioscrobbler.com/2.0/?method=artist.getinfo&api_key=90a91775a7d201e230fa5e21b75e6508&format=json&mbid=77fafce8-a32f-4d42-bdce-266bbf913cee\n"
     ]
    }
   ],
   "source": [
    "for mbid_artist in mbids:\n",
    "    print(f\"http://ws.audioscrobbler.com/2.0/?method=artist.getinfo&api_key=90a91775a7d201e230fa5e21b75e6508&format=json&mbid={mbid_artist}\")"
   ]
  },
  {
   "cell_type": "markdown",
   "metadata": {},
   "source": [
    "Your results should look something like\n",
    "\n",
    "```http://ws.audioscrobbler.com/2.0/?method=artist.getinfo&api_key=XXXXX&format=json&mbid=6e0c7c0e-cba5-4c2c-a652-38f71ef5785d\n",
    "http://ws.audioscrobbler.com/2.0/?method=artist.getinfo&api_key=XXXXX&format=json&mbid=1550f952-c91b-40d7-9b4d-d26a259ee932\n",
    "http://ws.audioscrobbler.com/2.0/?method=artist.getinfo&api_key=XXXXX&format=json&mbid=1b72331b-3a97-4981-a81c-eeee9c275d28\n",
    "http://ws.audioscrobbler.com/2.0/?method=artist.getinfo&api_key=XXXXX&format=json&mbid=5f1adfe1-4d07-4141-b181-79e5d379d539\n",
    "http://ws.audioscrobbler.com/2.0/?method=artist.getinfo&api_key=XXXXX&format=json&mbid=a95384b1-6aec-468c-ae0d-8c6daf87c4c2\n",
    "http://ws.audioscrobbler.com/2.0/?method=artist.getinfo&api_key=XXXXX&format=json&mbid=bc1b5c95-e6d6-46b5-957a-5e8908b02c1e```"
   ]
  },
  {
   "cell_type": "markdown",
   "metadata": {},
   "source": [
    "## OKAY HERE IS A LITTLE INFORMATION: Using our API urls\n",
    "\n",
    "This time instead of just *displaying* the URL, we're going to *request and process it*. **But first I'm going to teach you something.**\n",
    "\n",
    "When you're dealing with an API, you don't want to make a million requests, have bad code, and then need to do those million requests again. It's usually best to test your code with a few of the results first.\n",
    "\n",
    "So, if we have a list of numbers like this:"
   ]
  },
  {
   "cell_type": "code",
   "execution_count": 55,
   "metadata": {},
   "outputs": [
    {
     "data": {
      "text/plain": [
       "[4, 5, 6, 7]"
      ]
     },
     "execution_count": 55,
     "metadata": {},
     "output_type": "execute_result"
    }
   ],
   "source": [
    "numbers = [4, 5, 6, 7]\n",
    "numbers"
   ]
  },
  {
   "cell_type": "markdown",
   "metadata": {},
   "source": [
    "You can actually say to Python, **give me the first two**, and it will only give you the first two."
   ]
  },
  {
   "cell_type": "code",
   "execution_count": 56,
   "metadata": {},
   "outputs": [
    {
     "data": {
      "text/plain": [
       "[4, 5]"
      ]
     },
     "execution_count": 56,
     "metadata": {},
     "output_type": "execute_result"
    }
   ],
   "source": [
    "numbers[:2]"
   ]
  },
  {
   "cell_type": "markdown",
   "metadata": {},
   "source": [
    "The is **very convenient** with loopng with APIs, because instead of trying to use all FIFTY artists, you can just say \"hey, please try this out with 2 of them\" and you don't waste time."
   ]
  },
  {
   "cell_type": "markdown",
   "metadata": {},
   "source": [
    "## 10) Using the first three `mbids`, request the API urls and print the artist's name.\n",
    "\n",
    "You built the URLs in the last question, now it's time to use them! Use `requests` etc to grab the URL and get out the artist's name.\n",
    "\n",
    "- *Tip: The code is the same as last time you got an artist's name from their info page, it's just going to be inside of a loop*\n",
    "- *Tip: USE `PRINT` TO SEE WHAT YOU ARE LOOKING AT!!!!!*"
   ]
  },
  {
   "cell_type": "code",
   "execution_count": 57,
   "metadata": {},
   "outputs": [
    {
     "name": "stdout",
     "output_type": "stream",
     "text": [
      "Lily Allen\n",
      "Lil B\n",
      "Lil Ugly Mane\n"
     ]
    }
   ],
   "source": [
    "for mbid_artist in mbids[:3]:\n",
    "    url5= f\"http://ws.audioscrobbler.com/2.0/?method=artist.getinfo&api_key=90a91775a7d201e230fa5e21b75e6508&format=json&mbid={mbid_artist}\"\n",
    "    response = requests.get(url5, allow_redirects=True)\n",
    "    data = response.json()\n",
    "    print(data['artist']['name'])\n"
   ]
  },
  {
   "cell_type": "markdown",
   "metadata": {},
   "source": [
    "## 11) Using the first three `mbids`, request the API urls and print the artist's name and their tags\n",
    "\n",
    "- *Tip: The code is the same as last time you got an artist's name from their info page, it's just going to be inside of a loop*\n",
    "- *Tip: It's a for loop in a for loop!*"
   ]
  },
  {
   "cell_type": "code",
   "execution_count": 58,
   "metadata": {},
   "outputs": [
    {
     "name": "stdout",
     "output_type": "stream",
     "text": [
      "Lily Allen\n",
      "pop\n",
      "female vocalists\n",
      "british\n",
      "britpop\n",
      "singer-songwriter\n",
      "Lil B\n",
      "based\n",
      "Hip-Hop\n",
      "swag\n",
      "real recognize real and this nigga the realest\n",
      "rap\n",
      "Lil Ugly Mane\n",
      "Hip-Hop\n",
      "memphis rap\n",
      "Gangsta Rap\n",
      "Lo-Fi\n",
      "Trill Shit\n"
     ]
    }
   ],
   "source": [
    "for mbid_artist in mbids[:3]:\n",
    "    url5= f\"http://ws.audioscrobbler.com/2.0/?method=artist.getinfo&api_key=90a91775a7d201e230fa5e21b75e6508&format=json&mbid={mbid_artist}\"\n",
    "    response = requests.get(url5, allow_redirects=True)\n",
    "    data = response.json()\n",
    "    print(data['artist']['name'])\n",
    "    tags= data['artist']['tags']['tag']\n",
    "    for tag in tags:\n",
    "        print(tag['name'])"
   ]
  },
  {
   "cell_type": "markdown",
   "metadata": {},
   "source": [
    "## 12) Using the first ten mbids, print the artist's name and whether they're a rapper\n",
    "\n",
    "Only print their name ONCE and only print whether they are hip hop or not ONCE.\n",
    "\n",
    "- *Tip: Rap tags include hip hop, swag, crunk, rap, dirty south, and probably a bunch of other stuff! You can include as many categories as you'd like.*\n",
    "- *Tip: You can use `2 in [1, 2, 3]` to find out if `2` is in the list of `[1, 2, 3]`.*\n",
    "- *Tip: Every time you look at a new artist, you can say they are NOT a rapper. And once you find out one of their tags is hip hop or rap, then you can note that they're a rapper. Then once you're done looking at their tags, then you can say HEY this is a rapper, or HEY this is not a rapper.*"
   ]
  },
  {
   "cell_type": "code",
   "execution_count": 59,
   "metadata": {},
   "outputs": [
    {
     "name": "stdout",
     "output_type": "stream",
     "text": [
      "Lily Allen\n",
      "This is not a rapper\n",
      "This is not a hip hopper\n",
      "Lil B\n",
      "Hey this is a rapper\n",
      "This is not a hip hopper\n",
      "Lil Ugly Mane\n",
      "This is not a rapper\n",
      "This is not a hip hopper\n",
      "Lil Wayne\n",
      "Hey this is a rapper\n",
      "This is not a hip hopper\n",
      "Lil Durk\n",
      "Hey this is a rapper\n",
      "This is not a hip hopper\n",
      "Lilly Wood & The Prick\n",
      "This is not a rapper\n",
      "This is not a hip hopper\n",
      "Lil Dicky\n",
      "Hey this is a rapper\n",
      "This is not a hip hopper\n",
      "Lil' Kim\n",
      "Hey this is a rapper\n",
      "This is not a hip hopper\n",
      "Lil Jon\n",
      "Hey this is a rapper\n",
      "This is not a hip hopper\n",
      "Lil Jon & The East Side Boyz\n",
      "Hey this is a rapper\n",
      "This is not a hip hopper\n"
     ]
    }
   ],
   "source": [
    "for mbid_artist in mbids[:10]:\n",
    "    url5= f\"http://ws.audioscrobbler.com/2.0/?method=artist.getinfo&api_key=90a91775a7d201e230fa5e21b75e6508&format=json&mbid={mbid_artist}\"\n",
    "    response = requests.get(url5, allow_redirects=True)\n",
    "    data = response.json()\n",
    "    print(data['artist']['name'])\n",
    "    tags= data['artist']['tags']['tag']\n",
    "    rap= 'NO'\n",
    "    hip_hop= 'NO'\n",
    "    for tag in tags:\n",
    "        if tag['name'] == 'rap':\n",
    "            rap = 'YES'\n",
    "        if tag['name'] == 'Hip-Hop':\n",
    "            hip_hop == 'YES'\n",
    "    if rap == 'YES':\n",
    "        print(\"Hey this is a rapper\")\n",
    "    else:\n",
    "        print(\"This is not a rapper\")\n",
    "    if hip_hop == 'YES':\n",
    "        print(\"Hey this is a hip hopper\")\n",
    "    else:\n",
    "        print(\"This is not a hip hopper\")\n",
    "    "
   ]
  },
  {
   "cell_type": "markdown",
   "metadata": {},
   "source": [
    "Your results might look something like\n",
    "\n",
    "```ARTIST: Lily Allen\n",
    "NO hip hop\n",
    "ARTIST: Lil B\n",
    "YES hip hop\n",
    "ARTIST: Lilly Wood & The Prick\n",
    "NO hip hop\n",
    "ARTIST: Lil Ugly Mane\n",
    "YES hip hop\n",
    "ARTIST: Lil Jon\n",
    "YES hip hop\n",
    "ARTIST: Lil' Kim\n",
    "YES hip hop\n",
    "ARTIST: Lil Jon & The East Side Boyz\n",
    "YES hip hop\n",
    "```"
   ]
  },
  {
   "cell_type": "markdown",
   "metadata": {
    "collapsed": true
   },
   "source": [
    "## 13) What percent of \"lil\" results are rappers?"
   ]
  },
  {
   "cell_type": "code",
   "execution_count": 60,
   "metadata": {},
   "outputs": [
    {
     "name": "stdout",
     "output_type": "stream",
     "text": [
      "50.0\n"
     ]
    }
   ],
   "source": [
    "rap = []\n",
    "for mbid_artist in mbids:\n",
    "    url5= f\"http://ws.audioscrobbler.com/2.0/?method=artist.getinfo&api_key=90a91775a7d201e230fa5e21b75e6508&format=json&mbid={mbid_artist}\"\n",
    "    response = requests.get(url5, allow_redirects=True)\n",
    "    data = response.json()\n",
    "    #print(data['artist']['name'])\n",
    "    tags = data['artist']['tags']['tag']\n",
    "    count = 0\n",
    "    for tag in tags:\n",
    "        if (tag['name']) == 'rap':\n",
    "            count = count + 1\n",
    "    if count > 0:\n",
    "        rap.append(data['artist']['name'])\n",
    "rappers = len(rap)\n",
    "total = len(mbids)\n",
    "percentage = (rappers/total) *100\n",
    "print(percentage)"
   ]
  },
  {
   "cell_type": "markdown",
   "metadata": {},
   "source": []
  },
  {
   "cell_type": "markdown",
   "metadata": {},
   "source": [
    "## 14) Seriously you are all-powerful now."
   ]
  },
  {
   "cell_type": "markdown",
   "metadata": {},
   "source": []
  }
 ],
 "metadata": {
  "kernelspec": {
   "display_name": "Python 3",
   "language": "python",
   "name": "python3"
  },
  "language_info": {
   "codemirror_mode": {
    "name": "ipython",
    "version": 3
   },
   "file_extension": ".py",
   "mimetype": "text/x-python",
   "name": "python",
   "nbconvert_exporter": "python",
   "pygments_lexer": "ipython3",
   "version": "3.8.2"
  }
 },
 "nbformat": 4,
 "nbformat_minor": 1
}
