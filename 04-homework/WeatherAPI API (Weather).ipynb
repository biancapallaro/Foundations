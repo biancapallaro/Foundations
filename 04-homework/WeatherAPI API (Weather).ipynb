{
 "cells": [
  {
   "cell_type": "markdown",
   "metadata": {},
   "source": [
    "# WeatherAPI (Weather)\n",
    "\n",
    "Answer the following questions using [WeatherAPI](http://www.weatherapi.com/). I've added three cells for most questions but you're free to use more or less! Hold `Shift` and hit `Enter` to run a cell, and use the `+` on the top left to add a new cell to a notebook.\n",
    "\n",
    "Be sure to take advantage of both the documentation and the API Explorer!\n",
    "\n",
    "## 0) Import any libraries you might need\n",
    "\n",
    "- *Tip: We're going to be downloading things from the internet, so we probably need `requests`.*\n",
    "- *Tip: Remember you only need to import requests once!*"
   ]
  },
  {
   "cell_type": "code",
   "execution_count": 1,
   "metadata": {},
   "outputs": [],
   "source": [
    "import requests"
   ]
  },
  {
   "cell_type": "code",
   "execution_count": null,
   "metadata": {},
   "outputs": [],
   "source": []
  },
  {
   "cell_type": "markdown",
   "metadata": {
    "collapsed": true
   },
   "source": [
    "## 1) Make a request to the Weather API for where you were born (or lived, or want to visit!).\n",
    "\n",
    "- *Tip: The URL we used in class was for a place near San Francisco. What was the format of the endpoint that made this happen?*\n",
    "- *Tip: Save the URL as a separate variable, and be sure to not have `[` and `]` inside.*\n",
    "- *Tip: How is north vs. south and east vs. west latitude/longitude represented? Is it the normal North/South/East/West?*\n",
    "- *Tip: You know it's JSON, but Python doesn't! Make sure you aren't trying to deal with plain text.* \n",
    "- *Tip: Once you've imported the JSON into a variable, check the timezone's name to make sure it seems like it got the right part of the world!*"
   ]
  },
  {
   "cell_type": "code",
   "execution_count": 2,
   "metadata": {},
   "outputs": [],
   "source": [
    "url= \"http://api.weatherapi.com/v1/current.json?key=2579d590d93542729e0192337200311&q=Buenos Aires\"\n",
    "response = requests.get(url, allow_redirects=True)\n",
    "data = response.json()"
   ]
  },
  {
   "cell_type": "code",
   "execution_count": 5,
   "metadata": {},
   "outputs": [
    {
     "data": {
      "text/plain": [
       "dict_keys(['location', 'current'])"
      ]
     },
     "execution_count": 5,
     "metadata": {},
     "output_type": "execute_result"
    }
   ],
   "source": [
    "(data.keys())"
   ]
  },
  {
   "cell_type": "code",
   "execution_count": 6,
   "metadata": {},
   "outputs": [
    {
     "data": {
      "text/plain": [
       "'Buenos Aires'"
      ]
     },
     "execution_count": 6,
     "metadata": {},
     "output_type": "execute_result"
    }
   ],
   "source": [
    "data['location']['name']"
   ]
  },
  {
   "cell_type": "markdown",
   "metadata": {},
   "source": [
    "## 2) What's the current wind speed? How much warmer does it feel than it actually is?\n",
    "\n",
    "- *Tip: You can do this by browsing through the dictionaries, but it might be easier to read the documentation*\n",
    "- *Tip: For the second half: it **is** one temperature, and it **feels** a different temperature. Calculate the difference.*"
   ]
  },
  {
   "cell_type": "code",
   "execution_count": 10,
   "metadata": {},
   "outputs": [
    {
     "data": {
      "text/plain": [
       "11.9"
      ]
     },
     "execution_count": 10,
     "metadata": {},
     "output_type": "execute_result"
    }
   ],
   "source": [
    "data['current']['wind_mph']"
   ]
  },
  {
   "cell_type": "code",
   "execution_count": 11,
   "metadata": {},
   "outputs": [],
   "source": [
    "temperature = data['current']['temp_c']\n",
    "feels = data['current']['feelslike_c']"
   ]
  },
  {
   "cell_type": "code",
   "execution_count": 14,
   "metadata": {},
   "outputs": [
    {
     "data": {
      "text/plain": [
       "(24.3, 24.0)"
      ]
     },
     "execution_count": 14,
     "metadata": {},
     "output_type": "execute_result"
    }
   ],
   "source": [
    "feels, temperature"
   ]
  },
  {
   "cell_type": "code",
   "execution_count": 16,
   "metadata": {},
   "outputs": [
    {
     "data": {
      "text/plain": [
       "0.3"
      ]
     },
     "execution_count": 16,
     "metadata": {},
     "output_type": "execute_result"
    }
   ],
   "source": [
    "round(feels-temperature,1)"
   ]
  },
  {
   "cell_type": "markdown",
   "metadata": {},
   "source": [
    "## 3) What is the API endpoint for moon-related information? For the place you decided on above, how much of the moon will be visible on next Thursday?\n",
    "\n",
    "- *Tip: Check the documentation!*\n",
    "- *Tip: If you aren't sure what something means, ask in Slack*"
   ]
  },
  {
   "cell_type": "code",
   "execution_count": 37,
   "metadata": {},
   "outputs": [],
   "source": [
    "url1= \"http://api.weatherapi.com/v1/astronomy.json?key=2579d590d93542729e0192337200311&q=Buenos Aires&dt=2020-11-12\"\n",
    "response = requests.get(url1, allow_redirects=True)\n",
    "data = response.json()"
   ]
  },
  {
   "cell_type": "code",
   "execution_count": 38,
   "metadata": {},
   "outputs": [
    {
     "data": {
      "text/plain": [
       "dict_keys(['location', 'astronomy'])"
      ]
     },
     "execution_count": 38,
     "metadata": {},
     "output_type": "execute_result"
    }
   ],
   "source": [
    "data.keys()"
   ]
  },
  {
   "cell_type": "code",
   "execution_count": 39,
   "metadata": {},
   "outputs": [
    {
     "data": {
      "text/plain": [
       "{'astro': {'sunrise': '05:43 AM',\n",
       "  'sunset': '07:35 PM',\n",
       "  'moonrise': '04:12 AM',\n",
       "  'moonset': '04:41 PM',\n",
       "  'moon_phase': 'Waning Crescent',\n",
       "  'moon_illumination': '6'}}"
      ]
     },
     "execution_count": 39,
     "metadata": {},
     "output_type": "execute_result"
    }
   ],
   "source": [
    "data['astronomy']"
   ]
  },
  {
   "cell_type": "code",
   "execution_count": 41,
   "metadata": {},
   "outputs": [
    {
     "data": {
      "text/plain": [
       "'6'"
      ]
     },
     "execution_count": 41,
     "metadata": {},
     "output_type": "execute_result"
    }
   ],
   "source": [
    "data['astronomy']['astro']['moon_illumination']"
   ]
  },
  {
   "cell_type": "markdown",
   "metadata": {},
   "source": [
    "## 4) What's the difference between the high and low temperatures for today?\n",
    "\n",
    "- *Tip: When you requested moon data, you probably overwrote your variables! If so, you'll need to make a new request.*"
   ]
  },
  {
   "cell_type": "code",
   "execution_count": 44,
   "metadata": {},
   "outputs": [],
   "source": [
    "url2= \"http://api.weatherapi.com/v1/forecast.json?key=2579d590d93542729e0192337200311&q=Buenos Aires&days=1\"\n",
    "response = requests.get(url2, allow_redirects=True)\n",
    "data = response.json()"
   ]
  },
  {
   "cell_type": "code",
   "execution_count": 54,
   "metadata": {},
   "outputs": [
    {
     "name": "stdout",
     "output_type": "stream",
     "text": [
      "26.8\n"
     ]
    }
   ],
   "source": [
    "forecast = data['forecast']['forecastday']\n",
    "for forecas in forecast:\n",
    "    max_temp = forecas['day']['maxtemp_c']\n",
    "print(max_temp)"
   ]
  },
  {
   "cell_type": "code",
   "execution_count": 55,
   "metadata": {},
   "outputs": [
    {
     "name": "stdout",
     "output_type": "stream",
     "text": [
      "14.5\n"
     ]
    }
   ],
   "source": [
    "forecast = data['forecast']['forecastday']\n",
    "for forecas in forecast:\n",
    "    min_temp = forecas['day']['mintemp_c']\n",
    "print(min_temp)"
   ]
  },
  {
   "cell_type": "code",
   "execution_count": 56,
   "metadata": {},
   "outputs": [
    {
     "data": {
      "text/plain": [
       "12.3"
      ]
     },
     "execution_count": 56,
     "metadata": {},
     "output_type": "execute_result"
    }
   ],
   "source": [
    "max_temp-min_temp"
   ]
  },
  {
   "cell_type": "markdown",
   "metadata": {
    "collapsed": true
   },
   "source": [
    "## 4.5) How can you avoid the \"oh no I don't have the data any more because I made another request\" problem in the future?\n",
    "\n",
    "What variable(s) do you have to rename, and what would you rename them?"
   ]
  },
  {
   "cell_type": "markdown",
   "metadata": {},
   "source": [
    "The name of the url variable. And rename the response. "
   ]
  },
  {
   "cell_type": "code",
   "execution_count": null,
   "metadata": {},
   "outputs": [],
   "source": []
  },
  {
   "cell_type": "markdown",
   "metadata": {},
   "source": [
    "## 5) Go through the daily forecasts, printing out the next week's worth of predictions.\n",
    "\n",
    "I'd like to know the **high temperature** for each day, and whether it's **hot, warm, or cold** (based on what temperatures you think are hot, warm or cold).\n",
    "\n",
    "- *Tip: You'll need to use an `if` statement to say whether it is hot, warm or cold.*"
   ]
  },
  {
   "cell_type": "code",
   "execution_count": 72,
   "metadata": {},
   "outputs": [],
   "source": [
    "url3 = \"http://api.weatherapi.com/v1/forecast.json?key=2579d590d93542729e0192337200311&q=Buenos Aires&days=7\"\n",
    "response = requests.get(url3, allow_redirects=True)\n",
    "data = response.json()"
   ]
  },
  {
   "cell_type": "code",
   "execution_count": 73,
   "metadata": {},
   "outputs": [],
   "source": [
    "forecast = data['forecast']['forecastday']"
   ]
  },
  {
   "cell_type": "code",
   "execution_count": 74,
   "metadata": {},
   "outputs": [
    {
     "name": "stdout",
     "output_type": "stream",
     "text": [
      "2020-11-05\n",
      "26.8\n",
      "Warm\n",
      "2020-11-06\n",
      "25.4\n",
      "Warm\n",
      "2020-11-07\n",
      "24.8\n",
      "Warm\n"
     ]
    }
   ],
   "source": [
    "for forecas in forecast:\n",
    "    print(forecas['date'])\n",
    "    print(forecas['day']['maxtemp_c'])\n",
    "    if forecas['day']['maxtemp_c'] < 10:\n",
    "        print('Cold')\n",
    "    elif forecas['day']['maxtemp_c'] > 31:\n",
    "        print('Hot')\n",
    "    else:\n",
    "        print('Warm')"
   ]
  },
  {
   "cell_type": "markdown",
   "metadata": {},
   "source": [
    "# 6) What will be the hottest day in the next week? What is the high temperature on that day?"
   ]
  },
  {
   "cell_type": "code",
   "execution_count": 77,
   "metadata": {},
   "outputs": [],
   "source": [
    "highest_temp = 0 \n",
    "highest_temp_date = ''"
   ]
  },
  {
   "cell_type": "code",
   "execution_count": 78,
   "metadata": {},
   "outputs": [
    {
     "name": "stdout",
     "output_type": "stream",
     "text": [
      "The day with the highest max temperature 26.8 is 2020-11-05\n"
     ]
    }
   ],
   "source": [
    "for forecas in forecast:\n",
    "    if forecas['day']['maxtemp_c'] > highest_temp:\n",
    "        highest_temp = forecas['day']['maxtemp_c']\n",
    "        highest_temp_date = forecas['date']\n",
    "\n",
    "print(\"The day with the highest max temperature\", highest_temp, \"is\", highest_temp_date)"
   ]
  },
  {
   "cell_type": "code",
   "execution_count": null,
   "metadata": {
    "collapsed": true
   },
   "outputs": [],
   "source": []
  },
  {
   "cell_type": "markdown",
   "metadata": {},
   "source": [
    "## 7) What's the weather looking like for the next 24+ hours in Miami, Florida?\n",
    "\n",
    "I'd like to know the temperature for every hour, and if it's going to have cloud cover of more than 50% say \"{temperature} and cloudy\" instead of just the temperature. \n",
    "\n",
    "- *Tip: You'll only need one day of forecast*"
   ]
  },
  {
   "cell_type": "code",
   "execution_count": 80,
   "metadata": {},
   "outputs": [],
   "source": [
    "url4 = \"http://api.weatherapi.com/v1/forecast.json?key=2579d590d93542729e0192337200311&q=Miami&days=1\"\n",
    "response = requests.get(url4, allow_redirects=True)\n",
    "data = response.json()"
   ]
  },
  {
   "cell_type": "code",
   "execution_count": 84,
   "metadata": {},
   "outputs": [
    {
     "name": "stdout",
     "output_type": "stream",
     "text": [
      "[{'date': '2020-11-05', 'date_epoch': 1604534400, 'day': {'maxtemp_c': 26.7, 'maxtemp_f': 80.1, 'mintemp_c': 25.8, 'mintemp_f': 78.4, 'avgtemp_c': 26.2, 'avgtemp_f': 79.2, 'maxwind_mph': 25.5, 'maxwind_kph': 41.0, 'totalprecip_mm': 16.4, 'totalprecip_in': 0.65, 'avgvis_km': 8.9, 'avgvis_miles': 5.0, 'avghumidity': 77.0, 'daily_will_it_rain': 1, 'daily_chance_of_rain': '99', 'daily_will_it_snow': 0, 'daily_chance_of_snow': '0', 'condition': {'text': 'Moderate rain', 'icon': '//cdn.weatherapi.com/weather/64x64/day/302.png', 'code': 1189}, 'uv': 6.0}, 'astro': {'sunrise': '06:32 AM', 'sunset': '05:36 PM', 'moonrise': '09:32 PM', 'moonset': '10:51 AM', 'moon_phase': 'Last Quarter', 'moon_illumination': '62'}, 'hour': [{'time_epoch': 1604552400, 'time': '2020-11-05 00:00', 'temp_c': 23.0, 'temp_f': 73.4, 'is_day': 0, 'condition': {'text': 'Overcast', 'icon': '//cdn.weatherapi.com/weather/64x64/night/122.png', 'code': 1009}, 'wind_mph': 26.2, 'wind_kph': 42.1, 'wind_degree': 69, 'wind_dir': 'ENE', 'pressure_mb': 1020.0, 'pressure_in': 30.6, 'precip_mm': 0.1, 'precip_in': 0.0, 'humidity': 76, 'cloud': 94, 'feelslike_c': 26.5, 'feelslike_f': 79.7, 'windchill_c': 23.0, 'windchill_f': 73.4, 'heatindex_c': 26.5, 'heatindex_f': 79.7, 'dewpoint_c': 21.4, 'dewpoint_f': 70.5, 'will_it_rain': 0, 'chance_of_rain': '53', 'will_it_snow': 0, 'chance_of_snow': '0', 'vis_km': 10.0, 'vis_miles': 6.0, 'gust_mph': 34.7, 'gust_kph': 55.8}, {'time_epoch': 1604556000, 'time': '2020-11-05 01:00', 'temp_c': 24.5, 'temp_f': 76.1, 'is_day': 0, 'condition': {'text': 'Patchy rain possible', 'icon': '//cdn.weatherapi.com/weather/64x64/night/176.png', 'code': 1063}, 'wind_mph': 25.7, 'wind_kph': 41.4, 'wind_degree': 70, 'wind_dir': 'ENE', 'pressure_mb': 1019.0, 'pressure_in': 30.6, 'precip_mm': 0.0, 'precip_in': 0.0, 'humidity': 77, 'cloud': 92, 'feelslike_c': 27.4, 'feelslike_f': 81.3, 'windchill_c': 24.5, 'windchill_f': 76.1, 'heatindex_c': 27.4, 'heatindex_f': 81.3, 'dewpoint_c': 21.6, 'dewpoint_f': 70.9, 'will_it_rain': 0, 'chance_of_rain': '27', 'will_it_snow': 0, 'chance_of_snow': '0', 'vis_km': 10.0, 'vis_miles': 6.0, 'gust_mph': 34.4, 'gust_kph': 55.4}, {'time_epoch': 1604559600, 'time': '2020-11-05 02:00', 'temp_c': 26.0, 'temp_f': 78.8, 'is_day': 0, 'condition': {'text': 'Overcast', 'icon': '//cdn.weatherapi.com/weather/64x64/night/122.png', 'code': 1009}, 'wind_mph': 25.5, 'wind_kph': 41.0, 'wind_degree': 70, 'wind_dir': 'ENE', 'pressure_mb': 1019.0, 'pressure_in': 30.6, 'precip_mm': 0.0, 'precip_in': 0.0, 'humidity': 78, 'cloud': 90, 'feelslike_c': 28.4, 'feelslike_f': 83.1, 'windchill_c': 26.0, 'windchill_f': 78.8, 'heatindex_c': 28.4, 'heatindex_f': 83.1, 'dewpoint_c': 21.8, 'dewpoint_f': 71.2, 'will_it_rain': 0, 'chance_of_rain': '0', 'will_it_snow': 0, 'chance_of_snow': '0', 'vis_km': 10.0, 'vis_miles': 6.0, 'gust_mph': 34.2, 'gust_kph': 55.1}, {'time_epoch': 1604563200, 'time': '2020-11-05 03:00', 'temp_c': 25.9, 'temp_f': 78.6, 'is_day': 0, 'condition': {'text': 'Light rain shower', 'icon': '//cdn.weatherapi.com/weather/64x64/night/353.png', 'code': 1240}, 'wind_mph': 25.1, 'wind_kph': 40.3, 'wind_degree': 72, 'wind_dir': 'ENE', 'pressure_mb': 1018.0, 'pressure_in': 30.5, 'precip_mm': 0.5, 'precip_in': 0.02, 'humidity': 78, 'cloud': 91, 'feelslike_c': 28.3, 'feelslike_f': 82.9, 'windchill_c': 25.9, 'windchill_f': 78.6, 'heatindex_c': 28.3, 'heatindex_f': 82.9, 'dewpoint_c': 21.8, 'dewpoint_f': 71.2, 'will_it_rain': 0, 'chance_of_rain': '33', 'will_it_snow': 0, 'chance_of_snow': '0', 'vis_km': 10.0, 'vis_miles': 6.0, 'gust_mph': 34.2, 'gust_kph': 55.1}, {'time_epoch': 1604566800, 'time': '2020-11-05 04:00', 'temp_c': 25.9, 'temp_f': 78.6, 'is_day': 0, 'condition': {'text': 'Overcast', 'icon': '//cdn.weatherapi.com/weather/64x64/night/122.png', 'code': 1009}, 'wind_mph': 24.6, 'wind_kph': 39.6, 'wind_degree': 73, 'wind_dir': 'ENE', 'pressure_mb': 1018.0, 'pressure_in': 30.5, 'precip_mm': 1.0, 'precip_in': 0.04, 'humidity': 78, 'cloud': 92, 'feelslike_c': 28.2, 'feelslike_f': 82.8, 'windchill_c': 25.9, 'windchill_f': 78.6, 'heatindex_c': 28.2, 'heatindex_f': 82.8, 'dewpoint_c': 21.7, 'dewpoint_f': 71.1, 'will_it_rain': 0, 'chance_of_rain': '66', 'will_it_snow': 0, 'chance_of_snow': '0', 'vis_km': 10.0, 'vis_miles': 6.0, 'gust_mph': 34.0, 'gust_kph': 54.7}, {'time_epoch': 1604570400, 'time': '2020-11-05 05:00', 'temp_c': 25.8, 'temp_f': 78.4, 'is_day': 0, 'condition': {'text': 'Light rain shower', 'icon': '//cdn.weatherapi.com/weather/64x64/night/353.png', 'code': 1240}, 'wind_mph': 24.2, 'wind_kph': 38.9, 'wind_degree': 75, 'wind_dir': 'ENE', 'pressure_mb': 1018.0, 'pressure_in': 30.5, 'precip_mm': 1.5, 'precip_in': 0.06, 'humidity': 78, 'cloud': 93, 'feelslike_c': 28.1, 'feelslike_f': 82.6, 'windchill_c': 25.8, 'windchill_f': 78.4, 'heatindex_c': 28.1, 'heatindex_f': 82.6, 'dewpoint_c': 21.7, 'dewpoint_f': 71.1, 'will_it_rain': 1, 'chance_of_rain': '99', 'will_it_snow': 0, 'chance_of_snow': '0', 'vis_km': 10.0, 'vis_miles': 6.0, 'gust_mph': 34.0, 'gust_kph': 54.7}, {'time_epoch': 1604574000, 'time': '2020-11-05 06:00', 'temp_c': 25.9, 'temp_f': 78.6, 'is_day': 0, 'condition': {'text': 'Light rain shower', 'icon': '//cdn.weatherapi.com/weather/64x64/night/353.png', 'code': 1240}, 'wind_mph': 24.6, 'wind_kph': 39.6, 'wind_degree': 74, 'wind_dir': 'ENE', 'pressure_mb': 1018.0, 'pressure_in': 30.5, 'precip_mm': 1.3, 'precip_in': 0.05, 'humidity': 78, 'cloud': 92, 'feelslike_c': 28.2, 'feelslike_f': 82.8, 'windchill_c': 25.9, 'windchill_f': 78.6, 'heatindex_c': 28.2, 'heatindex_f': 82.8, 'dewpoint_c': 21.8, 'dewpoint_f': 71.2, 'will_it_rain': 1, 'chance_of_rain': '99', 'will_it_snow': 0, 'chance_of_snow': '0', 'vis_km': 10.0, 'vis_miles': 6.0, 'gust_mph': 34.2, 'gust_kph': 55.1}, {'time_epoch': 1604577600, 'time': '2020-11-05 07:00', 'temp_c': 25.9, 'temp_f': 78.6, 'is_day': 1, 'condition': {'text': 'Light rain shower', 'icon': '//cdn.weatherapi.com/weather/64x64/day/353.png', 'code': 1240}, 'wind_mph': 25.1, 'wind_kph': 40.3, 'wind_degree': 73, 'wind_dir': 'ENE', 'pressure_mb': 1018.0, 'pressure_in': 30.5, 'precip_mm': 1.1, 'precip_in': 0.04, 'humidity': 78, 'cloud': 92, 'feelslike_c': 28.3, 'feelslike_f': 82.9, 'windchill_c': 25.9, 'windchill_f': 78.6, 'heatindex_c': 28.3, 'heatindex_f': 82.9, 'dewpoint_c': 21.8, 'dewpoint_f': 71.2, 'will_it_rain': 1, 'chance_of_rain': '98', 'will_it_snow': 0, 'chance_of_snow': '0', 'vis_km': 10.0, 'vis_miles': 6.0, 'gust_mph': 34.2, 'gust_kph': 55.1}, {'time_epoch': 1604581200, 'time': '2020-11-05 08:00', 'temp_c': 26.0, 'temp_f': 78.8, 'is_day': 1, 'condition': {'text': 'Light rain shower', 'icon': '//cdn.weatherapi.com/weather/64x64/day/353.png', 'code': 1240}, 'wind_mph': 25.5, 'wind_kph': 41.0, 'wind_degree': 73, 'wind_dir': 'ENE', 'pressure_mb': 1018.0, 'pressure_in': 30.5, 'precip_mm': 0.9, 'precip_in': 0.04, 'humidity': 78, 'cloud': 91, 'feelslike_c': 28.4, 'feelslike_f': 83.1, 'windchill_c': 26.0, 'windchill_f': 78.8, 'heatindex_c': 28.4, 'heatindex_f': 83.1, 'dewpoint_c': 21.9, 'dewpoint_f': 71.4, 'will_it_rain': 1, 'chance_of_rain': '98', 'will_it_snow': 0, 'chance_of_snow': '0', 'vis_km': 10.0, 'vis_miles': 6.0, 'gust_mph': 34.4, 'gust_kph': 55.4}, {'time_epoch': 1604584800, 'time': '2020-11-05 09:00', 'temp_c': 26.1, 'temp_f': 79.0, 'is_day': 1, 'condition': {'text': 'Moderate or heavy rain shower', 'icon': '//cdn.weatherapi.com/weather/64x64/day/356.png', 'code': 1243}, 'wind_mph': 25.5, 'wind_kph': 41.0, 'wind_degree': 75, 'wind_dir': 'ENE', 'pressure_mb': 1018.0, 'pressure_in': 30.5, 'precip_mm': 1.8, 'precip_in': 0.07, 'humidity': 77, 'cloud': 89, 'feelslike_c': 28.5, 'feelslike_f': 83.3, 'windchill_c': 26.1, 'windchill_f': 79.0, 'heatindex_c': 28.5, 'heatindex_f': 83.3, 'dewpoint_c': 21.8, 'dewpoint_f': 71.2, 'will_it_rain': 1, 'chance_of_rain': '85', 'will_it_snow': 0, 'chance_of_snow': '0', 'vis_km': 9.0, 'vis_miles': 5.0, 'gust_mph': 37.6, 'gust_kph': 60.5}, {'time_epoch': 1604588400, 'time': '2020-11-05 10:00', 'temp_c': 26.2, 'temp_f': 79.2, 'is_day': 1, 'condition': {'text': 'Light rain shower', 'icon': '//cdn.weatherapi.com/weather/64x64/day/353.png', 'code': 1240}, 'wind_mph': 25.5, 'wind_kph': 41.0, 'wind_degree': 77, 'wind_dir': 'ENE', 'pressure_mb': 1019.0, 'pressure_in': 30.6, 'precip_mm': 2.8, 'precip_in': 0.11, 'humidity': 76, 'cloud': 86, 'feelslike_c': 28.5, 'feelslike_f': 83.3, 'windchill_c': 26.2, 'windchill_f': 79.2, 'heatindex_c': 28.5, 'heatindex_f': 83.3, 'dewpoint_c': 21.7, 'dewpoint_f': 71.1, 'will_it_rain': 1, 'chance_of_rain': '72', 'will_it_snow': 0, 'chance_of_snow': '0', 'vis_km': 8.0, 'vis_miles': 4.0, 'gust_mph': 40.7, 'gust_kph': 65.5}, {'time_epoch': 1604592000, 'time': '2020-11-05 11:00', 'temp_c': 26.3, 'temp_f': 79.3, 'is_day': 1, 'condition': {'text': 'Moderate or heavy rain shower', 'icon': '//cdn.weatherapi.com/weather/64x64/day/356.png', 'code': 1243}, 'wind_mph': 25.5, 'wind_kph': 41.0, 'wind_degree': 79, 'wind_dir': 'E', 'pressure_mb': 1019.0, 'pressure_in': 30.6, 'precip_mm': 3.7, 'precip_in': 0.15, 'humidity': 76, 'cloud': 84, 'feelslike_c': 28.6, 'feelslike_f': 83.5, 'windchill_c': 26.3, 'windchill_f': 79.3, 'heatindex_c': 28.6, 'heatindex_f': 83.5, 'dewpoint_c': 21.6, 'dewpoint_f': 70.9, 'will_it_rain': 0, 'chance_of_rain': '58', 'will_it_snow': 0, 'chance_of_snow': '0', 'vis_km': 7.0, 'vis_miles': 4.0, 'gust_mph': 43.8, 'gust_kph': 70.6}, {'time_epoch': 1604595600, 'time': '2020-11-05 12:00', 'temp_c': 26.4, 'temp_f': 79.5, 'is_day': 1, 'condition': {'text': 'Light rain shower', 'icon': '//cdn.weatherapi.com/weather/64x64/day/353.png', 'code': 1240}, 'wind_mph': 25.1, 'wind_kph': 40.3, 'wind_degree': 77, 'wind_dir': 'ENE', 'pressure_mb': 1018.0, 'pressure_in': 30.5, 'precip_mm': 2.9, 'precip_in': 0.11, 'humidity': 75, 'cloud': 82, 'feelslike_c': 28.8, 'feelslike_f': 83.8, 'windchill_c': 26.4, 'windchill_f': 79.5, 'heatindex_c': 28.8, 'heatindex_f': 83.8, 'dewpoint_c': 21.6, 'dewpoint_f': 70.9, 'will_it_rain': 0, 'chance_of_rain': '65', 'will_it_snow': 0, 'chance_of_snow': '0', 'vis_km': 8.0, 'vis_miles': 4.0, 'gust_mph': 40.3, 'gust_kph': 64.8}, {'time_epoch': 1604599200, 'time': '2020-11-05 13:00', 'temp_c': 26.6, 'temp_f': 79.9, 'is_day': 1, 'condition': {'text': 'Moderate or heavy rain shower', 'icon': '//cdn.weatherapi.com/weather/64x64/day/356.png', 'code': 1243}, 'wind_mph': 24.8, 'wind_kph': 40.0, 'wind_degree': 74, 'wind_dir': 'ENE', 'pressure_mb': 1017.0, 'pressure_in': 30.5, 'precip_mm': 2.1, 'precip_in': 0.08, 'humidity': 74, 'cloud': 81, 'feelslike_c': 28.9, 'feelslike_f': 84.0, 'windchill_c': 26.6, 'windchill_f': 79.9, 'heatindex_c': 28.9, 'heatindex_f': 84.0, 'dewpoint_c': 21.6, 'dewpoint_f': 70.9, 'will_it_rain': 1, 'chance_of_rain': '72', 'will_it_snow': 0, 'chance_of_snow': '0', 'vis_km': 9.0, 'vis_miles': 5.0, 'gust_mph': 36.9, 'gust_kph': 59.4}, {'time_epoch': 1604602800, 'time': '2020-11-05 14:00', 'temp_c': 26.7, 'temp_f': 80.1, 'is_day': 1, 'condition': {'text': 'Light rain shower', 'icon': '//cdn.weatherapi.com/weather/64x64/day/353.png', 'code': 1240}, 'wind_mph': 24.4, 'wind_kph': 39.2, 'wind_degree': 72, 'wind_dir': 'ENE', 'pressure_mb': 1017.0, 'pressure_in': 30.5, 'precip_mm': 1.3, 'precip_in': 0.05, 'humidity': 74, 'cloud': 80, 'feelslike_c': 29.1, 'feelslike_f': 84.4, 'windchill_c': 26.7, 'windchill_f': 80.1, 'heatindex_c': 29.1, 'heatindex_f': 84.4, 'dewpoint_c': 21.6, 'dewpoint_f': 70.9, 'will_it_rain': 1, 'chance_of_rain': '79', 'will_it_snow': 0, 'chance_of_snow': '0', 'vis_km': 10.0, 'vis_miles': 6.0, 'gust_mph': 33.3, 'gust_kph': 53.6}, {'time_epoch': 1604606400, 'time': '2020-11-05 15:00', 'temp_c': 26.7, 'temp_f': 80.1, 'is_day': 1, 'condition': {'text': 'Moderate or heavy rain shower', 'icon': '//cdn.weatherapi.com/weather/64x64/day/356.png', 'code': 1243}, 'wind_mph': 24.4, 'wind_kph': 39.2, 'wind_degree': 73, 'wind_dir': 'ENE', 'pressure_mb': 1016.0, 'pressure_in': 30.5, 'precip_mm': 1.9, 'precip_in': 0.07, 'humidity': 74, 'cloud': 83, 'feelslike_c': 29.1, 'feelslike_f': 84.4, 'windchill_c': 26.7, 'windchill_f': 80.1, 'heatindex_c': 29.1, 'heatindex_f': 84.4, 'dewpoint_c': 21.7, 'dewpoint_f': 71.1, 'will_it_rain': 1, 'chance_of_rain': '83', 'will_it_snow': 0, 'chance_of_snow': '0', 'vis_km': 9.0, 'vis_miles': 5.0, 'gust_mph': 35.6, 'gust_kph': 57.2}, {'time_epoch': 1604610000, 'time': '2020-11-05 16:00', 'temp_c': 26.7, 'temp_f': 80.1, 'is_day': 1, 'condition': {'text': 'Light rain shower', 'icon': '//cdn.weatherapi.com/weather/64x64/day/353.png', 'code': 1240}, 'wind_mph': 24.6, 'wind_kph': 39.6, 'wind_degree': 74, 'wind_dir': 'ENE', 'pressure_mb': 1016.0, 'pressure_in': 30.5, 'precip_mm': 2.4, 'precip_in': 0.09, 'humidity': 74, 'cloud': 85, 'feelslike_c': 29.2, 'feelslike_f': 84.6, 'windchill_c': 26.7, 'windchill_f': 80.1, 'heatindex_c': 29.2, 'heatindex_f': 84.6, 'dewpoint_c': 21.7, 'dewpoint_f': 71.1, 'will_it_rain': 1, 'chance_of_rain': '86', 'will_it_snow': 0, 'chance_of_snow': '0', 'vis_km': 8.0, 'vis_miles': 4.0, 'gust_mph': 37.8, 'gust_kph': 60.8}, {'time_epoch': 1604613600, 'time': '2020-11-05 17:00', 'temp_c': 26.7, 'temp_f': 80.1, 'is_day': 1, 'condition': {'text': 'Moderate or heavy rain shower', 'icon': '//cdn.weatherapi.com/weather/64x64/day/356.png', 'code': 1243}, 'wind_mph': 24.6, 'wind_kph': 39.6, 'wind_degree': 75, 'wind_dir': 'ENE', 'pressure_mb': 1016.0, 'pressure_in': 30.5, 'precip_mm': 3.0, 'precip_in': 0.12, 'humidity': 75, 'cloud': 88, 'feelslike_c': 29.2, 'feelslike_f': 84.6, 'windchill_c': 26.7, 'windchill_f': 80.1, 'heatindex_c': 29.2, 'heatindex_f': 84.6, 'dewpoint_c': 21.8, 'dewpoint_f': 71.2, 'will_it_rain': 1, 'chance_of_rain': '90', 'will_it_snow': 0, 'chance_of_snow': '0', 'vis_km': 7.0, 'vis_miles': 4.0, 'gust_mph': 40.0, 'gust_kph': 64.4}, {'time_epoch': 1604617200, 'time': '2020-11-05 18:00', 'temp_c': 26.6, 'temp_f': 79.9, 'is_day': 0, 'condition': {'text': 'Light rain shower', 'icon': '//cdn.weatherapi.com/weather/64x64/night/353.png', 'code': 1240}, 'wind_mph': 24.8, 'wind_kph': 40.0, 'wind_degree': 75, 'wind_dir': 'ENE', 'pressure_mb': 1016.0, 'pressure_in': 30.5, 'precip_mm': 2.1, 'precip_in': 0.08, 'humidity': 76, 'cloud': 85, 'feelslike_c': 29.1, 'feelslike_f': 84.4, 'windchill_c': 26.6, 'windchill_f': 79.9, 'heatindex_c': 29.1, 'heatindex_f': 84.4, 'dewpoint_c': 21.9, 'dewpoint_f': 71.4, 'will_it_rain': 1, 'chance_of_rain': '88', 'will_it_snow': 0, 'chance_of_snow': '0', 'vis_km': 8.0, 'vis_miles': 4.0, 'gust_mph': 37.6, 'gust_kph': 60.5}, {'time_epoch': 1604620800, 'time': '2020-11-05 19:00', 'temp_c': 26.5, 'temp_f': 79.7, 'is_day': 0, 'condition': {'text': 'Moderate or heavy rain shower', 'icon': '//cdn.weatherapi.com/weather/64x64/night/356.png', 'code': 1243}, 'wind_mph': 24.8, 'wind_kph': 40.0, 'wind_degree': 75, 'wind_dir': 'ENE', 'pressure_mb': 1016.0, 'pressure_in': 30.5, 'precip_mm': 1.3, 'precip_in': 0.05, 'humidity': 77, 'cloud': 82, 'feelslike_c': 29.1, 'feelslike_f': 84.4, 'windchill_c': 26.5, 'windchill_f': 79.7, 'heatindex_c': 29.1, 'heatindex_f': 84.4, 'dewpoint_c': 22.0, 'dewpoint_f': 71.6, 'will_it_rain': 1, 'chance_of_rain': '86', 'will_it_snow': 0, 'chance_of_snow': '0', 'vis_km': 9.0, 'vis_miles': 5.0, 'gust_mph': 35.1, 'gust_kph': 56.5}, {'time_epoch': 1604624400, 'time': '2020-11-05 20:00', 'temp_c': 26.4, 'temp_f': 79.5, 'is_day': 0, 'condition': {'text': 'Light rain shower', 'icon': '//cdn.weatherapi.com/weather/64x64/night/353.png', 'code': 1240}, 'wind_mph': 25.1, 'wind_kph': 40.3, 'wind_degree': 75, 'wind_dir': 'ENE', 'pressure_mb': 1016.0, 'pressure_in': 30.5, 'precip_mm': 0.4, 'precip_in': 0.02, 'humidity': 78, 'cloud': 80, 'feelslike_c': 29.0, 'feelslike_f': 84.2, 'windchill_c': 26.4, 'windchill_f': 79.5, 'heatindex_c': 29.0, 'heatindex_f': 84.2, 'dewpoint_c': 22.1, 'dewpoint_f': 71.8, 'will_it_rain': 1, 'chance_of_rain': '84', 'will_it_snow': 0, 'chance_of_snow': '0', 'vis_km': 10.0, 'vis_miles': 6.0, 'gust_mph': 32.7, 'gust_kph': 52.6}, {'time_epoch': 1604628000, 'time': '2020-11-05 21:00', 'temp_c': 26.2, 'temp_f': 79.2, 'is_day': 0, 'condition': {'text': 'Moderate or heavy rain shower', 'icon': '//cdn.weatherapi.com/weather/64x64/night/356.png', 'code': 1243}, 'wind_mph': 24.6, 'wind_kph': 39.6, 'wind_degree': 77, 'wind_dir': 'ENE', 'pressure_mb': 1016.0, 'pressure_in': 30.5, 'precip_mm': 2.1, 'precip_in': 0.08, 'humidity': 78, 'cloud': 78, 'feelslike_c': 28.8, 'feelslike_f': 83.8, 'windchill_c': 26.2, 'windchill_f': 79.2, 'heatindex_c': 28.8, 'heatindex_f': 83.8, 'dewpoint_c': 22.0, 'dewpoint_f': 71.6, 'will_it_rain': 1, 'chance_of_rain': '80', 'will_it_snow': 0, 'chance_of_snow': '0', 'vis_km': 9.0, 'vis_miles': 5.0, 'gust_mph': 36.9, 'gust_kph': 59.4}, {'time_epoch': 1604631600, 'time': '2020-11-05 22:00', 'temp_c': 26.1, 'temp_f': 79.0, 'is_day': 0, 'condition': {'text': 'Light rain shower', 'icon': '//cdn.weatherapi.com/weather/64x64/night/353.png', 'code': 1240}, 'wind_mph': 24.4, 'wind_kph': 39.2, 'wind_degree': 79, 'wind_dir': 'E', 'pressure_mb': 1016.0, 'pressure_in': 30.5, 'precip_mm': 3.9, 'precip_in': 0.15, 'humidity': 78, 'cloud': 76, 'feelslike_c': 28.5, 'feelslike_f': 83.3, 'windchill_c': 26.1, 'windchill_f': 79.0, 'heatindex_c': 28.5, 'heatindex_f': 83.3, 'dewpoint_c': 22.0, 'dewpoint_f': 71.6, 'will_it_rain': 1, 'chance_of_rain': '76', 'will_it_snow': 0, 'chance_of_snow': '0', 'vis_km': 8.0, 'vis_miles': 4.0, 'gust_mph': 41.4, 'gust_kph': 66.6}, {'time_epoch': 1604635200, 'time': '2020-11-05 23:00', 'temp_c': 25.9, 'temp_f': 78.6, 'is_day': 0, 'condition': {'text': 'Moderate or heavy rain shower', 'icon': '//cdn.weatherapi.com/weather/64x64/night/356.png', 'code': 1243}, 'wind_mph': 23.9, 'wind_kph': 38.5, 'wind_degree': 81, 'wind_dir': 'E', 'pressure_mb': 1016.0, 'pressure_in': 30.5, 'precip_mm': 5.6, 'precip_in': 0.22, 'humidity': 79, 'cloud': 74, 'feelslike_c': 28.3, 'feelslike_f': 82.9, 'windchill_c': 25.9, 'windchill_f': 78.6, 'heatindex_c': 28.3, 'heatindex_f': 82.9, 'dewpoint_c': 21.9, 'dewpoint_f': 71.4, 'will_it_rain': 1, 'chance_of_rain': '72', 'will_it_snow': 0, 'chance_of_snow': '0', 'vis_km': 7.0, 'vis_miles': 4.0, 'gust_mph': 45.6, 'gust_kph': 73.4}]}]\n"
     ]
    }
   ],
   "source": [
    "forecast = data['forecast']['forecastday']\n",
    "print(forecast)"
   ]
  },
  {
   "cell_type": "code",
   "execution_count": 93,
   "metadata": {},
   "outputs": [
    {
     "name": "stdout",
     "output_type": "stream",
     "text": [
      "At 2020-11-05 00:00 its going to be 18.0 degrees\n",
      "At 2020-11-05 01:00 its going to be 17.3 degrees\n",
      "At 2020-11-05 02:00 its going to be 16.6 degrees\n",
      "At 2020-11-05 03:00 its going to be 15.9 degrees\n",
      "At 2020-11-05 04:00 its going to be 15.4 degrees\n",
      "At 2020-11-05 05:00 its going to be 15.0 degrees\n",
      "At 2020-11-05 06:00 its going to be 14.5 degrees\n",
      "At 2020-11-05 07:00 its going to be 15.7 degrees\n",
      "At 2020-11-05 08:00 its going to be 16.8 degrees\n",
      "At 2020-11-05 09:00 its going to be 18.0 degrees\n",
      "At 2020-11-05 10:00 its going to be 19.7 degrees\n",
      "At 2020-11-05 11:00 its going to be 21.5 degrees and cloudy\n",
      "At 2020-11-05 12:00 its going to be 23.2 degrees and cloudy\n",
      "At 2020-11-05 13:00 its going to be 24.4 degrees and cloudy\n",
      "At 2020-11-05 14:00 its going to be 25.6 degrees\n",
      "At 2020-11-05 15:00 its going to be 26.8 degrees\n",
      "At 2020-11-05 16:00 its going to be 26.2 degrees\n",
      "At 2020-11-05 17:00 its going to be 25.5 degrees\n",
      "At 2020-11-05 18:00 its going to be 24.9 degrees\n",
      "At 2020-11-05 19:00 its going to be 24.2 degrees\n",
      "At 2020-11-05 20:00 its going to be 23.6 degrees\n",
      "At 2020-11-05 21:00 its going to be 22.9 degrees\n",
      "At 2020-11-05 22:00 its going to be 22.4 degrees\n",
      "At 2020-11-05 23:00 its going to be 22.0 degrees\n",
      "At 2020-11-06 00:00 its going to be 21.5 degrees\n",
      "At 2020-11-06 01:00 its going to be 21.4 degrees\n",
      "At 2020-11-06 02:00 its going to be 21.3 degrees\n",
      "At 2020-11-06 03:00 its going to be 21.2 degrees\n",
      "At 2020-11-06 04:00 its going to be 19.8 degrees\n",
      "At 2020-11-06 05:00 its going to be 18.5 degrees\n",
      "At 2020-11-06 06:00 its going to be 17.1 degrees\n",
      "At 2020-11-06 07:00 its going to be 18.2 degrees\n",
      "At 2020-11-06 08:00 its going to be 19.3 degrees\n",
      "At 2020-11-06 09:00 its going to be 20.4 degrees\n",
      "At 2020-11-06 10:00 its going to be 21.4 degrees\n",
      "At 2020-11-06 11:00 its going to be 22.4 degrees\n",
      "At 2020-11-06 12:00 its going to be 23.4 degrees\n",
      "At 2020-11-06 13:00 its going to be 24.1 degrees\n",
      "At 2020-11-06 14:00 its going to be 24.7 degrees\n",
      "At 2020-11-06 15:00 its going to be 25.4 degrees\n",
      "At 2020-11-06 16:00 its going to be 24.9 degrees\n",
      "At 2020-11-06 17:00 its going to be 24.3 degrees\n",
      "At 2020-11-06 18:00 its going to be 23.8 degrees\n",
      "At 2020-11-06 19:00 its going to be 22.8 degrees\n",
      "At 2020-11-06 20:00 its going to be 21.7 degrees\n",
      "At 2020-11-06 21:00 its going to be 20.7 degrees and cloudy\n",
      "At 2020-11-06 22:00 its going to be 20.3 degrees and cloudy\n",
      "At 2020-11-06 23:00 its going to be 19.9 degrees and cloudy\n",
      "At 2020-11-07 00:00 its going to be 19.5 degrees and cloudy\n",
      "At 2020-11-07 01:00 its going to be 19.5 degrees and cloudy\n",
      "At 2020-11-07 02:00 its going to be 19.6 degrees and cloudy\n",
      "At 2020-11-07 03:00 its going to be 19.6 degrees and cloudy\n",
      "At 2020-11-07 04:00 its going to be 18.9 degrees and cloudy\n",
      "At 2020-11-07 05:00 its going to be 18.2 degrees and cloudy\n",
      "At 2020-11-07 06:00 its going to be 17.5 degrees and cloudy\n",
      "At 2020-11-07 07:00 its going to be 18.0 degrees and cloudy\n",
      "At 2020-11-07 08:00 its going to be 18.4 degrees and cloudy\n",
      "At 2020-11-07 09:00 its going to be 18.9 degrees and cloudy\n",
      "At 2020-11-07 10:00 its going to be 20.7 degrees and cloudy\n",
      "At 2020-11-07 11:00 its going to be 22.5 degrees\n",
      "At 2020-11-07 12:00 its going to be 24.3 degrees\n",
      "At 2020-11-07 13:00 its going to be 24.5 degrees\n",
      "At 2020-11-07 14:00 its going to be 24.6 degrees\n",
      "At 2020-11-07 15:00 its going to be 24.8 degrees and cloudy\n",
      "At 2020-11-07 16:00 its going to be 24.0 degrees\n",
      "At 2020-11-07 17:00 its going to be 23.2 degrees\n",
      "At 2020-11-07 18:00 its going to be 22.4 degrees\n",
      "At 2020-11-07 19:00 its going to be 21.4 degrees\n",
      "At 2020-11-07 20:00 its going to be 20.3 degrees\n",
      "At 2020-11-07 21:00 its going to be 19.3 degrees\n",
      "At 2020-11-07 22:00 its going to be 19.2 degrees\n",
      "At 2020-11-07 23:00 its going to be 19.0 degrees\n"
     ]
    }
   ],
   "source": [
    "for forecas in forecast:\n",
    "    hour = forecas['hour']\n",
    "    for time in hour:\n",
    "        times = time['time']\n",
    "        temperature = time['temp_c']\n",
    "        if time['cloud'] > 50:\n",
    "            print(f\"At {times} its going to be {temperature} degrees and cloudy\")\n",
    "        else:\n",
    "            print(f\"At {times} its going to be {temperature} degrees\")\n",
    "    "
   ]
  },
  {
   "cell_type": "markdown",
   "metadata": {},
   "source": [
    "# 8) For the next 24-ish hours in Miami, what percent of the time is the temperature above 85 degrees?\n",
    "\n",
    "- *Tip: You might want to read up on [looping patterns](http://jonathansoma.com/lede/foundations-2017/classes/data%20structures/looping-patterns/)*"
   ]
  },
  {
   "cell_type": "code",
   "execution_count": 99,
   "metadata": {},
   "outputs": [
    {
     "name": "stdout",
     "output_type": "stream",
     "text": [
      "0.0\n"
     ]
    }
   ],
   "source": [
    "counter = 0\n",
    "for forecas in forecast:\n",
    "    hour = forecas['hour']\n",
    "    for time in hour:\n",
    "        if time['temp_c'] > 30:\n",
    "            counter = time['temp_c'] + 1\n",
    "print(counter*100/24)"
   ]
  },
  {
   "cell_type": "markdown",
   "metadata": {
    "collapsed": true
   },
   "source": [
    "I don't know farenheits, I just converted 85 to degrees. No temperature for those 24 hours is bigger that 30 degrees. "
   ]
  },
  {
   "cell_type": "code",
   "execution_count": null,
   "metadata": {
    "collapsed": true
   },
   "outputs": [],
   "source": []
  },
  {
   "cell_type": "markdown",
   "metadata": {},
   "source": [
    "## 9) What was the temperature in Central Park on Christmas Day, 2015? How about 2012? 2007? How far back does the API allow you to go?\n",
    "\n",
    "- *Tip: You'll need to use latitude/longitude. You can ask Google, it knows*\n",
    "- *Tip: Remember when latitude/longitude might use negative numbers*"
   ]
  },
  {
   "cell_type": "markdown",
   "metadata": {
    "collapsed": true
   },
   "source": [
    "Free plan - Weather History (Last 7 days only)"
   ]
  },
  {
   "cell_type": "code",
   "execution_count": null,
   "metadata": {
    "collapsed": true
   },
   "outputs": [],
   "source": []
  },
  {
   "cell_type": "code",
   "execution_count": null,
   "metadata": {
    "collapsed": true
   },
   "outputs": [],
   "source": []
  }
 ],
 "metadata": {
  "kernelspec": {
   "display_name": "Python 3",
   "language": "python",
   "name": "python3"
  },
  "language_info": {
   "codemirror_mode": {
    "name": "ipython",
    "version": 3
   },
   "file_extension": ".py",
   "mimetype": "text/x-python",
   "name": "python",
   "nbconvert_exporter": "python",
   "pygments_lexer": "ipython3",
   "version": "3.8.2"
  }
 },
 "nbformat": 4,
 "nbformat_minor": 1
}
