{
 "cells": [
  {
   "cell_type": "markdown",
   "metadata": {},
   "source": [
    "# Last FM API (Music)\n",
    "\n",
    "Spotify's API is dead to us, so we're using Last.fm's - it's still music, just not as nice of an API.\n",
    "\n",
    "1. Create an account at https://www.last.fm/api/\n",
    "2. Create an \"application\" to get a key: https://www.last.fm/api/account/create\n",
    "    - It isn't a real application, it's just your project\n",
    "    - Name/description doesn't matter, ignore callback key and callback url\n",
    "3. And save the API key that shows up on the next screen\n",
    "\n",
    "You can find documentation at https://www.last.fm/api/\n",
    "\n",
    "The domain for the API is `http://ws.audioscrobbler.com`, so all of your endpoints will be connected to that. To test your API key, check the following URL in your browser: `http://ws.audioscrobbler.com/2.0/?method=artist.search&artist=cher&api_key=XXXXXXXXXXXXXXXXXXXX&format=json` (change the `XXXXXX` to be your API key, of course!).\n",
    "\n",
    "> Last.fm used to be called **AudioScrobbler**, which is why its URLs don't have \"last.fm\" in them.\n",
    "> While we're asking about URLs, notice that the API endpoints have a lot of `?` and `&` in them - these are key/value pairs, kind of like dictionaries, but for URLs instead of Python."
   ]
  },
  {
   "cell_type": "markdown",
   "metadata": {},
   "source": [
    "# FIRST: SETUP"
   ]
  },
  {
   "cell_type": "markdown",
   "metadata": {},
   "source": [
    "## 1) Import the libraries/packages you might need\n",
    "\n",
    "We need a library to read in the data for us! We don't like `urllib2`, so it must be something cooler and better."
   ]
  },
  {
   "cell_type": "code",
   "execution_count": 1,
   "metadata": {},
   "outputs": [],
   "source": [
    "import requests"
   ]
  },
  {
   "cell_type": "markdown",
   "metadata": {},
   "source": [
    "## 2) Save your API key\n",
    "\n",
    "Write your API key here so you don't forget it - it's the \"api key\" one, not the \"shared secret\" one"
   ]
  },
  {
   "cell_type": "markdown",
   "metadata": {},
   "source": [
    "API key\t90a91775a7d201e230fa5e21b75e6508"
   ]
  },
  {
   "cell_type": "markdown",
   "metadata": {},
   "source": [
    "## 3) The death of an API\n",
    "\n",
    "I used to have some code here that allowed you to display images, but _the images don't work any more._ Let this be an important lesson: when you depend on external services, they can die at any time."
   ]
  },
  {
   "cell_type": "code",
   "execution_count": null,
   "metadata": {},
   "outputs": [],
   "source": []
  },
  {
   "cell_type": "markdown",
   "metadata": {},
   "source": [
    "# NOW: YOUR ASSIGNMENT"
   ]
  },
  {
   "cell_type": "markdown",
   "metadata": {},
   "source": [
    "## 1) Search for and print a list of 50 musicians with `lil` in their name, along with the number of listeners they have\n",
    "\n",
    "There are a lot of musicians with \"Lil\" in their name - it used to be all Lil Wayne and Lil Kim, but we live in a new world now!\n",
    "\n",
    "- *Tip: Remember, the domain for the API is `http://ws.audioscrobbler.com`*\n",
    "- *Tip: Make sure you ask the API for 50 musicians! This involves adding another parameter to the URL - notice they all have a `&` before them. [Read the documentation](http://www.last.fm/api/show/artist.search) to find the parameter's name.* \n",
    "- *Tip: When you are looking at any piece of data - is it a dictionary? Look at the keys! Is it a list? Look at the first element!*\n",
    "- *Tip: LOOK AT THE KEYS. and then the other keys and the other keys and the other keys. It's an ugly series of dictionaries!*"
   ]
  },
  {
   "cell_type": "code",
   "execution_count": 2,
   "metadata": {},
   "outputs": [],
   "source": [
    "url= \"http://ws.audioscrobbler.com/2.0/?method=artist.search&artist=lil&api_key=90a91775a7d201e230fa5e21b75e6508&limit=50&format=json\"\n",
    "response = requests.get(url, allow_redirects=True)\n",
    "data = response.json()"
   ]
  },
  {
   "cell_type": "code",
   "execution_count": 3,
   "metadata": {},
   "outputs": [
    {
     "name": "stdout",
     "output_type": "stream",
     "text": [
      "Lil' Wayne has 3373107 listeners\n",
      "LIL UZI VERT has 533287 listeners\n",
      "Lily Allen has 2296210 listeners\n",
      "LIL PEEP has 402522 listeners\n",
      "Lil Baby has 287663 listeners\n",
      "Lil Nas X has 516734 listeners\n",
      "Lil Yachty has 297834 listeners\n",
      "lil skies has 199160 listeners\n",
      "Lil Tecca has 226015 listeners\n",
      "Lil B has 245352 listeners\n",
      "lil Mosey has 241583 listeners\n",
      "LIL PUMP has 283949 listeners\n",
      "Lil Ugly Mane has 102667 listeners\n",
      "Lil Wayne has 190292 listeners\n",
      "Lilly Wood & The Prick has 431040 listeners\n",
      "lil tjay has 100689 listeners\n",
      "Lil Durk has 142575 listeners\n",
      "Lil Dicky has 276851 listeners\n",
      "Lil' Kim has 505243 listeners\n",
      "Lil Xan has 155677 listeners\n",
      "Lil Keed has 87017 listeners\n",
      "LIL TRACY has 65809 listeners\n",
      "Lil Jon has 627401 listeners\n",
      "Lil Jon & The East Side Boyz has 525421 listeners\n",
      "Lil Darkie has 38456 listeners\n",
      "Lila Downs has 175267 listeners\n",
      "Lil Boosie has 420576 listeners\n",
      "Lil' Kleine has 68800 listeners\n",
      "The Tiger Lillies has 116209 listeners\n",
      "Lil Wyte has 264646 listeners\n",
      "Fenne Lily has 153969 listeners\n",
      "Lil' Flip has 342343 listeners\n",
      "Lily James has 67454 listeners\n",
      "Birdman & Lil' Wayne has 586981 listeners\n",
      "Spangle call Lilli line has 46116 listeners\n",
      "Lily & Madeleine has 136573 listeners\n",
      "LIL BO WEEP has 41195 listeners\n",
      "Lil Aaron has 47614 listeners\n",
      "Mashrou' Leila has 37854 listeners\n",
      "Lilac has 90141 listeners\n",
      "The Lillingtons has 47327 listeners\n",
      "Lil Gotit has 30380 listeners\n",
      "Lillasyster has 54012 listeners\n",
      "Lilys has 68605 listeners\n",
      "Lilu has 36536 listeners\n",
      "lil happy lil sad has 28213 listeners\n",
      "Lily Chou-Chou has 35546 listeners\n",
      "Lil Mama has 171494 listeners\n",
      "Lil Loaded has 27005 listeners\n",
      "Lil' Scrappy has 257524 listeners\n"
     ]
    }
   ],
   "source": [
    "artists = data['results']['artistmatches']['artist']\n",
    "for artist in artists:\n",
    "    name = artist['name']\n",
    "    listener= artist['listeners']\n",
    "    print(name, \"has\", listener, \"listeners\")\n",
    "    \n"
   ]
  },
  {
   "cell_type": "code",
   "execution_count": null,
   "metadata": {},
   "outputs": [],
   "source": []
  },
  {
   "cell_type": "code",
   "execution_count": null,
   "metadata": {},
   "outputs": [],
   "source": []
  },
  {
   "cell_type": "markdown",
   "metadata": {},
   "source": [
    "Your results should begin something like this:\n",
    "    \n",
    "```\n",
    "Lil' Wayne has 3086628 listeners\n",
    "Lily Allen has 2074266 listeners\n",
    "Lil B has 194116 listeners\n",
    "Lilly Wood & The Prick has 359886 listeners\n",
    "Lil Ugly Mane has 31955 listeners\n",
    "LIL UZI VERT has 88517 listeners\n",
    "```"
   ]
  },
  {
   "cell_type": "markdown",
   "metadata": {},
   "source": [
    "## 2) How many listeners does your list have in total?\n",
    "\n",
    "The answer should be roughly **15,000,000**. If it's lower, make sure you have 50 artists instead of 30 artists.\n",
    "\n",
    "- *Tip: What's the data type of the `listeners` count? It's going to cause a problem!*\n",
    "- *Tip: If you were crazy you could use sum and a list comprehension. But you really don't have to!*"
   ]
  },
  {
   "cell_type": "code",
   "execution_count": 4,
   "metadata": {},
   "outputs": [
    {
     "name": "stdout",
     "output_type": "stream",
     "text": [
      "15504934\n"
     ]
    }
   ],
   "source": [
    "total = 0\n",
    "artists = data['results']['artistmatches']['artist']\n",
    "for artist in artists:\n",
    "    listener= artist['listeners']\n",
    "    listener = int(listener)\n",
    "    total= listener + total\n",
    "print(total)"
   ]
  },
  {
   "cell_type": "markdown",
   "metadata": {},
   "source": [
    "## 3) Show each artist's name and the URL to the extra-large image\n",
    "\n",
    "The images don't work any more, but we'll print their URLs out anyway."
   ]
  },
  {
   "cell_type": "markdown",
   "metadata": {},
   "source": [
    "Each artist **has a list of images of different sizes**. We're interested in the second-to-last one, where `size` is `extralarge`. Print their name and use `display_image` to display their extra-large image.\n",
    "\n",
    "- *Tip: The URL should look like this: `https://lastfm-img2.akamaized.net/i/u/300x300/0fc7d7a1812dc79e9925d80382cde594.png`*\n",
    "- *Tip: You can always assume it's the second to the last, or assume it's `extralarge`, or whatever you want to do to find it.*\n",
    "- *Tip: Make sure the URL is correct before you try to display it.*\n",
    "\n",
    "Your output should look something like\n",
    "\n",
    "```\n",
    "Lil' Wayne\n",
    "https://lastfm.freetls.fastly.net/i/u/300x300/2a96cbd8b46e442fc41c2b86b821562f.png\n",
    "---\n",
    "LIL UZI VERT\n",
    "https://lastfm.freetls.fastly.net/i/u/300x300/2a96cbd8b46e442fc41c2b86b821562f.png\n",
    "---\n",
    "Lily Allen\n",
    "https://lastfm.freetls.fastly.net/i/u/300x300/2a96cbd8b46e442fc41c2b86b821562f.png\n",
    "---\n",
    "```\n",
    "\n",
    "(but with more people, obviously)"
   ]
  },
  {
   "cell_type": "code",
   "execution_count": 5,
   "metadata": {},
   "outputs": [
    {
     "name": "stdout",
     "output_type": "stream",
     "text": [
      "The artist Lil' Wayne image is https://lastfm.freetls.fastly.net/i/u/300x300/2a96cbd8b46e442fc41c2b86b821562f.png\n",
      "The artist LIL UZI VERT image is https://lastfm.freetls.fastly.net/i/u/300x300/2a96cbd8b46e442fc41c2b86b821562f.png\n",
      "The artist Lily Allen image is https://lastfm.freetls.fastly.net/i/u/300x300/2a96cbd8b46e442fc41c2b86b821562f.png\n",
      "The artist LIL PEEP image is https://lastfm.freetls.fastly.net/i/u/300x300/2a96cbd8b46e442fc41c2b86b821562f.png\n",
      "The artist Lil Baby image is https://lastfm.freetls.fastly.net/i/u/300x300/2a96cbd8b46e442fc41c2b86b821562f.png\n",
      "The artist Lil Nas X image is https://lastfm.freetls.fastly.net/i/u/300x300/2a96cbd8b46e442fc41c2b86b821562f.png\n",
      "The artist Lil Yachty image is https://lastfm.freetls.fastly.net/i/u/300x300/2a96cbd8b46e442fc41c2b86b821562f.png\n",
      "The artist lil skies image is https://lastfm.freetls.fastly.net/i/u/300x300/2a96cbd8b46e442fc41c2b86b821562f.png\n",
      "The artist Lil Tecca image is https://lastfm.freetls.fastly.net/i/u/300x300/2a96cbd8b46e442fc41c2b86b821562f.png\n",
      "The artist Lil B image is https://lastfm.freetls.fastly.net/i/u/300x300/2a96cbd8b46e442fc41c2b86b821562f.png\n",
      "The artist lil Mosey image is https://lastfm.freetls.fastly.net/i/u/300x300/2a96cbd8b46e442fc41c2b86b821562f.png\n",
      "The artist LIL PUMP image is https://lastfm.freetls.fastly.net/i/u/300x300/2a96cbd8b46e442fc41c2b86b821562f.png\n",
      "The artist Lil Ugly Mane image is https://lastfm.freetls.fastly.net/i/u/300x300/2a96cbd8b46e442fc41c2b86b821562f.png\n",
      "The artist Lil Wayne image is https://lastfm.freetls.fastly.net/i/u/300x300/2a96cbd8b46e442fc41c2b86b821562f.png\n",
      "The artist Lilly Wood & The Prick image is https://lastfm.freetls.fastly.net/i/u/300x300/2a96cbd8b46e442fc41c2b86b821562f.png\n",
      "The artist lil tjay image is https://lastfm.freetls.fastly.net/i/u/300x300/2a96cbd8b46e442fc41c2b86b821562f.png\n",
      "The artist Lil Durk image is https://lastfm.freetls.fastly.net/i/u/300x300/2a96cbd8b46e442fc41c2b86b821562f.png\n",
      "The artist Lil Dicky image is https://lastfm.freetls.fastly.net/i/u/300x300/2a96cbd8b46e442fc41c2b86b821562f.png\n",
      "The artist Lil' Kim image is https://lastfm.freetls.fastly.net/i/u/300x300/2a96cbd8b46e442fc41c2b86b821562f.png\n",
      "The artist Lil Xan image is https://lastfm.freetls.fastly.net/i/u/300x300/2a96cbd8b46e442fc41c2b86b821562f.png\n",
      "The artist Lil Keed image is https://lastfm.freetls.fastly.net/i/u/300x300/2a96cbd8b46e442fc41c2b86b821562f.png\n",
      "The artist LIL TRACY image is https://lastfm.freetls.fastly.net/i/u/300x300/2a96cbd8b46e442fc41c2b86b821562f.png\n",
      "The artist Lil Jon image is https://lastfm.freetls.fastly.net/i/u/300x300/2a96cbd8b46e442fc41c2b86b821562f.png\n",
      "The artist Lil Jon & The East Side Boyz image is https://lastfm.freetls.fastly.net/i/u/300x300/2a96cbd8b46e442fc41c2b86b821562f.png\n",
      "The artist Lil Darkie image is https://lastfm.freetls.fastly.net/i/u/300x300/2a96cbd8b46e442fc41c2b86b821562f.png\n",
      "The artist Lila Downs image is https://lastfm.freetls.fastly.net/i/u/300x300/2a96cbd8b46e442fc41c2b86b821562f.png\n",
      "The artist Lil Boosie image is https://lastfm.freetls.fastly.net/i/u/300x300/2a96cbd8b46e442fc41c2b86b821562f.png\n",
      "The artist Lil' Kleine image is https://lastfm.freetls.fastly.net/i/u/300x300/2a96cbd8b46e442fc41c2b86b821562f.png\n",
      "The artist The Tiger Lillies image is https://lastfm.freetls.fastly.net/i/u/300x300/2a96cbd8b46e442fc41c2b86b821562f.png\n",
      "The artist Lil Wyte image is https://lastfm.freetls.fastly.net/i/u/300x300/2a96cbd8b46e442fc41c2b86b821562f.png\n",
      "The artist Fenne Lily image is https://lastfm.freetls.fastly.net/i/u/300x300/2a96cbd8b46e442fc41c2b86b821562f.png\n",
      "The artist Lil' Flip image is https://lastfm.freetls.fastly.net/i/u/300x300/2a96cbd8b46e442fc41c2b86b821562f.png\n",
      "The artist Lily James image is https://lastfm.freetls.fastly.net/i/u/300x300/2a96cbd8b46e442fc41c2b86b821562f.png\n",
      "The artist Birdman & Lil' Wayne image is https://lastfm.freetls.fastly.net/i/u/300x300/2a96cbd8b46e442fc41c2b86b821562f.png\n",
      "The artist Spangle call Lilli line image is https://lastfm.freetls.fastly.net/i/u/300x300/2a96cbd8b46e442fc41c2b86b821562f.png\n",
      "The artist Lily & Madeleine image is https://lastfm.freetls.fastly.net/i/u/300x300/2a96cbd8b46e442fc41c2b86b821562f.png\n",
      "The artist LIL BO WEEP image is https://lastfm.freetls.fastly.net/i/u/300x300/2a96cbd8b46e442fc41c2b86b821562f.png\n",
      "The artist Lil Aaron image is https://lastfm.freetls.fastly.net/i/u/300x300/2a96cbd8b46e442fc41c2b86b821562f.png\n",
      "The artist Mashrou' Leila image is https://lastfm.freetls.fastly.net/i/u/300x300/2a96cbd8b46e442fc41c2b86b821562f.png\n",
      "The artist Lilac image is https://lastfm.freetls.fastly.net/i/u/300x300/2a96cbd8b46e442fc41c2b86b821562f.png\n",
      "The artist The Lillingtons image is https://lastfm.freetls.fastly.net/i/u/300x300/2a96cbd8b46e442fc41c2b86b821562f.png\n",
      "The artist Lil Gotit image is https://lastfm.freetls.fastly.net/i/u/300x300/2a96cbd8b46e442fc41c2b86b821562f.png\n",
      "The artist Lillasyster image is https://lastfm.freetls.fastly.net/i/u/300x300/2a96cbd8b46e442fc41c2b86b821562f.png\n",
      "The artist Lilys image is https://lastfm.freetls.fastly.net/i/u/300x300/2a96cbd8b46e442fc41c2b86b821562f.png\n",
      "The artist Lilu image is https://lastfm.freetls.fastly.net/i/u/300x300/2a96cbd8b46e442fc41c2b86b821562f.png\n",
      "The artist lil happy lil sad image is https://lastfm.freetls.fastly.net/i/u/300x300/2a96cbd8b46e442fc41c2b86b821562f.png\n",
      "The artist Lily Chou-Chou image is https://lastfm.freetls.fastly.net/i/u/300x300/2a96cbd8b46e442fc41c2b86b821562f.png\n",
      "The artist Lil Mama image is https://lastfm.freetls.fastly.net/i/u/300x300/2a96cbd8b46e442fc41c2b86b821562f.png\n",
      "The artist Lil Loaded image is https://lastfm.freetls.fastly.net/i/u/300x300/2a96cbd8b46e442fc41c2b86b821562f.png\n",
      "The artist Lil' Scrappy image is https://lastfm.freetls.fastly.net/i/u/300x300/2a96cbd8b46e442fc41c2b86b821562f.png\n"
     ]
    }
   ],
   "source": [
    "artists = data['results']['artistmatches']['artist']\n",
    "for artist in artists:\n",
    "    name = artist['name']\n",
    "    image = artist['image'][-2]['#text']\n",
    "    print(\"The artist\", name, \"image is\", image)\n",
    "    "
   ]
  },
  {
   "cell_type": "markdown",
   "metadata": {},
   "source": [
    "## 4) Find Lil Jon's `mbid` (or anyone else's!).\n",
    "\n",
    "Oftentimes in an API, you can do a few things: you can **search** for items, and you can **see more information** about items. To find more information about the item, you need to use their **unique id**. In this dataset, it's called an `mbid` (MusicBrainz, I think - another company associated with last.fm!).\n",
    "\n",
    "Go through the artists and print their **name and mbid**. Find Lil Jon's `mbid`. I *wanted* Lil Uzi Vert's, but for some reason it isn't there. Then I wanted us to look at Lily Allen's, but I just couldn't bring myself to do that. If you'd rather do someone else, go for it."
   ]
  },
  {
   "cell_type": "code",
   "execution_count": 6,
   "metadata": {},
   "outputs": [
    {
     "name": "stdout",
     "output_type": "stream",
     "text": [
      "The artist Lil' Wayne mbid is \n",
      "The artist LIL UZI VERT mbid is \n",
      "The artist Lily Allen mbid is 6e0c7c0e-cba5-4c2c-a652-38f71ef5785d\n",
      "The artist LIL PEEP mbid is \n",
      "The artist Lil Baby mbid is \n",
      "The artist Lil Nas X mbid is \n",
      "The artist Lil Yachty mbid is \n",
      "The artist lil skies mbid is \n",
      "The artist Lil Tecca mbid is \n",
      "The artist Lil B mbid is 1550f952-c91b-40d7-9b4d-d26a259ee932\n",
      "The artist lil Mosey mbid is \n",
      "The artist LIL PUMP mbid is \n",
      "The artist Lil Ugly Mane mbid is 5f1adfe1-4d07-4141-b181-79e5d379d539\n",
      "The artist Lil Wayne mbid is ac9a487a-d9d2-4f27-bb23-0f4686488345\n",
      "The artist Lilly Wood & The Prick mbid is 1b72331b-3a97-4981-a81c-eeee9c275d28\n",
      "The artist lil tjay mbid is \n",
      "The artist Lil Durk mbid is c9cd225b-4883-428e-82c2-73e0b6282fb6\n",
      "The artist Lil Dicky mbid is 3268f062-6e76-480a-a384-e1dd2a276afb\n",
      "The artist Lil' Kim mbid is bc1b5c95-e6d6-46b5-957a-5e8908b02c1e\n",
      "The artist Lil Xan mbid is \n",
      "The artist Lil Keed mbid is \n",
      "The artist LIL TRACY mbid is \n",
      "The artist Lil Jon mbid is a95384b1-6aec-468c-ae0d-8c6daf87c4c2\n",
      "The artist Lil Jon & The East Side Boyz mbid is 243c6f61-d83b-4459-bebd-5899df0da111\n",
      "The artist Lil Darkie mbid is \n",
      "The artist Lila Downs mbid is ad29ae1c-2eda-4071-9dc8-31910e7e546c\n",
      "The artist Lil Boosie mbid is 8ba17cf6-bec2-4ae4-9820-b1cda47adc08\n",
      "The artist Lil' Kleine mbid is \n",
      "The artist The Tiger Lillies mbid is 3ad4f6ec-253f-4050-8849-ca26266edfb8\n",
      "The artist Lil Wyte mbid is 9b5ce0c1-1bc0-4ea2-a8d3-f5ee7af9eda8\n",
      "The artist Fenne Lily mbid is \n",
      "The artist Lil' Flip mbid is 981d39fc-bd00-4cc6-ac67-6410f8b89098\n",
      "The artist Lily James mbid is \n",
      "The artist Birdman & Lil' Wayne mbid is \n",
      "The artist Spangle call Lilli line mbid is bc21df5c-3d79-479b-b638-8ddb5ecea403\n",
      "The artist Lily & Madeleine mbid is b89f4c50-72f5-48ce-b08c-a643b191b24f\n",
      "The artist LIL BO WEEP mbid is \n",
      "The artist Lil Aaron mbid is \n",
      "The artist Mashrou' Leila mbid is a31becdf-7b33-4409-9eb1-3f74bd72997c\n",
      "The artist Lilac mbid is 1967c6ce-95a4-48f0-8ac7-abe637524aee\n",
      "The artist The Lillingtons mbid is 9803d120-716d-45ba-9eb7-9a120813f908\n",
      "The artist Lil Gotit mbid is \n",
      "The artist Lillasyster mbid is 9acaf734-b380-4c48-954c-a2cf1d7990a9\n",
      "The artist Lilys mbid is 50ad1cde-1536-4268-a55f-e47a7b8280ab\n",
      "The artist Lilu mbid is d4d5ae85-700c-4a55-8a39-7f923da07ef2\n",
      "The artist lil happy lil sad mbid is \n",
      "The artist Lily Chou-Chou mbid is 5652bb3e-f225-49de-9637-5aa1539b4a7c\n",
      "The artist Lil Mama mbid is 194e87c9-b3fe-4fbd-82a7-8c54b4dd4c76\n",
      "The artist Lil Loaded mbid is \n",
      "The artist Lil' Scrappy mbid is 77fafce8-a32f-4d42-bdce-266bbf913cee\n"
     ]
    }
   ],
   "source": [
    "for artist in artists:\n",
    "    name = artist['name']\n",
    "    mbid = artist['mbid']\n",
    "    print(\"The artist\", name, \"mbid is\", mbid)"
   ]
  },
  {
   "cell_type": "markdown",
   "metadata": {
    "collapsed": true
   },
   "source": [
    "## 5) Find the artist's name and bio using their `mbid`.\n",
    "\n",
    "It can either be Lil Jon or whoever you selected above.\n",
    "\n",
    "If you look at the [last.fm documentation](http://www.last.fm/api/show/artist.getInfo), you can see how to use the artist's `mbid` to find more information about them. Print **every tag associated with your artist**.\n",
    "\n",
    "- *Tip: It's a new request to the API*\n",
    "- *Tip: Use the `mbid`, and make sure you delete the `&name=Cher` from the sample endpoint*\n",
    "- *Tip: If you use `print` for the bio it looks a little nicer than it would otherwise*"
   ]
  },
  {
   "cell_type": "code",
   "execution_count": 7,
   "metadata": {},
   "outputs": [],
   "source": [
    "url2= \"http://ws.audioscrobbler.com//2.0/?method=artist.getinfo&mbid=a95384b1-6aec-468c-ae0d-8c6daf87c4c2&api_key=90a91775a7d201e230fa5e21b75e6508&format=json\"\n",
    "response = requests.get(url2, allow_redirects=True)\n",
    "data = response.json()"
   ]
  },
  {
   "cell_type": "code",
   "execution_count": 8,
   "metadata": {},
   "outputs": [
    {
     "name": "stdout",
     "output_type": "stream",
     "text": [
      "Lil Jon  Bio: Jonathan Mortimer Smith (born January 27, 1971 in Atlanta, Georgia), better known by his stage name Lil Jon, is an American rapper, actor, producer and member of the crunk group Lil Jon & The East Side Boyz. Lil Jon formed the group with friends Big Sam and Lil Bo, and they released five studio albums and have had many hit songs. He's prehaps best known for his iconic single \"Get Low\", which featured the Ying Yang Twins and reached #2 on the Billboard 100. He released his debut solo album, 'Crunk Rock', in June 2010. <a href=\"https://www.last.fm/music/Lil+Jon\">Read more on Last.fm</a>\n"
     ]
    }
   ],
   "source": [
    "name = data['artist']['name']\n",
    "bio = data['artist']['bio']['summary']\n",
    "print(name,\" Bio:\",bio )"
   ]
  },
  {
   "cell_type": "code",
   "execution_count": null,
   "metadata": {},
   "outputs": [],
   "source": []
  },
  {
   "cell_type": "code",
   "execution_count": null,
   "metadata": {},
   "outputs": [],
   "source": []
  },
  {
   "cell_type": "markdown",
   "metadata": {
    "collapsed": true
   },
   "source": [
    "## 6) Print every tag of that artist"
   ]
  },
  {
   "cell_type": "code",
   "execution_count": 9,
   "metadata": {},
   "outputs": [
    {
     "name": "stdout",
     "output_type": "stream",
     "text": [
      "Crunk\n",
      "Hip-Hop\n",
      "rap\n",
      "Dirty South\n",
      "hip hop\n"
     ]
    }
   ],
   "source": [
    "tags= data['artist']['tags']['tag']\n",
    "for tag in tags:\n",
    "    print(tag['name'])"
   ]
  },
  {
   "cell_type": "markdown",
   "metadata": {},
   "source": [
    "# GETTING A LITTLE CRAZY\n",
    "\n",
    "So you know your original list of musicians? I want to get tag data for ALL OF THEM. How are we going to do that?\n",
    "\n",
    "## 7) Find the mbids (again)\n",
    "\n",
    "If we have a musician with an mbid of `AAA-AAA-AAA`, we get their info from a url like `http://ws.audioscrobbler.com/blahblah/?api_key=12345&mbid=AAA-AAA-AAA`.\n",
    "\n",
    "|artist|url|\n",
    "|---|---|\n",
    "|`AAA-AAA-AAA`|`http://ws.audioscrobbler.com/blahblah/?api_key=12345&mbid=AAA-AAA-AAA`|\n",
    "|`BBB-BBB-BBB`|`http://ws.audioscrobbler.com/blahblah/?api_key=12345&mbid=BBB-BBB-BBB`|\n",
    "|`CCC-CCC-CCC`|`http://ws.audioscrobbler.com/blahblah/?api_key=12345&mbid=CCC-CCC-CCC`|\n",
    "\n",
    "I guess we should start trying to get a list of all of the mbids.\n",
    "\n",
    "**Loop through your artists, and print out the `mbid` for each artist**\n",
    "\n",
    "- *Tip: You probably need to request your artist search result data again, because you probably saved over `data` with your other API request. Maybe call it `artist_data` this time?*\n",
    "- *Tip: If the artist does NOT have an `mbid`, don't print it.*"
   ]
  },
  {
   "cell_type": "code",
   "execution_count": 10,
   "metadata": {},
   "outputs": [],
   "source": [
    "url= \"http://ws.audioscrobbler.com/2.0/?method=artist.search&artist=lil&api_key=90a91775a7d201e230fa5e21b75e6508&limit=50&format=json\"\n",
    "response = requests.get(url, allow_redirects=True)\n",
    "data = response.json()"
   ]
  },
  {
   "cell_type": "code",
   "execution_count": 11,
   "metadata": {},
   "outputs": [
    {
     "name": "stdout",
     "output_type": "stream",
     "text": [
      "6e0c7c0e-cba5-4c2c-a652-38f71ef5785d\n",
      "1550f952-c91b-40d7-9b4d-d26a259ee932\n",
      "5f1adfe1-4d07-4141-b181-79e5d379d539\n",
      "ac9a487a-d9d2-4f27-bb23-0f4686488345\n",
      "1b72331b-3a97-4981-a81c-eeee9c275d28\n",
      "c9cd225b-4883-428e-82c2-73e0b6282fb6\n",
      "3268f062-6e76-480a-a384-e1dd2a276afb\n",
      "bc1b5c95-e6d6-46b5-957a-5e8908b02c1e\n",
      "a95384b1-6aec-468c-ae0d-8c6daf87c4c2\n",
      "243c6f61-d83b-4459-bebd-5899df0da111\n",
      "ad29ae1c-2eda-4071-9dc8-31910e7e546c\n",
      "8ba17cf6-bec2-4ae4-9820-b1cda47adc08\n",
      "3ad4f6ec-253f-4050-8849-ca26266edfb8\n",
      "9b5ce0c1-1bc0-4ea2-a8d3-f5ee7af9eda8\n",
      "981d39fc-bd00-4cc6-ac67-6410f8b89098\n",
      "bc21df5c-3d79-479b-b638-8ddb5ecea403\n",
      "b89f4c50-72f5-48ce-b08c-a643b191b24f\n",
      "a31becdf-7b33-4409-9eb1-3f74bd72997c\n",
      "1967c6ce-95a4-48f0-8ac7-abe637524aee\n",
      "9803d120-716d-45ba-9eb7-9a120813f908\n",
      "9acaf734-b380-4c48-954c-a2cf1d7990a9\n",
      "50ad1cde-1536-4268-a55f-e47a7b8280ab\n",
      "d4d5ae85-700c-4a55-8a39-7f923da07ef2\n",
      "5652bb3e-f225-49de-9637-5aa1539b4a7c\n",
      "194e87c9-b3fe-4fbd-82a7-8c54b4dd4c76\n",
      "77fafce8-a32f-4d42-bdce-266bbf913cee\n"
     ]
    }
   ],
   "source": [
    "for artist in artists:\n",
    "    mbid = artist['mbid']\n",
    "    if len(mbid) != 0:\n",
    "        print(mbid)"
   ]
  },
  {
   "cell_type": "markdown",
   "metadata": {},
   "source": [
    "Your results should look something like\n",
    "\n",
    "```\n",
    "6e0c7c0e-cba5-4c2c-a652-38f71ef5785d\n",
    "1550f952-c91b-40d7-9b4d-d26a259ee932\n",
    "1b72331b-3a97-4981-a81c-eeee9c275d28\n",
    "5f1adfe1-4d07-4141-b181-79e5d379d539\n",
    "a95384b1-6aec-468c-ae0d-8c6daf87c4c2\n",
    "bc1b5c95-e6d6-46b5-957a-5e8908b02c1e\n",
    "243c6f61-d83b-4459-bebd-5899df0da111\n",
    "```"
   ]
  },
  {
   "cell_type": "markdown",
   "metadata": {},
   "source": [
    "## 8) Saving those mbids\n",
    "\n",
    "For those `mbid` values, instead of printing them out, save them to a new list of just mbid values. Call this list `mbids`.\n",
    "\n",
    "- *Tip: Use `.append` to add a single element onto a list*"
   ]
  },
  {
   "cell_type": "code",
   "execution_count": 12,
   "metadata": {},
   "outputs": [
    {
     "name": "stdout",
     "output_type": "stream",
     "text": [
      "['6e0c7c0e-cba5-4c2c-a652-38f71ef5785d', '1550f952-c91b-40d7-9b4d-d26a259ee932', '5f1adfe1-4d07-4141-b181-79e5d379d539', 'ac9a487a-d9d2-4f27-bb23-0f4686488345', '1b72331b-3a97-4981-a81c-eeee9c275d28', 'c9cd225b-4883-428e-82c2-73e0b6282fb6', '3268f062-6e76-480a-a384-e1dd2a276afb', 'bc1b5c95-e6d6-46b5-957a-5e8908b02c1e', 'a95384b1-6aec-468c-ae0d-8c6daf87c4c2', '243c6f61-d83b-4459-bebd-5899df0da111', 'ad29ae1c-2eda-4071-9dc8-31910e7e546c', '8ba17cf6-bec2-4ae4-9820-b1cda47adc08', '3ad4f6ec-253f-4050-8849-ca26266edfb8', '9b5ce0c1-1bc0-4ea2-a8d3-f5ee7af9eda8', '981d39fc-bd00-4cc6-ac67-6410f8b89098', 'bc21df5c-3d79-479b-b638-8ddb5ecea403', 'b89f4c50-72f5-48ce-b08c-a643b191b24f', 'a31becdf-7b33-4409-9eb1-3f74bd72997c', '1967c6ce-95a4-48f0-8ac7-abe637524aee', '9803d120-716d-45ba-9eb7-9a120813f908', '9acaf734-b380-4c48-954c-a2cf1d7990a9', '50ad1cde-1536-4268-a55f-e47a7b8280ab', 'd4d5ae85-700c-4a55-8a39-7f923da07ef2', '5652bb3e-f225-49de-9637-5aa1539b4a7c', '194e87c9-b3fe-4fbd-82a7-8c54b4dd4c76', '77fafce8-a32f-4d42-bdce-266bbf913cee']\n"
     ]
    }
   ],
   "source": [
    "mbids =[]\n",
    "for artist in artists:\n",
    "    mbid = artist['mbid']\n",
    "    if len(mbid) != 0:\n",
    "        mbids.append(mbid)\n",
    "print(mbids)\n",
    "        "
   ]
  },
  {
   "cell_type": "markdown",
   "metadata": {},
   "source": [
    "Your results should look something like\n",
    "\n",
    "```['6e0c7c0e-cba5-4c2c-a652-38f71ef5785d',\n",
    " '1550f952-c91b-40d7-9b4d-d26a259ee932',\n",
    " '1b72331b-3a97-4981-a81c-eeee9c275d28',\n",
    " '5f1adfe1-4d07-4141-b181-79e5d379d539',\n",
    " 'a95384b1-6aec-468c-ae0d-8c6daf87c4c2',\n",
    " 'bc1b5c95-e6d6-46b5-957a-5e8908b02c1e',\n",
    " '243c6f61-d83b-4459-bebd-5899df0da111',\n",
    " '8ba17cf6-bec2-4ae4-9820-b1cda47adc08',\n",
    " 'ad29ae1c-2eda-4071-9dc8-31910e7e546c',\n",
    " '3268f062-6e76-480a-a384-e1dd2a276afb',\n",
    " '3ad4f6ec-253f-4050-8849-ca26266edfb8',\n",
    " '9b5ce0c1-1bc0-4ea2-a8d3-f5ee7af9eda8',\n",
    " '981d39fc-bd00-4cc6-ac67-6410f8b89098',\n",
    " 'b89f4c50-72f5-48ce-b08c-a643b191b24f',\n",
    " 'bc21df5c-3d79-479b-b638-8ddb5ecea403',\n",
    " 'c9cd225b-4883-428e-82c2-73e0b6282fb6',\n",
    " '9acaf734-b380-4c48-954c-a2cf1d7990a9',\n",
    " 'd4d5ae85-700c-4a55-8a39-7f923da07ef2',\n",
    " '77fafce8-a32f-4d42-bdce-266bbf913cee',\n",
    " '50ad1cde-1536-4268-a55f-e47a7b8280ab',\n",
    " '9803d120-716d-45ba-9eb7-9a120813f908',\n",
    " 'b27560ea-2783-4a91-be45-9e8711917562',\n",
    " '194e87c9-b3fe-4fbd-82a7-8c54b4dd4c76',\n",
    " 'fd90af91-ed07-4e85-8816-26c954fe5286',\n",
    " '5652bb3e-f225-49de-9637-5aa1539b4a7c']```"
   ]
  },
  {
   "cell_type": "markdown",
   "metadata": {},
   "source": [
    "## 9) Printing our API urls\n",
    "\n",
    "To get tag data for each artist, you need to use those `mbid` values to access their artist page on the API. Loop through the mbids, displying the URL you'll need to access.\n",
    "\n",
    "- *Tip: You don't want to use a comma when printing, because commas add spaces into your text and URLs can't have that*\n",
    "- *Tip: Make sure your URL has `artist.getinfo` in it - if not, you're using the wrong endpoint.*"
   ]
  },
  {
   "cell_type": "code",
   "execution_count": 13,
   "metadata": {},
   "outputs": [
    {
     "name": "stdout",
     "output_type": "stream",
     "text": [
      "http://ws.audioscrobbler.com/2.0/?method=artist.getinfo&api_key=90a91775a7d201e230fa5e21b75e6508&format=json&mbid=6e0c7c0e-cba5-4c2c-a652-38f71ef5785d\n",
      "http://ws.audioscrobbler.com/2.0/?method=artist.getinfo&api_key=90a91775a7d201e230fa5e21b75e6508&format=json&mbid=1550f952-c91b-40d7-9b4d-d26a259ee932\n",
      "http://ws.audioscrobbler.com/2.0/?method=artist.getinfo&api_key=90a91775a7d201e230fa5e21b75e6508&format=json&mbid=5f1adfe1-4d07-4141-b181-79e5d379d539\n",
      "http://ws.audioscrobbler.com/2.0/?method=artist.getinfo&api_key=90a91775a7d201e230fa5e21b75e6508&format=json&mbid=ac9a487a-d9d2-4f27-bb23-0f4686488345\n",
      "http://ws.audioscrobbler.com/2.0/?method=artist.getinfo&api_key=90a91775a7d201e230fa5e21b75e6508&format=json&mbid=1b72331b-3a97-4981-a81c-eeee9c275d28\n",
      "http://ws.audioscrobbler.com/2.0/?method=artist.getinfo&api_key=90a91775a7d201e230fa5e21b75e6508&format=json&mbid=c9cd225b-4883-428e-82c2-73e0b6282fb6\n",
      "http://ws.audioscrobbler.com/2.0/?method=artist.getinfo&api_key=90a91775a7d201e230fa5e21b75e6508&format=json&mbid=3268f062-6e76-480a-a384-e1dd2a276afb\n",
      "http://ws.audioscrobbler.com/2.0/?method=artist.getinfo&api_key=90a91775a7d201e230fa5e21b75e6508&format=json&mbid=bc1b5c95-e6d6-46b5-957a-5e8908b02c1e\n",
      "http://ws.audioscrobbler.com/2.0/?method=artist.getinfo&api_key=90a91775a7d201e230fa5e21b75e6508&format=json&mbid=a95384b1-6aec-468c-ae0d-8c6daf87c4c2\n",
      "http://ws.audioscrobbler.com/2.0/?method=artist.getinfo&api_key=90a91775a7d201e230fa5e21b75e6508&format=json&mbid=243c6f61-d83b-4459-bebd-5899df0da111\n",
      "http://ws.audioscrobbler.com/2.0/?method=artist.getinfo&api_key=90a91775a7d201e230fa5e21b75e6508&format=json&mbid=ad29ae1c-2eda-4071-9dc8-31910e7e546c\n",
      "http://ws.audioscrobbler.com/2.0/?method=artist.getinfo&api_key=90a91775a7d201e230fa5e21b75e6508&format=json&mbid=8ba17cf6-bec2-4ae4-9820-b1cda47adc08\n",
      "http://ws.audioscrobbler.com/2.0/?method=artist.getinfo&api_key=90a91775a7d201e230fa5e21b75e6508&format=json&mbid=3ad4f6ec-253f-4050-8849-ca26266edfb8\n",
      "http://ws.audioscrobbler.com/2.0/?method=artist.getinfo&api_key=90a91775a7d201e230fa5e21b75e6508&format=json&mbid=9b5ce0c1-1bc0-4ea2-a8d3-f5ee7af9eda8\n",
      "http://ws.audioscrobbler.com/2.0/?method=artist.getinfo&api_key=90a91775a7d201e230fa5e21b75e6508&format=json&mbid=981d39fc-bd00-4cc6-ac67-6410f8b89098\n",
      "http://ws.audioscrobbler.com/2.0/?method=artist.getinfo&api_key=90a91775a7d201e230fa5e21b75e6508&format=json&mbid=bc21df5c-3d79-479b-b638-8ddb5ecea403\n",
      "http://ws.audioscrobbler.com/2.0/?method=artist.getinfo&api_key=90a91775a7d201e230fa5e21b75e6508&format=json&mbid=b89f4c50-72f5-48ce-b08c-a643b191b24f\n",
      "http://ws.audioscrobbler.com/2.0/?method=artist.getinfo&api_key=90a91775a7d201e230fa5e21b75e6508&format=json&mbid=a31becdf-7b33-4409-9eb1-3f74bd72997c\n",
      "http://ws.audioscrobbler.com/2.0/?method=artist.getinfo&api_key=90a91775a7d201e230fa5e21b75e6508&format=json&mbid=1967c6ce-95a4-48f0-8ac7-abe637524aee\n",
      "http://ws.audioscrobbler.com/2.0/?method=artist.getinfo&api_key=90a91775a7d201e230fa5e21b75e6508&format=json&mbid=9803d120-716d-45ba-9eb7-9a120813f908\n",
      "http://ws.audioscrobbler.com/2.0/?method=artist.getinfo&api_key=90a91775a7d201e230fa5e21b75e6508&format=json&mbid=9acaf734-b380-4c48-954c-a2cf1d7990a9\n",
      "http://ws.audioscrobbler.com/2.0/?method=artist.getinfo&api_key=90a91775a7d201e230fa5e21b75e6508&format=json&mbid=50ad1cde-1536-4268-a55f-e47a7b8280ab\n",
      "http://ws.audioscrobbler.com/2.0/?method=artist.getinfo&api_key=90a91775a7d201e230fa5e21b75e6508&format=json&mbid=d4d5ae85-700c-4a55-8a39-7f923da07ef2\n",
      "http://ws.audioscrobbler.com/2.0/?method=artist.getinfo&api_key=90a91775a7d201e230fa5e21b75e6508&format=json&mbid=5652bb3e-f225-49de-9637-5aa1539b4a7c\n",
      "http://ws.audioscrobbler.com/2.0/?method=artist.getinfo&api_key=90a91775a7d201e230fa5e21b75e6508&format=json&mbid=194e87c9-b3fe-4fbd-82a7-8c54b4dd4c76\n",
      "http://ws.audioscrobbler.com/2.0/?method=artist.getinfo&api_key=90a91775a7d201e230fa5e21b75e6508&format=json&mbid=77fafce8-a32f-4d42-bdce-266bbf913cee\n"
     ]
    }
   ],
   "source": [
    "for mbid_artist in mbids:\n",
    "    print(f\"http://ws.audioscrobbler.com/2.0/?method=artist.getinfo&api_key=90a91775a7d201e230fa5e21b75e6508&format=json&mbid={mbid_artist}\")"
   ]
  },
  {
   "cell_type": "markdown",
   "metadata": {},
   "source": [
    "Your results should look something like\n",
    "\n",
    "```http://ws.audioscrobbler.com/2.0/?method=artist.getinfo&api_key=XXXXX&format=json&mbid=6e0c7c0e-cba5-4c2c-a652-38f71ef5785d\n",
    "http://ws.audioscrobbler.com/2.0/?method=artist.getinfo&api_key=XXXXX&format=json&mbid=1550f952-c91b-40d7-9b4d-d26a259ee932\n",
    "http://ws.audioscrobbler.com/2.0/?method=artist.getinfo&api_key=XXXXX&format=json&mbid=1b72331b-3a97-4981-a81c-eeee9c275d28\n",
    "http://ws.audioscrobbler.com/2.0/?method=artist.getinfo&api_key=XXXXX&format=json&mbid=5f1adfe1-4d07-4141-b181-79e5d379d539\n",
    "http://ws.audioscrobbler.com/2.0/?method=artist.getinfo&api_key=XXXXX&format=json&mbid=a95384b1-6aec-468c-ae0d-8c6daf87c4c2\n",
    "http://ws.audioscrobbler.com/2.0/?method=artist.getinfo&api_key=XXXXX&format=json&mbid=bc1b5c95-e6d6-46b5-957a-5e8908b02c1e```"
   ]
  },
  {
   "cell_type": "markdown",
   "metadata": {},
   "source": [
    "## OKAY HERE IS A LITTLE INFORMATION: Using our API urls\n",
    "\n",
    "This time instead of just *displaying* the URL, we're going to *request and process it*. **But first I'm going to teach you something.**\n",
    "\n",
    "When you're dealing with an API, you don't want to make a million requests, have bad code, and then need to do those million requests again. It's usually best to test your code with a few of the results first.\n",
    "\n",
    "So, if we have a list of numbers like this:"
   ]
  },
  {
   "cell_type": "code",
   "execution_count": 14,
   "metadata": {},
   "outputs": [
    {
     "data": {
      "text/plain": [
       "[4, 5, 6, 7]"
      ]
     },
     "execution_count": 14,
     "metadata": {},
     "output_type": "execute_result"
    }
   ],
   "source": [
    "numbers = [4, 5, 6, 7]\n",
    "numbers"
   ]
  },
  {
   "cell_type": "markdown",
   "metadata": {},
   "source": [
    "You can actually say to Python, **give me the first two**, and it will only give you the first two."
   ]
  },
  {
   "cell_type": "code",
   "execution_count": 15,
   "metadata": {},
   "outputs": [
    {
     "data": {
      "text/plain": [
       "[4, 5]"
      ]
     },
     "execution_count": 15,
     "metadata": {},
     "output_type": "execute_result"
    }
   ],
   "source": [
    "numbers[:2]"
   ]
  },
  {
   "cell_type": "markdown",
   "metadata": {},
   "source": [
    "The is **very convenient** with loopng with APIs, because instead of trying to use all FIFTY artists, you can just say \"hey, please try this out with 2 of them\" and you don't waste time."
   ]
  },
  {
   "cell_type": "markdown",
   "metadata": {},
   "source": [
    "## 10) Using the first three `mbids`, request the API urls and print the artist's name.\n",
    "\n",
    "You built the URLs in the last question, now it's time to use them! Use `requests` etc to grab the URL and get out the artist's name.\n",
    "\n",
    "- *Tip: The code is the same as last time you got an artist's name from their info page, it's just going to be inside of a loop*\n",
    "- *Tip: USE `PRINT` TO SEE WHAT YOU ARE LOOKING AT!!!!!*"
   ]
  },
  {
   "cell_type": "code",
   "execution_count": 16,
   "metadata": {},
   "outputs": [
    {
     "name": "stdout",
     "output_type": "stream",
     "text": [
      "Lily Allen\n",
      "Lil B\n",
      "Lil Ugly Mane\n"
     ]
    }
   ],
   "source": [
    "for mbid_artist in mbids[:3]:\n",
    "    url5= f\"http://ws.audioscrobbler.com/2.0/?method=artist.getinfo&api_key=90a91775a7d201e230fa5e21b75e6508&format=json&mbid={mbid_artist}\"\n",
    "    response = requests.get(url5, allow_redirects=True)\n",
    "    data = response.json()\n",
    "    print(data['artist']['name'])\n"
   ]
  },
  {
   "cell_type": "markdown",
   "metadata": {},
   "source": [
    "## 11) Using the first three `mbids`, request the API urls and print the artist's name and their tags\n",
    "\n",
    "- *Tip: The code is the same as last time you got an artist's name from their info page, it's just going to be inside of a loop*\n",
    "- *Tip: It's a for loop in a for loop!*"
   ]
  },
  {
   "cell_type": "code",
   "execution_count": 17,
   "metadata": {},
   "outputs": [
    {
     "name": "stdout",
     "output_type": "stream",
     "text": [
      "Lily Allen\n",
      "pop\n",
      "female vocalists\n",
      "british\n",
      "britpop\n",
      "singer-songwriter\n",
      "Lil B\n",
      "based\n",
      "Hip-Hop\n",
      "swag\n",
      "real recognize real and this nigga the realest\n",
      "rap\n",
      "Lil Ugly Mane\n",
      "Hip-Hop\n",
      "memphis rap\n",
      "Gangsta Rap\n",
      "Lo-Fi\n",
      "Trill Shit\n"
     ]
    }
   ],
   "source": [
    "for mbid_artist in mbids[:3]:\n",
    "    url5= f\"http://ws.audioscrobbler.com/2.0/?method=artist.getinfo&api_key=90a91775a7d201e230fa5e21b75e6508&format=json&mbid={mbid_artist}\"\n",
    "    response = requests.get(url5, allow_redirects=True)\n",
    "    data = response.json()\n",
    "    print(data['artist']['name'])\n",
    "    tags= data['artist']['tags']['tag']\n",
    "    for tag in tags:\n",
    "        print(tag['name'])"
   ]
  },
  {
   "cell_type": "markdown",
   "metadata": {},
   "source": [
    "## 12) Using the first ten mbids, print the artist's name and whether they're a rapper\n",
    "\n",
    "Only print their name ONCE and only print whether they are hip hop or not ONCE.\n",
    "\n",
    "- *Tip: Rap tags include hip hop, swag, crunk, rap, dirty south, and probably a bunch of other stuff! You can include as many categories as you'd like.*\n",
    "- *Tip: You can use `2 in [1, 2, 3]` to find out if `2` is in the list of `[1, 2, 3]`.*\n",
    "- *Tip: Every time you look at a new artist, you can say they are NOT a rapper. And once you find out one of their tags is hip hop or rap, then you can note that they're a rapper. Then once you're done looking at their tags, then you can say HEY this is a rapper, or HEY this is not a rapper.*"
   ]
  },
  {
   "cell_type": "code",
   "execution_count": 18,
   "metadata": {},
   "outputs": [
    {
     "name": "stdout",
     "output_type": "stream",
     "text": [
      "Lily Allen\n",
      "This is not a rapper\n",
      "This is not a hip hopper\n",
      "Lil B\n",
      "Hey this is a rapper\n",
      "This is not a hip hopper\n",
      "Lil Ugly Mane\n",
      "This is not a rapper\n",
      "This is not a hip hopper\n",
      "Lil Wayne\n",
      "Hey this is a rapper\n",
      "This is not a hip hopper\n",
      "Lilly Wood & The Prick\n",
      "This is not a rapper\n",
      "This is not a hip hopper\n",
      "Lil Durk\n",
      "Hey this is a rapper\n",
      "This is not a hip hopper\n",
      "Lil Dicky\n",
      "Hey this is a rapper\n",
      "This is not a hip hopper\n",
      "Lil' Kim\n",
      "Hey this is a rapper\n",
      "This is not a hip hopper\n",
      "Lil Jon\n",
      "Hey this is a rapper\n",
      "This is not a hip hopper\n",
      "Lil Jon & The East Side Boyz\n",
      "Hey this is a rapper\n",
      "This is not a hip hopper\n"
     ]
    }
   ],
   "source": [
    "for mbid_artist in mbids[:10]:\n",
    "    url5= f\"http://ws.audioscrobbler.com/2.0/?method=artist.getinfo&api_key=90a91775a7d201e230fa5e21b75e6508&format=json&mbid={mbid_artist}\"\n",
    "    response = requests.get(url5, allow_redirects=True)\n",
    "    data = response.json()\n",
    "    print(data['artist']['name'])\n",
    "    tags= data['artist']['tags']['tag']\n",
    "    rap= 'NO'\n",
    "    hip_hop= 'NO'\n",
    "    for tag in tags:\n",
    "        if tag['name'] == 'rap':\n",
    "            rap = 'YES'\n",
    "        if tag['name'] == 'Hip-Hop':\n",
    "            hip_hop == 'YES'\n",
    "    if rap == 'YES':\n",
    "        print(\"Hey this is a rapper\")\n",
    "    else:\n",
    "        print(\"This is not a rapper\")\n",
    "    if hip_hop == 'YES':\n",
    "        print(\"Hey this is a hip hopper\")\n",
    "    else:\n",
    "        print(\"This is not a hip hopper\")\n",
    "    "
   ]
  },
  {
   "cell_type": "markdown",
   "metadata": {},
   "source": [
    "Your results might look something like\n",
    "\n",
    "```ARTIST: Lily Allen\n",
    "NO hip hop\n",
    "ARTIST: Lil B\n",
    "YES hip hop\n",
    "ARTIST: Lilly Wood & The Prick\n",
    "NO hip hop\n",
    "ARTIST: Lil Ugly Mane\n",
    "YES hip hop\n",
    "ARTIST: Lil Jon\n",
    "YES hip hop\n",
    "ARTIST: Lil' Kim\n",
    "YES hip hop\n",
    "ARTIST: Lil Jon & The East Side Boyz\n",
    "YES hip hop\n",
    "```"
   ]
  },
  {
   "cell_type": "markdown",
   "metadata": {
    "collapsed": true
   },
   "source": [
    "## 13) What percent of \"lil\" results are rappers?"
   ]
  },
  {
   "cell_type": "code",
   "execution_count": 45,
   "metadata": {},
   "outputs": [
    {
     "name": "stdout",
     "output_type": "stream",
     "text": [
      "Lily Allen\n",
      "0\n",
      "Lil B\n",
      "1\n",
      "Lil Ugly Mane\n",
      "0\n",
      "Lil Wayne\n",
      "1\n",
      "Lilly Wood & The Prick\n",
      "0\n",
      "Lil Durk\n",
      "1\n",
      "Lil Dicky\n",
      "1\n",
      "Lil' Kim\n",
      "1\n",
      "Lil Jon\n",
      "1\n",
      "Lil Jon & The East Side Boyz\n",
      "1\n",
      "Lila Downs\n",
      "0\n",
      "Lil Boosie\n",
      "1\n",
      "The Tiger Lillies\n",
      "0\n",
      "Lil Wyte\n",
      "1\n",
      "Lil' Flip\n",
      "1\n",
      "Spangle call Lilli line\n",
      "0\n",
      "Lily & Madeleine\n",
      "0\n",
      "Mashrou' Leila\n",
      "0\n",
      "Lilac\n",
      "0\n",
      "The Lillingtons\n",
      "0\n",
      "Lillasyster\n",
      "0\n",
      "Lilys\n",
      "0\n",
      "Lilu\n",
      "1\n",
      "Lily Chou-Chou\n",
      "0\n",
      "Lil Mama\n",
      "1\n",
      "Lil' Scrappy\n",
      "1\n"
     ]
    }
   ],
   "source": [
    "for mbid_artist in mbids:\n",
    "    url5= f\"http://ws.audioscrobbler.com/2.0/?method=artist.getinfo&api_key=90a91775a7d201e230fa5e21b75e6508&format=json&mbid={mbid_artist}\"\n",
    "    response = requests.get(url5, allow_redirects=True)\n",
    "    data = response.json()\n",
    "    print(data['artist']['name'])\n",
    "    tags = data['artist']['tags']['tag']\n",
    "    count = 0\n",
    "    for tag in tags:\n",
    "        if (tag['name']) == 'rap':\n",
    "            count = count + 1\n",
    "    print(count)"
   ]
  },
  {
   "cell_type": "markdown",
   "metadata": {},
   "source": [
    "I tried to do 13 SO MANY times. I couldn't figure it out. I even as Janie for help and she tried to explain it to me. But it didn't work either. HELPPP!"
   ]
  },
  {
   "cell_type": "markdown",
   "metadata": {},
   "source": [
    "## 14) Seriously you are all-powerful now."
   ]
  },
  {
   "cell_type": "markdown",
   "metadata": {},
   "source": [
    "I couldn't do 13... I'm only one step away from powerful. Not there YET. "
   ]
  }
 ],
 "metadata": {
  "kernelspec": {
   "display_name": "Python 3",
   "language": "python",
   "name": "python3"
  },
  "language_info": {
   "codemirror_mode": {
    "name": "ipython",
    "version": 3
   },
   "file_extension": ".py",
   "mimetype": "text/x-python",
   "name": "python",
   "nbconvert_exporter": "python",
   "pygments_lexer": "ipython3",
   "version": "3.8.2"
  }
 },
 "nbformat": 4,
 "nbformat_minor": 1
}
