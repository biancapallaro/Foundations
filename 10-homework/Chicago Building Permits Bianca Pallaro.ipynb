{
 "cells": [
  {
   "cell_type": "markdown",
   "metadata": {},
   "source": [
    "## Logging on\n",
    "\n",
    "Use Selenium to visit https://webapps1.chicago.gov/buildingrecords/ and accept the agreement.\n",
    "\n",
    "> Think about when you use `.find_element_...` and when you use `.find_elementSSS_...`"
   ]
  },
  {
   "cell_type": "code",
   "execution_count": 1,
   "metadata": {},
   "outputs": [],
   "source": [
    "from selenium import webdriver\n",
    "driver = webdriver.Chrome()\n",
    "driver.get(\"https://webapps1.chicago.gov/buildingrecords/\")"
   ]
  },
  {
   "cell_type": "code",
   "execution_count": 2,
   "metadata": {},
   "outputs": [],
   "source": [
    "driver.find_element_by_id(\"rbnAgreement1\").click()"
   ]
  },
  {
   "cell_type": "code",
   "execution_count": 3,
   "metadata": {},
   "outputs": [],
   "source": [
    "submit_button = driver.find_element_by_xpath(\"/html/body/div/div[4]/form/div[4]/div/button\")\n",
    "submit_button.click()"
   ]
  },
  {
   "cell_type": "code",
   "execution_count": null,
   "metadata": {},
   "outputs": [],
   "source": []
  },
  {
   "cell_type": "code",
   "execution_count": null,
   "metadata": {},
   "outputs": [],
   "source": []
  },
  {
   "cell_type": "markdown",
   "metadata": {},
   "source": [
    "## Searching\n",
    "\n",
    "Search for **400 E 41ST ST**."
   ]
  },
  {
   "cell_type": "code",
   "execution_count": 4,
   "metadata": {},
   "outputs": [],
   "source": [
    "textbox = driver.find_element_by_xpath(\"/html/body/div/div[4]/form/div[1]/div/input\")\n",
    "# Type in the textbox\n",
    "textbox.send_keys(\"400 E 41ST ST.\")"
   ]
  },
  {
   "cell_type": "code",
   "execution_count": 5,
   "metadata": {},
   "outputs": [],
   "source": [
    "submit_button = driver.find_element_by_xpath(\"/html/body/div/div[4]/form/div[2]/div/button\")\n",
    "submit_button.click()"
   ]
  },
  {
   "cell_type": "markdown",
   "metadata": {},
   "source": [
    "## Saving tables with pandas\n",
    "\n",
    "Use pandas to save a CSV of all **permits** to `Permits - 400 E 41ST ST.csv`. Note that there are **different sections of the page**, not just one long permits table."
   ]
  },
  {
   "cell_type": "code",
   "execution_count": 6,
   "metadata": {},
   "outputs": [
    {
     "name": "stderr",
     "output_type": "stream",
     "text": [
      "/Users/biancapallaro/.pyenv/versions/3.8.2/lib/python3.8/site-packages/pandas/compat/__init__.py:120: UserWarning: Could not import the lzma module. Your installed Python is incomplete. Attempting to use lzma compression will result in a RuntimeError.\n",
      "  warnings.warn(msg)\n"
     ]
    }
   ],
   "source": [
    "import pandas as pd\n",
    "tables = pd.read_html(driver.page_source)"
   ]
  },
  {
   "cell_type": "code",
   "execution_count": 7,
   "metadata": {},
   "outputs": [
    {
     "name": "stdout",
     "output_type": "stream",
     "text": [
      "     PERMIT #  DATE ISSUED                                DESCRIPTION OF WORK\n",
      "0   100845718          NaN  ERECT TWO SCAFFOLDS FROM 10/14/2019 TO 10/14/2...\n",
      "1   100778302          NaN  PERMIT EXPIRES ON 10/17/2018 Erection Starts: ...\n",
      "2   100721255          NaN  PERMIT EXPIRES ON 10/24/2017 ERECTION STARTS: ...\n",
      "3   100693399          NaN  INSTALLATION OF LOW VOLTAGE BURGLAR ALARM INTE...\n",
      "4   100665436          NaN  PERMIT EXPIRES ON 10/24/2016 ERECTION STARTS: ...\n",
      "5   100610771          NaN  PERMIT EXPIRES ON 10/28/2015 ERECTION STARTS: ...\n",
      "6   100581991          NaN  TRACE AND REPAIR BROKEN UNDERGROUND FEED TO EX...\n",
      "7   100479194          NaN     INTERNALLY LIT SIGN CABINET ON SOUTH ELEVATION\n",
      "8   100385721          NaN  RPACE CONCRETE SLAB WITH NEW AT GROUNGD FLOOR ...\n",
      "9   100267298          NaN  INTERIOR ALTERATIONS TO MEDICAL OFFICE SUITE 1...\n",
      "10  100218969          NaN  Revision to Permit. Removing walls at elevator...\n",
      "11  100195892          NaN  INTERIOR ALTERATIONS TO 1ST FLOOR TENANT SPACE...\n",
      "12  100178678          NaN  WIRE ALL LOW VOLTAGE TEMPERATURE CONTROLS ALL ...\n",
      "13  100154767          NaN  MODERNIZE FIVE (5) PASSENGER ELEVATORS AS PER ...\n",
      "14  100153183          NaN       Renovation/Alterations to 19-story Tower #2.\n",
      "15  100153182          NaN       Renovation/Alterations to 27-story Tower #1.\n",
      "16  B20022113          NaN  1N REPAIR,PATCH, 908' LG CON TERRACE WALL ( 3 ...\n",
      "17  EL1566941          NaN             INSTALL 3 HPS WALL FIXTURE ON BUILDING\n",
      "18  B97033015          NaN  THREE (3) PASSENGER ELEVATORS ADAMS DOOR RESTR...\n",
      "19  EL9445368          NaN           ADD 2-ADD'TL METER SOCKETS & 2-BRKR PNLS\n",
      "20  EL9443103          NaN                      INSTALL PHONE SYSTEM (MERLIN)\n",
      "21  EL8874529          NaN                INSTALL LOW VOLTAGE SECURITY SYSTEM\n",
      "22  EL8770080          NaN                      100A SERVICE, 2-METER SOCKETS\n",
      "23  EL7634958          NaN           6-15 AMP 2-WIRE CKTS AND SIX (6) FIXTURS\n",
      "24  EL7393792          NaN                LOW VOLTAGE PHONE SYSTEM EQUITY 111\n",
      "25  ES3148854          NaN                                                NaN\n",
      "26  EL6455110          NaN                  INSTALL 278 OUTLETS ON EXIST CIRC\n",
      "27  EL6345593          NaN             STANLEY MAGIC DOOR EQUIPT INSTALLATION\n",
      "28  EL6242147          NaN                  2000A SERV, 400A SERV, 200A SERV,\n",
      "29  EL6196217          NaN                                       400A SERVICE\n",
      "30  EL5912649          NaN                         ADD FEE TO PERMIT #5764111\n",
      "31  EL5764118          NaN                                       400A SERVICE\n"
     ]
    }
   ],
   "source": [
    "print(tables[0])\n",
    "permits = tables[0]"
   ]
  },
  {
   "cell_type": "code",
   "execution_count": 8,
   "metadata": {},
   "outputs": [],
   "source": [
    "permits.to_csv(r'/Users/biancapallaro/Documents/Foundations/Permits_-_400_E_41ST_ST.csv', index = False, header=True)"
   ]
  },
  {
   "cell_type": "markdown",
   "metadata": {},
   "source": [
    "## Saving tables the long way\n",
    "\n",
    "Save a CSV of all DOB inspections to `Inspections - 400 E 41ST ST.csv`, but **you also need to save the URL to the inspection**. As a result, you won't be able to use pandas, you'll need to use a loop and create a list of dictionaries.\n",
    "\n",
    "You can use Selenium (my recommendation) or you can feed the source to BeautifulSoup. You should have approximately 157 rows.\n",
    "\n",
    "You'll probably need to find the table first, then the rows inside, then the cells inside of each row. You'll probably use lots of list indexing. I might recommend XPath for finding the table.\n",
    "\n",
    "*Tip: If you get a \"list index out of range\" error, it's probably due to an issue involving `thead` vs `tbody` elements. What are they? What are they for? What's in them? There are a few ways to troubleshoot it.*"
   ]
  },
  {
   "cell_type": "code",
   "execution_count": 9,
   "metadata": {},
   "outputs": [
    {
     "name": "stdout",
     "output_type": "stream",
     "text": [
      "{'inspection': '13175960', 'inspection_date': '11/30/2020', 'status': 'FAILED', 'type_description': 'ANNUAL INSPECTION', 'url': 'https://webapps1.chicago.gov/buildingrecords/inspectiondetails?addr=364923&insp=13175960'}\n",
      "{'inspection': '12770690', 'inspection_date': '05/30/2019', 'status': 'PASSED', 'type_description': 'BOILER ANNUAL INSPECTION', 'url': 'https://webapps1.chicago.gov/buildingrecords/inspectiondetails?addr=364923&insp=12770690'}\n",
      "{'inspection': '12670542', 'inspection_date': '05/21/2019', 'status': 'FAILED', 'type_description': 'CONSERVATION ANNUAL', 'url': 'https://webapps1.chicago.gov/buildingrecords/inspectiondetails?addr=364923&insp=12670542'}\n",
      "{'inspection': '12277260', 'inspection_date': '08/27/2018', 'status': 'FAILED', 'type_description': 'CONSERVATION ANNUAL', 'url': 'https://webapps1.chicago.gov/buildingrecords/inspectiondetails?addr=364923&insp=12277260'}\n",
      "{'inspection': '12418304', 'inspection_date': '05/30/2018', 'status': 'PASSED', 'type_description': 'BOILER ANNUAL INSPECTION', 'url': 'https://webapps1.chicago.gov/buildingrecords/inspectiondetails?addr=364923&insp=12418304'}\n",
      "{'inspection': '12136453', 'inspection_date': '06/21/2017', 'status': 'PASSED', 'type_description': 'ANNUAL INSPECTION', 'url': 'https://webapps1.chicago.gov/buildingrecords/inspectiondetails?addr=364923&insp=12136453'}\n",
      "{'inspection': '12226018', 'inspection_date': '06/21/2017', 'status': 'PASSED', 'type_description': 'ANNUAL INSPECTION', 'url': 'https://webapps1.chicago.gov/buildingrecords/inspectiondetails?addr=364923&insp=12226018'}\n",
      "{'inspection': '11228963', 'inspection_date': '06/19/2017', 'status': 'FAILED', 'type_description': 'CONSERVATION ANNUAL', 'url': 'https://webapps1.chicago.gov/buildingrecords/inspectiondetails?addr=364923&insp=11228963'}\n",
      "{'inspection': '12101602', 'inspection_date': '04/21/2017', 'status': 'PASSED', 'type_description': 'ANNUAL INSPECTION', 'url': 'https://webapps1.chicago.gov/buildingrecords/inspectiondetails?addr=364923&insp=12101602'}\n",
      "{'inspection': '12214968', 'inspection_date': '03/22/2017', 'status': 'PASSED', 'type_description': 'SIGN ANNUAL INSPECTION', 'url': 'https://webapps1.chicago.gov/buildingrecords/inspectiondetails?addr=364923&insp=12214968'}\n",
      "{'inspection': '12051724', 'inspection_date': '12/21/2016', 'status': 'FAILED', 'type_description': 'CONSERVATION COMPLAINT INSPECT', 'url': 'https://webapps1.chicago.gov/buildingrecords/inspectiondetails?addr=364923&insp=12051724'}\n",
      "{'inspection': '11750904', 'inspection_date': '11/03/2016', 'status': 'PASSED', 'type_description': 'BOILER ANNUAL INSPECTION', 'url': 'https://webapps1.chicago.gov/buildingrecords/inspectiondetails?addr=364923&insp=11750904'}\n",
      "{'inspection': '11986288', 'inspection_date': '09/01/2016', 'status': 'PASSED', 'type_description': 'REFRIGERATION ANNUAL', 'url': 'https://webapps1.chicago.gov/buildingrecords/inspectiondetails?addr=364923&insp=11986288'}\n",
      "{'inspection': '11787131', 'inspection_date': '08/24/2016', 'status': 'PASSED', 'type_description': 'REFRIGERATION ANNUAL', 'url': 'https://webapps1.chicago.gov/buildingrecords/inspectiondetails?addr=364923&insp=11787131'}\n",
      "{'inspection': '11835125', 'inspection_date': '08/02/2016', 'status': 'PASSED', 'type_description': 'ANNUAL INSPECTION', 'url': 'https://webapps1.chicago.gov/buildingrecords/inspectiondetails?addr=364923&insp=11835125'}\n",
      "{'inspection': '11933971', 'inspection_date': '08/02/2016', 'status': 'PASSED', 'type_description': 'ANNUAL INSPECTION', 'url': 'https://webapps1.chicago.gov/buildingrecords/inspectiondetails?addr=364923&insp=11933971'}\n",
      "{'inspection': '11413712', 'inspection_date': '10/23/2015', 'status': 'PASSED', 'type_description': 'BOILER ANNUAL INSPECTION', 'url': 'https://webapps1.chicago.gov/buildingrecords/inspectiondetails?addr=364923&insp=11413712'}\n",
      "{'inspection': '11623884', 'inspection_date': '08/28/2015', 'status': 'PASSED', 'type_description': 'ANNUAL INSPECTION', 'url': 'https://webapps1.chicago.gov/buildingrecords/inspectiondetails?addr=364923&insp=11623884'}\n",
      "{'inspection': '11014536', 'inspection_date': '07/28/2015', 'status': 'PASSED', 'type_description': 'ANNUAL INSPECTION', 'url': 'https://webapps1.chicago.gov/buildingrecords/inspectiondetails?addr=364923&insp=11014536'}\n",
      "{'inspection': '11244373', 'inspection_date': '07/28/2015', 'status': 'PASSED', 'type_description': 'ANNUAL INSPECTION', 'url': 'https://webapps1.chicago.gov/buildingrecords/inspectiondetails?addr=364923&insp=11244373'}\n",
      "{'inspection': '11542833', 'inspection_date': '07/20/2015', 'status': 'PASSED', 'type_description': 'SIGN ANNUAL INSPECTION', 'url': 'https://webapps1.chicago.gov/buildingrecords/inspectiondetails?addr=364923&insp=11542833'}\n",
      "{'inspection': '11598664', 'inspection_date': '06/02/2015', 'status': 'FAILED', 'type_description': 'ANNUAL INSPECTION', 'url': 'https://webapps1.chicago.gov/buildingrecords/inspectiondetails?addr=364923&insp=11598664'}\n",
      "{'inspection': '11497331', 'inspection_date': '05/20/2015', 'status': 'FAILED', 'type_description': 'ANNUAL INSPECTION', 'url': 'https://webapps1.chicago.gov/buildingrecords/inspectiondetails?addr=364923&insp=11497331'}\n",
      "{'inspection': '11224848', 'inspection_date': '02/27/2015', 'status': 'FAILED', 'type_description': 'ANNUAL INSPECTION', 'url': 'https://webapps1.chicago.gov/buildingrecords/inspectiondetails?addr=364923&insp=11224848'}\n",
      "{'inspection': '11074793', 'inspection_date': '10/15/2014', 'status': 'PASSED', 'type_description': 'BOILER ANNUAL INSPECTION', 'url': 'https://webapps1.chicago.gov/buildingrecords/inspectiondetails?addr=364923&insp=11074793'}\n",
      "{'inspection': '10934450', 'inspection_date': '09/19/2014', 'status': 'PASSED', 'type_description': 'STRUCTURAL SIGN INSPECTION', 'url': 'https://webapps1.chicago.gov/buildingrecords/inspectiondetails?addr=364923&insp=10934450'}\n",
      "{'inspection': '10934449', 'inspection_date': '09/19/2014', 'status': 'PASSED', 'type_description': 'SIGN PERMIT INSPECTION', 'url': 'https://webapps1.chicago.gov/buildingrecords/inspectiondetails?addr=364923&insp=10934449'}\n",
      "{'inspection': '10995934', 'inspection_date': '04/04/2014', 'status': 'FAILED', 'type_description': 'CONSERVATION ANNUAL', 'url': 'https://webapps1.chicago.gov/buildingrecords/inspectiondetails?addr=364923&insp=10995934'}\n",
      "{'inspection': '10895288', 'inspection_date': '12/18/2013', 'status': 'PASSED', 'type_description': 'ANNUAL INSPECTION', 'url': 'https://webapps1.chicago.gov/buildingrecords/inspectiondetails?addr=364923&insp=10895288'}\n",
      "{'inspection': '10789690', 'inspection_date': '12/04/2013', 'status': 'PASSED', 'type_description': 'REFRIGERATION ANNUAL', 'url': 'https://webapps1.chicago.gov/buildingrecords/inspectiondetails?addr=364923&insp=10789690'}\n",
      "{'inspection': '10775620', 'inspection_date': '10/22/2013', 'status': 'PASSED', 'type_description': 'BOILER ANNUAL INSPECTION', 'url': 'https://webapps1.chicago.gov/buildingrecords/inspectiondetails?addr=364923&insp=10775620'}\n",
      "{'inspection': '10912983', 'inspection_date': '10/01/2013', 'status': 'PASSED', 'type_description': 'ANNUAL INSPECTION', 'url': 'https://webapps1.chicago.gov/buildingrecords/inspectiondetails?addr=364923&insp=10912983'}\n",
      "{'inspection': '11002791', 'inspection_date': '10/01/2013', 'status': 'FAILED', 'type_description': 'ANNUAL INSPECTION', 'url': 'https://webapps1.chicago.gov/buildingrecords/inspectiondetails?addr=364923&insp=11002791'}\n",
      "{'inspection': '10715924', 'inspection_date': '08/21/2013', 'status': 'FAILED', 'type_description': 'CONSERVATION ANNUAL', 'url': 'https://webapps1.chicago.gov/buildingrecords/inspectiondetails?addr=364923&insp=10715924'}\n",
      "{'inspection': '10270889', 'inspection_date': '10/16/2012', 'status': 'FAILED', 'type_description': 'CONSERVATION ANNUAL', 'url': 'https://webapps1.chicago.gov/buildingrecords/inspectiondetails?addr=364923&insp=10270889'}\n",
      "{'inspection': '10681952', 'inspection_date': '08/28/2012', 'status': 'PASSED', 'type_description': 'ANNUAL INSPECTION', 'url': 'https://webapps1.chicago.gov/buildingrecords/inspectiondetails?addr=364923&insp=10681952'}\n",
      "{'inspection': '10740771', 'inspection_date': '08/28/2012', 'status': 'PASSED', 'type_description': 'ANNUAL INSPECTION', 'url': 'https://webapps1.chicago.gov/buildingrecords/inspectiondetails?addr=364923&insp=10740771'}\n"
     ]
    },
    {
     "name": "stdout",
     "output_type": "stream",
     "text": [
      "{'inspection': '10560743', 'inspection_date': '05/23/2012', 'status': 'PASSED', 'type_description': 'ANNUAL INSPECTION', 'url': 'https://webapps1.chicago.gov/buildingrecords/inspectiondetails?addr=364923&insp=10560743'}\n",
      "{'inspection': '9995366', 'inspection_date': '04/09/2012', 'status': 'PASSED', 'type_description': 'ANNUAL INSPECTION', 'url': 'https://webapps1.chicago.gov/buildingrecords/inspectiondetails?addr=364923&insp=9995366'}\n",
      "{'inspection': '10411517', 'inspection_date': '03/07/2012', 'status': 'PASSED', 'type_description': 'BOILER ANNUAL INSPECTION', 'url': 'https://webapps1.chicago.gov/buildingrecords/inspectiondetails?addr=364923&insp=10411517'}\n",
      "{'inspection': '10530867', 'inspection_date': '02/21/2012', 'status': 'FAILED', 'type_description': 'ANNUAL INSPECTION', 'url': 'https://webapps1.chicago.gov/buildingrecords/inspectiondetails?addr=364923&insp=10530867'}\n",
      "{'inspection': '10230414', 'inspection_date': '10/27/2011', 'status': 'FAILED', 'type_description': 'ANNUAL INSPECTION', 'url': 'https://webapps1.chicago.gov/buildingrecords/inspectiondetails?addr=364923&insp=10230414'}\n",
      "{'inspection': '10167186', 'inspection_date': '09/12/2011', 'status': 'PASSED', 'type_description': 'ANNUAL INSPECTION', 'url': 'https://webapps1.chicago.gov/buildingrecords/inspectiondetails?addr=364923&insp=10167186'}\n",
      "{'inspection': '10155814', 'inspection_date': '07/13/2011', 'status': 'PASSED', 'type_description': 'VENT ANNUAL', 'url': 'https://webapps1.chicago.gov/buildingrecords/inspectiondetails?addr=364923&insp=10155814'}\n",
      "{'inspection': '9952632', 'inspection_date': '05/05/2011', 'status': 'FAILED', 'type_description': 'CONSERVATION ANNUAL', 'url': 'https://webapps1.chicago.gov/buildingrecords/inspectiondetails?addr=364923&insp=9952632'}\n",
      "{'inspection': '10089951', 'inspection_date': '02/22/2011', 'status': 'PASSED', 'type_description': 'BOILER ANNUAL INSPECTION', 'url': 'https://webapps1.chicago.gov/buildingrecords/inspectiondetails?addr=364923&insp=10089951'}\n",
      "{'inspection': '10002293', 'inspection_date': '01/12/2011', 'status': 'PASSED', 'type_description': 'ANNUAL INSPECTION', 'url': 'https://webapps1.chicago.gov/buildingrecords/inspectiondetails?addr=364923&insp=10002293'}\n",
      "{'inspection': '10002295', 'inspection_date': '01/12/2011', 'status': 'FAILED', 'type_description': 'ANNUAL INSPECTION', 'url': 'https://webapps1.chicago.gov/buildingrecords/inspectiondetails?addr=364923&insp=10002295'}\n",
      "{'inspection': '2374203', 'inspection_date': '10/04/2010', 'status': 'PASSED', 'type_description': 'REFRIGERATION ANNUAL', 'url': 'https://webapps1.chicago.gov/buildingrecords/inspectiondetails?addr=364923&insp=2374203'}\n",
      "{'inspection': '9974938', 'inspection_date': '09/09/2010', 'status': 'FAILED', 'type_description': 'ANNUAL INSPECTION', 'url': 'https://webapps1.chicago.gov/buildingrecords/inspectiondetails?addr=364923&insp=9974938'}\n",
      "{'inspection': '2677167', 'inspection_date': '09/09/2010', 'status': 'FAILED', 'type_description': 'ANNUAL INSPECTION', 'url': 'https://webapps1.chicago.gov/buildingrecords/inspectiondetails?addr=364923&insp=2677167'}\n",
      "{'inspection': '9762140', 'inspection_date': '09/02/2010', 'status': 'FAILED', 'type_description': 'ANNUAL INSPECTION', 'url': 'https://webapps1.chicago.gov/buildingrecords/inspectiondetails?addr=364923&insp=9762140'}\n",
      "{'inspection': '9959603', 'inspection_date': '06/30/2010', 'status': 'FAILED', 'type_description': 'CONSERVATION COMPLAINT INSPECT', 'url': 'https://webapps1.chicago.gov/buildingrecords/inspectiondetails?addr=364923&insp=9959603'}\n",
      "{'inspection': '2688652', 'inspection_date': '06/15/2010', 'status': 'FAILED', 'type_description': 'CONSERVATION ANNUAL', 'url': 'https://webapps1.chicago.gov/buildingrecords/inspectiondetails?addr=364923&insp=2688652'}\n",
      "{'inspection': '9748377', 'inspection_date': '02/11/2010', 'status': 'PASSED', 'type_description': 'BOILER ANNUAL INSPECTION', 'url': 'https://webapps1.chicago.gov/buildingrecords/inspectiondetails?addr=364923&insp=9748377'}\n",
      "{'inspection': '2354095', 'inspection_date': '12/29/2009', 'status': 'PASSED', 'type_description': 'PERMIT INSPECTION', 'url': 'https://webapps1.chicago.gov/buildingrecords/inspectiondetails?addr=364923&insp=2354095'}\n",
      "{'inspection': '2639899', 'inspection_date': '08/21/2009', 'status': 'PASSED', 'type_description': 'VENT ANNUAL', 'url': 'https://webapps1.chicago.gov/buildingrecords/inspectiondetails?addr=364923&insp=2639899'}\n",
      "{'inspection': '1896682', 'inspection_date': '07/27/2009', 'status': 'CLOSED', 'type_description': 'ELECTRICAL PERMIT INSPECTION', 'url': 'https://webapps1.chicago.gov/buildingrecords/inspectiondetails?addr=364923&insp=1896682'}\n",
      "{'inspection': '2565707', 'inspection_date': '03/25/2009', 'status': 'PASSED', 'type_description': 'DOB PLUMBING INSPECTION', 'url': 'https://webapps1.chicago.gov/buildingrecords/inspectiondetails?addr=364923&insp=2565707'}\n",
      "{'inspection': '2408216', 'inspection_date': '03/25/2009', 'status': 'PASSED', 'type_description': 'DOB NEW CONSTRUCTION INSP', 'url': 'https://webapps1.chicago.gov/buildingrecords/inspectiondetails?addr=364923&insp=2408216'}\n",
      "{'inspection': '2576872', 'inspection_date': '03/25/2009', 'status': 'PASSED', 'type_description': 'DOB VENT/FURNACE INSPECTION', 'url': 'https://webapps1.chicago.gov/buildingrecords/inspectiondetails?addr=364923&insp=2576872'}\n",
      "{'inspection': '2576870', 'inspection_date': '03/25/2009', 'status': 'PASSED', 'type_description': 'ELECTRICAL PERMIT INSPECTION', 'url': 'https://webapps1.chicago.gov/buildingrecords/inspectiondetails?addr=364923&insp=2576870'}\n",
      "{'inspection': '2648465', 'inspection_date': '03/04/2009', 'status': 'FAILED', 'type_description': 'CONSERVATION ANNUAL', 'url': 'https://webapps1.chicago.gov/buildingrecords/inspectiondetails?addr=364923&insp=2648465'}\n",
      "{'inspection': '2559724', 'inspection_date': '01/30/2009', 'status': 'PASSED', 'type_description': 'DOB VENT/FURNACE INSPECTION', 'url': 'https://webapps1.chicago.gov/buildingrecords/inspectiondetails?addr=364923&insp=2559724'}\n",
      "{'inspection': '2408214', 'inspection_date': '01/30/2009', 'status': 'PARTIAL PASSED', 'type_description': 'DOB VENT/FURNACE INSPECTION', 'url': 'https://webapps1.chicago.gov/buildingrecords/inspectiondetails?addr=364923&insp=2408214'}\n",
      "{'inspection': '2408213', 'inspection_date': '01/30/2009', 'status': 'PARTIAL PASSED', 'type_description': 'ELECTRICAL PERMIT INSPECTION', 'url': 'https://webapps1.chicago.gov/buildingrecords/inspectiondetails?addr=364923&insp=2408213'}\n",
      "{'inspection': '2559720', 'inspection_date': '01/29/2009', 'status': 'PASSED', 'type_description': 'DOB VENT/FURNACE INSPECTION', 'url': 'https://webapps1.chicago.gov/buildingrecords/inspectiondetails?addr=364923&insp=2559720'}\n",
      "{'inspection': '2565706', 'inspection_date': '01/26/2009', 'status': 'PARTIAL PASSED', 'type_description': 'DOB PLUMBING INSPECTION', 'url': 'https://webapps1.chicago.gov/buildingrecords/inspectiondetails?addr=364923&insp=2565706'}\n",
      "{'inspection': '2008609', 'inspection_date': '01/23/2009', 'status': 'PASSED', 'type_description': 'CONSTRUCTION EQUIPMENT PERMIT', 'url': 'https://webapps1.chicago.gov/buildingrecords/inspectiondetails?addr=364923&insp=2008609'}\n",
      "{'inspection': '2561851', 'inspection_date': '01/21/2009', 'status': 'PASSED', 'type_description': 'BOILER PERMIT INSPECTION', 'url': 'https://webapps1.chicago.gov/buildingrecords/inspectiondetails?addr=364923&insp=2561851'}\n",
      "{'inspection': '2561850', 'inspection_date': '01/21/2009', 'status': 'PASSED', 'type_description': 'BOILER PERMIT INSPECTION', 'url': 'https://webapps1.chicago.gov/buildingrecords/inspectiondetails?addr=364923&insp=2561850'}\n",
      "{'inspection': '2561849', 'inspection_date': '01/21/2009', 'status': 'PASSED', 'type_description': 'BOILER PERMIT INSPECTION', 'url': 'https://webapps1.chicago.gov/buildingrecords/inspectiondetails?addr=364923&insp=2561849'}\n",
      "{'inspection': '2564084', 'inspection_date': '01/21/2009', 'status': 'PASSED', 'type_description': 'BOILER PERMIT INSPECTION', 'url': 'https://webapps1.chicago.gov/buildingrecords/inspectiondetails?addr=364923&insp=2564084'}\n",
      "{'inspection': '2510789', 'inspection_date': '01/21/2009', 'status': 'PASSED', 'type_description': 'BOILER ANNUAL INSPECTION', 'url': 'https://webapps1.chicago.gov/buildingrecords/inspectiondetails?addr=364923&insp=2510789'}\n",
      "{'inspection': '1840048', 'inspection_date': '01/15/2009', 'status': 'PASSED', 'type_description': 'BLDG_PERM IRON PERMIT INSP', 'url': 'https://webapps1.chicago.gov/buildingrecords/inspectiondetails?addr=364923&insp=1840048'}\n",
      "{'inspection': '1839870', 'inspection_date': '01/15/2009', 'status': 'PASSED', 'type_description': 'BLDG_PERM IRON PERMIT INSP', 'url': 'https://webapps1.chicago.gov/buildingrecords/inspectiondetails?addr=364923&insp=1839870'}\n"
     ]
    },
    {
     "name": "stdout",
     "output_type": "stream",
     "text": [
      "{'inspection': '2017660', 'inspection_date': '01/15/2009', 'status': 'PASSED', 'type_description': 'DOB NEW CONSTRUCTION INSP', 'url': 'https://webapps1.chicago.gov/buildingrecords/inspectiondetails?addr=364923&insp=2017660'}\n",
      "{'inspection': '2017661', 'inspection_date': '01/15/2009', 'status': 'PASSED', 'type_description': 'DOB NEW CONSTRUCTION INSP', 'url': 'https://webapps1.chicago.gov/buildingrecords/inspectiondetails?addr=364923&insp=2017661'}\n",
      "{'inspection': '2020266', 'inspection_date': '01/15/2009', 'status': 'PASSED', 'type_description': 'DOB NEW CONSTRUCTION INSP', 'url': 'https://webapps1.chicago.gov/buildingrecords/inspectiondetails?addr=364923&insp=2020266'}\n",
      "{'inspection': '1613901', 'inspection_date': '01/15/2009', 'status': 'PARTIAL PASSED', 'type_description': 'DOB VENT/FURNACE INSPECTION', 'url': 'https://webapps1.chicago.gov/buildingrecords/inspectiondetails?addr=364923&insp=1613901'}\n",
      "{'inspection': '1613908', 'inspection_date': '01/15/2009', 'status': 'PARTIAL PASSED', 'type_description': 'DOB VENT/FURNACE INSPECTION', 'url': 'https://webapps1.chicago.gov/buildingrecords/inspectiondetails?addr=364923&insp=1613908'}\n",
      "{'inspection': '2020265', 'inspection_date': '01/15/2009', 'status': 'PASSED', 'type_description': 'DOB VENT/FURNACE INSPECTION', 'url': 'https://webapps1.chicago.gov/buildingrecords/inspectiondetails?addr=364923&insp=2020265'}\n",
      "{'inspection': '2314825', 'inspection_date': '01/15/2009', 'status': 'PASSED', 'type_description': 'DOB PLUMBING INSPECTION', 'url': 'https://webapps1.chicago.gov/buildingrecords/inspectiondetails?addr=364923&insp=2314825'}\n",
      "{'inspection': '1613906', 'inspection_date': '01/15/2009', 'status': 'PASSED', 'type_description': 'DOB PLUMBING INSPECTION', 'url': 'https://webapps1.chicago.gov/buildingrecords/inspectiondetails?addr=364923&insp=1613906'}\n",
      "{'inspection': '1613897', 'inspection_date': '01/15/2009', 'status': 'PASSED', 'type_description': 'ELECTRICAL PERMIT INSPECTION', 'url': 'https://webapps1.chicago.gov/buildingrecords/inspectiondetails?addr=364923&insp=1613897'}\n",
      "{'inspection': '1613904', 'inspection_date': '01/15/2009', 'status': 'PASSED', 'type_description': 'ELECTRICAL PERMIT INSPECTION', 'url': 'https://webapps1.chicago.gov/buildingrecords/inspectiondetails?addr=364923&insp=1613904'}\n",
      "{'inspection': '2020263', 'inspection_date': '01/15/2009', 'status': 'PASSED', 'type_description': 'ELECTRICAL PERMIT INSPECTION', 'url': 'https://webapps1.chicago.gov/buildingrecords/inspectiondetails?addr=364923&insp=2020263'}\n",
      "{'inspection': '2020264', 'inspection_date': '01/15/2009', 'status': 'PASSED', 'type_description': 'DOB PLUMBING INSPECTION', 'url': 'https://webapps1.chicago.gov/buildingrecords/inspectiondetails?addr=364923&insp=2020264'}\n",
      "{'inspection': '1613907', 'inspection_date': '12/31/2008', 'status': 'PASSED', 'type_description': 'DOB REFRIGERATION INSPECTION', 'url': 'https://webapps1.chicago.gov/buildingrecords/inspectiondetails?addr=364923&insp=1613907'}\n",
      "{'inspection': '1613900', 'inspection_date': '12/31/2008', 'status': 'PASSED', 'type_description': 'DOB REFRIGERATION INSPECTION', 'url': 'https://webapps1.chicago.gov/buildingrecords/inspectiondetails?addr=364923&insp=1613900'}\n",
      "{'inspection': '2391718', 'inspection_date': '11/25/2008', 'status': 'PASSED', 'type_description': 'PUMP ACCEPTANCE TEST', 'url': 'https://webapps1.chicago.gov/buildingrecords/inspectiondetails?addr=364923&insp=2391718'}\n",
      "{'inspection': '2566069', 'inspection_date': '11/25/2008', 'status': 'PASSED', 'type_description': 'PUMP ACCEPTANCE TEST', 'url': 'https://webapps1.chicago.gov/buildingrecords/inspectiondetails?addr=364923&insp=2566069'}\n",
      "{'inspection': '2119488', 'inspection_date': '10/22/2008', 'status': 'FAILED', 'type_description': 'REFRIGERATION ANNUAL', 'url': 'https://webapps1.chicago.gov/buildingrecords/inspectiondetails?addr=364923&insp=2119488'}\n",
      "{'inspection': '2261834', 'inspection_date': '08/29/2008', 'status': 'PARTIAL PASSED', 'type_description': 'PERMIT INSPECTION', 'url': 'https://webapps1.chicago.gov/buildingrecords/inspectiondetails?addr=364923&insp=2261834'}\n",
      "{'inspection': '2314122', 'inspection_date': '07/11/2008', 'status': 'PARTIAL PASSED', 'type_description': 'DOB PLUMBING INSPECTION', 'url': 'https://webapps1.chicago.gov/buildingrecords/inspectiondetails?addr=364923&insp=2314122'}\n",
      "{'inspection': '1894630', 'inspection_date': '07/08/2008', 'status': 'PARTIAL PASSED', 'type_description': 'DOB PLUMBING INSPECTION', 'url': 'https://webapps1.chicago.gov/buildingrecords/inspectiondetails?addr=364923&insp=1894630'}\n",
      "{'inspection': '2168070', 'inspection_date': '06/02/2008', 'status': 'PASSED', 'type_description': 'CONSERVATION ANNUAL', 'url': 'https://webapps1.chicago.gov/buildingrecords/inspectiondetails?addr=364923&insp=2168070'}\n",
      "{'inspection': '2154189', 'inspection_date': '05/14/2008', 'status': 'PASSED', 'type_description': 'VENT ANNUAL', 'url': 'https://webapps1.chicago.gov/buildingrecords/inspectiondetails?addr=364923&insp=2154189'}\n",
      "{'inspection': '2074609', 'inspection_date': '04/09/2008', 'status': 'PASSED', 'type_description': 'BOILER ANNUAL INSPECTION', 'url': 'https://webapps1.chicago.gov/buildingrecords/inspectiondetails?addr=364923&insp=2074609'}\n",
      "{'inspection': '2091277', 'inspection_date': '04/04/2008', 'status': 'PASSED', 'type_description': 'ANNUAL INSPECTION', 'url': 'https://webapps1.chicago.gov/buildingrecords/inspectiondetails?addr=364923&insp=2091277'}\n",
      "{'inspection': '1966669', 'inspection_date': '02/27/2008', 'status': 'PARTIAL PASSED', 'type_description': 'PERMIT INSPECTION', 'url': 'https://webapps1.chicago.gov/buildingrecords/inspectiondetails?addr=364923&insp=1966669'}\n",
      "{'inspection': '1613902', 'inspection_date': '11/01/2007', 'status': 'PARTIAL PASSED', 'type_description': 'DOB NEW CONSTRUCTION INSP', 'url': 'https://webapps1.chicago.gov/buildingrecords/inspectiondetails?addr=364923&insp=1613902'}\n",
      "{'inspection': '1871104', 'inspection_date': '11/01/2007', 'status': 'PARTIAL PASSED', 'type_description': 'DOB NEW CONSTRUCTION INSP', 'url': 'https://webapps1.chicago.gov/buildingrecords/inspectiondetails?addr=364923&insp=1871104'}\n",
      "{'inspection': '1943916', 'inspection_date': '08/15/2007', 'status': 'PARTIAL PASSED', 'type_description': 'PERMIT INSPECTION', 'url': 'https://webapps1.chicago.gov/buildingrecords/inspectiondetails?addr=364923&insp=1943916'}\n",
      "{'inspection': '1973677', 'inspection_date': '07/31/2007', 'status': 'PARTIAL PASSED', 'type_description': 'CONSTRUCTION EQUIPMENT PERMIT', 'url': 'https://webapps1.chicago.gov/buildingrecords/inspectiondetails?addr=364923&insp=1973677'}\n",
      "{'inspection': '1951026', 'inspection_date': '07/31/2007', 'status': 'PARTIAL PASSED', 'type_description': 'CONSTRUCTION EQUIPMENT PERMIT', 'url': 'https://webapps1.chicago.gov/buildingrecords/inspectiondetails?addr=364923&insp=1951026'}\n",
      "{'inspection': '2008607', 'inspection_date': '07/31/2007', 'status': 'PARTIAL PASSED', 'type_description': 'CONSTRUCTION EQUIPMENT PERMIT', 'url': 'https://webapps1.chicago.gov/buildingrecords/inspectiondetails?addr=364923&insp=2008607'}\n",
      "{'inspection': '1937982', 'inspection_date': '07/13/2007', 'status': 'PARTIAL PASSED', 'type_description': 'CONSTRUCTION EQUIPMENT PERMIT', 'url': 'https://webapps1.chicago.gov/buildingrecords/inspectiondetails?addr=364923&insp=1937982'}\n",
      "{'inspection': '1957863', 'inspection_date': '07/13/2007', 'status': 'PASSED', 'type_description': 'CONSTRUCTION EQUIPMENT PERMIT', 'url': 'https://webapps1.chicago.gov/buildingrecords/inspectiondetails?addr=364923&insp=1957863'}\n",
      "{'inspection': '1768615', 'inspection_date': '06/21/2007', 'status': 'PASSED', 'type_description': 'CONSERVATION ANNUAL', 'url': 'https://webapps1.chicago.gov/buildingrecords/inspectiondetails?addr=364923&insp=1768615'}\n",
      "{'inspection': '1912893', 'inspection_date': '06/13/2007', 'status': 'PARTIAL PASSED', 'type_description': 'CONSTRUCTION EQUIPMENT PERMIT', 'url': 'https://webapps1.chicago.gov/buildingrecords/inspectiondetails?addr=364923&insp=1912893'}\n",
      "{'inspection': '1882042', 'inspection_date': '05/25/2007', 'status': 'PARTIAL PASSED', 'type_description': 'CONSTRUCTION EQUIPMENT PERMIT', 'url': 'https://webapps1.chicago.gov/buildingrecords/inspectiondetails?addr=364923&insp=1882042'}\n"
     ]
    },
    {
     "name": "stdout",
     "output_type": "stream",
     "text": [
      "{'inspection': '1621186', 'inspection_date': '05/16/2007', 'status': 'PARTIAL PASSED', 'type_description': 'PERMIT INSPECTION', 'url': 'https://webapps1.chicago.gov/buildingrecords/inspectiondetails?addr=364923&insp=1621186'}\n",
      "{'inspection': '1613899', 'inspection_date': '05/10/2007', 'status': 'PARTIAL PASSED', 'type_description': 'DOB PLUMBING INSPECTION', 'url': 'https://webapps1.chicago.gov/buildingrecords/inspectiondetails?addr=364923&insp=1613899'}\n",
      "{'inspection': '1881043', 'inspection_date': '04/20/2007', 'status': 'PARTIAL PASSED', 'type_description': 'CONSTRUCTION EQUIPMENT PERMIT', 'url': 'https://webapps1.chicago.gov/buildingrecords/inspectiondetails?addr=364923&insp=1881043'}\n",
      "{'inspection': '1652466', 'inspection_date': '04/06/2007', 'status': 'PASSED', 'type_description': 'BOILER ANNUAL INSPECTION', 'url': 'https://webapps1.chicago.gov/buildingrecords/inspectiondetails?addr=364923&insp=1652466'}\n",
      "{'inspection': '1613909', 'inspection_date': '04/06/2007', 'status': 'PARTIAL PASSED', 'type_description': 'DOB NEW CONSTRUCTION INSP', 'url': 'https://webapps1.chicago.gov/buildingrecords/inspectiondetails?addr=364923&insp=1613909'}\n",
      "{'inspection': '1749666', 'inspection_date': '03/08/2007', 'status': 'PASSED', 'type_description': 'ANNUAL INSPECTION', 'url': 'https://webapps1.chicago.gov/buildingrecords/inspectiondetails?addr=364923&insp=1749666'}\n",
      "{'inspection': '1664779', 'inspection_date': '02/13/2007', 'status': 'PARTIAL PASSED', 'type_description': 'BLDG_PERM IRON PERMIT INSP', 'url': 'https://webapps1.chicago.gov/buildingrecords/inspectiondetails?addr=364923&insp=1664779'}\n",
      "{'inspection': '1664784', 'inspection_date': '02/13/2007', 'status': 'PARTIAL PASSED', 'type_description': 'BLDG_PERM IRON PERMIT INSP', 'url': 'https://webapps1.chicago.gov/buildingrecords/inspectiondetails?addr=364923&insp=1664784'}\n",
      "{'inspection': '1613903', 'inspection_date': '02/07/2007', 'status': 'PARTIAL PASSED', 'type_description': 'CONSTRUCTION EQUIPMENT PERMIT', 'url': 'https://webapps1.chicago.gov/buildingrecords/inspectiondetails?addr=364923&insp=1613903'}\n",
      "{'inspection': '1613910', 'inspection_date': '02/05/2007', 'status': 'PARTIAL PASSED', 'type_description': 'CONSTRUCTION EQUIPMENT PERMIT', 'url': 'https://webapps1.chicago.gov/buildingrecords/inspectiondetails?addr=364923&insp=1613910'}\n",
      "{'inspection': '1613898', 'inspection_date': '12/21/2006', 'status': 'PARTIAL PASSED', 'type_description': 'BLDG_PERM IRON PERMIT INSP', 'url': 'https://webapps1.chicago.gov/buildingrecords/inspectiondetails?addr=364923&insp=1613898'}\n",
      "{'inspection': '1613905', 'inspection_date': '12/21/2006', 'status': 'PARTIAL PASSED', 'type_description': 'BLDG_PERM IRON PERMIT INSP', 'url': 'https://webapps1.chicago.gov/buildingrecords/inspectiondetails?addr=364923&insp=1613905'}\n",
      "{'inspection': '1113224', 'inspection_date': '12/13/2006', 'status': 'PASSED', 'type_description': 'ANNUAL INSPECTION', 'url': 'https://webapps1.chicago.gov/buildingrecords/inspectiondetails?addr=364923&insp=1113224'}\n",
      "{'inspection': '1340193', 'inspection_date': '08/25/2006', 'status': 'PASSED', 'type_description': 'REFRIGERATION ANNUAL', 'url': 'https://webapps1.chicago.gov/buildingrecords/inspectiondetails?addr=364923&insp=1340193'}\n",
      "{'inspection': '1332657', 'inspection_date': '06/20/2006', 'status': 'PASSED', 'type_description': 'ANNUAL INSPECTION', 'url': 'https://webapps1.chicago.gov/buildingrecords/inspectiondetails?addr=364923&insp=1332657'}\n",
      "{'inspection': '1396179', 'inspection_date': '06/01/2006', 'status': 'PASSED', 'type_description': 'VENT ANNUAL', 'url': 'https://webapps1.chicago.gov/buildingrecords/inspectiondetails?addr=364923&insp=1396179'}\n",
      "{'inspection': '1242229', 'inspection_date': '03/10/2006', 'status': 'PASSED', 'type_description': 'BOILER ANNUAL INSPECTION', 'url': 'https://webapps1.chicago.gov/buildingrecords/inspectiondetails?addr=364923&insp=1242229'}\n",
      "{'inspection': '1064281', 'inspection_date': '07/14/2005', 'status': 'PASSED', 'type_description': 'ANNUAL INSPECTION', 'url': 'https://webapps1.chicago.gov/buildingrecords/inspectiondetails?addr=364923&insp=1064281'}\n",
      "{'inspection': '833206', 'inspection_date': '06/29/2005', 'status': 'PASSED', 'type_description': 'REFRIGERATION ANNUAL', 'url': 'https://webapps1.chicago.gov/buildingrecords/inspectiondetails?addr=364923&insp=833206'}\n",
      "{'inspection': '965745', 'inspection_date': '06/25/2005', 'status': 'PASSED', 'type_description': 'ANNUAL INSPECTION', 'url': 'https://webapps1.chicago.gov/buildingrecords/inspectiondetails?addr=364923&insp=965745'}\n",
      "{'inspection': '916641', 'inspection_date': '06/17/2005', 'status': 'PASSED', 'type_description': 'CONSERVATION ANNUAL', 'url': 'https://webapps1.chicago.gov/buildingrecords/inspectiondetails?addr=364923&insp=916641'}\n",
      "{'inspection': '951019', 'inspection_date': '03/21/2005', 'status': 'PASSED', 'type_description': 'BOILER ANNUAL INSPECTION', 'url': 'https://webapps1.chicago.gov/buildingrecords/inspectiondetails?addr=364923&insp=951019'}\n",
      "{'inspection': '745379', 'inspection_date': '07/08/2004', 'status': 'PASSED', 'type_description': 'ANNUAL INSPECTION', 'url': 'https://webapps1.chicago.gov/buildingrecords/inspectiondetails?addr=364923&insp=745379'}\n",
      "{'inspection': '779987', 'inspection_date': '07/08/2004', 'status': 'PASSED', 'type_description': 'ANNUAL INSPECTION', 'url': 'https://webapps1.chicago.gov/buildingrecords/inspectiondetails?addr=364923&insp=779987'}\n",
      "{'inspection': '734609', 'inspection_date': '06/07/2004', 'status': 'PASSED', 'type_description': 'ANNUAL INSPECTION', 'url': 'https://webapps1.chicago.gov/buildingrecords/inspectiondetails?addr=364923&insp=734609'}\n",
      "{'inspection': '577179', 'inspection_date': '02/20/2004', 'status': 'PASSED', 'type_description': 'BOILER ANNUAL INSPECTION', 'url': 'https://webapps1.chicago.gov/buildingrecords/inspectiondetails?addr=364923&insp=577179'}\n",
      "{'inspection': '495435', 'inspection_date': '07/07/2003', 'status': 'PASSED', 'type_description': 'ANNUAL INSPECTION', 'url': 'https://webapps1.chicago.gov/buildingrecords/inspectiondetails?addr=364923&insp=495435'}\n",
      "{'inspection': '251124', 'inspection_date': '06/25/2003', 'status': 'PASSED', 'type_description': 'ANNUAL INSPECTION', 'url': 'https://webapps1.chicago.gov/buildingrecords/inspectiondetails?addr=364923&insp=251124'}\n",
      "{'inspection': '465051', 'inspection_date': '06/25/2003', 'status': 'PASSED', 'type_description': 'ANNUAL INSPECTION', 'url': 'https://webapps1.chicago.gov/buildingrecords/inspectiondetails?addr=364923&insp=465051'}\n",
      "{'inspection': '417334', 'inspection_date': '05/30/2003', 'status': 'PASSED', 'type_description': 'SIGN ANNUAL INSPECTION', 'url': 'https://webapps1.chicago.gov/buildingrecords/inspectiondetails?addr=364923&insp=417334'}\n",
      "{'inspection': '458503', 'inspection_date': '03/05/2003', 'status': 'FAILED', 'type_description': 'ANNUAL INSPECTION', 'url': 'https://webapps1.chicago.gov/buildingrecords/inspectiondetails?addr=364923&insp=458503'}\n",
      "{'inspection': '440211', 'inspection_date': '02/10/2003', 'status': 'PASSED', 'type_description': 'BOILER ANNUAL INSPECTION', 'url': 'https://webapps1.chicago.gov/buildingrecords/inspectiondetails?addr=364923&insp=440211'}\n",
      "{'inspection': '200272', 'inspection_date': '10/02/2002', 'status': 'PASSED', 'type_description': 'SIGN ANNUAL INSPECTION', 'url': 'https://webapps1.chicago.gov/buildingrecords/inspectiondetails?addr=364923&insp=200272'}\n",
      "{'inspection': '707841', 'inspection_date': '10/02/2002', 'status': 'CLOSED', 'type_description': 'SIGN ANNUAL INSPECTION', 'url': 'https://webapps1.chicago.gov/buildingrecords/inspectiondetails?addr=364923&insp=707841'}\n",
      "{'inspection': '251273', 'inspection_date': '07/11/2002', 'status': 'PASSED', 'type_description': 'ANNUAL INSPECTION', 'url': 'https://webapps1.chicago.gov/buildingrecords/inspectiondetails?addr=364923&insp=251273'}\n",
      "{'inspection': '245364', 'inspection_date': '07/10/2002', 'status': 'PASSED', 'type_description': 'ANNUAL INSPECTION', 'url': 'https://webapps1.chicago.gov/buildingrecords/inspectiondetails?addr=364923&insp=245364'}\n",
      "{'inspection': '175477', 'inspection_date': '02/16/2002', 'status': 'PASSED', 'type_description': 'BOILER ANNUAL INSPECTION', 'url': 'https://webapps1.chicago.gov/buildingrecords/inspectiondetails?addr=364923&insp=175477'}\n",
      "{'inspection': '9639744', 'inspection_date': '12/22/2001', 'status': 'CLOSED', 'type_description': 'ANNUAL INSPECTION', 'url': 'https://webapps1.chicago.gov/buildingrecords/inspectiondetails?addr=364923&insp=9639744'}\n",
      "{'inspection': '130127', 'inspection_date': '08/20/2001', 'status': 'CLOSED', 'type_description': 'FIRE PREVENTION PUMPS LEGACY', 'url': 'https://webapps1.chicago.gov/buildingrecords/inspectiondetails?addr=364923&insp=130127'}\n"
     ]
    },
    {
     "name": "stdout",
     "output_type": "stream",
     "text": [
      "{'inspection': '25836', 'inspection_date': '07/09/2001', 'status': 'PASSED', 'type_description': 'SIGN ANNUAL INSPECTION', 'url': 'https://webapps1.chicago.gov/buildingrecords/inspectiondetails?addr=364923&insp=25836'}\n",
      "{'inspection': '130126', 'inspection_date': '05/09/1997', 'status': 'CLOSED', 'type_description': 'FIRE PREVENTION PUMPS LEGACY', 'url': 'https://webapps1.chicago.gov/buildingrecords/inspectiondetails?addr=364923&insp=130126'}\n",
      "{'inspection': '9475223', 'inspection_date': '01/28/1997', 'status': 'CLOSED', 'type_description': 'ELEVATOR LEGACY INSPECTION', 'url': 'https://webapps1.chicago.gov/buildingrecords/inspectiondetails?addr=364923&insp=9475223'}\n",
      "{'inspection': '9457580', 'inspection_date': '01/21/1997', 'status': 'CLOSED', 'type_description': 'ELEVATOR LEGACY INSPECTION', 'url': 'https://webapps1.chicago.gov/buildingrecords/inspectiondetails?addr=364923&insp=9457580'}\n",
      "{'inspection': '130125', 'inspection_date': '03/21/1996', 'status': 'CLOSED', 'type_description': 'FIRE PREVENTION PUMPS LEGACY', 'url': 'https://webapps1.chicago.gov/buildingrecords/inspectiondetails?addr=364923&insp=130125'}\n"
     ]
    }
   ],
   "source": [
    "items = driver.find_elements_by_id(\"resultstable_inspections\")\n",
    "big_list = []\n",
    "for item in items:\n",
    "    table= item.find_elements_by_tag_name('tbody')\n",
    "    for inside_table in table:\n",
    "        rows= inside_table.find_elements_by_tag_name('tr')\n",
    "        for row in rows:\n",
    "            dictionary={}\n",
    "            dictionary['inspection'] = row.find_elements_by_tag_name('td')[0].text\n",
    "            dictionary['inspection_date'] = row.find_elements_by_tag_name('td')[1].text\n",
    "            dictionary['status'] = row.find_elements_by_tag_name('td')[2].text\n",
    "            dictionary['type_description'] = row.find_elements_by_tag_name('td')[3].text\n",
    "            links = row.find_elements_by_tag_name('a')\n",
    "            for link in links:\n",
    "                dictionary['url'] = link.get_attribute('href')\n",
    "            print(dictionary)\n",
    "            big_list.append(dictionary)\n",
    "        "
   ]
  },
  {
   "cell_type": "code",
   "execution_count": 10,
   "metadata": {},
   "outputs": [
    {
     "data": {
      "text/html": [
       "<div>\n",
       "<style scoped>\n",
       "    .dataframe tbody tr th:only-of-type {\n",
       "        vertical-align: middle;\n",
       "    }\n",
       "\n",
       "    .dataframe tbody tr th {\n",
       "        vertical-align: top;\n",
       "    }\n",
       "\n",
       "    .dataframe thead th {\n",
       "        text-align: right;\n",
       "    }\n",
       "</style>\n",
       "<table border=\"1\" class=\"dataframe\">\n",
       "  <thead>\n",
       "    <tr style=\"text-align: right;\">\n",
       "      <th></th>\n",
       "      <th>inspection</th>\n",
       "      <th>inspection_date</th>\n",
       "      <th>status</th>\n",
       "      <th>type_description</th>\n",
       "      <th>url</th>\n",
       "    </tr>\n",
       "  </thead>\n",
       "  <tbody>\n",
       "    <tr>\n",
       "      <th>0</th>\n",
       "      <td>13175960</td>\n",
       "      <td>11/30/2020</td>\n",
       "      <td>FAILED</td>\n",
       "      <td>ANNUAL INSPECTION</td>\n",
       "      <td>https://webapps1.chicago.gov/buildingrecords/i...</td>\n",
       "    </tr>\n",
       "    <tr>\n",
       "      <th>1</th>\n",
       "      <td>12770690</td>\n",
       "      <td>05/30/2019</td>\n",
       "      <td>PASSED</td>\n",
       "      <td>BOILER ANNUAL INSPECTION</td>\n",
       "      <td>https://webapps1.chicago.gov/buildingrecords/i...</td>\n",
       "    </tr>\n",
       "    <tr>\n",
       "      <th>2</th>\n",
       "      <td>12670542</td>\n",
       "      <td>05/21/2019</td>\n",
       "      <td>FAILED</td>\n",
       "      <td>CONSERVATION ANNUAL</td>\n",
       "      <td>https://webapps1.chicago.gov/buildingrecords/i...</td>\n",
       "    </tr>\n",
       "    <tr>\n",
       "      <th>3</th>\n",
       "      <td>12277260</td>\n",
       "      <td>08/27/2018</td>\n",
       "      <td>FAILED</td>\n",
       "      <td>CONSERVATION ANNUAL</td>\n",
       "      <td>https://webapps1.chicago.gov/buildingrecords/i...</td>\n",
       "    </tr>\n",
       "    <tr>\n",
       "      <th>4</th>\n",
       "      <td>12418304</td>\n",
       "      <td>05/30/2018</td>\n",
       "      <td>PASSED</td>\n",
       "      <td>BOILER ANNUAL INSPECTION</td>\n",
       "      <td>https://webapps1.chicago.gov/buildingrecords/i...</td>\n",
       "    </tr>\n",
       "  </tbody>\n",
       "</table>\n",
       "</div>"
      ],
      "text/plain": [
       "  inspection inspection_date  status          type_description  \\\n",
       "0   13175960      11/30/2020  FAILED         ANNUAL INSPECTION   \n",
       "1   12770690      05/30/2019  PASSED  BOILER ANNUAL INSPECTION   \n",
       "2   12670542      05/21/2019  FAILED       CONSERVATION ANNUAL   \n",
       "3   12277260      08/27/2018  FAILED       CONSERVATION ANNUAL   \n",
       "4   12418304      05/30/2018  PASSED  BOILER ANNUAL INSPECTION   \n",
       "\n",
       "                                                 url  \n",
       "0  https://webapps1.chicago.gov/buildingrecords/i...  \n",
       "1  https://webapps1.chicago.gov/buildingrecords/i...  \n",
       "2  https://webapps1.chicago.gov/buildingrecords/i...  \n",
       "3  https://webapps1.chicago.gov/buildingrecords/i...  \n",
       "4  https://webapps1.chicago.gov/buildingrecords/i...  "
      ]
     },
     "execution_count": 10,
     "metadata": {},
     "output_type": "execute_result"
    }
   ],
   "source": [
    "import pandas as pd\n",
    "df2 = pd.DataFrame(big_list)\n",
    "df2.head()"
   ]
  },
  {
   "cell_type": "code",
   "execution_count": 11,
   "metadata": {},
   "outputs": [],
   "source": [
    "df2.to_csv(r'/Users/biancapallaro/Documents/Foundations/inspections.csv', index = False, header=True)\n"
   ]
  },
  {
   "cell_type": "markdown",
   "metadata": {},
   "source": [
    "### Loopity loops\n",
    "\n",
    "> If you used Selenium for the last question, copy the code and use it as a starting point for what we're about to do!\n",
    "\n",
    "If you click the inspection number, it'll open up a new window that shows you details of the violations from that visit. Count the number of violations for each visit and save it in a new column called **num_violations**.\n",
    "\n",
    "Save this file as `Inspections - 400 E 41ST ST - with counts.csv`.\n",
    "\n",
    "Since it opens in a new window, we have to say \"Hey Selenium, pay attention to that new window!\" We do that with `driver.switch_to.window(driver.window_handles[-1])` (each window gets a `window_handle`, and we're just asking the driver to switch to the last one.). A rough sketch of what your code will look like is here:\n",
    "\n",
    "```python\n",
    "# Click the link that opens the new window\n",
    "\n",
    "# Switch to the new window/tab\n",
    "driver.switch_to.window(driver.window_handles[-1])\n",
    "\n",
    "# Do your scraping in here\n",
    "\n",
    "# Close the new window/tab\n",
    "driver.close()\n",
    "\n",
    "# Switch back to the original window/tab\n",
    "driver.switch_to.window(driver.window_handles[0])\n",
    "```\n",
    "\n",
    "You'll want to play around with them individually before you try it with the whole set - the ones that pass are very different pages than the ones with violations! There are a few ways to get the number of violations, some easier than others."
   ]
  },
  {
   "cell_type": "code",
   "execution_count": 12,
   "metadata": {},
   "outputs": [
    {
     "name": "stdout",
     "output_type": "stream",
     "text": [
      "10\n"
     ]
    },
    {
     "ename": "StaleElementReferenceException",
     "evalue": "Message: stale element reference: element is not attached to the page document\n  (Session info: chrome=87.0.4280.88)\n",
     "output_type": "error",
     "traceback": [
      "\u001b[0;31m---------------------------------------------------------------------------\u001b[0m",
      "\u001b[0;31mStaleElementReferenceException\u001b[0m            Traceback (most recent call last)",
      "\u001b[0;32m<ipython-input-12-74e090b0dca2>\u001b[0m in \u001b[0;36m<module>\u001b[0;34m\u001b[0m\n\u001b[1;32m      5\u001b[0m         \u001b[0mrows\u001b[0m\u001b[0;34m=\u001b[0m \u001b[0minside_table\u001b[0m\u001b[0;34m.\u001b[0m\u001b[0mfind_elements_by_tag_name\u001b[0m\u001b[0;34m(\u001b[0m\u001b[0;34m'tr'\u001b[0m\u001b[0;34m)\u001b[0m\u001b[0;34m\u001b[0m\u001b[0;34m\u001b[0m\u001b[0m\n\u001b[1;32m      6\u001b[0m         \u001b[0;32mfor\u001b[0m \u001b[0mrow\u001b[0m \u001b[0;32min\u001b[0m \u001b[0mrows\u001b[0m\u001b[0;34m:\u001b[0m\u001b[0;34m\u001b[0m\u001b[0;34m\u001b[0m\u001b[0m\n\u001b[0;32m----> 7\u001b[0;31m             \u001b[0mlinks\u001b[0m \u001b[0;34m=\u001b[0m \u001b[0mrow\u001b[0m\u001b[0;34m.\u001b[0m\u001b[0mfind_elements_by_tag_name\u001b[0m\u001b[0;34m(\u001b[0m\u001b[0;34m'a'\u001b[0m\u001b[0;34m)\u001b[0m\u001b[0;34m\u001b[0m\u001b[0;34m\u001b[0m\u001b[0m\n\u001b[0m\u001b[1;32m      8\u001b[0m             \u001b[0;32mfor\u001b[0m \u001b[0mlink\u001b[0m \u001b[0;32min\u001b[0m \u001b[0mlinks\u001b[0m\u001b[0;34m:\u001b[0m\u001b[0;34m\u001b[0m\u001b[0;34m\u001b[0m\u001b[0m\n\u001b[1;32m      9\u001b[0m                 \u001b[0mlink\u001b[0m\u001b[0;34m.\u001b[0m\u001b[0mclick\u001b[0m\u001b[0;34m(\u001b[0m\u001b[0;34m)\u001b[0m\u001b[0;34m\u001b[0m\u001b[0;34m\u001b[0m\u001b[0m\n",
      "\u001b[0;32m~/.pyenv/versions/3.8.2/lib/python3.8/site-packages/selenium/webdriver/remote/webelement.py\u001b[0m in \u001b[0;36mfind_elements_by_tag_name\u001b[0;34m(self, name)\u001b[0m\n\u001b[1;32m    318\u001b[0m             \u001b[0melements\u001b[0m \u001b[0;34m=\u001b[0m \u001b[0melement\u001b[0m\u001b[0;34m.\u001b[0m\u001b[0mfind_elements_by_tag_name\u001b[0m\u001b[0;34m(\u001b[0m\u001b[0;34m'h1'\u001b[0m\u001b[0;34m)\u001b[0m\u001b[0;34m\u001b[0m\u001b[0;34m\u001b[0m\u001b[0m\n\u001b[1;32m    319\u001b[0m         \"\"\"\n\u001b[0;32m--> 320\u001b[0;31m         \u001b[0;32mreturn\u001b[0m \u001b[0mself\u001b[0m\u001b[0;34m.\u001b[0m\u001b[0mfind_elements\u001b[0m\u001b[0;34m(\u001b[0m\u001b[0mby\u001b[0m\u001b[0;34m=\u001b[0m\u001b[0mBy\u001b[0m\u001b[0;34m.\u001b[0m\u001b[0mTAG_NAME\u001b[0m\u001b[0;34m,\u001b[0m \u001b[0mvalue\u001b[0m\u001b[0;34m=\u001b[0m\u001b[0mname\u001b[0m\u001b[0;34m)\u001b[0m\u001b[0;34m\u001b[0m\u001b[0;34m\u001b[0m\u001b[0m\n\u001b[0m\u001b[1;32m    321\u001b[0m \u001b[0;34m\u001b[0m\u001b[0m\n\u001b[1;32m    322\u001b[0m     \u001b[0;32mdef\u001b[0m \u001b[0mfind_element_by_xpath\u001b[0m\u001b[0;34m(\u001b[0m\u001b[0mself\u001b[0m\u001b[0;34m,\u001b[0m \u001b[0mxpath\u001b[0m\u001b[0;34m)\u001b[0m\u001b[0;34m:\u001b[0m\u001b[0;34m\u001b[0m\u001b[0;34m\u001b[0m\u001b[0m\n",
      "\u001b[0;32m~/.pyenv/versions/3.8.2/lib/python3.8/site-packages/selenium/webdriver/remote/webelement.py\u001b[0m in \u001b[0;36mfind_elements\u001b[0;34m(self, by, value)\u001b[0m\n\u001b[1;32m    682\u001b[0m                 \u001b[0mvalue\u001b[0m \u001b[0;34m=\u001b[0m \u001b[0;34m'[name=\"%s\"]'\u001b[0m \u001b[0;34m%\u001b[0m \u001b[0mvalue\u001b[0m\u001b[0;34m\u001b[0m\u001b[0;34m\u001b[0m\u001b[0m\n\u001b[1;32m    683\u001b[0m \u001b[0;34m\u001b[0m\u001b[0m\n\u001b[0;32m--> 684\u001b[0;31m         return self._execute(Command.FIND_CHILD_ELEMENTS,\n\u001b[0m\u001b[1;32m    685\u001b[0m                              {\"using\": by, \"value\": value})['value']\n\u001b[1;32m    686\u001b[0m \u001b[0;34m\u001b[0m\u001b[0m\n",
      "\u001b[0;32m~/.pyenv/versions/3.8.2/lib/python3.8/site-packages/selenium/webdriver/remote/webelement.py\u001b[0m in \u001b[0;36m_execute\u001b[0;34m(self, command, params)\u001b[0m\n\u001b[1;32m    631\u001b[0m             \u001b[0mparams\u001b[0m \u001b[0;34m=\u001b[0m \u001b[0;34m{\u001b[0m\u001b[0;34m}\u001b[0m\u001b[0;34m\u001b[0m\u001b[0;34m\u001b[0m\u001b[0m\n\u001b[1;32m    632\u001b[0m         \u001b[0mparams\u001b[0m\u001b[0;34m[\u001b[0m\u001b[0;34m'id'\u001b[0m\u001b[0;34m]\u001b[0m \u001b[0;34m=\u001b[0m \u001b[0mself\u001b[0m\u001b[0;34m.\u001b[0m\u001b[0m_id\u001b[0m\u001b[0;34m\u001b[0m\u001b[0;34m\u001b[0m\u001b[0m\n\u001b[0;32m--> 633\u001b[0;31m         \u001b[0;32mreturn\u001b[0m \u001b[0mself\u001b[0m\u001b[0;34m.\u001b[0m\u001b[0m_parent\u001b[0m\u001b[0;34m.\u001b[0m\u001b[0mexecute\u001b[0m\u001b[0;34m(\u001b[0m\u001b[0mcommand\u001b[0m\u001b[0;34m,\u001b[0m \u001b[0mparams\u001b[0m\u001b[0;34m)\u001b[0m\u001b[0;34m\u001b[0m\u001b[0;34m\u001b[0m\u001b[0m\n\u001b[0m\u001b[1;32m    634\u001b[0m \u001b[0;34m\u001b[0m\u001b[0m\n\u001b[1;32m    635\u001b[0m     \u001b[0;32mdef\u001b[0m \u001b[0mfind_element\u001b[0m\u001b[0;34m(\u001b[0m\u001b[0mself\u001b[0m\u001b[0;34m,\u001b[0m \u001b[0mby\u001b[0m\u001b[0;34m=\u001b[0m\u001b[0mBy\u001b[0m\u001b[0;34m.\u001b[0m\u001b[0mID\u001b[0m\u001b[0;34m,\u001b[0m \u001b[0mvalue\u001b[0m\u001b[0;34m=\u001b[0m\u001b[0;32mNone\u001b[0m\u001b[0;34m)\u001b[0m\u001b[0;34m:\u001b[0m\u001b[0;34m\u001b[0m\u001b[0;34m\u001b[0m\u001b[0m\n",
      "\u001b[0;32m~/.pyenv/versions/3.8.2/lib/python3.8/site-packages/selenium/webdriver/remote/webdriver.py\u001b[0m in \u001b[0;36mexecute\u001b[0;34m(self, driver_command, params)\u001b[0m\n\u001b[1;32m    319\u001b[0m         \u001b[0mresponse\u001b[0m \u001b[0;34m=\u001b[0m \u001b[0mself\u001b[0m\u001b[0;34m.\u001b[0m\u001b[0mcommand_executor\u001b[0m\u001b[0;34m.\u001b[0m\u001b[0mexecute\u001b[0m\u001b[0;34m(\u001b[0m\u001b[0mdriver_command\u001b[0m\u001b[0;34m,\u001b[0m \u001b[0mparams\u001b[0m\u001b[0;34m)\u001b[0m\u001b[0;34m\u001b[0m\u001b[0;34m\u001b[0m\u001b[0m\n\u001b[1;32m    320\u001b[0m         \u001b[0;32mif\u001b[0m \u001b[0mresponse\u001b[0m\u001b[0;34m:\u001b[0m\u001b[0;34m\u001b[0m\u001b[0;34m\u001b[0m\u001b[0m\n\u001b[0;32m--> 321\u001b[0;31m             \u001b[0mself\u001b[0m\u001b[0;34m.\u001b[0m\u001b[0merror_handler\u001b[0m\u001b[0;34m.\u001b[0m\u001b[0mcheck_response\u001b[0m\u001b[0;34m(\u001b[0m\u001b[0mresponse\u001b[0m\u001b[0;34m)\u001b[0m\u001b[0;34m\u001b[0m\u001b[0;34m\u001b[0m\u001b[0m\n\u001b[0m\u001b[1;32m    322\u001b[0m             response['value'] = self._unwrap_value(\n\u001b[1;32m    323\u001b[0m                 response.get('value', None))\n",
      "\u001b[0;32m~/.pyenv/versions/3.8.2/lib/python3.8/site-packages/selenium/webdriver/remote/errorhandler.py\u001b[0m in \u001b[0;36mcheck_response\u001b[0;34m(self, response)\u001b[0m\n\u001b[1;32m    240\u001b[0m                 \u001b[0malert_text\u001b[0m \u001b[0;34m=\u001b[0m \u001b[0mvalue\u001b[0m\u001b[0;34m[\u001b[0m\u001b[0;34m'alert'\u001b[0m\u001b[0;34m]\u001b[0m\u001b[0;34m.\u001b[0m\u001b[0mget\u001b[0m\u001b[0;34m(\u001b[0m\u001b[0;34m'text'\u001b[0m\u001b[0;34m)\u001b[0m\u001b[0;34m\u001b[0m\u001b[0;34m\u001b[0m\u001b[0m\n\u001b[1;32m    241\u001b[0m             \u001b[0;32mraise\u001b[0m \u001b[0mexception_class\u001b[0m\u001b[0;34m(\u001b[0m\u001b[0mmessage\u001b[0m\u001b[0;34m,\u001b[0m \u001b[0mscreen\u001b[0m\u001b[0;34m,\u001b[0m \u001b[0mstacktrace\u001b[0m\u001b[0;34m,\u001b[0m \u001b[0malert_text\u001b[0m\u001b[0;34m)\u001b[0m\u001b[0;34m\u001b[0m\u001b[0;34m\u001b[0m\u001b[0m\n\u001b[0;32m--> 242\u001b[0;31m         \u001b[0;32mraise\u001b[0m \u001b[0mexception_class\u001b[0m\u001b[0;34m(\u001b[0m\u001b[0mmessage\u001b[0m\u001b[0;34m,\u001b[0m \u001b[0mscreen\u001b[0m\u001b[0;34m,\u001b[0m \u001b[0mstacktrace\u001b[0m\u001b[0;34m)\u001b[0m\u001b[0;34m\u001b[0m\u001b[0;34m\u001b[0m\u001b[0m\n\u001b[0m\u001b[1;32m    243\u001b[0m \u001b[0;34m\u001b[0m\u001b[0m\n\u001b[1;32m    244\u001b[0m     \u001b[0;32mdef\u001b[0m \u001b[0m_value_or_default\u001b[0m\u001b[0;34m(\u001b[0m\u001b[0mself\u001b[0m\u001b[0;34m,\u001b[0m \u001b[0mobj\u001b[0m\u001b[0;34m,\u001b[0m \u001b[0mkey\u001b[0m\u001b[0;34m,\u001b[0m \u001b[0mdefault\u001b[0m\u001b[0;34m)\u001b[0m\u001b[0;34m:\u001b[0m\u001b[0;34m\u001b[0m\u001b[0;34m\u001b[0m\u001b[0m\n",
      "\u001b[0;31mStaleElementReferenceException\u001b[0m: Message: stale element reference: element is not attached to the page document\n  (Session info: chrome=87.0.4280.88)\n"
     ]
    }
   ],
   "source": [
    "items = driver.find_elements_by_id(\"resultstable_inspections\")\n",
    "for item in items:\n",
    "    table= item.find_elements_by_tag_name('tbody')\n",
    "    for inside_table in table:\n",
    "        rows= inside_table.find_elements_by_tag_name('tr')\n",
    "        for row in rows:\n",
    "            links = row.find_elements_by_tag_name('a')\n",
    "            for link in links:\n",
    "                link.click()\n",
    "                driver.switch_to.window(driver.window_handles[-1])\n",
    "                table = driver.find_elements_by_id(\"resultstable\")\n",
    "                for things in table:\n",
    "                    everything = things.find_elements_by_tag_name('tbody')\n",
    "                    for trs in everything:\n",
    "                        tr_count = trs.find_elements_by_tag_name('tr')\n",
    "                        print(len(tr_count))\n",
    "                        driver.close()\n",
    "                        driver.switch_to.window(driver.window_handles[0])\n",
    "                \n",
    "                    "
   ]
  },
  {
   "cell_type": "code",
   "execution_count": null,
   "metadata": {},
   "outputs": [],
   "source": []
  },
  {
   "cell_type": "code",
   "execution_count": null,
   "metadata": {},
   "outputs": [],
   "source": []
  },
  {
   "cell_type": "code",
   "execution_count": null,
   "metadata": {},
   "outputs": [],
   "source": []
  },
  {
   "cell_type": "code",
   "execution_count": null,
   "metadata": {},
   "outputs": [],
   "source": []
  },
  {
   "cell_type": "code",
   "execution_count": null,
   "metadata": {},
   "outputs": [],
   "source": []
  }
 ],
 "metadata": {
  "kernelspec": {
   "display_name": "Python 3",
   "language": "python",
   "name": "python3"
  },
  "language_info": {
   "codemirror_mode": {
    "name": "ipython",
    "version": 3
   },
   "file_extension": ".py",
   "mimetype": "text/x-python",
   "name": "python",
   "nbconvert_exporter": "python",
   "pygments_lexer": "ipython3",
   "version": "3.8.2"
  }
 },
 "nbformat": 4,
 "nbformat_minor": 4
}
