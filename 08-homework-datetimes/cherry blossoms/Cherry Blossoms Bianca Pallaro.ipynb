{
 "cells": [
  {
   "cell_type": "markdown",
   "metadata": {},
   "source": [
    "# Cherry Blossoms!\n",
    "\n",
    "If we travel back in time, [cherry blossoms](https://en.wikipedia.org/wiki/Cherry_blossom) were once in full bloom! We don't live in Japan or DC, but in non-COVID times we also have the [Brooklyn Botanic Garden's annual festival](https://www.bbg.org/visit/event/sakura_matsuri_2020).\n",
    "\n",
    "We'll have to make up for it with data-driven cherry blossoms instead. Once upon a time [Data is Plural](https://tinyletter.com/data-is-plural) linked to [a dataset](http://atmenv.envi.osakafu-u.ac.jp/aono/kyophenotemp4/) about when the cherry trees blossom each year. It's completely out of date, but it's quirky in a real nice way so we're sticking with it.\n",
    "\n",
    "## 0. Do all of your importing/setup stuff"
   ]
  },
  {
   "cell_type": "code",
   "execution_count": 4,
   "metadata": {},
   "outputs": [],
   "source": [
    "import pandas as pd\n",
    "import numpy as np"
   ]
  },
  {
   "cell_type": "markdown",
   "metadata": {},
   "source": [
    "## 1. Read in the file using pandas, and look at the first five rows"
   ]
  },
  {
   "cell_type": "code",
   "execution_count": 9,
   "metadata": {},
   "outputs": [
    {
     "data": {
      "text/html": [
       "<div>\n",
       "<style scoped>\n",
       "    .dataframe tbody tr th:only-of-type {\n",
       "        vertical-align: middle;\n",
       "    }\n",
       "\n",
       "    .dataframe tbody tr th {\n",
       "        vertical-align: top;\n",
       "    }\n",
       "\n",
       "    .dataframe thead th {\n",
       "        text-align: right;\n",
       "    }\n",
       "</style>\n",
       "<table border=\"1\" class=\"dataframe\">\n",
       "  <thead>\n",
       "    <tr style=\"text-align: right;\">\n",
       "      <th></th>\n",
       "      <th>AD</th>\n",
       "      <th>Full-flowering date (DOY)</th>\n",
       "      <th>Full-flowering date</th>\n",
       "      <th>Source code</th>\n",
       "      <th>Data type code</th>\n",
       "      <th>Reference Name</th>\n",
       "    </tr>\n",
       "  </thead>\n",
       "  <tbody>\n",
       "    <tr>\n",
       "      <th>0</th>\n",
       "      <td>801</td>\n",
       "      <td>NaN</td>\n",
       "      <td>NaN</td>\n",
       "      <td>NaN</td>\n",
       "      <td>NaN</td>\n",
       "      <td>-</td>\n",
       "    </tr>\n",
       "    <tr>\n",
       "      <th>1</th>\n",
       "      <td>802</td>\n",
       "      <td>NaN</td>\n",
       "      <td>NaN</td>\n",
       "      <td>NaN</td>\n",
       "      <td>NaN</td>\n",
       "      <td>-</td>\n",
       "    </tr>\n",
       "    <tr>\n",
       "      <th>2</th>\n",
       "      <td>803</td>\n",
       "      <td>NaN</td>\n",
       "      <td>NaN</td>\n",
       "      <td>NaN</td>\n",
       "      <td>NaN</td>\n",
       "      <td>-</td>\n",
       "    </tr>\n",
       "    <tr>\n",
       "      <th>3</th>\n",
       "      <td>804</td>\n",
       "      <td>NaN</td>\n",
       "      <td>NaN</td>\n",
       "      <td>NaN</td>\n",
       "      <td>NaN</td>\n",
       "      <td>-</td>\n",
       "    </tr>\n",
       "    <tr>\n",
       "      <th>4</th>\n",
       "      <td>805</td>\n",
       "      <td>NaN</td>\n",
       "      <td>NaN</td>\n",
       "      <td>NaN</td>\n",
       "      <td>NaN</td>\n",
       "      <td>-</td>\n",
       "    </tr>\n",
       "  </tbody>\n",
       "</table>\n",
       "</div>"
      ],
      "text/plain": [
       "    AD  Full-flowering date (DOY)  Full-flowering date  Source code  \\\n",
       "0  801                        NaN                  NaN          NaN   \n",
       "1  802                        NaN                  NaN          NaN   \n",
       "2  803                        NaN                  NaN          NaN   \n",
       "3  804                        NaN                  NaN          NaN   \n",
       "4  805                        NaN                  NaN          NaN   \n",
       "\n",
       "   Data type code Reference Name  \n",
       "0             NaN              -  \n",
       "1             NaN              -  \n",
       "2             NaN              -  \n",
       "3             NaN              -  \n",
       "4             NaN              -  "
      ]
     },
     "execution_count": 9,
     "metadata": {},
     "output_type": "execute_result"
    }
   ],
   "source": [
    "df = pd.read_excel(\"KyotoFullFlower7.xls\",  header=25)\n",
    "df.head()"
   ]
  },
  {
   "cell_type": "markdown",
   "metadata": {},
   "source": [
    "## 2. Read in the file using pandas CORRECTLY, and look at the first five rows\n",
    "\n",
    "Hrm, how do your column names look? Read the file in again but this time add a parameter to make sure your columns look right.\n",
    "\n",
    "**TIP: The first year should be 801 AD, and it should not have any dates or anything.**"
   ]
  },
  {
   "cell_type": "code",
   "execution_count": null,
   "metadata": {},
   "outputs": [],
   "source": [
    "#Did it above"
   ]
  },
  {
   "cell_type": "markdown",
   "metadata": {},
   "source": [
    "## 3. Look at the final five rows of the data"
   ]
  },
  {
   "cell_type": "code",
   "execution_count": 11,
   "metadata": {},
   "outputs": [
    {
     "data": {
      "text/html": [
       "<div>\n",
       "<style scoped>\n",
       "    .dataframe tbody tr th:only-of-type {\n",
       "        vertical-align: middle;\n",
       "    }\n",
       "\n",
       "    .dataframe tbody tr th {\n",
       "        vertical-align: top;\n",
       "    }\n",
       "\n",
       "    .dataframe thead th {\n",
       "        text-align: right;\n",
       "    }\n",
       "</style>\n",
       "<table border=\"1\" class=\"dataframe\">\n",
       "  <thead>\n",
       "    <tr style=\"text-align: right;\">\n",
       "      <th></th>\n",
       "      <th>AD</th>\n",
       "      <th>Full-flowering date (DOY)</th>\n",
       "      <th>Full-flowering date</th>\n",
       "      <th>Source code</th>\n",
       "      <th>Data type code</th>\n",
       "      <th>Reference Name</th>\n",
       "    </tr>\n",
       "  </thead>\n",
       "  <tbody>\n",
       "    <tr>\n",
       "      <th>1210</th>\n",
       "      <td>2011</td>\n",
       "      <td>99.0</td>\n",
       "      <td>409.0</td>\n",
       "      <td>8.0</td>\n",
       "      <td>0.0</td>\n",
       "      <td>NEWS-PAPER(ARASHIYAMA)</td>\n",
       "    </tr>\n",
       "    <tr>\n",
       "      <th>1211</th>\n",
       "      <td>2012</td>\n",
       "      <td>101.0</td>\n",
       "      <td>410.0</td>\n",
       "      <td>8.0</td>\n",
       "      <td>0.0</td>\n",
       "      <td>NEWS-PAPER(ARASHIYAMA)</td>\n",
       "    </tr>\n",
       "    <tr>\n",
       "      <th>1212</th>\n",
       "      <td>2013</td>\n",
       "      <td>93.0</td>\n",
       "      <td>403.0</td>\n",
       "      <td>8.0</td>\n",
       "      <td>0.0</td>\n",
       "      <td>NEWS-PAPER(ARASHIYAMA)</td>\n",
       "    </tr>\n",
       "    <tr>\n",
       "      <th>1213</th>\n",
       "      <td>2014</td>\n",
       "      <td>94.0</td>\n",
       "      <td>404.0</td>\n",
       "      <td>8.0</td>\n",
       "      <td>0.0</td>\n",
       "      <td>NEWS-PAPER(ARASHIYAMA)</td>\n",
       "    </tr>\n",
       "    <tr>\n",
       "      <th>1214</th>\n",
       "      <td>2015</td>\n",
       "      <td>93.0</td>\n",
       "      <td>403.0</td>\n",
       "      <td>8.0</td>\n",
       "      <td>0.0</td>\n",
       "      <td>NEWS-PAPER(ARASHIYAMA)</td>\n",
       "    </tr>\n",
       "  </tbody>\n",
       "</table>\n",
       "</div>"
      ],
      "text/plain": [
       "        AD  Full-flowering date (DOY)  Full-flowering date  Source code  \\\n",
       "1210  2011                       99.0                409.0          8.0   \n",
       "1211  2012                      101.0                410.0          8.0   \n",
       "1212  2013                       93.0                403.0          8.0   \n",
       "1213  2014                       94.0                404.0          8.0   \n",
       "1214  2015                       93.0                403.0          8.0   \n",
       "\n",
       "      Data type code          Reference Name  \n",
       "1210             0.0  NEWS-PAPER(ARASHIYAMA)  \n",
       "1211             0.0  NEWS-PAPER(ARASHIYAMA)  \n",
       "1212             0.0  NEWS-PAPER(ARASHIYAMA)  \n",
       "1213             0.0  NEWS-PAPER(ARASHIYAMA)  \n",
       "1214             0.0  NEWS-PAPER(ARASHIYAMA)  "
      ]
     },
     "execution_count": 11,
     "metadata": {},
     "output_type": "execute_result"
    }
   ],
   "source": [
    "df.tail()"
   ]
  },
  {
   "cell_type": "markdown",
   "metadata": {},
   "source": [
    "## 4. Add some more NaN values"
   ]
  },
  {
   "cell_type": "markdown",
   "metadata": {},
   "source": [
    "It looks like you should probably have some NaN/missing values earlier on in the dataset under \"Reference name.\" Read in the file *one more time*, this time making sure all of those missing reference names actually show up as `NaN` instead of `-`."
   ]
  },
  {
   "cell_type": "code",
   "execution_count": 12,
   "metadata": {},
   "outputs": [],
   "source": [
    "df = pd.read_excel(\"KyotoFullFlower7.xls\",  header=25, na_values= [\"-\"])"
   ]
  },
  {
   "cell_type": "code",
   "execution_count": 13,
   "metadata": {},
   "outputs": [
    {
     "data": {
      "text/html": [
       "<div>\n",
       "<style scoped>\n",
       "    .dataframe tbody tr th:only-of-type {\n",
       "        vertical-align: middle;\n",
       "    }\n",
       "\n",
       "    .dataframe tbody tr th {\n",
       "        vertical-align: top;\n",
       "    }\n",
       "\n",
       "    .dataframe thead th {\n",
       "        text-align: right;\n",
       "    }\n",
       "</style>\n",
       "<table border=\"1\" class=\"dataframe\">\n",
       "  <thead>\n",
       "    <tr style=\"text-align: right;\">\n",
       "      <th></th>\n",
       "      <th>AD</th>\n",
       "      <th>Full-flowering date (DOY)</th>\n",
       "      <th>Full-flowering date</th>\n",
       "      <th>Source code</th>\n",
       "      <th>Data type code</th>\n",
       "      <th>Reference Name</th>\n",
       "    </tr>\n",
       "  </thead>\n",
       "  <tbody>\n",
       "    <tr>\n",
       "      <th>0</th>\n",
       "      <td>801</td>\n",
       "      <td>NaN</td>\n",
       "      <td>NaN</td>\n",
       "      <td>NaN</td>\n",
       "      <td>NaN</td>\n",
       "      <td>NaN</td>\n",
       "    </tr>\n",
       "    <tr>\n",
       "      <th>1</th>\n",
       "      <td>802</td>\n",
       "      <td>NaN</td>\n",
       "      <td>NaN</td>\n",
       "      <td>NaN</td>\n",
       "      <td>NaN</td>\n",
       "      <td>NaN</td>\n",
       "    </tr>\n",
       "    <tr>\n",
       "      <th>2</th>\n",
       "      <td>803</td>\n",
       "      <td>NaN</td>\n",
       "      <td>NaN</td>\n",
       "      <td>NaN</td>\n",
       "      <td>NaN</td>\n",
       "      <td>NaN</td>\n",
       "    </tr>\n",
       "    <tr>\n",
       "      <th>3</th>\n",
       "      <td>804</td>\n",
       "      <td>NaN</td>\n",
       "      <td>NaN</td>\n",
       "      <td>NaN</td>\n",
       "      <td>NaN</td>\n",
       "      <td>NaN</td>\n",
       "    </tr>\n",
       "    <tr>\n",
       "      <th>4</th>\n",
       "      <td>805</td>\n",
       "      <td>NaN</td>\n",
       "      <td>NaN</td>\n",
       "      <td>NaN</td>\n",
       "      <td>NaN</td>\n",
       "      <td>NaN</td>\n",
       "    </tr>\n",
       "  </tbody>\n",
       "</table>\n",
       "</div>"
      ],
      "text/plain": [
       "    AD  Full-flowering date (DOY)  Full-flowering date  Source code  \\\n",
       "0  801                        NaN                  NaN          NaN   \n",
       "1  802                        NaN                  NaN          NaN   \n",
       "2  803                        NaN                  NaN          NaN   \n",
       "3  804                        NaN                  NaN          NaN   \n",
       "4  805                        NaN                  NaN          NaN   \n",
       "\n",
       "   Data type code Reference Name  \n",
       "0             NaN            NaN  \n",
       "1             NaN            NaN  \n",
       "2             NaN            NaN  \n",
       "3             NaN            NaN  \n",
       "4             NaN            NaN  "
      ]
     },
     "execution_count": 13,
     "metadata": {},
     "output_type": "execute_result"
    }
   ],
   "source": [
    "df.head()"
   ]
  },
  {
   "cell_type": "markdown",
   "metadata": {},
   "source": [
    "## 4. What source is the most common as a reference?"
   ]
  },
  {
   "cell_type": "code",
   "execution_count": 14,
   "metadata": {},
   "outputs": [],
   "source": [
    "df.columns = df.columns.str.strip().str.lower().str.replace(' ', '_').str.replace('(', '').str.replace(')', '')"
   ]
  },
  {
   "cell_type": "code",
   "execution_count": 17,
   "metadata": {},
   "outputs": [
    {
     "data": {
      "text/html": [
       "<div>\n",
       "<style scoped>\n",
       "    .dataframe tbody tr th:only-of-type {\n",
       "        vertical-align: middle;\n",
       "    }\n",
       "\n",
       "    .dataframe tbody tr th {\n",
       "        vertical-align: top;\n",
       "    }\n",
       "\n",
       "    .dataframe thead th {\n",
       "        text-align: right;\n",
       "    }\n",
       "</style>\n",
       "<table border=\"1\" class=\"dataframe\">\n",
       "  <thead>\n",
       "    <tr style=\"text-align: right;\">\n",
       "      <th></th>\n",
       "      <th>ad</th>\n",
       "      <th>full-flowering_date_doy</th>\n",
       "      <th>full-flowering_date</th>\n",
       "      <th>source_code</th>\n",
       "      <th>data_type_code</th>\n",
       "      <th>reference_name</th>\n",
       "    </tr>\n",
       "  </thead>\n",
       "  <tbody>\n",
       "    <tr>\n",
       "      <th>0</th>\n",
       "      <td>801</td>\n",
       "      <td>NaN</td>\n",
       "      <td>NaN</td>\n",
       "      <td>NaN</td>\n",
       "      <td>NaN</td>\n",
       "      <td>NaN</td>\n",
       "    </tr>\n",
       "    <tr>\n",
       "      <th>1</th>\n",
       "      <td>802</td>\n",
       "      <td>NaN</td>\n",
       "      <td>NaN</td>\n",
       "      <td>NaN</td>\n",
       "      <td>NaN</td>\n",
       "      <td>NaN</td>\n",
       "    </tr>\n",
       "    <tr>\n",
       "      <th>2</th>\n",
       "      <td>803</td>\n",
       "      <td>NaN</td>\n",
       "      <td>NaN</td>\n",
       "      <td>NaN</td>\n",
       "      <td>NaN</td>\n",
       "      <td>NaN</td>\n",
       "    </tr>\n",
       "    <tr>\n",
       "      <th>3</th>\n",
       "      <td>804</td>\n",
       "      <td>NaN</td>\n",
       "      <td>NaN</td>\n",
       "      <td>NaN</td>\n",
       "      <td>NaN</td>\n",
       "      <td>NaN</td>\n",
       "    </tr>\n",
       "    <tr>\n",
       "      <th>4</th>\n",
       "      <td>805</td>\n",
       "      <td>NaN</td>\n",
       "      <td>NaN</td>\n",
       "      <td>NaN</td>\n",
       "      <td>NaN</td>\n",
       "      <td>NaN</td>\n",
       "    </tr>\n",
       "  </tbody>\n",
       "</table>\n",
       "</div>"
      ],
      "text/plain": [
       "    ad  full-flowering_date_doy  full-flowering_date  source_code  \\\n",
       "0  801                      NaN                  NaN          NaN   \n",
       "1  802                      NaN                  NaN          NaN   \n",
       "2  803                      NaN                  NaN          NaN   \n",
       "3  804                      NaN                  NaN          NaN   \n",
       "4  805                      NaN                  NaN          NaN   \n",
       "\n",
       "   data_type_code reference_name  \n",
       "0             NaN            NaN  \n",
       "1             NaN            NaN  \n",
       "2             NaN            NaN  \n",
       "3             NaN            NaN  \n",
       "4             NaN            NaN  "
      ]
     },
     "execution_count": 17,
     "metadata": {},
     "output_type": "execute_result"
    }
   ],
   "source": [
    "df.head()"
   ]
  },
  {
   "cell_type": "code",
   "execution_count": 16,
   "metadata": {},
   "outputs": [
    {
     "data": {
      "text/plain": [
       "3.0    342\n",
       "4.0    250\n",
       "1.0    105\n",
       "5.0     59\n",
       "7.0     40\n",
       "2.0     17\n",
       "6.0      9\n",
       "8.0      5\n",
       "Name: source_code, dtype: int64"
      ]
     },
     "execution_count": 16,
     "metadata": {},
     "output_type": "execute_result"
    }
   ],
   "source": [
    "df.source_code.value_counts()"
   ]
  },
  {
   "cell_type": "markdown",
   "metadata": {},
   "source": [
    "## 6. Filter the list to only include columns where the `Full-flowering date (DOY)` is not missing\n",
    "\n",
    "If you'd like to do it in two steps (which might be easier to think through), first figure out how to test whether a column is empty/missing/null/NaN, get the list of `True`/`False` values, and then later feed it to your `df`."
   ]
  },
  {
   "cell_type": "code",
   "execution_count": 26,
   "metadata": {},
   "outputs": [
    {
     "data": {
      "text/plain": [
       "False    827\n",
       "True     388\n",
       "Name: full-flowering_date_doy, dtype: int64"
      ]
     },
     "execution_count": 26,
     "metadata": {},
     "output_type": "execute_result"
    }
   ],
   "source": [
    "df['full-flowering_date_doy'].isnull().value_counts()"
   ]
  },
  {
   "cell_type": "code",
   "execution_count": 27,
   "metadata": {},
   "outputs": [
    {
     "data": {
      "text/html": [
       "<div>\n",
       "<style scoped>\n",
       "    .dataframe tbody tr th:only-of-type {\n",
       "        vertical-align: middle;\n",
       "    }\n",
       "\n",
       "    .dataframe tbody tr th {\n",
       "        vertical-align: top;\n",
       "    }\n",
       "\n",
       "    .dataframe thead th {\n",
       "        text-align: right;\n",
       "    }\n",
       "</style>\n",
       "<table border=\"1\" class=\"dataframe\">\n",
       "  <thead>\n",
       "    <tr style=\"text-align: right;\">\n",
       "      <th></th>\n",
       "      <th>ad</th>\n",
       "      <th>full-flowering_date_doy</th>\n",
       "      <th>full-flowering_date</th>\n",
       "      <th>source_code</th>\n",
       "      <th>data_type_code</th>\n",
       "      <th>reference_name</th>\n",
       "    </tr>\n",
       "  </thead>\n",
       "  <tbody>\n",
       "    <tr>\n",
       "      <th>11</th>\n",
       "      <td>812</td>\n",
       "      <td>92.0</td>\n",
       "      <td>401.0</td>\n",
       "      <td>1.0</td>\n",
       "      <td>2.0</td>\n",
       "      <td>NIHON-KOKI</td>\n",
       "    </tr>\n",
       "    <tr>\n",
       "      <th>14</th>\n",
       "      <td>815</td>\n",
       "      <td>105.0</td>\n",
       "      <td>415.0</td>\n",
       "      <td>1.0</td>\n",
       "      <td>2.0</td>\n",
       "      <td>NIHON-KOKI</td>\n",
       "    </tr>\n",
       "    <tr>\n",
       "      <th>30</th>\n",
       "      <td>831</td>\n",
       "      <td>96.0</td>\n",
       "      <td>406.0</td>\n",
       "      <td>1.0</td>\n",
       "      <td>2.0</td>\n",
       "      <td>NIHON-KOKI</td>\n",
       "    </tr>\n",
       "    <tr>\n",
       "      <th>50</th>\n",
       "      <td>851</td>\n",
       "      <td>108.0</td>\n",
       "      <td>418.0</td>\n",
       "      <td>1.0</td>\n",
       "      <td>2.0</td>\n",
       "      <td>MONTOKUTENNO-JITSUROKU</td>\n",
       "    </tr>\n",
       "    <tr>\n",
       "      <th>52</th>\n",
       "      <td>853</td>\n",
       "      <td>104.0</td>\n",
       "      <td>414.0</td>\n",
       "      <td>1.0</td>\n",
       "      <td>2.0</td>\n",
       "      <td>MONTOKUTENNO-JITSUROKU</td>\n",
       "    </tr>\n",
       "    <tr>\n",
       "      <th>...</th>\n",
       "      <td>...</td>\n",
       "      <td>...</td>\n",
       "      <td>...</td>\n",
       "      <td>...</td>\n",
       "      <td>...</td>\n",
       "      <td>...</td>\n",
       "    </tr>\n",
       "    <tr>\n",
       "      <th>1210</th>\n",
       "      <td>2011</td>\n",
       "      <td>99.0</td>\n",
       "      <td>409.0</td>\n",
       "      <td>8.0</td>\n",
       "      <td>0.0</td>\n",
       "      <td>NEWS-PAPER(ARASHIYAMA)</td>\n",
       "    </tr>\n",
       "    <tr>\n",
       "      <th>1211</th>\n",
       "      <td>2012</td>\n",
       "      <td>101.0</td>\n",
       "      <td>410.0</td>\n",
       "      <td>8.0</td>\n",
       "      <td>0.0</td>\n",
       "      <td>NEWS-PAPER(ARASHIYAMA)</td>\n",
       "    </tr>\n",
       "    <tr>\n",
       "      <th>1212</th>\n",
       "      <td>2013</td>\n",
       "      <td>93.0</td>\n",
       "      <td>403.0</td>\n",
       "      <td>8.0</td>\n",
       "      <td>0.0</td>\n",
       "      <td>NEWS-PAPER(ARASHIYAMA)</td>\n",
       "    </tr>\n",
       "    <tr>\n",
       "      <th>1213</th>\n",
       "      <td>2014</td>\n",
       "      <td>94.0</td>\n",
       "      <td>404.0</td>\n",
       "      <td>8.0</td>\n",
       "      <td>0.0</td>\n",
       "      <td>NEWS-PAPER(ARASHIYAMA)</td>\n",
       "    </tr>\n",
       "    <tr>\n",
       "      <th>1214</th>\n",
       "      <td>2015</td>\n",
       "      <td>93.0</td>\n",
       "      <td>403.0</td>\n",
       "      <td>8.0</td>\n",
       "      <td>0.0</td>\n",
       "      <td>NEWS-PAPER(ARASHIYAMA)</td>\n",
       "    </tr>\n",
       "  </tbody>\n",
       "</table>\n",
       "<p>827 rows × 6 columns</p>\n",
       "</div>"
      ],
      "text/plain": [
       "        ad  full-flowering_date_doy  full-flowering_date  source_code  \\\n",
       "11     812                     92.0                401.0          1.0   \n",
       "14     815                    105.0                415.0          1.0   \n",
       "30     831                     96.0                406.0          1.0   \n",
       "50     851                    108.0                418.0          1.0   \n",
       "52     853                    104.0                414.0          1.0   \n",
       "...    ...                      ...                  ...          ...   \n",
       "1210  2011                     99.0                409.0          8.0   \n",
       "1211  2012                    101.0                410.0          8.0   \n",
       "1212  2013                     93.0                403.0          8.0   \n",
       "1213  2014                     94.0                404.0          8.0   \n",
       "1214  2015                     93.0                403.0          8.0   \n",
       "\n",
       "      data_type_code          reference_name  \n",
       "11               2.0              NIHON-KOKI  \n",
       "14               2.0              NIHON-KOKI  \n",
       "30               2.0              NIHON-KOKI  \n",
       "50               2.0  MONTOKUTENNO-JITSUROKU  \n",
       "52               2.0  MONTOKUTENNO-JITSUROKU  \n",
       "...              ...                     ...  \n",
       "1210             0.0  NEWS-PAPER(ARASHIYAMA)  \n",
       "1211             0.0  NEWS-PAPER(ARASHIYAMA)  \n",
       "1212             0.0  NEWS-PAPER(ARASHIYAMA)  \n",
       "1213             0.0  NEWS-PAPER(ARASHIYAMA)  \n",
       "1214             0.0  NEWS-PAPER(ARASHIYAMA)  \n",
       "\n",
       "[827 rows x 6 columns]"
      ]
     },
     "execution_count": 27,
     "metadata": {},
     "output_type": "execute_result"
    }
   ],
   "source": [
    "df_new = df[df['full-flowering_date_doy'].isnull() == False]\n",
    "df_new"
   ]
  },
  {
   "cell_type": "markdown",
   "metadata": {},
   "source": [
    "## 7. Make a histogram of the full-flowering date"
   ]
  },
  {
   "cell_type": "code",
   "execution_count": 29,
   "metadata": {},
   "outputs": [
    {
     "data": {
      "text/plain": [
       "<AxesSubplot:>"
      ]
     },
     "execution_count": 29,
     "metadata": {},
     "output_type": "execute_result"
    },
    {
     "data": {
      "image/png": "[encoded data removed]",
      "text/plain": [
       "<Figure size 432x288 with 1 Axes>"
      ]
     },
     "metadata": {
      "needs_background": "light"
     },
     "output_type": "display_data"
    }
   ],
   "source": [
    "df_new['full-flowering_date_doy'].hist(bins = 10)"
   ]
  },
  {
   "cell_type": "code",
   "execution_count": null,
   "metadata": {},
   "outputs": [],
   "source": []
  },
  {
   "cell_type": "markdown",
   "metadata": {},
   "source": [
    "## 8. Make another histogram of the full-flowering date, but with 39 bins instead of 10"
   ]
  },
  {
   "cell_type": "code",
   "execution_count": 30,
   "metadata": {},
   "outputs": [
    {
     "data": {
      "text/plain": [
       "<AxesSubplot:>"
      ]
     },
     "execution_count": 30,
     "metadata": {},
     "output_type": "execute_result"
    },
    {
     "data": {
      "image/png": "[encoded data removed]",
      "text/plain": [
       "<Figure size 432x288 with 1 Axes>"
      ]
     },
     "metadata": {
      "needs_background": "light"
     },
     "output_type": "display_data"
    }
   ],
   "source": [
    "df_new['full-flowering_date_doy'].hist(bins = 39)"
   ]
  },
  {
   "cell_type": "markdown",
   "metadata": {},
   "source": [
    "## 9. What's the average number of days it takes for the flowers to blossom? And how many records do we have?\n",
    "\n",
    "Answer these both with one line of code."
   ]
  },
  {
   "cell_type": "code",
   "execution_count": 39,
   "metadata": {},
   "outputs": [
    {
     "data": {
      "text/plain": [
       "count    827.000000\n",
       "mean     104.540508\n",
       "std        6.407036\n",
       "min       86.000000\n",
       "25%      100.000000\n",
       "50%      105.000000\n",
       "75%      109.000000\n",
       "max      124.000000\n",
       "Name: full-flowering_date_doy, dtype: float64"
      ]
     },
     "execution_count": 39,
     "metadata": {},
     "output_type": "execute_result"
    }
   ],
   "source": [
    "df_new['full-flowering_date_doy'].describe()"
   ]
  },
  {
   "cell_type": "markdown",
   "metadata": {},
   "source": [
    "## 10. What's the average days into the year cherry flowers normally blossomed before 1900?\n",
    "\n"
   ]
  },
  {
   "cell_type": "code",
   "execution_count": 42,
   "metadata": {},
   "outputs": [
    {
     "data": {
      "text/plain": [
       "105.20728291316527"
      ]
     },
     "execution_count": 42,
     "metadata": {},
     "output_type": "execute_result"
    }
   ],
   "source": [
    "df_new[df_new.ad < 1900]['full-flowering_date_doy'].mean()"
   ]
  },
  {
   "cell_type": "markdown",
   "metadata": {},
   "source": [
    "## 11. How about after 1900?"
   ]
  },
  {
   "cell_type": "code",
   "execution_count": 43,
   "metadata": {},
   "outputs": [
    {
     "data": {
      "text/plain": [
       "100.3125"
      ]
     },
     "execution_count": 43,
     "metadata": {},
     "output_type": "execute_result"
    }
   ],
   "source": [
    "df_new[df_new.ad > 1900]['full-flowering_date_doy'].mean()"
   ]
  },
  {
   "cell_type": "markdown",
   "metadata": {},
   "source": [
    "## 12. How many times was our data from a title in Japanese poetry?\n",
    "\n",
    "You'll need to read the documentation inside of the Excel file."
   ]
  },
  {
   "cell_type": "code",
   "execution_count": 45,
   "metadata": {},
   "outputs": [
    {
     "data": {
      "text/plain": [
       "4.0    39\n",
       "Name: data_type_code, dtype: int64"
      ]
     },
     "execution_count": 45,
     "metadata": {},
     "output_type": "execute_result"
    }
   ],
   "source": [
    "df[df.data_type_code == 4].data_type_code.value_counts()"
   ]
  },
  {
   "cell_type": "markdown",
   "metadata": {},
   "source": [
    "## 13. Show only the years where our data was from a title in Japanese poetry"
   ]
  },
  {
   "cell_type": "code",
   "execution_count": 50,
   "metadata": {},
   "outputs": [
    {
     "data": {
      "text/html": [
       "<div>\n",
       "<style scoped>\n",
       "    .dataframe tbody tr th:only-of-type {\n",
       "        vertical-align: middle;\n",
       "    }\n",
       "\n",
       "    .dataframe tbody tr th {\n",
       "        vertical-align: top;\n",
       "    }\n",
       "\n",
       "    .dataframe thead th {\n",
       "        text-align: right;\n",
       "    }\n",
       "</style>\n",
       "<table border=\"1\" class=\"dataframe\">\n",
       "  <thead>\n",
       "    <tr style=\"text-align: right;\">\n",
       "      <th></th>\n",
       "      <th>ad</th>\n",
       "      <th>full-flowering_date_doy</th>\n",
       "      <th>full-flowering_date</th>\n",
       "      <th>source_code</th>\n",
       "      <th>data_type_code</th>\n",
       "      <th>reference_name</th>\n",
       "    </tr>\n",
       "  </thead>\n",
       "  <tbody>\n",
       "    <tr>\n",
       "      <th>90</th>\n",
       "      <td>891</td>\n",
       "      <td>109.0</td>\n",
       "      <td>419.0</td>\n",
       "      <td>5.0</td>\n",
       "      <td>4.0</td>\n",
       "      <td>NIHONKIRYAKU</td>\n",
       "    </tr>\n",
       "    <tr>\n",
       "      <th>94</th>\n",
       "      <td>895</td>\n",
       "      <td>104.0</td>\n",
       "      <td>414.0</td>\n",
       "      <td>5.0</td>\n",
       "      <td>4.0</td>\n",
       "      <td>NIHONKIRYAKU</td>\n",
       "    </tr>\n",
       "    <tr>\n",
       "      <th>95</th>\n",
       "      <td>896</td>\n",
       "      <td>104.0</td>\n",
       "      <td>413.0</td>\n",
       "      <td>5.0</td>\n",
       "      <td>4.0</td>\n",
       "      <td>NIPPON-SANDAI-JITSUROKU</td>\n",
       "    </tr>\n",
       "    <tr>\n",
       "      <th>122</th>\n",
       "      <td>923</td>\n",
       "      <td>104.0</td>\n",
       "      <td>414.0</td>\n",
       "      <td>5.0</td>\n",
       "      <td>4.0</td>\n",
       "      <td>ZOKU-KOKIN-WAKASHU</td>\n",
       "    </tr>\n",
       "    <tr>\n",
       "      <th>154</th>\n",
       "      <td>955</td>\n",
       "      <td>89.0</td>\n",
       "      <td>330.0</td>\n",
       "      <td>5.0</td>\n",
       "      <td>4.0</td>\n",
       "      <td>SHUISHO</td>\n",
       "    </tr>\n",
       "    <tr>\n",
       "      <th>168</th>\n",
       "      <td>969</td>\n",
       "      <td>98.0</td>\n",
       "      <td>408.0</td>\n",
       "      <td>5.0</td>\n",
       "      <td>4.0</td>\n",
       "      <td>NIHONKIRYAKU</td>\n",
       "    </tr>\n",
       "    <tr>\n",
       "      <th>206</th>\n",
       "      <td>1007</td>\n",
       "      <td>106.0</td>\n",
       "      <td>416.0</td>\n",
       "      <td>5.0</td>\n",
       "      <td>4.0</td>\n",
       "      <td>MIDO-KAMPAKUKI</td>\n",
       "    </tr>\n",
       "    <tr>\n",
       "      <th>232</th>\n",
       "      <td>1033</td>\n",
       "      <td>102.0</td>\n",
       "      <td>412.0</td>\n",
       "      <td>5.0</td>\n",
       "      <td>4.0</td>\n",
       "      <td>NIHONKIRYAKU</td>\n",
       "    </tr>\n",
       "    <tr>\n",
       "      <th>235</th>\n",
       "      <td>1036</td>\n",
       "      <td>104.0</td>\n",
       "      <td>413.0</td>\n",
       "      <td>5.0</td>\n",
       "      <td>4.0</td>\n",
       "      <td>NIHONKIRYAKU</td>\n",
       "    </tr>\n",
       "    <tr>\n",
       "      <th>259</th>\n",
       "      <td>1060</td>\n",
       "      <td>108.0</td>\n",
       "      <td>417.0</td>\n",
       "      <td>5.0</td>\n",
       "      <td>4.0</td>\n",
       "      <td>SHIN-SENZAI-WAKASHU</td>\n",
       "    </tr>\n",
       "    <tr>\n",
       "      <th>260</th>\n",
       "      <td>1061</td>\n",
       "      <td>92.0</td>\n",
       "      <td>402.0</td>\n",
       "      <td>6.0</td>\n",
       "      <td>4.0</td>\n",
       "      <td>MOROZANE-SHU</td>\n",
       "    </tr>\n",
       "    <tr>\n",
       "      <th>283</th>\n",
       "      <td>1084</td>\n",
       "      <td>120.0</td>\n",
       "      <td>429.0</td>\n",
       "      <td>5.0</td>\n",
       "      <td>4.0</td>\n",
       "      <td>ZOKU-GOSEN-WAKASHU</td>\n",
       "    </tr>\n",
       "    <tr>\n",
       "      <th>294</th>\n",
       "      <td>1095</td>\n",
       "      <td>100.0</td>\n",
       "      <td>410.0</td>\n",
       "      <td>5.0</td>\n",
       "      <td>4.0</td>\n",
       "      <td>CHUYUKI</td>\n",
       "    </tr>\n",
       "    <tr>\n",
       "      <th>381</th>\n",
       "      <td>1182</td>\n",
       "      <td>104.0</td>\n",
       "      <td>414.0</td>\n",
       "      <td>6.0</td>\n",
       "      <td>4.0</td>\n",
       "      <td>TSUKIMOUDE-WAKASHU(PART-3)</td>\n",
       "    </tr>\n",
       "    <tr>\n",
       "      <th>389</th>\n",
       "      <td>1190</td>\n",
       "      <td>112.0</td>\n",
       "      <td>422.0</td>\n",
       "      <td>5.0</td>\n",
       "      <td>4.0</td>\n",
       "      <td>SHUGYOKU-SHU</td>\n",
       "    </tr>\n",
       "    <tr>\n",
       "      <th>400</th>\n",
       "      <td>1201</td>\n",
       "      <td>96.0</td>\n",
       "      <td>406.0</td>\n",
       "      <td>5.0</td>\n",
       "      <td>4.0</td>\n",
       "      <td>INOKUMA-KAMPAKUKI</td>\n",
       "    </tr>\n",
       "    <tr>\n",
       "      <th>415</th>\n",
       "      <td>1216</td>\n",
       "      <td>101.0</td>\n",
       "      <td>410.0</td>\n",
       "      <td>5.0</td>\n",
       "      <td>4.0</td>\n",
       "      <td>JUNTOKUIN-GYOSHU</td>\n",
       "    </tr>\n",
       "    <tr>\n",
       "      <th>418</th>\n",
       "      <td>1219</td>\n",
       "      <td>101.0</td>\n",
       "      <td>411.0</td>\n",
       "      <td>5.0</td>\n",
       "      <td>4.0</td>\n",
       "      <td>JUNTOKUIN-GYOSHU</td>\n",
       "    </tr>\n",
       "    <tr>\n",
       "      <th>420</th>\n",
       "      <td>1221</td>\n",
       "      <td>99.0</td>\n",
       "      <td>409.0</td>\n",
       "      <td>5.0</td>\n",
       "      <td>4.0</td>\n",
       "      <td>SHUI-GUSO</td>\n",
       "    </tr>\n",
       "    <tr>\n",
       "      <th>422</th>\n",
       "      <td>1223</td>\n",
       "      <td>116.0</td>\n",
       "      <td>426.0</td>\n",
       "      <td>5.0</td>\n",
       "      <td>4.0</td>\n",
       "      <td>MITSUTSUNE-SHU</td>\n",
       "    </tr>\n",
       "    <tr>\n",
       "      <th>435</th>\n",
       "      <td>1236</td>\n",
       "      <td>87.0</td>\n",
       "      <td>327.0</td>\n",
       "      <td>7.0</td>\n",
       "      <td>4.0</td>\n",
       "      <td>SHIIBA-WAKASHU</td>\n",
       "    </tr>\n",
       "    <tr>\n",
       "      <th>464</th>\n",
       "      <td>1265</td>\n",
       "      <td>98.0</td>\n",
       "      <td>408.0</td>\n",
       "      <td>6.0</td>\n",
       "      <td>4.0</td>\n",
       "      <td>TAMEIE-SHU</td>\n",
       "    </tr>\n",
       "    <tr>\n",
       "      <th>467</th>\n",
       "      <td>1268</td>\n",
       "      <td>103.0</td>\n",
       "      <td>412.0</td>\n",
       "      <td>6.0</td>\n",
       "      <td>4.0</td>\n",
       "      <td>TAMEIE-SHU</td>\n",
       "    </tr>\n",
       "    <tr>\n",
       "      <th>468</th>\n",
       "      <td>1269</td>\n",
       "      <td>100.0</td>\n",
       "      <td>410.0</td>\n",
       "      <td>3.0</td>\n",
       "      <td>4.0</td>\n",
       "      <td>ZOKU-SHIGUSHO</td>\n",
       "    </tr>\n",
       "    <tr>\n",
       "      <th>470</th>\n",
       "      <td>1271</td>\n",
       "      <td>100.0</td>\n",
       "      <td>410.0</td>\n",
       "      <td>5.0</td>\n",
       "      <td>4.0</td>\n",
       "      <td>DAINAGON-TAMEIE-SHU</td>\n",
       "    </tr>\n",
       "    <tr>\n",
       "      <th>488</th>\n",
       "      <td>1289</td>\n",
       "      <td>107.0</td>\n",
       "      <td>417.0</td>\n",
       "      <td>3.0</td>\n",
       "      <td>4.0</td>\n",
       "      <td>NAKANOTSUKASA-NIKKI</td>\n",
       "    </tr>\n",
       "    <tr>\n",
       "      <th>500</th>\n",
       "      <td>1301</td>\n",
       "      <td>95.0</td>\n",
       "      <td>405.0</td>\n",
       "      <td>4.0</td>\n",
       "      <td>4.0</td>\n",
       "      <td>SANEMI-KYOKI</td>\n",
       "    </tr>\n",
       "    <tr>\n",
       "      <th>523</th>\n",
       "      <td>1324</td>\n",
       "      <td>98.0</td>\n",
       "      <td>407.0</td>\n",
       "      <td>5.0</td>\n",
       "      <td>4.0</td>\n",
       "      <td>HANAZONOTENNO-SHINKI</td>\n",
       "    </tr>\n",
       "    <tr>\n",
       "      <th>529</th>\n",
       "      <td>1330</td>\n",
       "      <td>108.0</td>\n",
       "      <td>418.0</td>\n",
       "      <td>7.0</td>\n",
       "      <td>4.0</td>\n",
       "      <td>RINEI-WAKASHU</td>\n",
       "    </tr>\n",
       "    <tr>\n",
       "      <th>646</th>\n",
       "      <td>1447</td>\n",
       "      <td>111.0</td>\n",
       "      <td>421.0</td>\n",
       "      <td>3.0</td>\n",
       "      <td>4.0</td>\n",
       "      <td>SOKONSHU</td>\n",
       "    </tr>\n",
       "    <tr>\n",
       "      <th>652</th>\n",
       "      <td>1453</td>\n",
       "      <td>107.0</td>\n",
       "      <td>417.0</td>\n",
       "      <td>3.0</td>\n",
       "      <td>4.0</td>\n",
       "      <td>SOKONSHU</td>\n",
       "    </tr>\n",
       "    <tr>\n",
       "      <th>653</th>\n",
       "      <td>1454</td>\n",
       "      <td>105.0</td>\n",
       "      <td>415.0</td>\n",
       "      <td>3.0</td>\n",
       "      <td>4.0</td>\n",
       "      <td>SOKONSHU</td>\n",
       "    </tr>\n",
       "    <tr>\n",
       "      <th>673</th>\n",
       "      <td>1474</td>\n",
       "      <td>98.0</td>\n",
       "      <td>408.0</td>\n",
       "      <td>3.0</td>\n",
       "      <td>4.0</td>\n",
       "      <td>ENROKUCHOKASHU</td>\n",
       "    </tr>\n",
       "    <tr>\n",
       "      <th>733</th>\n",
       "      <td>1534</td>\n",
       "      <td>108.0</td>\n",
       "      <td>418.0</td>\n",
       "      <td>3.0</td>\n",
       "      <td>4.0</td>\n",
       "      <td>GONARAIN-GYOSEI-BASSHO</td>\n",
       "    </tr>\n",
       "    <tr>\n",
       "      <th>791</th>\n",
       "      <td>1592</td>\n",
       "      <td>98.0</td>\n",
       "      <td>407.0</td>\n",
       "      <td>4.0</td>\n",
       "      <td>4.0</td>\n",
       "      <td>TOKITSUNE-KYOKI</td>\n",
       "    </tr>\n",
       "    <tr>\n",
       "      <th>839</th>\n",
       "      <td>1640</td>\n",
       "      <td>103.0</td>\n",
       "      <td>412.0</td>\n",
       "      <td>3.0</td>\n",
       "      <td>4.0</td>\n",
       "      <td>KYOHAKUSHU</td>\n",
       "    </tr>\n",
       "    <tr>\n",
       "      <th>860</th>\n",
       "      <td>1661</td>\n",
       "      <td>93.0</td>\n",
       "      <td>403.0</td>\n",
       "      <td>7.0</td>\n",
       "      <td>4.0</td>\n",
       "      <td>BURUI-GENYO-WAKASHU</td>\n",
       "    </tr>\n",
       "    <tr>\n",
       "      <th>1045</th>\n",
       "      <td>1846</td>\n",
       "      <td>98.0</td>\n",
       "      <td>408.0</td>\n",
       "      <td>4.0</td>\n",
       "      <td>4.0</td>\n",
       "      <td>TEIEN-EISO</td>\n",
       "    </tr>\n",
       "    <tr>\n",
       "      <th>1062</th>\n",
       "      <td>1863</td>\n",
       "      <td>118.0</td>\n",
       "      <td>428.0</td>\n",
       "      <td>4.0</td>\n",
       "      <td>4.0</td>\n",
       "      <td>YATAKA-SHU</td>\n",
       "    </tr>\n",
       "  </tbody>\n",
       "</table>\n",
       "</div>"
      ],
      "text/plain": [
       "        ad  full-flowering_date_doy  full-flowering_date  source_code  \\\n",
       "90     891                    109.0                419.0          5.0   \n",
       "94     895                    104.0                414.0          5.0   \n",
       "95     896                    104.0                413.0          5.0   \n",
       "122    923                    104.0                414.0          5.0   \n",
       "154    955                     89.0                330.0          5.0   \n",
       "168    969                     98.0                408.0          5.0   \n",
       "206   1007                    106.0                416.0          5.0   \n",
       "232   1033                    102.0                412.0          5.0   \n",
       "235   1036                    104.0                413.0          5.0   \n",
       "259   1060                    108.0                417.0          5.0   \n",
       "260   1061                     92.0                402.0          6.0   \n",
       "283   1084                    120.0                429.0          5.0   \n",
       "294   1095                    100.0                410.0          5.0   \n",
       "381   1182                    104.0                414.0          6.0   \n",
       "389   1190                    112.0                422.0          5.0   \n",
       "400   1201                     96.0                406.0          5.0   \n",
       "415   1216                    101.0                410.0          5.0   \n",
       "418   1219                    101.0                411.0          5.0   \n",
       "420   1221                     99.0                409.0          5.0   \n",
       "422   1223                    116.0                426.0          5.0   \n",
       "435   1236                     87.0                327.0          7.0   \n",
       "464   1265                     98.0                408.0          6.0   \n",
       "467   1268                    103.0                412.0          6.0   \n",
       "468   1269                    100.0                410.0          3.0   \n",
       "470   1271                    100.0                410.0          5.0   \n",
       "488   1289                    107.0                417.0          3.0   \n",
       "500   1301                     95.0                405.0          4.0   \n",
       "523   1324                     98.0                407.0          5.0   \n",
       "529   1330                    108.0                418.0          7.0   \n",
       "646   1447                    111.0                421.0          3.0   \n",
       "652   1453                    107.0                417.0          3.0   \n",
       "653   1454                    105.0                415.0          3.0   \n",
       "673   1474                     98.0                408.0          3.0   \n",
       "733   1534                    108.0                418.0          3.0   \n",
       "791   1592                     98.0                407.0          4.0   \n",
       "839   1640                    103.0                412.0          3.0   \n",
       "860   1661                     93.0                403.0          7.0   \n",
       "1045  1846                     98.0                408.0          4.0   \n",
       "1062  1863                    118.0                428.0          4.0   \n",
       "\n",
       "      data_type_code              reference_name  \n",
       "90               4.0                NIHONKIRYAKU  \n",
       "94               4.0                NIHONKIRYAKU  \n",
       "95               4.0     NIPPON-SANDAI-JITSUROKU  \n",
       "122              4.0          ZOKU-KOKIN-WAKASHU  \n",
       "154              4.0                     SHUISHO  \n",
       "168              4.0                NIHONKIRYAKU  \n",
       "206              4.0              MIDO-KAMPAKUKI  \n",
       "232              4.0                NIHONKIRYAKU  \n",
       "235              4.0                NIHONKIRYAKU  \n",
       "259              4.0         SHIN-SENZAI-WAKASHU  \n",
       "260              4.0                MOROZANE-SHU  \n",
       "283              4.0          ZOKU-GOSEN-WAKASHU  \n",
       "294              4.0                     CHUYUKI  \n",
       "381              4.0  TSUKIMOUDE-WAKASHU(PART-3)  \n",
       "389              4.0                SHUGYOKU-SHU  \n",
       "400              4.0           INOKUMA-KAMPAKUKI  \n",
       "415              4.0            JUNTOKUIN-GYOSHU  \n",
       "418              4.0            JUNTOKUIN-GYOSHU  \n",
       "420              4.0                   SHUI-GUSO  \n",
       "422              4.0              MITSUTSUNE-SHU  \n",
       "435              4.0              SHIIBA-WAKASHU  \n",
       "464              4.0                  TAMEIE-SHU  \n",
       "467              4.0                  TAMEIE-SHU  \n",
       "468              4.0               ZOKU-SHIGUSHO  \n",
       "470              4.0         DAINAGON-TAMEIE-SHU  \n",
       "488              4.0         NAKANOTSUKASA-NIKKI  \n",
       "500              4.0                SANEMI-KYOKI  \n",
       "523              4.0        HANAZONOTENNO-SHINKI  \n",
       "529              4.0               RINEI-WAKASHU  \n",
       "646              4.0                    SOKONSHU  \n",
       "652              4.0                    SOKONSHU  \n",
       "653              4.0                    SOKONSHU  \n",
       "673              4.0              ENROKUCHOKASHU  \n",
       "733              4.0      GONARAIN-GYOSEI-BASSHO  \n",
       "791              4.0             TOKITSUNE-KYOKI  \n",
       "839              4.0                  KYOHAKUSHU  \n",
       "860              4.0         BURUI-GENYO-WAKASHU  \n",
       "1045             4.0                  TEIEN-EISO  \n",
       "1062             4.0                  YATAKA-SHU  "
      ]
     },
     "execution_count": 50,
     "metadata": {},
     "output_type": "execute_result"
    }
   ],
   "source": [
    "df[df.data_type_code == 4]"
   ]
  },
  {
   "cell_type": "markdown",
   "metadata": {},
   "source": [
    "## 14. Graph the full-flowering date (DOY) over time"
   ]
  },
  {
   "cell_type": "code",
   "execution_count": 52,
   "metadata": {},
   "outputs": [
    {
     "data": {
      "text/plain": [
       "<AxesSubplot:>"
      ]
     },
     "execution_count": 52,
     "metadata": {},
     "output_type": "execute_result"
    },
    {
     "data": {
      "image/png": "[encoded data removed]",
      "text/plain": [
       "<Figure size 720x360 with 1 Axes>"
      ]
     },
     "metadata": {
      "needs_background": "light"
     },
     "output_type": "display_data"
    }
   ],
   "source": [
    "df_new['full-flowering_date_doy'].plot(x='ad', y='full-flowering_date_doy', figsize=(10,5))"
   ]
  },
  {
   "cell_type": "markdown",
   "metadata": {},
   "source": [
    "## 15. Smooth out the graph\n",
    "\n",
    "It's so jagged! You can use `df.rolling` to calculate a rolling average.\n",
    "\n",
    "The following code calculates a **10-year mean**, using the `AD` column as the anchor. If there aren't 20 samples to work with in a row, it'll accept down to 5. Neat, right?\n",
    "\n",
    "(We're only looking at the final 5)"
   ]
  },
  {
   "cell_type": "code",
   "execution_count": 54,
   "metadata": {},
   "outputs": [
    {
     "data": {
      "text/plain": [
       "1210    95.9\n",
       "1211    96.9\n",
       "1212    96.4\n",
       "1213    96.6\n",
       "1214    96.0\n",
       "Name: full-flowering_date_doy, dtype: float64"
      ]
     },
     "execution_count": 54,
     "metadata": {},
     "output_type": "execute_result"
    }
   ],
   "source": [
    "df.rolling(10, on='ad', min_periods=5)['full-flowering_date_doy'].mean().tail()"
   ]
  },
  {
   "cell_type": "code",
   "execution_count": 55,
   "metadata": {},
   "outputs": [],
   "source": [
    "df['rolling_date'] = df.rolling(10, on='ad', min_periods=5)['full-flowering_date_doy'].mean()"
   ]
  },
  {
   "cell_type": "markdown",
   "metadata": {},
   "source": [
    "Use the code above to create a new column called `rolling_date` in our dataset. It should be the 20-year rolling average of the flowering date. Then plot it, with the year on the x axis and the day of the year on the y axis.\n",
    "\n",
    "Try adding `ylim=(80, 120)` to your `.plot` command to make things look a little less dire."
   ]
  },
  {
   "cell_type": "code",
   "execution_count": 56,
   "metadata": {},
   "outputs": [
    {
     "data": {
      "text/plain": [
       "<AxesSubplot:>"
      ]
     },
     "execution_count": 56,
     "metadata": {},
     "output_type": "execute_result"
    },
    {
     "data": {
      "image/png": "[encoded data removed]",
      "text/plain": [
       "<Figure size 720x360 with 1 Axes>"
      ]
     },
     "metadata": {
      "needs_background": "light"
     },
     "output_type": "display_data"
    }
   ],
   "source": [
    "df.rolling_date.plot(x='ad', y='full-flowering_date_doy', figsize=(10,5), ylim=(80,120))"
   ]
  },
  {
   "cell_type": "markdown",
   "metadata": {},
   "source": [
    "### 16. Add a month column\n",
    "\n",
    "Right now the \"Full-flowering date\" column is pretty rough. It uses numbers like '402' to mean \"April 2nd\" and \"416\" to mean \"April 16th.\" Let's make a column to explain what month it happened in.\n",
    "\n",
    "* Every row that happened in April should have 'April' in the `month` column.\n",
    "* Every row that happened in March should have 'March' as the `month` column.\n",
    "* Every row that happened in May should have 'May' as the `month` column.\n",
    "\n",
    "There are **at least two ways to do this.**\n",
    "\n",
    "#### WAY ONE: The bad-yet-simple way\n",
    "\n",
    "If you don't want to use `pd.to_datetime`, you can use this as an sample for updating March. It finds everything with a date less than 400 and assigns `March` to the `month` column:\n",
    "\n",
    "```python\n",
    "df.loc[df['Full-flowering date'] < 400, 'month'] = 'March'\n",
    "```\n",
    "\n",
    "#### WAY TWO: The good-yet-complicated way\n",
    "\n",
    "* When you use `pd.to_datetime`, you can pass a `format=` argument that explains what the format is of the datetime. You use [the codes here](https://strftime.org/) to mark out where the days, months, etc are. For example, `2020-04-09` would be converted using `pd.to_datetime(df.colname, \"format='%Y-%m-%d\")`.\n",
    "* `errors='coerce'` will return `NaN` for missing values. By default it just yells \"I don't know what to do!!!\"\n",
    "* And remember how we used `df.date_column.dt.month` to get the number of the month? For the name, you use `dt.strftime` (string-formatted-time), and pass it [the same codes](https://strftime.org/) to tell it what to do. For example, `df.date_column.dt.strftime(\"%Y-%m-%d\")` would give you `\"2020-04-09\"`."
   ]
  },
  {
   "cell_type": "code",
   "execution_count": 74,
   "metadata": {},
   "outputs": [],
   "source": [
    "df['date_column'] = pd.to_datetime(df['full-flowering_date'], format='%m%d', errors='coerce')"
   ]
  },
  {
   "cell_type": "code",
   "execution_count": 75,
   "metadata": {},
   "outputs": [],
   "source": [
    "df['month'] = df.date_column.dt.strftime('%B')"
   ]
  },
  {
   "cell_type": "code",
   "execution_count": 76,
   "metadata": {},
   "outputs": [
    {
     "data": {
      "text/html": [
       "<div>\n",
       "<style scoped>\n",
       "    .dataframe tbody tr th:only-of-type {\n",
       "        vertical-align: middle;\n",
       "    }\n",
       "\n",
       "    .dataframe tbody tr th {\n",
       "        vertical-align: top;\n",
       "    }\n",
       "\n",
       "    .dataframe thead th {\n",
       "        text-align: right;\n",
       "    }\n",
       "</style>\n",
       "<table border=\"1\" class=\"dataframe\">\n",
       "  <thead>\n",
       "    <tr style=\"text-align: right;\">\n",
       "      <th></th>\n",
       "      <th>ad</th>\n",
       "      <th>full-flowering_date_doy</th>\n",
       "      <th>full-flowering_date</th>\n",
       "      <th>source_code</th>\n",
       "      <th>data_type_code</th>\n",
       "      <th>reference_name</th>\n",
       "      <th>rolling_date</th>\n",
       "      <th>month</th>\n",
       "      <th>date_column</th>\n",
       "    </tr>\n",
       "  </thead>\n",
       "  <tbody>\n",
       "    <tr>\n",
       "      <th>1210</th>\n",
       "      <td>2011</td>\n",
       "      <td>99.0</td>\n",
       "      <td>409.0</td>\n",
       "      <td>8.0</td>\n",
       "      <td>0.0</td>\n",
       "      <td>NEWS-PAPER(ARASHIYAMA)</td>\n",
       "      <td>95.9</td>\n",
       "      <td>April</td>\n",
       "      <td>1900-04-09</td>\n",
       "    </tr>\n",
       "    <tr>\n",
       "      <th>1211</th>\n",
       "      <td>2012</td>\n",
       "      <td>101.0</td>\n",
       "      <td>410.0</td>\n",
       "      <td>8.0</td>\n",
       "      <td>0.0</td>\n",
       "      <td>NEWS-PAPER(ARASHIYAMA)</td>\n",
       "      <td>96.9</td>\n",
       "      <td>April</td>\n",
       "      <td>1900-04-10</td>\n",
       "    </tr>\n",
       "    <tr>\n",
       "      <th>1212</th>\n",
       "      <td>2013</td>\n",
       "      <td>93.0</td>\n",
       "      <td>403.0</td>\n",
       "      <td>8.0</td>\n",
       "      <td>0.0</td>\n",
       "      <td>NEWS-PAPER(ARASHIYAMA)</td>\n",
       "      <td>96.4</td>\n",
       "      <td>April</td>\n",
       "      <td>1900-04-03</td>\n",
       "    </tr>\n",
       "    <tr>\n",
       "      <th>1213</th>\n",
       "      <td>2014</td>\n",
       "      <td>94.0</td>\n",
       "      <td>404.0</td>\n",
       "      <td>8.0</td>\n",
       "      <td>0.0</td>\n",
       "      <td>NEWS-PAPER(ARASHIYAMA)</td>\n",
       "      <td>96.6</td>\n",
       "      <td>April</td>\n",
       "      <td>1900-04-04</td>\n",
       "    </tr>\n",
       "    <tr>\n",
       "      <th>1214</th>\n",
       "      <td>2015</td>\n",
       "      <td>93.0</td>\n",
       "      <td>403.0</td>\n",
       "      <td>8.0</td>\n",
       "      <td>0.0</td>\n",
       "      <td>NEWS-PAPER(ARASHIYAMA)</td>\n",
       "      <td>96.0</td>\n",
       "      <td>April</td>\n",
       "      <td>1900-04-03</td>\n",
       "    </tr>\n",
       "  </tbody>\n",
       "</table>\n",
       "</div>"
      ],
      "text/plain": [
       "        ad  full-flowering_date_doy  full-flowering_date  source_code  \\\n",
       "1210  2011                     99.0                409.0          8.0   \n",
       "1211  2012                    101.0                410.0          8.0   \n",
       "1212  2013                     93.0                403.0          8.0   \n",
       "1213  2014                     94.0                404.0          8.0   \n",
       "1214  2015                     93.0                403.0          8.0   \n",
       "\n",
       "      data_type_code          reference_name  rolling_date  month date_column  \n",
       "1210             0.0  NEWS-PAPER(ARASHIYAMA)          95.9  April  1900-04-09  \n",
       "1211             0.0  NEWS-PAPER(ARASHIYAMA)          96.9  April  1900-04-10  \n",
       "1212             0.0  NEWS-PAPER(ARASHIYAMA)          96.4  April  1900-04-03  \n",
       "1213             0.0  NEWS-PAPER(ARASHIYAMA)          96.6  April  1900-04-04  \n",
       "1214             0.0  NEWS-PAPER(ARASHIYAMA)          96.0  April  1900-04-03  "
      ]
     },
     "execution_count": 76,
     "metadata": {},
     "output_type": "execute_result"
    }
   ],
   "source": [
    "df.tail()"
   ]
  },
  {
   "cell_type": "markdown",
   "metadata": {},
   "source": [
    "### 17. Using your new column, how many blossomings happened in each month?"
   ]
  },
  {
   "cell_type": "code",
   "execution_count": 77,
   "metadata": {},
   "outputs": [
    {
     "data": {
      "text/plain": [
       "April    814\n",
       "March     10\n",
       "May        3\n",
       "Name: month, dtype: int64"
      ]
     },
     "execution_count": 77,
     "metadata": {},
     "output_type": "execute_result"
    }
   ],
   "source": [
    "df.month.value_counts()"
   ]
  },
  {
   "cell_type": "markdown",
   "metadata": {},
   "source": [
    "### 18. Graph how many blossomings happened in each month."
   ]
  },
  {
   "cell_type": "code",
   "execution_count": 79,
   "metadata": {},
   "outputs": [
    {
     "data": {
      "text/plain": [
       "<AxesSubplot:>"
      ]
     },
     "execution_count": 79,
     "metadata": {},
     "output_type": "execute_result"
    },
    {
     "data": {
      "image/png": "[encoded data removed]",
      "text/plain": [
       "<Figure size 720x360 with 1 Axes>"
      ]
     },
     "metadata": {
      "needs_background": "light"
     },
     "output_type": "display_data"
    }
   ],
   "source": [
    "df.month.value_counts().plot(figsize=(10,5), kind='barh')"
   ]
  },
  {
   "cell_type": "markdown",
   "metadata": {},
   "source": [
    "### 19. Adding a day-of-month column\n",
    "\n",
    "Now we're going to add a new column called `day_of_month.` It might be a little tougher than it should be since the `Full-flowering date` column is a *float* instead of an integer.\n",
    "\n",
    "*Tip: If your method involves `.astype(int)` it isn't going to work since it's missing data, you can add `.dropna().astype(int)` instead.**"
   ]
  },
  {
   "cell_type": "code",
   "execution_count": 96,
   "metadata": {},
   "outputs": [
    {
     "data": {
      "text/plain": [
       "11      401\n",
       "14      415\n",
       "30      406\n",
       "50      418\n",
       "52      414\n",
       "       ... \n",
       "1210    409\n",
       "1211    410\n",
       "1212    403\n",
       "1213    404\n",
       "1214    403\n",
       "Name: full-flowering_date, Length: 827, dtype: int64"
      ]
     },
     "execution_count": 96,
     "metadata": {},
     "output_type": "execute_result"
    }
   ],
   "source": [
    "df['full-flowering_date'].dropna().astype(int)"
   ]
  },
  {
   "cell_type": "code",
   "execution_count": 97,
   "metadata": {},
   "outputs": [],
   "source": [
    "df['day_of_month'] = df.date_column.dt.day"
   ]
  },
  {
   "cell_type": "code",
   "execution_count": 98,
   "metadata": {},
   "outputs": [
    {
     "data": {
      "text/html": [
       "<div>\n",
       "<style scoped>\n",
       "    .dataframe tbody tr th:only-of-type {\n",
       "        vertical-align: middle;\n",
       "    }\n",
       "\n",
       "    .dataframe tbody tr th {\n",
       "        vertical-align: top;\n",
       "    }\n",
       "\n",
       "    .dataframe thead th {\n",
       "        text-align: right;\n",
       "    }\n",
       "</style>\n",
       "<table border=\"1\" class=\"dataframe\">\n",
       "  <thead>\n",
       "    <tr style=\"text-align: right;\">\n",
       "      <th></th>\n",
       "      <th>ad</th>\n",
       "      <th>full-flowering_date_doy</th>\n",
       "      <th>full-flowering_date</th>\n",
       "      <th>source_code</th>\n",
       "      <th>data_type_code</th>\n",
       "      <th>reference_name</th>\n",
       "      <th>rolling_date</th>\n",
       "      <th>month</th>\n",
       "      <th>date_column</th>\n",
       "      <th>day_of_month</th>\n",
       "    </tr>\n",
       "  </thead>\n",
       "  <tbody>\n",
       "    <tr>\n",
       "      <th>1210</th>\n",
       "      <td>2011</td>\n",
       "      <td>99.0</td>\n",
       "      <td>409.0</td>\n",
       "      <td>8.0</td>\n",
       "      <td>0.0</td>\n",
       "      <td>NEWS-PAPER(ARASHIYAMA)</td>\n",
       "      <td>95.9</td>\n",
       "      <td>April</td>\n",
       "      <td>1900-04-09</td>\n",
       "      <td>9.0</td>\n",
       "    </tr>\n",
       "    <tr>\n",
       "      <th>1211</th>\n",
       "      <td>2012</td>\n",
       "      <td>101.0</td>\n",
       "      <td>410.0</td>\n",
       "      <td>8.0</td>\n",
       "      <td>0.0</td>\n",
       "      <td>NEWS-PAPER(ARASHIYAMA)</td>\n",
       "      <td>96.9</td>\n",
       "      <td>April</td>\n",
       "      <td>1900-04-10</td>\n",
       "      <td>10.0</td>\n",
       "    </tr>\n",
       "    <tr>\n",
       "      <th>1212</th>\n",
       "      <td>2013</td>\n",
       "      <td>93.0</td>\n",
       "      <td>403.0</td>\n",
       "      <td>8.0</td>\n",
       "      <td>0.0</td>\n",
       "      <td>NEWS-PAPER(ARASHIYAMA)</td>\n",
       "      <td>96.4</td>\n",
       "      <td>April</td>\n",
       "      <td>1900-04-03</td>\n",
       "      <td>3.0</td>\n",
       "    </tr>\n",
       "    <tr>\n",
       "      <th>1213</th>\n",
       "      <td>2014</td>\n",
       "      <td>94.0</td>\n",
       "      <td>404.0</td>\n",
       "      <td>8.0</td>\n",
       "      <td>0.0</td>\n",
       "      <td>NEWS-PAPER(ARASHIYAMA)</td>\n",
       "      <td>96.6</td>\n",
       "      <td>April</td>\n",
       "      <td>1900-04-04</td>\n",
       "      <td>4.0</td>\n",
       "    </tr>\n",
       "    <tr>\n",
       "      <th>1214</th>\n",
       "      <td>2015</td>\n",
       "      <td>93.0</td>\n",
       "      <td>403.0</td>\n",
       "      <td>8.0</td>\n",
       "      <td>0.0</td>\n",
       "      <td>NEWS-PAPER(ARASHIYAMA)</td>\n",
       "      <td>96.0</td>\n",
       "      <td>April</td>\n",
       "      <td>1900-04-03</td>\n",
       "      <td>3.0</td>\n",
       "    </tr>\n",
       "  </tbody>\n",
       "</table>\n",
       "</div>"
      ],
      "text/plain": [
       "        ad  full-flowering_date_doy  full-flowering_date  source_code  \\\n",
       "1210  2011                     99.0                409.0          8.0   \n",
       "1211  2012                    101.0                410.0          8.0   \n",
       "1212  2013                     93.0                403.0          8.0   \n",
       "1213  2014                     94.0                404.0          8.0   \n",
       "1214  2015                     93.0                403.0          8.0   \n",
       "\n",
       "      data_type_code          reference_name  rolling_date  month date_column  \\\n",
       "1210             0.0  NEWS-PAPER(ARASHIYAMA)          95.9  April  1900-04-09   \n",
       "1211             0.0  NEWS-PAPER(ARASHIYAMA)          96.9  April  1900-04-10   \n",
       "1212             0.0  NEWS-PAPER(ARASHIYAMA)          96.4  April  1900-04-03   \n",
       "1213             0.0  NEWS-PAPER(ARASHIYAMA)          96.6  April  1900-04-04   \n",
       "1214             0.0  NEWS-PAPER(ARASHIYAMA)          96.0  April  1900-04-03   \n",
       "\n",
       "      day_of_month  \n",
       "1210           9.0  \n",
       "1211          10.0  \n",
       "1212           3.0  \n",
       "1213           4.0  \n",
       "1214           3.0  "
      ]
     },
     "execution_count": 98,
     "metadata": {},
     "output_type": "execute_result"
    }
   ],
   "source": [
    "df.tail()"
   ]
  },
  {
   "cell_type": "markdown",
   "metadata": {},
   "source": [
    "### 20. Adding a date column\n",
    "\n",
    "If you don't have one yet, take the `'month'` and `'day_of_month'` columns and combine them in order to create a new column called `'date'`."
   ]
  },
  {
   "cell_type": "code",
   "execution_count": null,
   "metadata": {},
   "outputs": [],
   "source": [
    "#I already have date_column"
   ]
  },
  {
   "cell_type": "code",
   "execution_count": null,
   "metadata": {},
   "outputs": [],
   "source": []
  },
  {
   "cell_type": "markdown",
   "metadata": {},
   "source": [
    "# YOU ARE DONE.\n",
    "\n",
    "And **incredible.**"
   ]
  },
  {
   "cell_type": "code",
   "execution_count": null,
   "metadata": {},
   "outputs": [],
   "source": []
  }
 ],
 "metadata": {
  "kernelspec": {
   "display_name": "Python 3",
   "language": "python",
   "name": "python3"
  },
  "language_info": {
   "codemirror_mode": {
    "name": "ipython",
    "version": 3
   },
   "file_extension": ".py",
   "mimetype": "text/x-python",
   "name": "python",
   "nbconvert_exporter": "python",
   "pygments_lexer": "ipython3",
   "version": "3.8.2"
  }
 },
 "nbformat": 4,
 "nbformat_minor": 2
}
