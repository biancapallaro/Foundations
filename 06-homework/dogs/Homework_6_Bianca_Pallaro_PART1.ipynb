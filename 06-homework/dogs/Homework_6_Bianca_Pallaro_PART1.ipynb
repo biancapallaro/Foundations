{
 "cells": [
  {
   "cell_type": "markdown",
   "metadata": {},
   "source": [
    "# Homework 6, Part Two: A dataset about dogs.\n",
    "\n",
    "Data from [a FOIL request to New York City](https://www.muckrock.com/foi/new-york-city-17/pet-licensing-data-for-new-york-city-23826/)"
   ]
  },
  {
   "cell_type": "markdown",
   "metadata": {},
   "source": [
    "## Do your importing and your setup"
   ]
  },
  {
   "cell_type": "code",
   "execution_count": 1,
   "metadata": {},
   "outputs": [
    {
     "name": "stderr",
     "output_type": "stream",
     "text": [
      "/Users/biancapallaro/.pyenv/versions/3.8.2/lib/python3.8/site-packages/pandas/compat/__init__.py:120: UserWarning: Could not import the lzma module. Your installed Python is incomplete. Attempting to use lzma compression will result in a RuntimeError.\n",
      "  warnings.warn(msg)\n"
     ]
    }
   ],
   "source": [
    "import pandas as pd\n",
    "import numpy as np\n",
    "\n",
    "pd.set_option(\"display.max_columns\", 200)\n",
    "pd.set_option(\"display.max_colwidth\", 200)"
   ]
  },
  {
   "cell_type": "markdown",
   "metadata": {},
   "source": [
    "## Read in the file `NYC_Dog_Licenses_Current_as_of_4-28-2016.xlsx` and look at the first five rows"
   ]
  },
  {
   "cell_type": "code",
   "execution_count": 2,
   "metadata": {},
   "outputs": [
    {
     "data": {
      "text/html": [
       "<div>\n",
       "<style scoped>\n",
       "    .dataframe tbody tr th:only-of-type {\n",
       "        vertical-align: middle;\n",
       "    }\n",
       "\n",
       "    .dataframe tbody tr th {\n",
       "        vertical-align: top;\n",
       "    }\n",
       "\n",
       "    .dataframe thead th {\n",
       "        text-align: right;\n",
       "    }\n",
       "</style>\n",
       "<table border=\"1\" class=\"dataframe\">\n",
       "  <thead>\n",
       "    <tr style=\"text-align: right;\">\n",
       "      <th></th>\n",
       "      <th>owner_zip_code</th>\n",
       "      <th>animal_name</th>\n",
       "      <th>animal_gender</th>\n",
       "      <th>primary_breed</th>\n",
       "      <th>secondary_breed</th>\n",
       "      <th>animal_dominant_color</th>\n",
       "      <th>animal_secondary_color</th>\n",
       "      <th>animal_third_color</th>\n",
       "      <th>animal_birth</th>\n",
       "      <th>spayed_or_neut</th>\n",
       "      <th>guard_or_trained</th>\n",
       "      <th>vaccinated</th>\n",
       "      <th>application_date</th>\n",
       "      <th>license_issued_date</th>\n",
       "      <th>license_expired_date</th>\n",
       "    </tr>\n",
       "  </thead>\n",
       "  <tbody>\n",
       "    <tr>\n",
       "      <th>0</th>\n",
       "      <td>10024</td>\n",
       "      <td>BLUE MACK</td>\n",
       "      <td>M</td>\n",
       "      <td>NaN</td>\n",
       "      <td>AIREDALE TERR</td>\n",
       "      <td>BROWN</td>\n",
       "      <td>BLACK</td>\n",
       "      <td>NaN</td>\n",
       "      <td>2007-11-01</td>\n",
       "      <td>Yes</td>\n",
       "      <td>No</td>\n",
       "      <td>Yes</td>\n",
       "      <td>2012-09-19 16:01:19.647</td>\n",
       "      <td>2015-09-19</td>\n",
       "      <td>2016-09-19</td>\n",
       "    </tr>\n",
       "    <tr>\n",
       "      <th>1</th>\n",
       "      <td>10461</td>\n",
       "      <td>Indie Zephir</td>\n",
       "      <td>M</td>\n",
       "      <td>Rottweiler</td>\n",
       "      <td>NaN</td>\n",
       "      <td>BLACK</td>\n",
       "      <td>TAN</td>\n",
       "      <td>NaN</td>\n",
       "      <td>2013-04-01</td>\n",
       "      <td>No</td>\n",
       "      <td>No</td>\n",
       "      <td>Yes</td>\n",
       "      <td>2013-09-20 11:41:36.647</td>\n",
       "      <td>2014-09-20</td>\n",
       "      <td>2018-09-20</td>\n",
       "    </tr>\n",
       "    <tr>\n",
       "      <th>2</th>\n",
       "      <td>10013</td>\n",
       "      <td>Bilal</td>\n",
       "      <td>M</td>\n",
       "      <td>Australian Cattledog</td>\n",
       "      <td>NaN</td>\n",
       "      <td>Rust</td>\n",
       "      <td>NaN</td>\n",
       "      <td>NaN</td>\n",
       "      <td>2014-09-01</td>\n",
       "      <td>Yes</td>\n",
       "      <td>NaN</td>\n",
       "      <td>No</td>\n",
       "      <td>2014-09-12 13:13:36.713</td>\n",
       "      <td>2014-09-12</td>\n",
       "      <td>2019-09-12</td>\n",
       "    </tr>\n",
       "    <tr>\n",
       "      <th>3</th>\n",
       "      <td>10025</td>\n",
       "      <td>Buddy</td>\n",
       "      <td>M</td>\n",
       "      <td>NaN</td>\n",
       "      <td>Cockapoo</td>\n",
       "      <td>BLOND</td>\n",
       "      <td>WHITE</td>\n",
       "      <td>NaN</td>\n",
       "      <td>2008-04-01</td>\n",
       "      <td>Yes</td>\n",
       "      <td>No</td>\n",
       "      <td>Yes</td>\n",
       "      <td>2014-09-12 15:26:51.417</td>\n",
       "      <td>2014-09-12</td>\n",
       "      <td>2017-10-20</td>\n",
       "    </tr>\n",
       "    <tr>\n",
       "      <th>4</th>\n",
       "      <td>10013</td>\n",
       "      <td>Ali</td>\n",
       "      <td>M</td>\n",
       "      <td>Basenji</td>\n",
       "      <td>NaN</td>\n",
       "      <td>Black</td>\n",
       "      <td>NaN</td>\n",
       "      <td>NaN</td>\n",
       "      <td>2014-01-01</td>\n",
       "      <td>No</td>\n",
       "      <td>NaN</td>\n",
       "      <td>No</td>\n",
       "      <td>2014-09-12 15:43:17.707</td>\n",
       "      <td>2014-09-12</td>\n",
       "      <td>2019-09-12</td>\n",
       "    </tr>\n",
       "    <tr>\n",
       "      <th>5</th>\n",
       "      <td>10013</td>\n",
       "      <td>Queen</td>\n",
       "      <td>F</td>\n",
       "      <td>Akita Crossbreed</td>\n",
       "      <td>NaN</td>\n",
       "      <td>Charcoal</td>\n",
       "      <td>Red</td>\n",
       "      <td>NaN</td>\n",
       "      <td>2013-04-01</td>\n",
       "      <td>No</td>\n",
       "      <td>NaN</td>\n",
       "      <td>Yes</td>\n",
       "      <td>2014-09-12 16:14:48.487</td>\n",
       "      <td>2014-09-12</td>\n",
       "      <td>2017-09-12</td>\n",
       "    </tr>\n",
       "    <tr>\n",
       "      <th>6</th>\n",
       "      <td>10035</td>\n",
       "      <td>Paige Sable Orta</td>\n",
       "      <td>F</td>\n",
       "      <td>American Pit Bull Mix / Pit Bull Mix</td>\n",
       "      <td>NaN</td>\n",
       "      <td>White</td>\n",
       "      <td>Gray</td>\n",
       "      <td>NaN</td>\n",
       "      <td>2014-07-01</td>\n",
       "      <td>No</td>\n",
       "      <td>NaN</td>\n",
       "      <td>No</td>\n",
       "      <td>2014-09-12 16:22:54.113</td>\n",
       "      <td>2014-09-12</td>\n",
       "      <td>2017-09-12</td>\n",
       "    </tr>\n",
       "    <tr>\n",
       "      <th>7</th>\n",
       "      <td>10465</td>\n",
       "      <td>Yogi</td>\n",
       "      <td>M</td>\n",
       "      <td>Boxer</td>\n",
       "      <td>NaN</td>\n",
       "      <td>TAN</td>\n",
       "      <td>BLACK</td>\n",
       "      <td>NaN</td>\n",
       "      <td>2010-09-01</td>\n",
       "      <td>Yes</td>\n",
       "      <td>No</td>\n",
       "      <td>Yes</td>\n",
       "      <td>2014-09-12 16:47:35.317</td>\n",
       "      <td>2014-09-12</td>\n",
       "      <td>2017-10-02</td>\n",
       "    </tr>\n",
       "    <tr>\n",
       "      <th>8</th>\n",
       "      <td>10013</td>\n",
       "      <td>Chewbacca</td>\n",
       "      <td>F</td>\n",
       "      <td>Labrador Retriever Crossbreed</td>\n",
       "      <td>NaN</td>\n",
       "      <td>RED</td>\n",
       "      <td>NaN</td>\n",
       "      <td>NaN</td>\n",
       "      <td>2012-06-01</td>\n",
       "      <td>Yes</td>\n",
       "      <td>No</td>\n",
       "      <td>Yes</td>\n",
       "      <td>2014-09-12 17:42:56.647</td>\n",
       "      <td>2014-09-12</td>\n",
       "      <td>2019-10-01</td>\n",
       "    </tr>\n",
       "    <tr>\n",
       "      <th>9</th>\n",
       "      <td>10013</td>\n",
       "      <td>IAN</td>\n",
       "      <td>M</td>\n",
       "      <td>NaN</td>\n",
       "      <td>GREYHOUND TER X</td>\n",
       "      <td>WHITE</td>\n",
       "      <td>BLACK</td>\n",
       "      <td>NaN</td>\n",
       "      <td>2006-01-01</td>\n",
       "      <td>Yes</td>\n",
       "      <td>No</td>\n",
       "      <td>Yes</td>\n",
       "      <td>2014-09-12 19:09:19.020</td>\n",
       "      <td>2014-09-12</td>\n",
       "      <td>2019-10-30</td>\n",
       "    </tr>\n",
       "  </tbody>\n",
       "</table>\n",
       "</div>"
      ],
      "text/plain": [
       "   owner_zip_code       animal_name animal_gender  \\\n",
       "0           10024         BLUE MACK             M   \n",
       "1           10461      Indie Zephir             M   \n",
       "2           10013             Bilal             M   \n",
       "3           10025             Buddy             M   \n",
       "4           10013               Ali             M   \n",
       "5           10013             Queen             F   \n",
       "6           10035  Paige Sable Orta             F   \n",
       "7           10465              Yogi             M   \n",
       "8           10013         Chewbacca             F   \n",
       "9           10013        IAN                    M   \n",
       "\n",
       "                          primary_breed  secondary_breed  \\\n",
       "0                                   NaN    AIREDALE TERR   \n",
       "1                            Rottweiler              NaN   \n",
       "2                  Australian Cattledog              NaN   \n",
       "3                                   NaN         Cockapoo   \n",
       "4                               Basenji              NaN   \n",
       "5                      Akita Crossbreed              NaN   \n",
       "6  American Pit Bull Mix / Pit Bull Mix              NaN   \n",
       "7                                 Boxer              NaN   \n",
       "8         Labrador Retriever Crossbreed              NaN   \n",
       "9                                   NaN  GREYHOUND TER X   \n",
       "\n",
       "  animal_dominant_color animal_secondary_color animal_third_color  \\\n",
       "0                 BROWN                  BLACK                NaN   \n",
       "1                 BLACK                    TAN                NaN   \n",
       "2                  Rust                    NaN                NaN   \n",
       "3                 BLOND                  WHITE                NaN   \n",
       "4                 Black                    NaN                NaN   \n",
       "5              Charcoal                    Red                NaN   \n",
       "6                 White                   Gray                NaN   \n",
       "7                   TAN                  BLACK                NaN   \n",
       "8                   RED                    NaN                NaN   \n",
       "9                 WHITE                  BLACK                NaN   \n",
       "\n",
       "  animal_birth spayed_or_neut guard_or_trained vaccinated  \\\n",
       "0   2007-11-01            Yes               No        Yes   \n",
       "1   2013-04-01             No               No        Yes   \n",
       "2   2014-09-01            Yes              NaN         No   \n",
       "3   2008-04-01            Yes               No        Yes   \n",
       "4   2014-01-01             No              NaN         No   \n",
       "5   2013-04-01             No              NaN        Yes   \n",
       "6   2014-07-01             No              NaN         No   \n",
       "7   2010-09-01            Yes               No        Yes   \n",
       "8   2012-06-01            Yes               No        Yes   \n",
       "9   2006-01-01            Yes               No        Yes   \n",
       "\n",
       "         application_date license_issued_date license_expired_date  \n",
       "0 2012-09-19 16:01:19.647          2015-09-19           2016-09-19  \n",
       "1 2013-09-20 11:41:36.647          2014-09-20           2018-09-20  \n",
       "2 2014-09-12 13:13:36.713          2014-09-12           2019-09-12  \n",
       "3 2014-09-12 15:26:51.417          2014-09-12           2017-10-20  \n",
       "4 2014-09-12 15:43:17.707          2014-09-12           2019-09-12  \n",
       "5 2014-09-12 16:14:48.487          2014-09-12           2017-09-12  \n",
       "6 2014-09-12 16:22:54.113          2014-09-12           2017-09-12  \n",
       "7 2014-09-12 16:47:35.317          2014-09-12           2017-10-02  \n",
       "8 2014-09-12 17:42:56.647          2014-09-12           2019-10-01  \n",
       "9 2014-09-12 19:09:19.020          2014-09-12           2019-10-30  "
      ]
     },
     "execution_count": 2,
     "metadata": {},
     "output_type": "execute_result"
    }
   ],
   "source": [
    "df = pd.read_excel(\"NYC_Dog_Licenses_Current_as_of_4-28-2016.xlsx\", nrows=30000, na_values=['Unknown','UNKNOWN'])\n",
    "df.columns = df.columns.str.strip().str.lower().str.replace(' ', '_').str.replace('(', '').str.replace(')', '')\n",
    "df.head(10)"
   ]
  },
  {
   "cell_type": "markdown",
   "metadata": {},
   "source": [
    "## How many rows do you have in the data? What are the column types?\n",
    "\n",
    "If there are more than 30,000 rows in your dataset, go back and only read in the first 30,000."
   ]
  },
  {
   "cell_type": "code",
   "execution_count": 3,
   "metadata": {},
   "outputs": [
    {
     "data": {
      "text/plain": [
       "(30000, 15)"
      ]
     },
     "execution_count": 3,
     "metadata": {},
     "output_type": "execute_result"
    }
   ],
   "source": [
    "df.shape"
   ]
  },
  {
   "cell_type": "code",
   "execution_count": 4,
   "metadata": {},
   "outputs": [
    {
     "data": {
      "text/plain": [
       "owner_zip_code                     int64\n",
       "animal_name                       object\n",
       "animal_gender                     object\n",
       "primary_breed                     object\n",
       "secondary_breed                   object\n",
       "animal_dominant_color             object\n",
       "animal_secondary_color            object\n",
       "animal_third_color                object\n",
       "animal_birth              datetime64[ns]\n",
       "spayed_or_neut                    object\n",
       "guard_or_trained                  object\n",
       "vaccinated                        object\n",
       "application_date          datetime64[ns]\n",
       "license_issued_date       datetime64[ns]\n",
       "license_expired_date      datetime64[ns]\n",
       "dtype: object"
      ]
     },
     "execution_count": 4,
     "metadata": {},
     "output_type": "execute_result"
    }
   ],
   "source": [
    "df.dtypes"
   ]
  },
  {
   "cell_type": "markdown",
   "metadata": {},
   "source": [
    "## Describe the dataset in words. What is each row? List two column titles along with what each of those columns means.\n",
    "\n",
    "For example: “Each row is an animal in the zoo. `is_reptile` is whether the animal is a reptile or not”"
   ]
  },
  {
   "cell_type": "markdown",
   "metadata": {},
   "source": [
    "Each row is a dog. Animal Dominant Color is the animal color. \n",
    "Each row is a dog. Animal Name is the dogs name. "
   ]
  },
  {
   "cell_type": "markdown",
   "metadata": {},
   "source": [
    "# Your thoughts\n",
    "\n",
    "Think of four questions you could ask this dataset. **Don't ask them**, just write them down in the cell below. Feel free to use either Markdown or Python comments."
   ]
  },
  {
   "cell_type": "code",
   "execution_count": 5,
   "metadata": {},
   "outputs": [],
   "source": [
    "#What is the most popular name for each breed?\n",
    "#What percentage of dogs are vaccinated?\n",
    "#Where do most of the dogs live according to the Owner Zip Code?\n",
    "#What is the average age of all the dogs?"
   ]
  },
  {
   "cell_type": "markdown",
   "metadata": {},
   "source": [
    "# Looking at some dogs"
   ]
  },
  {
   "cell_type": "markdown",
   "metadata": {},
   "source": [
    "## What are the most popular (primary) breeds of dogs? Graph the top 10."
   ]
  },
  {
   "cell_type": "code",
   "execution_count": 6,
   "metadata": {},
   "outputs": [
    {
     "data": {
      "text/plain": [
       "Yorkshire Terrier                       1882\n",
       "Shih Tzu                                1760\n",
       "Chihuahua                               1535\n",
       "Maltese                                 1133\n",
       "Labrador Retriever                      1074\n",
       "American Pit Bull Terrier/Pit Bull       780\n",
       "Labrador Retriever Crossbreed            738\n",
       "American Pit Bull Mix / Pit Bull Mix     722\n",
       "Jack Russell Terrier                     553\n",
       "Beagle                                   546\n",
       "Name: primary_breed, dtype: int64"
      ]
     },
     "execution_count": 6,
     "metadata": {},
     "output_type": "execute_result"
    }
   ],
   "source": [
    "df.primary_breed.value_counts().head(10)"
   ]
  },
  {
   "cell_type": "markdown",
   "metadata": {},
   "source": [
    "## \"Unknown\" is a terrible breed! Graph the top 10 breeds that are NOT Unknown"
   ]
  },
  {
   "cell_type": "code",
   "execution_count": 7,
   "metadata": {},
   "outputs": [
    {
     "data": {
      "text/plain": [
       "<AxesSubplot:>"
      ]
     },
     "execution_count": 7,
     "metadata": {},
     "output_type": "execute_result"
    },
    {
     "data": {
      "image/png": "[encoded data removed]",
      "text/plain": [
       "<Figure size 720x720 with 1 Axes>"
      ]
     },
     "metadata": {
      "needs_background": "light"
     },
     "output_type": "display_data"
    }
   ],
   "source": [
    "df.primary_breed.value_counts().head(10).sort_values(ascending=True).plot(figsize=(10,10), kind='barh')"
   ]
  },
  {
   "cell_type": "markdown",
   "metadata": {},
   "source": [
    "## What are the most popular dog names?"
   ]
  },
  {
   "cell_type": "code",
   "execution_count": 8,
   "metadata": {},
   "outputs": [
    {
     "data": {
      "text/plain": [
       "Max        202\n",
       "Bella      193\n",
       "Charlie    172\n",
       "Lola       146\n",
       "Rocky      140\n",
       "Lucy       128\n",
       "Coco       114\n",
       "Buddy      113\n",
       "Lucky      106\n",
       "Daisy       90\n",
       "Name: animal_name, dtype: int64"
      ]
     },
     "execution_count": 8,
     "metadata": {},
     "output_type": "execute_result"
    }
   ],
   "source": [
    "df.animal_name.value_counts().head(10)"
   ]
  },
  {
   "cell_type": "markdown",
   "metadata": {},
   "source": [
    "## Do any dogs have your name? How many dogs are named \"Max,\" and how many are named \"Maxwell\"?"
   ]
  },
  {
   "cell_type": "code",
   "execution_count": 9,
   "metadata": {
    "scrolled": true
   },
   "outputs": [
    {
     "data": {
      "text/html": [
       "<div>\n",
       "<style scoped>\n",
       "    .dataframe tbody tr th:only-of-type {\n",
       "        vertical-align: middle;\n",
       "    }\n",
       "\n",
       "    .dataframe tbody tr th {\n",
       "        vertical-align: top;\n",
       "    }\n",
       "\n",
       "    .dataframe thead th {\n",
       "        text-align: right;\n",
       "    }\n",
       "</style>\n",
       "<table border=\"1\" class=\"dataframe\">\n",
       "  <thead>\n",
       "    <tr style=\"text-align: right;\">\n",
       "      <th></th>\n",
       "      <th>owner_zip_code</th>\n",
       "      <th>animal_name</th>\n",
       "      <th>animal_gender</th>\n",
       "      <th>primary_breed</th>\n",
       "      <th>secondary_breed</th>\n",
       "      <th>animal_dominant_color</th>\n",
       "      <th>animal_secondary_color</th>\n",
       "      <th>animal_third_color</th>\n",
       "      <th>animal_birth</th>\n",
       "      <th>spayed_or_neut</th>\n",
       "      <th>guard_or_trained</th>\n",
       "      <th>vaccinated</th>\n",
       "      <th>application_date</th>\n",
       "      <th>license_issued_date</th>\n",
       "      <th>license_expired_date</th>\n",
       "    </tr>\n",
       "  </thead>\n",
       "  <tbody>\n",
       "    <tr>\n",
       "      <th>218</th>\n",
       "      <td>10023</td>\n",
       "      <td>Bianca</td>\n",
       "      <td>F</td>\n",
       "      <td>Shih Tzu</td>\n",
       "      <td>NaN</td>\n",
       "      <td>WHITE</td>\n",
       "      <td>TAN</td>\n",
       "      <td>NaN</td>\n",
       "      <td>2006-01-01</td>\n",
       "      <td>Yes</td>\n",
       "      <td>No</td>\n",
       "      <td>Yes</td>\n",
       "      <td>2014-09-26 09:30:30.637</td>\n",
       "      <td>2014-09-26</td>\n",
       "      <td>2017-06-29</td>\n",
       "    </tr>\n",
       "    <tr>\n",
       "      <th>3740</th>\n",
       "      <td>10019</td>\n",
       "      <td>Bianca</td>\n",
       "      <td>F</td>\n",
       "      <td>Poodle, Toy</td>\n",
       "      <td>NaN</td>\n",
       "      <td>CREAM</td>\n",
       "      <td>APRICOT</td>\n",
       "      <td>NaN</td>\n",
       "      <td>2009-08-01</td>\n",
       "      <td>Yes</td>\n",
       "      <td>No</td>\n",
       "      <td>Yes</td>\n",
       "      <td>2015-04-15 14:49:41.240</td>\n",
       "      <td>2015-04-15</td>\n",
       "      <td>2016-05-11</td>\n",
       "    </tr>\n",
       "    <tr>\n",
       "      <th>12226</th>\n",
       "      <td>11357</td>\n",
       "      <td>Bianca</td>\n",
       "      <td>F</td>\n",
       "      <td>American Staffordshire Terrier</td>\n",
       "      <td>NaN</td>\n",
       "      <td>Tan</td>\n",
       "      <td>White</td>\n",
       "      <td>NaN</td>\n",
       "      <td>2000-06-01</td>\n",
       "      <td>Yes</td>\n",
       "      <td>NaN</td>\n",
       "      <td>Yes</td>\n",
       "      <td>2015-06-11 16:58:38.637</td>\n",
       "      <td>2015-06-11</td>\n",
       "      <td>2016-06-11</td>\n",
       "    </tr>\n",
       "    <tr>\n",
       "      <th>13479</th>\n",
       "      <td>11234</td>\n",
       "      <td>Bianca</td>\n",
       "      <td>F</td>\n",
       "      <td>Shiba Inu</td>\n",
       "      <td>NaN</td>\n",
       "      <td>RED</td>\n",
       "      <td>TAN</td>\n",
       "      <td>WHITE</td>\n",
       "      <td>2012-03-01</td>\n",
       "      <td>Yes</td>\n",
       "      <td>No</td>\n",
       "      <td>Yes</td>\n",
       "      <td>2015-06-16 15:00:43.710</td>\n",
       "      <td>2015-06-16</td>\n",
       "      <td>2016-06-25</td>\n",
       "    </tr>\n",
       "    <tr>\n",
       "      <th>19488</th>\n",
       "      <td>11364</td>\n",
       "      <td>Bianca</td>\n",
       "      <td>F</td>\n",
       "      <td>NaN</td>\n",
       "      <td>Maltipoo</td>\n",
       "      <td>WHITE</td>\n",
       "      <td>NaN</td>\n",
       "      <td>NaN</td>\n",
       "      <td>2011-02-01</td>\n",
       "      <td>Yes</td>\n",
       "      <td>No</td>\n",
       "      <td>Yes</td>\n",
       "      <td>2015-07-09 23:36:43.813</td>\n",
       "      <td>2015-07-09</td>\n",
       "      <td>2016-07-28</td>\n",
       "    </tr>\n",
       "    <tr>\n",
       "      <th>19730</th>\n",
       "      <td>10011</td>\n",
       "      <td>Bianca</td>\n",
       "      <td>F</td>\n",
       "      <td>Jack Russell Terrier</td>\n",
       "      <td>NaN</td>\n",
       "      <td>WHITE</td>\n",
       "      <td>BROWN</td>\n",
       "      <td>NaN</td>\n",
       "      <td>2008-03-01</td>\n",
       "      <td>Yes</td>\n",
       "      <td>No</td>\n",
       "      <td>Yes</td>\n",
       "      <td>2015-07-11 16:36:04.667</td>\n",
       "      <td>2015-07-11</td>\n",
       "      <td>2016-08-04</td>\n",
       "    </tr>\n",
       "    <tr>\n",
       "      <th>24480</th>\n",
       "      <td>10036</td>\n",
       "      <td>Bianca</td>\n",
       "      <td>F</td>\n",
       "      <td>Labrador Retriever Crossbreed</td>\n",
       "      <td>NaN</td>\n",
       "      <td>Tan</td>\n",
       "      <td>NaN</td>\n",
       "      <td>NaN</td>\n",
       "      <td>2014-08-01</td>\n",
       "      <td>Yes</td>\n",
       "      <td>NaN</td>\n",
       "      <td>Yes</td>\n",
       "      <td>2015-08-01 11:25:07.990</td>\n",
       "      <td>2015-08-01</td>\n",
       "      <td>2016-08-01</td>\n",
       "    </tr>\n",
       "    <tr>\n",
       "      <th>29312</th>\n",
       "      <td>11214</td>\n",
       "      <td>Bianca</td>\n",
       "      <td>F</td>\n",
       "      <td>Poodle, Standard</td>\n",
       "      <td>NaN</td>\n",
       "      <td>NaN</td>\n",
       "      <td>NaN</td>\n",
       "      <td>NaN</td>\n",
       "      <td>2008-02-01</td>\n",
       "      <td>Yes</td>\n",
       "      <td>No</td>\n",
       "      <td>Yes</td>\n",
       "      <td>2015-08-19 10:35:52.047</td>\n",
       "      <td>2015-08-19</td>\n",
       "      <td>2016-08-28</td>\n",
       "    </tr>\n",
       "  </tbody>\n",
       "</table>\n",
       "</div>"
      ],
      "text/plain": [
       "       owner_zip_code animal_name animal_gender  \\\n",
       "218             10023      Bianca             F   \n",
       "3740            10019      Bianca             F   \n",
       "12226           11357      Bianca             F   \n",
       "13479           11234      Bianca             F   \n",
       "19488           11364      Bianca             F   \n",
       "19730           10011      Bianca             F   \n",
       "24480           10036      Bianca             F   \n",
       "29312           11214      Bianca             F   \n",
       "\n",
       "                         primary_breed secondary_breed animal_dominant_color  \\\n",
       "218                           Shih Tzu             NaN                 WHITE   \n",
       "3740                       Poodle, Toy             NaN                 CREAM   \n",
       "12226  American Staffordshire Terrier              NaN                   Tan   \n",
       "13479                        Shiba Inu             NaN                   RED   \n",
       "19488                              NaN        Maltipoo                 WHITE   \n",
       "19730             Jack Russell Terrier             NaN                 WHITE   \n",
       "24480    Labrador Retriever Crossbreed             NaN                   Tan   \n",
       "29312                 Poodle, Standard             NaN                   NaN   \n",
       "\n",
       "      animal_secondary_color animal_third_color animal_birth spayed_or_neut  \\\n",
       "218                      TAN                NaN   2006-01-01            Yes   \n",
       "3740                 APRICOT                NaN   2009-08-01            Yes   \n",
       "12226                  White                NaN   2000-06-01            Yes   \n",
       "13479                    TAN              WHITE   2012-03-01            Yes   \n",
       "19488                    NaN                NaN   2011-02-01            Yes   \n",
       "19730                  BROWN                NaN   2008-03-01            Yes   \n",
       "24480                    NaN                NaN   2014-08-01            Yes   \n",
       "29312                    NaN                NaN   2008-02-01            Yes   \n",
       "\n",
       "      guard_or_trained vaccinated        application_date license_issued_date  \\\n",
       "218                 No        Yes 2014-09-26 09:30:30.637          2014-09-26   \n",
       "3740                No        Yes 2015-04-15 14:49:41.240          2015-04-15   \n",
       "12226              NaN        Yes 2015-06-11 16:58:38.637          2015-06-11   \n",
       "13479               No        Yes 2015-06-16 15:00:43.710          2015-06-16   \n",
       "19488               No        Yes 2015-07-09 23:36:43.813          2015-07-09   \n",
       "19730               No        Yes 2015-07-11 16:36:04.667          2015-07-11   \n",
       "24480              NaN        Yes 2015-08-01 11:25:07.990          2015-08-01   \n",
       "29312               No        Yes 2015-08-19 10:35:52.047          2015-08-19   \n",
       "\n",
       "      license_expired_date  \n",
       "218             2017-06-29  \n",
       "3740            2016-05-11  \n",
       "12226           2016-06-11  \n",
       "13479           2016-06-25  \n",
       "19488           2016-07-28  \n",
       "19730           2016-08-04  \n",
       "24480           2016-08-01  \n",
       "29312           2016-08-28  "
      ]
     },
     "execution_count": 9,
     "metadata": {},
     "output_type": "execute_result"
    }
   ],
   "source": [
    "df[df.animal_name == 'Bianca']"
   ]
  },
  {
   "cell_type": "code",
   "execution_count": 10,
   "metadata": {},
   "outputs": [
    {
     "data": {
      "text/plain": [
       "202"
      ]
     },
     "execution_count": 10,
     "metadata": {},
     "output_type": "execute_result"
    }
   ],
   "source": [
    "len(df[df.animal_name == 'Max'])"
   ]
  },
  {
   "cell_type": "markdown",
   "metadata": {},
   "source": [
    "## What percentage of dogs are guard dogs?\n",
    "\n",
    "Check out the documentation for [value counts](https://pandas.pydata.org/pandas-docs/stable/generated/pandas.Series.value_counts.html)."
   ]
  },
  {
   "cell_type": "code",
   "execution_count": 11,
   "metadata": {},
   "outputs": [
    {
     "data": {
      "text/plain": [
       "No     99.914254\n",
       "Yes     0.085746\n",
       "Name: guard_or_trained, dtype: float64"
      ]
     },
     "execution_count": 11,
     "metadata": {},
     "output_type": "execute_result"
    }
   ],
   "source": [
    "df.guard_or_trained.value_counts(normalize=True) * 100"
   ]
  },
  {
   "cell_type": "markdown",
   "metadata": {},
   "source": [
    "## What are the actual numbers?"
   ]
  },
  {
   "cell_type": "code",
   "execution_count": 12,
   "metadata": {},
   "outputs": [
    {
     "data": {
      "text/plain": [
       "No     19809\n",
       "Yes       17\n",
       "Name: guard_or_trained, dtype: int64"
      ]
     },
     "execution_count": 12,
     "metadata": {},
     "output_type": "execute_result"
    }
   ],
   "source": [
    "df.guard_or_trained.value_counts()"
   ]
  },
  {
   "cell_type": "markdown",
   "metadata": {},
   "source": [
    "## Wait... if you add that up, is it the same as your number of rows? Where are the other dogs???? How can we find them??????\n",
    "\n",
    "Use your `.head()` to think about it, then you'll do some magic with `.value_counts()`"
   ]
  },
  {
   "cell_type": "code",
   "execution_count": 13,
   "metadata": {},
   "outputs": [
    {
     "data": {
      "text/plain": [
       "No     19809\n",
       "NaN    10174\n",
       "Yes       17\n",
       "Name: guard_or_trained, dtype: int64"
      ]
     },
     "execution_count": 13,
     "metadata": {},
     "output_type": "execute_result"
    }
   ],
   "source": [
    "df.guard_or_trained.value_counts(dropna=False)"
   ]
  },
  {
   "cell_type": "markdown",
   "metadata": {},
   "source": [
    "## Fill in all of those empty \"Guard or Trained\" columns with \"No\"\n",
    "\n",
    "Then check your result with another `.value_counts()`"
   ]
  },
  {
   "cell_type": "code",
   "execution_count": 14,
   "metadata": {},
   "outputs": [
    {
     "data": {
      "text/plain": [
       "No     29983\n",
       "Yes       17\n",
       "Name: guard_or_trained, dtype: int64"
      ]
     },
     "execution_count": 14,
     "metadata": {},
     "output_type": "execute_result"
    }
   ],
   "source": [
    "df.guard_or_trained = df.guard_or_trained.replace({\n",
    "    np.nan: 'No'\n",
    "})\n",
    "df.guard_or_trained.value_counts()"
   ]
  },
  {
   "cell_type": "markdown",
   "metadata": {},
   "source": [
    "## What are the top dog breeds for guard dogs? "
   ]
  },
  {
   "cell_type": "code",
   "execution_count": 15,
   "metadata": {},
   "outputs": [
    {
     "data": {
      "text/plain": [
       "German Shepherd Dog           3\n",
       "Yorkshire Terrier             1\n",
       "German Shepherd Crossbreed    1\n",
       "Rottweiler                    1\n",
       "Poodle, Standard              1\n",
       "Golden Retriever              1\n",
       "Shih Tzu                      1\n",
       "Labrador Retriever            1\n",
       "Doberman Pinscher             1\n",
       "Schnauzer, Miniature          1\n",
       "Name: primary_breed, dtype: int64"
      ]
     },
     "execution_count": 15,
     "metadata": {},
     "output_type": "execute_result"
    }
   ],
   "source": [
    "df[df.guard_or_trained == 'Yes'].primary_breed.value_counts()"
   ]
  },
  {
   "cell_type": "markdown",
   "metadata": {},
   "source": [
    "## Create a new column called \"year\" that is the dog's year of birth\n",
    "\n",
    "The `Animal Birth` column is a datetime, so you can get the year out of it with the code `df['Animal Birth'].apply(lambda birth: birth.year)`."
   ]
  },
  {
   "cell_type": "code",
   "execution_count": 16,
   "metadata": {},
   "outputs": [],
   "source": [
    "df['year'] = df['animal_birth'].apply(lambda birth: birth.year)"
   ]
  },
  {
   "cell_type": "markdown",
   "metadata": {},
   "source": [
    "## Calculate a new column called “age” that shows approximately how old the dog is. How old are dogs on average?"
   ]
  },
  {
   "cell_type": "code",
   "execution_count": 17,
   "metadata": {},
   "outputs": [],
   "source": [
    "df['age']= 2020-df['year']"
   ]
  },
  {
   "cell_type": "markdown",
   "metadata": {},
   "source": [
    "# Joining data together"
   ]
  },
  {
   "cell_type": "code",
   "execution_count": 18,
   "metadata": {},
   "outputs": [
    {
     "data": {
      "text/html": [
       "<div>\n",
       "<style scoped>\n",
       "    .dataframe tbody tr th:only-of-type {\n",
       "        vertical-align: middle;\n",
       "    }\n",
       "\n",
       "    .dataframe tbody tr th {\n",
       "        vertical-align: top;\n",
       "    }\n",
       "\n",
       "    .dataframe thead th {\n",
       "        text-align: right;\n",
       "    }\n",
       "</style>\n",
       "<table border=\"1\" class=\"dataframe\">\n",
       "  <thead>\n",
       "    <tr style=\"text-align: right;\">\n",
       "      <th></th>\n",
       "      <th>neighborhood</th>\n",
       "      <th>zip</th>\n",
       "      <th>borough</th>\n",
       "    </tr>\n",
       "  </thead>\n",
       "  <tbody>\n",
       "    <tr>\n",
       "      <th>0</th>\n",
       "      <td>Central Bronx</td>\n",
       "      <td>10453</td>\n",
       "      <td>Bronx</td>\n",
       "    </tr>\n",
       "    <tr>\n",
       "      <th>1</th>\n",
       "      <td>Central Bronx</td>\n",
       "      <td>10457</td>\n",
       "      <td>Bronx</td>\n",
       "    </tr>\n",
       "    <tr>\n",
       "      <th>2</th>\n",
       "      <td>Central Bronx</td>\n",
       "      <td>10460</td>\n",
       "      <td>Bronx</td>\n",
       "    </tr>\n",
       "    <tr>\n",
       "      <th>3</th>\n",
       "      <td>Bronx Park and Fordham</td>\n",
       "      <td>10458</td>\n",
       "      <td>Bronx</td>\n",
       "    </tr>\n",
       "    <tr>\n",
       "      <th>4</th>\n",
       "      <td>Bronx Park and Fordham</td>\n",
       "      <td>10467</td>\n",
       "      <td>Bronx</td>\n",
       "    </tr>\n",
       "    <tr>\n",
       "      <th>5</th>\n",
       "      <td>Bronx Park and Fordham</td>\n",
       "      <td>10468</td>\n",
       "      <td>Bronx</td>\n",
       "    </tr>\n",
       "    <tr>\n",
       "      <th>6</th>\n",
       "      <td>High Bridge and Morrisania</td>\n",
       "      <td>10451</td>\n",
       "      <td>Bronx</td>\n",
       "    </tr>\n",
       "    <tr>\n",
       "      <th>7</th>\n",
       "      <td>High Bridge and Morrisania</td>\n",
       "      <td>10452</td>\n",
       "      <td>Bronx</td>\n",
       "    </tr>\n",
       "    <tr>\n",
       "      <th>8</th>\n",
       "      <td>High Bridge and Morrisania</td>\n",
       "      <td>10456</td>\n",
       "      <td>Bronx</td>\n",
       "    </tr>\n",
       "    <tr>\n",
       "      <th>9</th>\n",
       "      <td>Hunts Point and Mott Haven</td>\n",
       "      <td>10454</td>\n",
       "      <td>Bronx</td>\n",
       "    </tr>\n",
       "  </tbody>\n",
       "</table>\n",
       "</div>"
      ],
      "text/plain": [
       "                 neighborhood    zip borough\n",
       "0               Central Bronx  10453   Bronx\n",
       "1               Central Bronx  10457   Bronx\n",
       "2               Central Bronx  10460   Bronx\n",
       "3      Bronx Park and Fordham  10458   Bronx\n",
       "4      Bronx Park and Fordham  10467   Bronx\n",
       "5      Bronx Park and Fordham  10468   Bronx\n",
       "6  High Bridge and Morrisania  10451   Bronx\n",
       "7  High Bridge and Morrisania  10452   Bronx\n",
       "8  High Bridge and Morrisania  10456   Bronx\n",
       "9  Hunts Point and Mott Haven  10454   Bronx"
      ]
     },
     "execution_count": 18,
     "metadata": {},
     "output_type": "execute_result"
    }
   ],
   "source": [
    "df2 = pd.read_csv(\"zipcodes-neighborhoods.csv\", nrows=30000, na_values=['Unknown','UNKNOWN','unknown'])\n",
    "df2.columns = df2.columns.str.strip().str.lower().str.replace(' ', '_').str.replace('(', '').str.replace(')', '')\n",
    "df2.head(10)"
   ]
  },
  {
   "cell_type": "markdown",
   "metadata": {},
   "source": [
    "## Which neighborhood does each dog live in?\n",
    "\n",
    "You also have a (terrible) list of NYC neighborhoods in `zipcodes-neighborhoods.csv`. Join these two datasets together, so we know what neighborhood each dog lives in. **Be sure to not read it in as `df`, or else you'll overwrite your dogs dataframe.**"
   ]
  },
  {
   "cell_type": "code",
   "execution_count": 19,
   "metadata": {},
   "outputs": [
    {
     "data": {
      "text/html": [
       "<div>\n",
       "<style scoped>\n",
       "    .dataframe tbody tr th:only-of-type {\n",
       "        vertical-align: middle;\n",
       "    }\n",
       "\n",
       "    .dataframe tbody tr th {\n",
       "        vertical-align: top;\n",
       "    }\n",
       "\n",
       "    .dataframe thead th {\n",
       "        text-align: right;\n",
       "    }\n",
       "</style>\n",
       "<table border=\"1\" class=\"dataframe\">\n",
       "  <thead>\n",
       "    <tr style=\"text-align: right;\">\n",
       "      <th></th>\n",
       "      <th>owner_zip_code</th>\n",
       "      <th>animal_name</th>\n",
       "      <th>animal_gender</th>\n",
       "      <th>primary_breed</th>\n",
       "      <th>secondary_breed</th>\n",
       "      <th>animal_dominant_color</th>\n",
       "      <th>animal_secondary_color</th>\n",
       "      <th>animal_third_color</th>\n",
       "      <th>animal_birth</th>\n",
       "      <th>spayed_or_neut</th>\n",
       "      <th>guard_or_trained</th>\n",
       "      <th>vaccinated</th>\n",
       "      <th>application_date</th>\n",
       "      <th>license_issued_date</th>\n",
       "      <th>license_expired_date</th>\n",
       "      <th>year</th>\n",
       "      <th>age</th>\n",
       "      <th>neighborhood</th>\n",
       "      <th>zip</th>\n",
       "      <th>borough</th>\n",
       "    </tr>\n",
       "  </thead>\n",
       "  <tbody>\n",
       "    <tr>\n",
       "      <th>0</th>\n",
       "      <td>10024</td>\n",
       "      <td>BLUE MACK</td>\n",
       "      <td>M</td>\n",
       "      <td>NaN</td>\n",
       "      <td>AIREDALE TERR</td>\n",
       "      <td>BROWN</td>\n",
       "      <td>BLACK</td>\n",
       "      <td>NaN</td>\n",
       "      <td>2007-11-01</td>\n",
       "      <td>Yes</td>\n",
       "      <td>No</td>\n",
       "      <td>Yes</td>\n",
       "      <td>2012-09-19 16:01:19.647</td>\n",
       "      <td>2015-09-19</td>\n",
       "      <td>2016-09-19</td>\n",
       "      <td>2007</td>\n",
       "      <td>13</td>\n",
       "      <td>Upper West Side</td>\n",
       "      <td>10024.0</td>\n",
       "      <td>Manhattan</td>\n",
       "    </tr>\n",
       "    <tr>\n",
       "      <th>1</th>\n",
       "      <td>10461</td>\n",
       "      <td>Indie Zephir</td>\n",
       "      <td>M</td>\n",
       "      <td>Rottweiler</td>\n",
       "      <td>NaN</td>\n",
       "      <td>BLACK</td>\n",
       "      <td>TAN</td>\n",
       "      <td>NaN</td>\n",
       "      <td>2013-04-01</td>\n",
       "      <td>No</td>\n",
       "      <td>No</td>\n",
       "      <td>Yes</td>\n",
       "      <td>2013-09-20 11:41:36.647</td>\n",
       "      <td>2014-09-20</td>\n",
       "      <td>2018-09-20</td>\n",
       "      <td>2013</td>\n",
       "      <td>7</td>\n",
       "      <td>Southeast Bronx</td>\n",
       "      <td>10461.0</td>\n",
       "      <td>Bronx</td>\n",
       "    </tr>\n",
       "    <tr>\n",
       "      <th>2</th>\n",
       "      <td>10013</td>\n",
       "      <td>Bilal</td>\n",
       "      <td>M</td>\n",
       "      <td>Australian Cattledog</td>\n",
       "      <td>NaN</td>\n",
       "      <td>Rust</td>\n",
       "      <td>NaN</td>\n",
       "      <td>NaN</td>\n",
       "      <td>2014-09-01</td>\n",
       "      <td>Yes</td>\n",
       "      <td>No</td>\n",
       "      <td>No</td>\n",
       "      <td>2014-09-12 13:13:36.713</td>\n",
       "      <td>2014-09-12</td>\n",
       "      <td>2019-09-12</td>\n",
       "      <td>2014</td>\n",
       "      <td>6</td>\n",
       "      <td>Greenwich Village and Soho</td>\n",
       "      <td>10013.0</td>\n",
       "      <td>Manhattan</td>\n",
       "    </tr>\n",
       "    <tr>\n",
       "      <th>3</th>\n",
       "      <td>10025</td>\n",
       "      <td>Buddy</td>\n",
       "      <td>M</td>\n",
       "      <td>NaN</td>\n",
       "      <td>Cockapoo</td>\n",
       "      <td>BLOND</td>\n",
       "      <td>WHITE</td>\n",
       "      <td>NaN</td>\n",
       "      <td>2008-04-01</td>\n",
       "      <td>Yes</td>\n",
       "      <td>No</td>\n",
       "      <td>Yes</td>\n",
       "      <td>2014-09-12 15:26:51.417</td>\n",
       "      <td>2014-09-12</td>\n",
       "      <td>2017-10-20</td>\n",
       "      <td>2008</td>\n",
       "      <td>12</td>\n",
       "      <td>Upper West Side</td>\n",
       "      <td>10025.0</td>\n",
       "      <td>Manhattan</td>\n",
       "    </tr>\n",
       "    <tr>\n",
       "      <th>4</th>\n",
       "      <td>10013</td>\n",
       "      <td>Ali</td>\n",
       "      <td>M</td>\n",
       "      <td>Basenji</td>\n",
       "      <td>NaN</td>\n",
       "      <td>Black</td>\n",
       "      <td>NaN</td>\n",
       "      <td>NaN</td>\n",
       "      <td>2014-01-01</td>\n",
       "      <td>No</td>\n",
       "      <td>No</td>\n",
       "      <td>No</td>\n",
       "      <td>2014-09-12 15:43:17.707</td>\n",
       "      <td>2014-09-12</td>\n",
       "      <td>2019-09-12</td>\n",
       "      <td>2014</td>\n",
       "      <td>6</td>\n",
       "      <td>Greenwich Village and Soho</td>\n",
       "      <td>10013.0</td>\n",
       "      <td>Manhattan</td>\n",
       "    </tr>\n",
       "    <tr>\n",
       "      <th>5</th>\n",
       "      <td>10013</td>\n",
       "      <td>Queen</td>\n",
       "      <td>F</td>\n",
       "      <td>Akita Crossbreed</td>\n",
       "      <td>NaN</td>\n",
       "      <td>Charcoal</td>\n",
       "      <td>Red</td>\n",
       "      <td>NaN</td>\n",
       "      <td>2013-04-01</td>\n",
       "      <td>No</td>\n",
       "      <td>No</td>\n",
       "      <td>Yes</td>\n",
       "      <td>2014-09-12 16:14:48.487</td>\n",
       "      <td>2014-09-12</td>\n",
       "      <td>2017-09-12</td>\n",
       "      <td>2013</td>\n",
       "      <td>7</td>\n",
       "      <td>Greenwich Village and Soho</td>\n",
       "      <td>10013.0</td>\n",
       "      <td>Manhattan</td>\n",
       "    </tr>\n",
       "    <tr>\n",
       "      <th>6</th>\n",
       "      <td>10035</td>\n",
       "      <td>Paige Sable Orta</td>\n",
       "      <td>F</td>\n",
       "      <td>American Pit Bull Mix / Pit Bull Mix</td>\n",
       "      <td>NaN</td>\n",
       "      <td>White</td>\n",
       "      <td>Gray</td>\n",
       "      <td>NaN</td>\n",
       "      <td>2014-07-01</td>\n",
       "      <td>No</td>\n",
       "      <td>No</td>\n",
       "      <td>No</td>\n",
       "      <td>2014-09-12 16:22:54.113</td>\n",
       "      <td>2014-09-12</td>\n",
       "      <td>2017-09-12</td>\n",
       "      <td>2014</td>\n",
       "      <td>6</td>\n",
       "      <td>East Harlem</td>\n",
       "      <td>10035.0</td>\n",
       "      <td>Manhattan</td>\n",
       "    </tr>\n",
       "    <tr>\n",
       "      <th>7</th>\n",
       "      <td>10465</td>\n",
       "      <td>Yogi</td>\n",
       "      <td>M</td>\n",
       "      <td>Boxer</td>\n",
       "      <td>NaN</td>\n",
       "      <td>TAN</td>\n",
       "      <td>BLACK</td>\n",
       "      <td>NaN</td>\n",
       "      <td>2010-09-01</td>\n",
       "      <td>Yes</td>\n",
       "      <td>No</td>\n",
       "      <td>Yes</td>\n",
       "      <td>2014-09-12 16:47:35.317</td>\n",
       "      <td>2014-09-12</td>\n",
       "      <td>2017-10-02</td>\n",
       "      <td>2010</td>\n",
       "      <td>10</td>\n",
       "      <td>Southeast Bronx</td>\n",
       "      <td>10465.0</td>\n",
       "      <td>Bronx</td>\n",
       "    </tr>\n",
       "    <tr>\n",
       "      <th>8</th>\n",
       "      <td>10013</td>\n",
       "      <td>Chewbacca</td>\n",
       "      <td>F</td>\n",
       "      <td>Labrador Retriever Crossbreed</td>\n",
       "      <td>NaN</td>\n",
       "      <td>RED</td>\n",
       "      <td>NaN</td>\n",
       "      <td>NaN</td>\n",
       "      <td>2012-06-01</td>\n",
       "      <td>Yes</td>\n",
       "      <td>No</td>\n",
       "      <td>Yes</td>\n",
       "      <td>2014-09-12 17:42:56.647</td>\n",
       "      <td>2014-09-12</td>\n",
       "      <td>2019-10-01</td>\n",
       "      <td>2012</td>\n",
       "      <td>8</td>\n",
       "      <td>Greenwich Village and Soho</td>\n",
       "      <td>10013.0</td>\n",
       "      <td>Manhattan</td>\n",
       "    </tr>\n",
       "    <tr>\n",
       "      <th>9</th>\n",
       "      <td>10013</td>\n",
       "      <td>IAN</td>\n",
       "      <td>M</td>\n",
       "      <td>NaN</td>\n",
       "      <td>GREYHOUND TER X</td>\n",
       "      <td>WHITE</td>\n",
       "      <td>BLACK</td>\n",
       "      <td>NaN</td>\n",
       "      <td>2006-01-01</td>\n",
       "      <td>Yes</td>\n",
       "      <td>No</td>\n",
       "      <td>Yes</td>\n",
       "      <td>2014-09-12 19:09:19.020</td>\n",
       "      <td>2014-09-12</td>\n",
       "      <td>2019-10-30</td>\n",
       "      <td>2006</td>\n",
       "      <td>14</td>\n",
       "      <td>Greenwich Village and Soho</td>\n",
       "      <td>10013.0</td>\n",
       "      <td>Manhattan</td>\n",
       "    </tr>\n",
       "  </tbody>\n",
       "</table>\n",
       "</div>"
      ],
      "text/plain": [
       "   owner_zip_code       animal_name animal_gender  \\\n",
       "0           10024         BLUE MACK             M   \n",
       "1           10461      Indie Zephir             M   \n",
       "2           10013             Bilal             M   \n",
       "3           10025             Buddy             M   \n",
       "4           10013               Ali             M   \n",
       "5           10013             Queen             F   \n",
       "6           10035  Paige Sable Orta             F   \n",
       "7           10465              Yogi             M   \n",
       "8           10013         Chewbacca             F   \n",
       "9           10013        IAN                    M   \n",
       "\n",
       "                          primary_breed  secondary_breed  \\\n",
       "0                                   NaN    AIREDALE TERR   \n",
       "1                            Rottweiler              NaN   \n",
       "2                  Australian Cattledog              NaN   \n",
       "3                                   NaN         Cockapoo   \n",
       "4                               Basenji              NaN   \n",
       "5                      Akita Crossbreed              NaN   \n",
       "6  American Pit Bull Mix / Pit Bull Mix              NaN   \n",
       "7                                 Boxer              NaN   \n",
       "8         Labrador Retriever Crossbreed              NaN   \n",
       "9                                   NaN  GREYHOUND TER X   \n",
       "\n",
       "  animal_dominant_color animal_secondary_color animal_third_color  \\\n",
       "0                 BROWN                  BLACK                NaN   \n",
       "1                 BLACK                    TAN                NaN   \n",
       "2                  Rust                    NaN                NaN   \n",
       "3                 BLOND                  WHITE                NaN   \n",
       "4                 Black                    NaN                NaN   \n",
       "5              Charcoal                    Red                NaN   \n",
       "6                 White                   Gray                NaN   \n",
       "7                   TAN                  BLACK                NaN   \n",
       "8                   RED                    NaN                NaN   \n",
       "9                 WHITE                  BLACK                NaN   \n",
       "\n",
       "  animal_birth spayed_or_neut guard_or_trained vaccinated  \\\n",
       "0   2007-11-01            Yes               No        Yes   \n",
       "1   2013-04-01             No               No        Yes   \n",
       "2   2014-09-01            Yes               No         No   \n",
       "3   2008-04-01            Yes               No        Yes   \n",
       "4   2014-01-01             No               No         No   \n",
       "5   2013-04-01             No               No        Yes   \n",
       "6   2014-07-01             No               No         No   \n",
       "7   2010-09-01            Yes               No        Yes   \n",
       "8   2012-06-01            Yes               No        Yes   \n",
       "9   2006-01-01            Yes               No        Yes   \n",
       "\n",
       "         application_date license_issued_date license_expired_date  year  age  \\\n",
       "0 2012-09-19 16:01:19.647          2015-09-19           2016-09-19  2007   13   \n",
       "1 2013-09-20 11:41:36.647          2014-09-20           2018-09-20  2013    7   \n",
       "2 2014-09-12 13:13:36.713          2014-09-12           2019-09-12  2014    6   \n",
       "3 2014-09-12 15:26:51.417          2014-09-12           2017-10-20  2008   12   \n",
       "4 2014-09-12 15:43:17.707          2014-09-12           2019-09-12  2014    6   \n",
       "5 2014-09-12 16:14:48.487          2014-09-12           2017-09-12  2013    7   \n",
       "6 2014-09-12 16:22:54.113          2014-09-12           2017-09-12  2014    6   \n",
       "7 2014-09-12 16:47:35.317          2014-09-12           2017-10-02  2010   10   \n",
       "8 2014-09-12 17:42:56.647          2014-09-12           2019-10-01  2012    8   \n",
       "9 2014-09-12 19:09:19.020          2014-09-12           2019-10-30  2006   14   \n",
       "\n",
       "                 neighborhood      zip    borough  \n",
       "0             Upper West Side  10024.0  Manhattan  \n",
       "1             Southeast Bronx  10461.0      Bronx  \n",
       "2  Greenwich Village and Soho  10013.0  Manhattan  \n",
       "3             Upper West Side  10025.0  Manhattan  \n",
       "4  Greenwich Village and Soho  10013.0  Manhattan  \n",
       "5  Greenwich Village and Soho  10013.0  Manhattan  \n",
       "6                 East Harlem  10035.0  Manhattan  \n",
       "7             Southeast Bronx  10465.0      Bronx  \n",
       "8  Greenwich Village and Soho  10013.0  Manhattan  \n",
       "9  Greenwich Village and Soho  10013.0  Manhattan  "
      ]
     },
     "execution_count": 19,
     "metadata": {},
     "output_type": "execute_result"
    }
   ],
   "source": [
    "new_table = df.merge(df2, how='left', left_on='owner_zip_code', right_on='zip')\n",
    "new_table.head(10)"
   ]
  },
  {
   "cell_type": "markdown",
   "metadata": {},
   "source": [
    "## What is the most popular dog name in all parts of the Bronx? How about Brooklyn? The Upper East Side?"
   ]
  },
  {
   "cell_type": "code",
   "execution_count": 20,
   "metadata": {},
   "outputs": [
    {
     "data": {
      "text/plain": [
       "Max                      46\n",
       "Bella                    45\n",
       "unknown                  45\n",
       "Charlie                  42\n",
       "Rocky                    36\n",
       "Lucy                     32\n",
       "Lucky                    32\n",
       "Princess                 29\n",
       "Lola                     27\n",
       "Dog Name Not Provided    26\n",
       "Name: animal_name, dtype: int64"
      ]
     },
     "execution_count": 20,
     "metadata": {},
     "output_type": "execute_result"
    }
   ],
   "source": [
    "new_table[new_table.borough == 'Brooklyn'].animal_name.value_counts().sort_values(ascending=False).head(10)"
   ]
  },
  {
   "cell_type": "code",
   "execution_count": 21,
   "metadata": {},
   "outputs": [
    {
     "data": {
      "text/plain": [
       "Bella       22\n",
       "Max         21\n",
       "Rocky       20\n",
       "Princess    15\n",
       "Lucky       15\n",
       "Coco        14\n",
       "Buddy       13\n",
       "Luna        13\n",
       "Charlie     12\n",
       "Oreo        11\n",
       "Name: animal_name, dtype: int64"
      ]
     },
     "execution_count": 21,
     "metadata": {},
     "output_type": "execute_result"
    }
   ],
   "source": [
    "new_table[new_table.borough == 'Bronx'].animal_name.value_counts().sort_values(ascending=False).head(10)"
   ]
  },
  {
   "cell_type": "code",
   "execution_count": 22,
   "metadata": {},
   "outputs": [
    {
     "data": {
      "text/plain": [
       "Series([], Name: animal_name, dtype: int64)"
      ]
     },
     "execution_count": 22,
     "metadata": {},
     "output_type": "execute_result"
    }
   ],
   "source": [
    "new_table[new_table.borough == \"Upper West Side\"].animal_name.value_counts().sort_values(ascending=False).head(10)"
   ]
  },
  {
   "cell_type": "markdown",
   "metadata": {},
   "source": [
    "## What is the most common dog breed in each of the neighborhoods of NYC?"
   ]
  },
  {
   "cell_type": "code",
   "execution_count": 23,
   "metadata": {},
   "outputs": [
    {
     "data": {
      "text/plain": [
       "neighborhood                   neighborhood                   primary_breed                       \n",
       "Borough Park                   Borough Park                   Yorkshire Terrier                        49\n",
       "Bronx Park and Fordham         Bronx Park and Fordham         Yorkshire Terrier                        39\n",
       "Bushwick and Williamsburg      Bushwick and Williamsburg      Yorkshire Terrier                        47\n",
       "Canarsie and Flatlands         Canarsie and Flatlands         Shih Tzu                                 56\n",
       "Central Bronx                  Central Bronx                  Yorkshire Terrier                        29\n",
       "Central Brooklyn               Central Brooklyn               Shih Tzu                                 52\n",
       "Central Harlem                 Central Harlem                 Chihuahua                                48\n",
       "Central Queens                 Central Queens                 Yorkshire Terrier                        34\n",
       "Chelsea and Clinton            Chelsea and Clinton            Chihuahua                                80\n",
       "East Harlem                    East Harlem                    Yorkshire Terrier                        44\n",
       "East New York and New Lots     East New York and New Lots     Yorkshire Terrier                        25\n",
       "Flatbush                       Flatbush                       Shih Tzu                                 38\n",
       "Gramercy Park and Murray Hill  Gramercy Park and Murray Hill  Yorkshire Terrier                        52\n",
       "Greenpoint                     Greenpoint                     Chihuahua                                40\n",
       "Greenwich Village and Soho     Greenwich Village and Soho     Labrador Retriever                       35\n",
       "High Bridge and Morrisania     High Bridge and Morrisania     Shih Tzu                                 33\n",
       "Hunts Point and Mott Haven     Hunts Point and Mott Haven     Chihuahua                                37\n",
       "Inwood and Washington Heights  Inwood and Washington Heights  Chihuahua                                48\n",
       "Jamaica                        Jamaica                        Yorkshire Terrier                        41\n",
       "Kingsbridge and Riverdale      Kingsbridge and Riverdale      Shih Tzu                                 26\n",
       "Lower East Side                Lower East Side                Chihuahua                                77\n",
       "Lower Manhattan                Lower Manhattan                Shih Tzu                                 24\n",
       "Mid-Island                     Mid-Island                     Yorkshire Terrier                        36\n",
       "North Queens                   North Queens                   Maltese                                  54\n",
       "Northeast Bronx                Northeast Bronx                Yorkshire Terrier                        35\n",
       "Northeast Queens               Northeast Queens               Maltese                                  29\n",
       "Northwest Brooklyn             Northwest Brooklyn             Labrador Retriever                       72\n",
       "Northwest Queens               Northwest Queens               Chihuahua                                62\n",
       "Port Richmond                  Port Richmond                  American Pit Bull Mix / Pit Bull Mix     22\n",
       "Rockaways                      Rockaways                      Shih Tzu                                 24\n",
       "South Shore                    South Shore                    Shih Tzu                                 90\n",
       "Southeast Bronx                Southeast Bronx                Shih Tzu                                 83\n",
       "Southeast Queens               Southeast Queens               Yorkshire Terrier                        35\n",
       "Southern Brooklyn              Southern Brooklyn              Yorkshire Terrier                        85\n",
       "Southwest Brooklyn             Southwest Brooklyn             Shih Tzu                                 69\n",
       "Southwest Queens               Southwest Queens               Yorkshire Terrier                        53\n",
       "Stapleton and St. George       Stapleton and St. George       Shih Tzu                                 33\n",
       "Sunset Park                    Sunset Park                    Yorkshire Terrier                        32\n",
       "Upper East Side                Upper East Side                Havanese                                 94\n",
       "Upper West Side                Upper West Side                Labrador Retriever                      121\n",
       "West Central Queens            West Central Queens            Yorkshire Terrier                        72\n",
       "West Queens                    West Queens                    Shih Tzu                                 95\n",
       "Name: primary_breed, dtype: int64"
      ]
     },
     "execution_count": 23,
     "metadata": {},
     "output_type": "execute_result"
    }
   ],
   "source": [
    "new_table.groupby(by='neighborhood').primary_breed.value_counts().groupby(level=0).nlargest(1)\n",
    "#new_table.groupby(by='neighborhood').primary_breed.apply(lambda x: x.value_counts().index[0]).reset_index()"
   ]
  },
  {
   "cell_type": "code",
   "execution_count": null,
   "metadata": {},
   "outputs": [],
   "source": []
  },
  {
   "cell_type": "markdown",
   "metadata": {},
   "source": [
    "## What breed of dogs are the least likely to be spayed? Male or female?"
   ]
  },
  {
   "cell_type": "code",
   "execution_count": 24,
   "metadata": {},
   "outputs": [
    {
     "data": {
      "text/plain": [
       "Yorkshire Terrier                     537\n",
       "Shih Tzu                              405\n",
       "Chihuahua                             306\n",
       "Maltese                               306\n",
       "American Pit Bull Terrier/Pit Bull    173\n",
       "Pomeranian                            148\n",
       "German Shepherd Dog                   125\n",
       "Labrador Retriever                    113\n",
       "Golden Retriever                      111\n",
       "Cocker Spaniel                         97\n",
       "Name: primary_breed, dtype: int64"
      ]
     },
     "execution_count": 24,
     "metadata": {},
     "output_type": "execute_result"
    }
   ],
   "source": [
    "#Breed\n",
    "new_table[new_table.spayed_or_neut == 'No'].primary_breed.value_counts().head(10)"
   ]
  },
  {
   "cell_type": "code",
   "execution_count": 25,
   "metadata": {},
   "outputs": [
    {
     "data": {
      "text/plain": [
       "M    63.406408\n",
       "F    36.593592\n",
       "Name: animal_gender, dtype: float64"
      ]
     },
     "execution_count": 25,
     "metadata": {},
     "output_type": "execute_result"
    }
   ],
   "source": [
    "#Gender\n",
    "new_table[new_table.spayed_or_neut == 'No'].animal_gender.value_counts(normalize=True) * 100"
   ]
  },
  {
   "cell_type": "markdown",
   "metadata": {},
   "source": [
    "## Make a new column called monochrome that is True for any animal that only has black, white or grey as one of its colors. How many animals are monochrome?"
   ]
  },
  {
   "cell_type": "code",
   "execution_count": 26,
   "metadata": {},
   "outputs": [],
   "source": [
    "new_table.animal_dominant_color = new_table.animal_dominant_color.replace({\n",
    "    'White': 'WHITE',\n",
    "    'white': 'WHITE',\n",
    "    'Black': 'BLACK',\n",
    "    'black': 'BLACK',\n",
    "    'Grey': 'GREY',\n",
    "    'grey': 'GREY,'\n",
    "})"
   ]
  },
  {
   "cell_type": "code",
   "execution_count": 27,
   "metadata": {},
   "outputs": [],
   "source": [
    "new_table.animal_secondary_color = new_table.animal_secondary_color.replace({\n",
    "    'White': 'WHITE',\n",
    "    'white': 'WHITE',\n",
    "    'Black': 'BLACK',\n",
    "    'black': 'BLACK',\n",
    "    'Grey': 'GREY',\n",
    "    'grey': 'GREY,'\n",
    "})"
   ]
  },
  {
   "cell_type": "code",
   "execution_count": 28,
   "metadata": {},
   "outputs": [],
   "source": [
    "new_table.animal_third_color = new_table.animal_third_color.replace({\n",
    "    'White': 'WHITE',\n",
    "    'white': 'WHITE',\n",
    "    'Black': 'BLACK',\n",
    "    'black': 'BLACK',\n",
    "    'Grey': 'GREY',\n",
    "    'grey': 'GREY,'\n",
    "})"
   ]
  },
  {
   "cell_type": "markdown",
   "metadata": {},
   "source": [
    "## How many dogs are in each borough? Plot it in a graph."
   ]
  },
  {
   "cell_type": "code",
   "execution_count": 29,
   "metadata": {},
   "outputs": [
    {
     "data": {
      "text/plain": [
       "<AxesSubplot:>"
      ]
     },
     "execution_count": 29,
     "metadata": {},
     "output_type": "execute_result"
    },
    {
     "data": {
      "image/png": "[encoded data removed]",
      "text/plain": [
       "<Figure size 720x360 with 1 Axes>"
      ]
     },
     "metadata": {
      "needs_background": "light"
     },
     "output_type": "display_data"
    }
   ],
   "source": [
    "new_table.borough.value_counts().plot(figsize=(10,5), kind='barh')"
   ]
  },
  {
   "cell_type": "markdown",
   "metadata": {},
   "source": [
    "## Which borough has the highest number of dogs per-capita?\n",
    "\n",
    "You’ll need to merge in `population_boro.csv`"
   ]
  },
  {
   "cell_type": "code",
   "execution_count": 30,
   "metadata": {},
   "outputs": [
    {
     "data": {
      "text/html": [
       "<div>\n",
       "<style scoped>\n",
       "    .dataframe tbody tr th:only-of-type {\n",
       "        vertical-align: middle;\n",
       "    }\n",
       "\n",
       "    .dataframe tbody tr th {\n",
       "        vertical-align: top;\n",
       "    }\n",
       "\n",
       "    .dataframe thead th {\n",
       "        text-align: right;\n",
       "    }\n",
       "</style>\n",
       "<table border=\"1\" class=\"dataframe\">\n",
       "  <thead>\n",
       "    <tr style=\"text-align: right;\">\n",
       "      <th></th>\n",
       "      <th>borough</th>\n",
       "      <th>population</th>\n",
       "      <th>area_sqmi</th>\n",
       "    </tr>\n",
       "  </thead>\n",
       "  <tbody>\n",
       "    <tr>\n",
       "      <th>0</th>\n",
       "      <td>Manhattan</td>\n",
       "      <td>1644518</td>\n",
       "      <td>23</td>\n",
       "    </tr>\n",
       "    <tr>\n",
       "      <th>1</th>\n",
       "      <td>Bronx</td>\n",
       "      <td>1455444</td>\n",
       "      <td>42</td>\n",
       "    </tr>\n",
       "    <tr>\n",
       "      <th>2</th>\n",
       "      <td>Brooklyn</td>\n",
       "      <td>2636735</td>\n",
       "      <td>71</td>\n",
       "    </tr>\n",
       "    <tr>\n",
       "      <th>3</th>\n",
       "      <td>Queens</td>\n",
       "      <td>2339150</td>\n",
       "      <td>109</td>\n",
       "    </tr>\n",
       "    <tr>\n",
       "      <th>4</th>\n",
       "      <td>Staten Island</td>\n",
       "      <td>474558</td>\n",
       "      <td>59</td>\n",
       "    </tr>\n",
       "  </tbody>\n",
       "</table>\n",
       "</div>"
      ],
      "text/plain": [
       "         borough  population  area_sqmi\n",
       "0      Manhattan     1644518         23\n",
       "1          Bronx     1455444         42\n",
       "2       Brooklyn     2636735         71\n",
       "3         Queens     2339150        109\n",
       "4  Staten Island      474558         59"
      ]
     },
     "execution_count": 30,
     "metadata": {},
     "output_type": "execute_result"
    }
   ],
   "source": [
    "df3 = pd.read_csv(\"boro_population.csv\", nrows=30000, na_values=['Unknown','UNKNOWN'])\n",
    "df3.columns = df3.columns.str.strip().str.lower().str.replace(' ', '_').str.replace('(', '').str.replace(')', '')\n",
    "df3.head(10)"
   ]
  },
  {
   "cell_type": "code",
   "execution_count": 31,
   "metadata": {},
   "outputs": [
    {
     "data": {
      "text/html": [
       "<div>\n",
       "<style scoped>\n",
       "    .dataframe tbody tr th:only-of-type {\n",
       "        vertical-align: middle;\n",
       "    }\n",
       "\n",
       "    .dataframe tbody tr th {\n",
       "        vertical-align: top;\n",
       "    }\n",
       "\n",
       "    .dataframe thead th {\n",
       "        text-align: right;\n",
       "    }\n",
       "</style>\n",
       "<table border=\"1\" class=\"dataframe\">\n",
       "  <thead>\n",
       "    <tr style=\"text-align: right;\">\n",
       "      <th></th>\n",
       "      <th>owner_zip_code</th>\n",
       "      <th>animal_name</th>\n",
       "      <th>animal_gender</th>\n",
       "      <th>primary_breed</th>\n",
       "      <th>secondary_breed</th>\n",
       "      <th>animal_dominant_color</th>\n",
       "      <th>animal_secondary_color</th>\n",
       "      <th>animal_third_color</th>\n",
       "      <th>animal_birth</th>\n",
       "      <th>spayed_or_neut</th>\n",
       "      <th>guard_or_trained</th>\n",
       "      <th>vaccinated</th>\n",
       "      <th>application_date</th>\n",
       "      <th>license_issued_date</th>\n",
       "      <th>license_expired_date</th>\n",
       "      <th>year</th>\n",
       "      <th>age</th>\n",
       "      <th>neighborhood</th>\n",
       "      <th>zip</th>\n",
       "      <th>borough</th>\n",
       "      <th>population</th>\n",
       "      <th>area_sqmi</th>\n",
       "    </tr>\n",
       "  </thead>\n",
       "  <tbody>\n",
       "    <tr>\n",
       "      <th>0</th>\n",
       "      <td>10024</td>\n",
       "      <td>BLUE MACK</td>\n",
       "      <td>M</td>\n",
       "      <td>NaN</td>\n",
       "      <td>AIREDALE TERR</td>\n",
       "      <td>BROWN</td>\n",
       "      <td>BLACK</td>\n",
       "      <td>NaN</td>\n",
       "      <td>2007-11-01</td>\n",
       "      <td>Yes</td>\n",
       "      <td>No</td>\n",
       "      <td>Yes</td>\n",
       "      <td>2012-09-19 16:01:19.647</td>\n",
       "      <td>2015-09-19</td>\n",
       "      <td>2016-09-19</td>\n",
       "      <td>2007</td>\n",
       "      <td>13</td>\n",
       "      <td>Upper West Side</td>\n",
       "      <td>10024.0</td>\n",
       "      <td>Manhattan</td>\n",
       "      <td>1644518.0</td>\n",
       "      <td>23.0</td>\n",
       "    </tr>\n",
       "    <tr>\n",
       "      <th>1</th>\n",
       "      <td>10461</td>\n",
       "      <td>Indie Zephir</td>\n",
       "      <td>M</td>\n",
       "      <td>Rottweiler</td>\n",
       "      <td>NaN</td>\n",
       "      <td>BLACK</td>\n",
       "      <td>TAN</td>\n",
       "      <td>NaN</td>\n",
       "      <td>2013-04-01</td>\n",
       "      <td>No</td>\n",
       "      <td>No</td>\n",
       "      <td>Yes</td>\n",
       "      <td>2013-09-20 11:41:36.647</td>\n",
       "      <td>2014-09-20</td>\n",
       "      <td>2018-09-20</td>\n",
       "      <td>2013</td>\n",
       "      <td>7</td>\n",
       "      <td>Southeast Bronx</td>\n",
       "      <td>10461.0</td>\n",
       "      <td>Bronx</td>\n",
       "      <td>1455444.0</td>\n",
       "      <td>42.0</td>\n",
       "    </tr>\n",
       "    <tr>\n",
       "      <th>2</th>\n",
       "      <td>10013</td>\n",
       "      <td>Bilal</td>\n",
       "      <td>M</td>\n",
       "      <td>Australian Cattledog</td>\n",
       "      <td>NaN</td>\n",
       "      <td>Rust</td>\n",
       "      <td>NaN</td>\n",
       "      <td>NaN</td>\n",
       "      <td>2014-09-01</td>\n",
       "      <td>Yes</td>\n",
       "      <td>No</td>\n",
       "      <td>No</td>\n",
       "      <td>2014-09-12 13:13:36.713</td>\n",
       "      <td>2014-09-12</td>\n",
       "      <td>2019-09-12</td>\n",
       "      <td>2014</td>\n",
       "      <td>6</td>\n",
       "      <td>Greenwich Village and Soho</td>\n",
       "      <td>10013.0</td>\n",
       "      <td>Manhattan</td>\n",
       "      <td>1644518.0</td>\n",
       "      <td>23.0</td>\n",
       "    </tr>\n",
       "    <tr>\n",
       "      <th>3</th>\n",
       "      <td>10025</td>\n",
       "      <td>Buddy</td>\n",
       "      <td>M</td>\n",
       "      <td>NaN</td>\n",
       "      <td>Cockapoo</td>\n",
       "      <td>BLOND</td>\n",
       "      <td>WHITE</td>\n",
       "      <td>NaN</td>\n",
       "      <td>2008-04-01</td>\n",
       "      <td>Yes</td>\n",
       "      <td>No</td>\n",
       "      <td>Yes</td>\n",
       "      <td>2014-09-12 15:26:51.417</td>\n",
       "      <td>2014-09-12</td>\n",
       "      <td>2017-10-20</td>\n",
       "      <td>2008</td>\n",
       "      <td>12</td>\n",
       "      <td>Upper West Side</td>\n",
       "      <td>10025.0</td>\n",
       "      <td>Manhattan</td>\n",
       "      <td>1644518.0</td>\n",
       "      <td>23.0</td>\n",
       "    </tr>\n",
       "    <tr>\n",
       "      <th>4</th>\n",
       "      <td>10013</td>\n",
       "      <td>Ali</td>\n",
       "      <td>M</td>\n",
       "      <td>Basenji</td>\n",
       "      <td>NaN</td>\n",
       "      <td>BLACK</td>\n",
       "      <td>NaN</td>\n",
       "      <td>NaN</td>\n",
       "      <td>2014-01-01</td>\n",
       "      <td>No</td>\n",
       "      <td>No</td>\n",
       "      <td>No</td>\n",
       "      <td>2014-09-12 15:43:17.707</td>\n",
       "      <td>2014-09-12</td>\n",
       "      <td>2019-09-12</td>\n",
       "      <td>2014</td>\n",
       "      <td>6</td>\n",
       "      <td>Greenwich Village and Soho</td>\n",
       "      <td>10013.0</td>\n",
       "      <td>Manhattan</td>\n",
       "      <td>1644518.0</td>\n",
       "      <td>23.0</td>\n",
       "    </tr>\n",
       "    <tr>\n",
       "      <th>5</th>\n",
       "      <td>10013</td>\n",
       "      <td>Queen</td>\n",
       "      <td>F</td>\n",
       "      <td>Akita Crossbreed</td>\n",
       "      <td>NaN</td>\n",
       "      <td>Charcoal</td>\n",
       "      <td>Red</td>\n",
       "      <td>NaN</td>\n",
       "      <td>2013-04-01</td>\n",
       "      <td>No</td>\n",
       "      <td>No</td>\n",
       "      <td>Yes</td>\n",
       "      <td>2014-09-12 16:14:48.487</td>\n",
       "      <td>2014-09-12</td>\n",
       "      <td>2017-09-12</td>\n",
       "      <td>2013</td>\n",
       "      <td>7</td>\n",
       "      <td>Greenwich Village and Soho</td>\n",
       "      <td>10013.0</td>\n",
       "      <td>Manhattan</td>\n",
       "      <td>1644518.0</td>\n",
       "      <td>23.0</td>\n",
       "    </tr>\n",
       "    <tr>\n",
       "      <th>6</th>\n",
       "      <td>10035</td>\n",
       "      <td>Paige Sable Orta</td>\n",
       "      <td>F</td>\n",
       "      <td>American Pit Bull Mix / Pit Bull Mix</td>\n",
       "      <td>NaN</td>\n",
       "      <td>WHITE</td>\n",
       "      <td>Gray</td>\n",
       "      <td>NaN</td>\n",
       "      <td>2014-07-01</td>\n",
       "      <td>No</td>\n",
       "      <td>No</td>\n",
       "      <td>No</td>\n",
       "      <td>2014-09-12 16:22:54.113</td>\n",
       "      <td>2014-09-12</td>\n",
       "      <td>2017-09-12</td>\n",
       "      <td>2014</td>\n",
       "      <td>6</td>\n",
       "      <td>East Harlem</td>\n",
       "      <td>10035.0</td>\n",
       "      <td>Manhattan</td>\n",
       "      <td>1644518.0</td>\n",
       "      <td>23.0</td>\n",
       "    </tr>\n",
       "    <tr>\n",
       "      <th>7</th>\n",
       "      <td>10465</td>\n",
       "      <td>Yogi</td>\n",
       "      <td>M</td>\n",
       "      <td>Boxer</td>\n",
       "      <td>NaN</td>\n",
       "      <td>TAN</td>\n",
       "      <td>BLACK</td>\n",
       "      <td>NaN</td>\n",
       "      <td>2010-09-01</td>\n",
       "      <td>Yes</td>\n",
       "      <td>No</td>\n",
       "      <td>Yes</td>\n",
       "      <td>2014-09-12 16:47:35.317</td>\n",
       "      <td>2014-09-12</td>\n",
       "      <td>2017-10-02</td>\n",
       "      <td>2010</td>\n",
       "      <td>10</td>\n",
       "      <td>Southeast Bronx</td>\n",
       "      <td>10465.0</td>\n",
       "      <td>Bronx</td>\n",
       "      <td>1455444.0</td>\n",
       "      <td>42.0</td>\n",
       "    </tr>\n",
       "    <tr>\n",
       "      <th>8</th>\n",
       "      <td>10013</td>\n",
       "      <td>Chewbacca</td>\n",
       "      <td>F</td>\n",
       "      <td>Labrador Retriever Crossbreed</td>\n",
       "      <td>NaN</td>\n",
       "      <td>RED</td>\n",
       "      <td>NaN</td>\n",
       "      <td>NaN</td>\n",
       "      <td>2012-06-01</td>\n",
       "      <td>Yes</td>\n",
       "      <td>No</td>\n",
       "      <td>Yes</td>\n",
       "      <td>2014-09-12 17:42:56.647</td>\n",
       "      <td>2014-09-12</td>\n",
       "      <td>2019-10-01</td>\n",
       "      <td>2012</td>\n",
       "      <td>8</td>\n",
       "      <td>Greenwich Village and Soho</td>\n",
       "      <td>10013.0</td>\n",
       "      <td>Manhattan</td>\n",
       "      <td>1644518.0</td>\n",
       "      <td>23.0</td>\n",
       "    </tr>\n",
       "    <tr>\n",
       "      <th>9</th>\n",
       "      <td>10013</td>\n",
       "      <td>IAN</td>\n",
       "      <td>M</td>\n",
       "      <td>NaN</td>\n",
       "      <td>GREYHOUND TER X</td>\n",
       "      <td>WHITE</td>\n",
       "      <td>BLACK</td>\n",
       "      <td>NaN</td>\n",
       "      <td>2006-01-01</td>\n",
       "      <td>Yes</td>\n",
       "      <td>No</td>\n",
       "      <td>Yes</td>\n",
       "      <td>2014-09-12 19:09:19.020</td>\n",
       "      <td>2014-09-12</td>\n",
       "      <td>2019-10-30</td>\n",
       "      <td>2006</td>\n",
       "      <td>14</td>\n",
       "      <td>Greenwich Village and Soho</td>\n",
       "      <td>10013.0</td>\n",
       "      <td>Manhattan</td>\n",
       "      <td>1644518.0</td>\n",
       "      <td>23.0</td>\n",
       "    </tr>\n",
       "  </tbody>\n",
       "</table>\n",
       "</div>"
      ],
      "text/plain": [
       "   owner_zip_code       animal_name animal_gender  \\\n",
       "0           10024         BLUE MACK             M   \n",
       "1           10461      Indie Zephir             M   \n",
       "2           10013             Bilal             M   \n",
       "3           10025             Buddy             M   \n",
       "4           10013               Ali             M   \n",
       "5           10013             Queen             F   \n",
       "6           10035  Paige Sable Orta             F   \n",
       "7           10465              Yogi             M   \n",
       "8           10013         Chewbacca             F   \n",
       "9           10013        IAN                    M   \n",
       "\n",
       "                          primary_breed  secondary_breed  \\\n",
       "0                                   NaN    AIREDALE TERR   \n",
       "1                            Rottweiler              NaN   \n",
       "2                  Australian Cattledog              NaN   \n",
       "3                                   NaN         Cockapoo   \n",
       "4                               Basenji              NaN   \n",
       "5                      Akita Crossbreed              NaN   \n",
       "6  American Pit Bull Mix / Pit Bull Mix              NaN   \n",
       "7                                 Boxer              NaN   \n",
       "8         Labrador Retriever Crossbreed              NaN   \n",
       "9                                   NaN  GREYHOUND TER X   \n",
       "\n",
       "  animal_dominant_color animal_secondary_color animal_third_color  \\\n",
       "0                 BROWN                  BLACK                NaN   \n",
       "1                 BLACK                    TAN                NaN   \n",
       "2                  Rust                    NaN                NaN   \n",
       "3                 BLOND                  WHITE                NaN   \n",
       "4                 BLACK                    NaN                NaN   \n",
       "5              Charcoal                    Red                NaN   \n",
       "6                 WHITE                   Gray                NaN   \n",
       "7                   TAN                  BLACK                NaN   \n",
       "8                   RED                    NaN                NaN   \n",
       "9                 WHITE                  BLACK                NaN   \n",
       "\n",
       "  animal_birth spayed_or_neut guard_or_trained vaccinated  \\\n",
       "0   2007-11-01            Yes               No        Yes   \n",
       "1   2013-04-01             No               No        Yes   \n",
       "2   2014-09-01            Yes               No         No   \n",
       "3   2008-04-01            Yes               No        Yes   \n",
       "4   2014-01-01             No               No         No   \n",
       "5   2013-04-01             No               No        Yes   \n",
       "6   2014-07-01             No               No         No   \n",
       "7   2010-09-01            Yes               No        Yes   \n",
       "8   2012-06-01            Yes               No        Yes   \n",
       "9   2006-01-01            Yes               No        Yes   \n",
       "\n",
       "         application_date license_issued_date license_expired_date  year  age  \\\n",
       "0 2012-09-19 16:01:19.647          2015-09-19           2016-09-19  2007   13   \n",
       "1 2013-09-20 11:41:36.647          2014-09-20           2018-09-20  2013    7   \n",
       "2 2014-09-12 13:13:36.713          2014-09-12           2019-09-12  2014    6   \n",
       "3 2014-09-12 15:26:51.417          2014-09-12           2017-10-20  2008   12   \n",
       "4 2014-09-12 15:43:17.707          2014-09-12           2019-09-12  2014    6   \n",
       "5 2014-09-12 16:14:48.487          2014-09-12           2017-09-12  2013    7   \n",
       "6 2014-09-12 16:22:54.113          2014-09-12           2017-09-12  2014    6   \n",
       "7 2014-09-12 16:47:35.317          2014-09-12           2017-10-02  2010   10   \n",
       "8 2014-09-12 17:42:56.647          2014-09-12           2019-10-01  2012    8   \n",
       "9 2014-09-12 19:09:19.020          2014-09-12           2019-10-30  2006   14   \n",
       "\n",
       "                 neighborhood      zip    borough  population  area_sqmi  \n",
       "0             Upper West Side  10024.0  Manhattan   1644518.0       23.0  \n",
       "1             Southeast Bronx  10461.0      Bronx   1455444.0       42.0  \n",
       "2  Greenwich Village and Soho  10013.0  Manhattan   1644518.0       23.0  \n",
       "3             Upper West Side  10025.0  Manhattan   1644518.0       23.0  \n",
       "4  Greenwich Village and Soho  10013.0  Manhattan   1644518.0       23.0  \n",
       "5  Greenwich Village and Soho  10013.0  Manhattan   1644518.0       23.0  \n",
       "6                 East Harlem  10035.0  Manhattan   1644518.0       23.0  \n",
       "7             Southeast Bronx  10465.0      Bronx   1455444.0       42.0  \n",
       "8  Greenwich Village and Soho  10013.0  Manhattan   1644518.0       23.0  \n",
       "9  Greenwich Village and Soho  10013.0  Manhattan   1644518.0       23.0  "
      ]
     },
     "execution_count": 31,
     "metadata": {},
     "output_type": "execute_result"
    }
   ],
   "source": [
    "new_merge = new_table.merge(df3, how='left', left_on='borough', right_on='borough')\n",
    "new_merge.head(10)"
   ]
  },
  {
   "cell_type": "code",
   "execution_count": 56,
   "metadata": {},
   "outputs": [
    {
     "data": {
      "text/plain": [
       "10478"
      ]
     },
     "execution_count": 56,
     "metadata": {},
     "output_type": "execute_result"
    }
   ],
   "source": [
    "new_merge[new_merge.borough=='Manhattan'].borough.count()"
   ]
  },
  {
   "cell_type": "code",
   "execution_count": 57,
   "metadata": {},
   "outputs": [
    {
     "name": "stdout",
     "output_type": "stream",
     "text": [
      "6.371471762546838\n"
     ]
    }
   ],
   "source": [
    "#Amount of Dogs per 1000 people living in Manhattan\n",
    "population = new_merge[new_merge.borough=='Manhattan'].population.max()\n",
    "dogs = new_merge[new_merge.borough=='Manhattan'].borough.count()\n",
    "print(dogs/population *1000)"
   ]
  },
  {
   "cell_type": "code",
   "execution_count": 58,
   "metadata": {},
   "outputs": [
    {
     "name": "stdout",
     "output_type": "stream",
     "text": [
      "1.8880836363336548\n"
     ]
    }
   ],
   "source": [
    "#Amount of Dogs per 1000 people living in Bronx\n",
    "population = new_merge[new_merge.borough=='Bronx'].population.max()\n",
    "dogs = new_merge[new_merge.borough=='Bronx'].borough.count()\n",
    "print(dogs/population *1000)"
   ]
  },
  {
   "cell_type": "code",
   "execution_count": 59,
   "metadata": {},
   "outputs": [
    {
     "name": "stdout",
     "output_type": "stream",
     "text": [
      "2.8315321790016816\n"
     ]
    }
   ],
   "source": [
    "#Amount of Dogs per 1000 people living in Brooklyn\n",
    "population = new_merge[new_merge.borough=='Brooklyn'].population.max()\n",
    "dogs = new_merge[new_merge.borough=='Brooklyn'].borough.count()\n",
    "print(dogs/population *1000)"
   ]
  },
  {
   "cell_type": "code",
   "execution_count": 60,
   "metadata": {},
   "outputs": [
    {
     "name": "stdout",
     "output_type": "stream",
     "text": [
      "5.746399807821173\n"
     ]
    }
   ],
   "source": [
    "#Amount of Dogs per 1000 people living in Staten Island\n",
    "population = new_merge[new_merge.borough=='Staten Island'].population.max()\n",
    "dogs = new_merge[new_merge.borough=='Staten Island'].borough.count()\n",
    "print(dogs/population *1000)"
   ]
  },
  {
   "cell_type": "code",
   "execution_count": 61,
   "metadata": {},
   "outputs": [
    {
     "name": "stdout",
     "output_type": "stream",
     "text": [
      "2.630870187888763\n"
     ]
    }
   ],
   "source": [
    "#Amount of Dogs per 1000 people living in Queens\n",
    "population = new_merge[new_merge.borough=='Queens'].population.max()\n",
    "dogs = new_merge[new_merge.borough=='Queens'].borough.count()\n",
    "print(dogs/population *1000)"
   ]
  },
  {
   "cell_type": "markdown",
   "metadata": {},
   "source": [
    "## Make a bar graph of the top 5 breeds in each borough.\n",
    "\n",
    "How do you groupby and then only take the top X number? You **really** should ask me, because it's kind of crazy."
   ]
  },
  {
   "cell_type": "code",
   "execution_count": 41,
   "metadata": {},
   "outputs": [
    {
     "data": {
      "text/plain": [
       "<AxesSubplot:ylabel='borough,borough,primary_breed'>"
      ]
     },
     "execution_count": 41,
     "metadata": {},
     "output_type": "execute_result"
    },
    {
     "data": {
      "image/png": "[encoded data removed]",
      "text/plain": [
       "<Figure size 720x360 with 1 Axes>"
      ]
     },
     "metadata": {
      "needs_background": "light"
     },
     "output_type": "display_data"
    }
   ],
   "source": [
    "new_merge.groupby(by='borough').primary_breed.value_counts().groupby(level=0).nlargest(5).plot(figsize=(10,5), kind='barh')"
   ]
  },
  {
   "cell_type": "code",
   "execution_count": 40,
   "metadata": {},
   "outputs": [
    {
     "data": {
      "text/html": [
       "<div>\n",
       "<style scoped>\n",
       "    .dataframe tbody tr th:only-of-type {\n",
       "        vertical-align: middle;\n",
       "    }\n",
       "\n",
       "    .dataframe tbody tr th {\n",
       "        vertical-align: top;\n",
       "    }\n",
       "\n",
       "    .dataframe thead th {\n",
       "        text-align: right;\n",
       "    }\n",
       "</style>\n",
       "<table border=\"1\" class=\"dataframe\">\n",
       "  <thead>\n",
       "    <tr style=\"text-align: right;\">\n",
       "      <th></th>\n",
       "      <th>owner_zip_code</th>\n",
       "      <th>animal_name</th>\n",
       "      <th>animal_gender</th>\n",
       "      <th>primary_breed</th>\n",
       "      <th>secondary_breed</th>\n",
       "      <th>animal_dominant_color</th>\n",
       "      <th>animal_secondary_color</th>\n",
       "      <th>animal_third_color</th>\n",
       "      <th>animal_birth</th>\n",
       "      <th>spayed_or_neut</th>\n",
       "      <th>guard_or_trained</th>\n",
       "      <th>vaccinated</th>\n",
       "      <th>application_date</th>\n",
       "      <th>license_issued_date</th>\n",
       "      <th>license_expired_date</th>\n",
       "      <th>year</th>\n",
       "      <th>age</th>\n",
       "      <th>neighborhood</th>\n",
       "      <th>zip</th>\n",
       "      <th>borough</th>\n",
       "      <th>population</th>\n",
       "      <th>area_sqmi</th>\n",
       "    </tr>\n",
       "  </thead>\n",
       "  <tbody>\n",
       "    <tr>\n",
       "      <th>0</th>\n",
       "      <td>10024</td>\n",
       "      <td>BLUE MACK</td>\n",
       "      <td>M</td>\n",
       "      <td>NaN</td>\n",
       "      <td>AIREDALE TERR</td>\n",
       "      <td>BROWN</td>\n",
       "      <td>BLACK</td>\n",
       "      <td>NaN</td>\n",
       "      <td>2007-11-01</td>\n",
       "      <td>Yes</td>\n",
       "      <td>No</td>\n",
       "      <td>Yes</td>\n",
       "      <td>2012-09-19 16:01:19.647</td>\n",
       "      <td>2015-09-19</td>\n",
       "      <td>2016-09-19</td>\n",
       "      <td>2007</td>\n",
       "      <td>13</td>\n",
       "      <td>Upper West Side</td>\n",
       "      <td>10024.0</td>\n",
       "      <td>Manhattan</td>\n",
       "      <td>1644518.0</td>\n",
       "      <td>23.0</td>\n",
       "    </tr>\n",
       "    <tr>\n",
       "      <th>1</th>\n",
       "      <td>10461</td>\n",
       "      <td>Indie Zephir</td>\n",
       "      <td>M</td>\n",
       "      <td>Rottweiler</td>\n",
       "      <td>NaN</td>\n",
       "      <td>BLACK</td>\n",
       "      <td>TAN</td>\n",
       "      <td>NaN</td>\n",
       "      <td>2013-04-01</td>\n",
       "      <td>No</td>\n",
       "      <td>No</td>\n",
       "      <td>Yes</td>\n",
       "      <td>2013-09-20 11:41:36.647</td>\n",
       "      <td>2014-09-20</td>\n",
       "      <td>2018-09-20</td>\n",
       "      <td>2013</td>\n",
       "      <td>7</td>\n",
       "      <td>Southeast Bronx</td>\n",
       "      <td>10461.0</td>\n",
       "      <td>Bronx</td>\n",
       "      <td>1455444.0</td>\n",
       "      <td>42.0</td>\n",
       "    </tr>\n",
       "    <tr>\n",
       "      <th>2</th>\n",
       "      <td>10013</td>\n",
       "      <td>Bilal</td>\n",
       "      <td>M</td>\n",
       "      <td>Australian Cattledog</td>\n",
       "      <td>NaN</td>\n",
       "      <td>Rust</td>\n",
       "      <td>NaN</td>\n",
       "      <td>NaN</td>\n",
       "      <td>2014-09-01</td>\n",
       "      <td>Yes</td>\n",
       "      <td>No</td>\n",
       "      <td>No</td>\n",
       "      <td>2014-09-12 13:13:36.713</td>\n",
       "      <td>2014-09-12</td>\n",
       "      <td>2019-09-12</td>\n",
       "      <td>2014</td>\n",
       "      <td>6</td>\n",
       "      <td>Greenwich Village and Soho</td>\n",
       "      <td>10013.0</td>\n",
       "      <td>Manhattan</td>\n",
       "      <td>1644518.0</td>\n",
       "      <td>23.0</td>\n",
       "    </tr>\n",
       "    <tr>\n",
       "      <th>3</th>\n",
       "      <td>10025</td>\n",
       "      <td>Buddy</td>\n",
       "      <td>M</td>\n",
       "      <td>NaN</td>\n",
       "      <td>Cockapoo</td>\n",
       "      <td>BLOND</td>\n",
       "      <td>WHITE</td>\n",
       "      <td>NaN</td>\n",
       "      <td>2008-04-01</td>\n",
       "      <td>Yes</td>\n",
       "      <td>No</td>\n",
       "      <td>Yes</td>\n",
       "      <td>2014-09-12 15:26:51.417</td>\n",
       "      <td>2014-09-12</td>\n",
       "      <td>2017-10-20</td>\n",
       "      <td>2008</td>\n",
       "      <td>12</td>\n",
       "      <td>Upper West Side</td>\n",
       "      <td>10025.0</td>\n",
       "      <td>Manhattan</td>\n",
       "      <td>1644518.0</td>\n",
       "      <td>23.0</td>\n",
       "    </tr>\n",
       "    <tr>\n",
       "      <th>4</th>\n",
       "      <td>10013</td>\n",
       "      <td>Ali</td>\n",
       "      <td>M</td>\n",
       "      <td>Basenji</td>\n",
       "      <td>NaN</td>\n",
       "      <td>BLACK</td>\n",
       "      <td>NaN</td>\n",
       "      <td>NaN</td>\n",
       "      <td>2014-01-01</td>\n",
       "      <td>No</td>\n",
       "      <td>No</td>\n",
       "      <td>No</td>\n",
       "      <td>2014-09-12 15:43:17.707</td>\n",
       "      <td>2014-09-12</td>\n",
       "      <td>2019-09-12</td>\n",
       "      <td>2014</td>\n",
       "      <td>6</td>\n",
       "      <td>Greenwich Village and Soho</td>\n",
       "      <td>10013.0</td>\n",
       "      <td>Manhattan</td>\n",
       "      <td>1644518.0</td>\n",
       "      <td>23.0</td>\n",
       "    </tr>\n",
       "    <tr>\n",
       "      <th>5</th>\n",
       "      <td>10013</td>\n",
       "      <td>Queen</td>\n",
       "      <td>F</td>\n",
       "      <td>Akita Crossbreed</td>\n",
       "      <td>NaN</td>\n",
       "      <td>Charcoal</td>\n",
       "      <td>Red</td>\n",
       "      <td>NaN</td>\n",
       "      <td>2013-04-01</td>\n",
       "      <td>No</td>\n",
       "      <td>No</td>\n",
       "      <td>Yes</td>\n",
       "      <td>2014-09-12 16:14:48.487</td>\n",
       "      <td>2014-09-12</td>\n",
       "      <td>2017-09-12</td>\n",
       "      <td>2013</td>\n",
       "      <td>7</td>\n",
       "      <td>Greenwich Village and Soho</td>\n",
       "      <td>10013.0</td>\n",
       "      <td>Manhattan</td>\n",
       "      <td>1644518.0</td>\n",
       "      <td>23.0</td>\n",
       "    </tr>\n",
       "    <tr>\n",
       "      <th>6</th>\n",
       "      <td>10035</td>\n",
       "      <td>Paige Sable Orta</td>\n",
       "      <td>F</td>\n",
       "      <td>American Pit Bull Mix / Pit Bull Mix</td>\n",
       "      <td>NaN</td>\n",
       "      <td>WHITE</td>\n",
       "      <td>Gray</td>\n",
       "      <td>NaN</td>\n",
       "      <td>2014-07-01</td>\n",
       "      <td>No</td>\n",
       "      <td>No</td>\n",
       "      <td>No</td>\n",
       "      <td>2014-09-12 16:22:54.113</td>\n",
       "      <td>2014-09-12</td>\n",
       "      <td>2017-09-12</td>\n",
       "      <td>2014</td>\n",
       "      <td>6</td>\n",
       "      <td>East Harlem</td>\n",
       "      <td>10035.0</td>\n",
       "      <td>Manhattan</td>\n",
       "      <td>1644518.0</td>\n",
       "      <td>23.0</td>\n",
       "    </tr>\n",
       "    <tr>\n",
       "      <th>7</th>\n",
       "      <td>10465</td>\n",
       "      <td>Yogi</td>\n",
       "      <td>M</td>\n",
       "      <td>Boxer</td>\n",
       "      <td>NaN</td>\n",
       "      <td>TAN</td>\n",
       "      <td>BLACK</td>\n",
       "      <td>NaN</td>\n",
       "      <td>2010-09-01</td>\n",
       "      <td>Yes</td>\n",
       "      <td>No</td>\n",
       "      <td>Yes</td>\n",
       "      <td>2014-09-12 16:47:35.317</td>\n",
       "      <td>2014-09-12</td>\n",
       "      <td>2017-10-02</td>\n",
       "      <td>2010</td>\n",
       "      <td>10</td>\n",
       "      <td>Southeast Bronx</td>\n",
       "      <td>10465.0</td>\n",
       "      <td>Bronx</td>\n",
       "      <td>1455444.0</td>\n",
       "      <td>42.0</td>\n",
       "    </tr>\n",
       "    <tr>\n",
       "      <th>8</th>\n",
       "      <td>10013</td>\n",
       "      <td>Chewbacca</td>\n",
       "      <td>F</td>\n",
       "      <td>Labrador Retriever Crossbreed</td>\n",
       "      <td>NaN</td>\n",
       "      <td>RED</td>\n",
       "      <td>NaN</td>\n",
       "      <td>NaN</td>\n",
       "      <td>2012-06-01</td>\n",
       "      <td>Yes</td>\n",
       "      <td>No</td>\n",
       "      <td>Yes</td>\n",
       "      <td>2014-09-12 17:42:56.647</td>\n",
       "      <td>2014-09-12</td>\n",
       "      <td>2019-10-01</td>\n",
       "      <td>2012</td>\n",
       "      <td>8</td>\n",
       "      <td>Greenwich Village and Soho</td>\n",
       "      <td>10013.0</td>\n",
       "      <td>Manhattan</td>\n",
       "      <td>1644518.0</td>\n",
       "      <td>23.0</td>\n",
       "    </tr>\n",
       "    <tr>\n",
       "      <th>9</th>\n",
       "      <td>10013</td>\n",
       "      <td>IAN</td>\n",
       "      <td>M</td>\n",
       "      <td>NaN</td>\n",
       "      <td>GREYHOUND TER X</td>\n",
       "      <td>WHITE</td>\n",
       "      <td>BLACK</td>\n",
       "      <td>NaN</td>\n",
       "      <td>2006-01-01</td>\n",
       "      <td>Yes</td>\n",
       "      <td>No</td>\n",
       "      <td>Yes</td>\n",
       "      <td>2014-09-12 19:09:19.020</td>\n",
       "      <td>2014-09-12</td>\n",
       "      <td>2019-10-30</td>\n",
       "      <td>2006</td>\n",
       "      <td>14</td>\n",
       "      <td>Greenwich Village and Soho</td>\n",
       "      <td>10013.0</td>\n",
       "      <td>Manhattan</td>\n",
       "      <td>1644518.0</td>\n",
       "      <td>23.0</td>\n",
       "    </tr>\n",
       "  </tbody>\n",
       "</table>\n",
       "</div>"
      ],
      "text/plain": [
       "   owner_zip_code       animal_name animal_gender  \\\n",
       "0           10024         BLUE MACK             M   \n",
       "1           10461      Indie Zephir             M   \n",
       "2           10013             Bilal             M   \n",
       "3           10025             Buddy             M   \n",
       "4           10013               Ali             M   \n",
       "5           10013             Queen             F   \n",
       "6           10035  Paige Sable Orta             F   \n",
       "7           10465              Yogi             M   \n",
       "8           10013         Chewbacca             F   \n",
       "9           10013        IAN                    M   \n",
       "\n",
       "                          primary_breed  secondary_breed  \\\n",
       "0                                   NaN    AIREDALE TERR   \n",
       "1                            Rottweiler              NaN   \n",
       "2                  Australian Cattledog              NaN   \n",
       "3                                   NaN         Cockapoo   \n",
       "4                               Basenji              NaN   \n",
       "5                      Akita Crossbreed              NaN   \n",
       "6  American Pit Bull Mix / Pit Bull Mix              NaN   \n",
       "7                                 Boxer              NaN   \n",
       "8         Labrador Retriever Crossbreed              NaN   \n",
       "9                                   NaN  GREYHOUND TER X   \n",
       "\n",
       "  animal_dominant_color animal_secondary_color animal_third_color  \\\n",
       "0                 BROWN                  BLACK                NaN   \n",
       "1                 BLACK                    TAN                NaN   \n",
       "2                  Rust                    NaN                NaN   \n",
       "3                 BLOND                  WHITE                NaN   \n",
       "4                 BLACK                    NaN                NaN   \n",
       "5              Charcoal                    Red                NaN   \n",
       "6                 WHITE                   Gray                NaN   \n",
       "7                   TAN                  BLACK                NaN   \n",
       "8                   RED                    NaN                NaN   \n",
       "9                 WHITE                  BLACK                NaN   \n",
       "\n",
       "  animal_birth spayed_or_neut guard_or_trained vaccinated  \\\n",
       "0   2007-11-01            Yes               No        Yes   \n",
       "1   2013-04-01             No               No        Yes   \n",
       "2   2014-09-01            Yes               No         No   \n",
       "3   2008-04-01            Yes               No        Yes   \n",
       "4   2014-01-01             No               No         No   \n",
       "5   2013-04-01             No               No        Yes   \n",
       "6   2014-07-01             No               No         No   \n",
       "7   2010-09-01            Yes               No        Yes   \n",
       "8   2012-06-01            Yes               No        Yes   \n",
       "9   2006-01-01            Yes               No        Yes   \n",
       "\n",
       "         application_date license_issued_date license_expired_date  year  age  \\\n",
       "0 2012-09-19 16:01:19.647          2015-09-19           2016-09-19  2007   13   \n",
       "1 2013-09-20 11:41:36.647          2014-09-20           2018-09-20  2013    7   \n",
       "2 2014-09-12 13:13:36.713          2014-09-12           2019-09-12  2014    6   \n",
       "3 2014-09-12 15:26:51.417          2014-09-12           2017-10-20  2008   12   \n",
       "4 2014-09-12 15:43:17.707          2014-09-12           2019-09-12  2014    6   \n",
       "5 2014-09-12 16:14:48.487          2014-09-12           2017-09-12  2013    7   \n",
       "6 2014-09-12 16:22:54.113          2014-09-12           2017-09-12  2014    6   \n",
       "7 2014-09-12 16:47:35.317          2014-09-12           2017-10-02  2010   10   \n",
       "8 2014-09-12 17:42:56.647          2014-09-12           2019-10-01  2012    8   \n",
       "9 2014-09-12 19:09:19.020          2014-09-12           2019-10-30  2006   14   \n",
       "\n",
       "                 neighborhood      zip    borough  population  area_sqmi  \n",
       "0             Upper West Side  10024.0  Manhattan   1644518.0       23.0  \n",
       "1             Southeast Bronx  10461.0      Bronx   1455444.0       42.0  \n",
       "2  Greenwich Village and Soho  10013.0  Manhattan   1644518.0       23.0  \n",
       "3             Upper West Side  10025.0  Manhattan   1644518.0       23.0  \n",
       "4  Greenwich Village and Soho  10013.0  Manhattan   1644518.0       23.0  \n",
       "5  Greenwich Village and Soho  10013.0  Manhattan   1644518.0       23.0  \n",
       "6                 East Harlem  10035.0  Manhattan   1644518.0       23.0  \n",
       "7             Southeast Bronx  10465.0      Bronx   1455444.0       42.0  \n",
       "8  Greenwich Village and Soho  10013.0  Manhattan   1644518.0       23.0  \n",
       "9  Greenwich Village and Soho  10013.0  Manhattan   1644518.0       23.0  "
      ]
     },
     "execution_count": 40,
     "metadata": {},
     "output_type": "execute_result"
    }
   ],
   "source": [
    "new_merge.head(10)"
   ]
  },
  {
   "cell_type": "markdown",
   "metadata": {},
   "source": [
    "## What percentage of dogs are not guard dogs?"
   ]
  },
  {
   "cell_type": "code",
   "execution_count": 33,
   "metadata": {},
   "outputs": [
    {
     "data": {
      "text/plain": [
       "No     99.943333\n",
       "Yes     0.056667\n",
       "Name: guard_or_trained, dtype: float64"
      ]
     },
     "execution_count": 33,
     "metadata": {},
     "output_type": "execute_result"
    }
   ],
   "source": [
    "new_merge.guard_or_trained.value_counts(normalize=True) * 100 "
   ]
  },
  {
   "cell_type": "code",
   "execution_count": 34,
   "metadata": {},
   "outputs": [
    {
     "data": {
      "text/plain": [
       "No     29983\n",
       "Yes       17\n",
       "Name: guard_or_trained, dtype: int64"
      ]
     },
     "execution_count": 34,
     "metadata": {},
     "output_type": "execute_result"
    }
   ],
   "source": [
    "new_merge.guard_or_trained.value_counts()"
   ]
  },
  {
   "cell_type": "code",
   "execution_count": null,
   "metadata": {},
   "outputs": [],
   "source": []
  }
 ],
 "metadata": {
  "kernelspec": {
   "display_name": "Python 3",
   "language": "python",
   "name": "python3"
  },
  "language_info": {
   "codemirror_mode": {
    "name": "ipython",
    "version": 3
   },
   "file_extension": ".py",
   "mimetype": "text/x-python",
   "name": "python",
   "nbconvert_exporter": "python",
   "pygments_lexer": "ipython3",
   "version": "3.8.2"
  }
 },
 "nbformat": 4,
 "nbformat_minor": 2
}
